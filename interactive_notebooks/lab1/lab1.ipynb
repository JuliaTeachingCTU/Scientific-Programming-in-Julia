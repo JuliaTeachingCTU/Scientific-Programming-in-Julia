{
 "cells": [
  {
   "cell_type": "markdown",
   "id": "0631ef2f",
   "metadata": {
    "tags": []
   },
   "source": [
    "# Lab 01: Introduction to Julia\n",
    "This lab should get everyone up to speed in the basics of Julia's installation, syntax and basic\n",
    "coding. For more detailed introduction you can check out Lectures 1-3 of the bachelor\n",
    "[course](https://juliateachingctu.github.io/Julia-for-Optimization-and-Learning/stable/).\n",
    "\n",
    "## Testing Julia installation (custom setup)\n",
    "In order to proceed further let's run a simple [script](https://github.com/JuliaTeachingCTU/Scientific-Programming-in-Julia/blob/master/docs/src/lecture_01/test_setup.jl) to see, that the setup described in chapter [Installation](@ref install) is working properly.\n",
    "After spawning a terminal/cmdline run this command:\n",
    "```bash\n",
    "julia ./test_setup.jl\n",
    "```\n",
    "The script does the following \n",
    "- \"Tests\" if Julia is added to path and can be run with `julia` command from anywhere\n",
    "- Prints Julia version info\n",
    "- Checks Julia version.\n",
    "- Checks git configuration (name + email)\n",
    "- Creates an environment configuration files\n",
    "- Installs a basic pkg called BenchmarkTools, which we will use for benchmarking a simple function later in the labs.\n",
    "\n",
    "There are some quality of life improvements over long term support versions of Julia and thus throughout this course we will use the latest stable release of Julia 1.6.x.\n",
    "\n",
    "## Polynomial evaluation example\n",
    "Let's consider a common mathematical example for evaluation of nth-degree polynomial\n",
    "\n",
    "$f(x) = a_{n}x^{n} + a_{n-1}x^{n-1} + \\dots + a_{0}x^{0}$,\n",
    "\n",
    "where $x \\in \\mathbb{R}$ and $\\vec{a} \\in \\mathbb{R}^{n+1}$.\n",
    "\n",
    "The simplest way of writing this in a generic fashion is realizing that essentially the function $f$ is really implicitly containing argument $\\vec{a}$, i.e. $f \\equiv f(\\vec{a}, x)$, yielding the following Julia code\n"
   ]
  },
  {
   "cell_type": "code",
   "execution_count": 57,
   "id": "dc0a4286",
   "metadata": {},
   "outputs": [
    {
     "data": {
      "text/plain": [
       "polynomial (generic function with 1 method)"
      ]
     },
     "execution_count": 57,
     "metadata": {},
     "output_type": "execute_result"
    }
   ],
   "source": [
    "function polynomial(a, x)\n",
    "    accumulator = 0\n",
    "    for i in length(a):-1:1\n",
    "        accumulator += x^(i-1) * a[i] # ! 1-based indexing for arrays\n",
    "    end\n",
    "    return accumulator\n",
    "end"
   ]
  },
  {
   "cell_type": "markdown",
   "id": "9bd2d887-4f36-457b-8c73-84d7b19542a9",
   "metadata": {},
   "source": [
    "<div class=\"alert alert-block alert-success\">\n",
    "<b>Exercise:</b> \n",
    "\n",
    "Evaluate the code of the function called `polynomial` in Julia REPL and evaluate the function itself with the following arguments.\n",
    "```@example lab01_base\n",
    "a = [-19, 7, -4, 6] # list coefficients a from a^0 to a^n\n",
    "x = 3               # point of evaluation\n",
    "```\n",
    "</div>\n",
    "\n",
    "####"
   ]
  },
  {
   "cell_type": "markdown",
   "id": "b923521a-5103-4802-9682-b254fe0bc0d1",
   "metadata": {},
   "source": [
    "<div class=\"alert alert-block alert-info\">\n",
    "<b>Solution</b>: </div>"
   ]
  },
  {
   "cell_type": "markdown",
   "id": "cb9ccc83-e18d-431d-8b78-aa6e7590e7d6",
   "metadata": {
    "tags": []
   },
   "source": [
    "####"
   ]
  },
  {
   "cell_type": "markdown",
   "id": "d6cc6099-3c30-4284-b762-fe72ac761cb5",
   "metadata": {},
   "source": [
    "The simplest way is to just copy&paste into an already running terminal manually. As opposed to the default Python REPL, Julia can deal with the blocks of code and different indentation much better without installation of an `ipython`-like REPL. There are ways to make this much easier in different text editors/IDEs:\n",
    "- `VSCode` - when using Julia extension is installed and `.jl` file is opened, `Ctrl/Cmd+Enter` will spawn Julia REPL\n",
    "- `Sublime Text` - `Ctrl/Cmd+Enter` with `Send Code` pkg (works well with Linux terminal or tmux, support for Windows is poor)\n",
    "- `Vim` - there is a Julia language [plugin](https://github.com/JuliaEditorSupport/julia-vim), which can be combine with [vimcmdline](https://github.com/jalvesaq/vimcmdline) to gain similar functionality\n",
    "\n",
    "Either way, you should see the following:"
   ]
  },
  {
   "cell_type": "markdown",
   "id": "82880ee6-feca-469e-bef1-a296d03b9957",
   "metadata": {
    "tags": []
   },
   "source": [
    "Similarly we enter the arguments of the function `a` and `x`:"
   ]
  },
  {
   "cell_type": "code",
   "execution_count": 3,
   "id": "1ae87fec",
   "metadata": {},
   "outputs": [
    {
     "data": {
      "text/plain": [
       "3"
      ]
     },
     "execution_count": 3,
     "metadata": {},
     "output_type": "execute_result"
    }
   ],
   "source": [
    "a = [-19, 7, -4, 6]\n",
    "x = 3"
   ]
  },
  {
   "cell_type": "markdown",
   "id": "908e6df8-e236-4e0e-934b-b06069765d61",
   "metadata": {},
   "source": [
    "Function call intuitively takes the name of the function with round brackets as arguments, i.e. works in the same way as majority of programming languages. The result is printed unless a `;` is added at the end of the statement."
   ]
  },
  {
   "cell_type": "code",
   "execution_count": 6,
   "id": "35fdffd6-924c-4dc7-9184-1c60fe777a2b",
   "metadata": {},
   "outputs": [
    {
     "data": {
      "text/plain": [
       "128"
      ]
     },
     "execution_count": 6,
     "metadata": {},
     "output_type": "execute_result"
    }
   ],
   "source": [
    "polynomial(a, x)    # function call"
   ]
  },
  {
   "cell_type": "markdown",
   "id": "bf21a805-d24f-453a-99ae-24d5a11e2e74",
   "metadata": {
    "tags": []
   },
   "source": [
    "####\n",
    "Thanks to the high level nature of Julia language it is often the case that examples written in pseudocode are almost directly rewritable into the language itself without major changes and the code can be thus interpreted easily.\n",
    "\n",
    "<img src=\"./polynomial.svg\" align=\"center\">\n",
    "\n",
    "Due to the existence of the `end` keyword, indentation is not necessary as opposed to other languages such as Python, however it is strongly recommended to use it, see [style guide](https://docs.julialang.org/en/v1/manual/style-guide/#Style-Guide).\n",
    "\n",
    "Though there are libraries/IDEs that allow us to step through Julia code (`Debugger.jl` [link](https://github.com/JuliaDebug/Debugger.jl) and `VSCode` [link](https://www.julia-vscode.org/docs/stable/userguide/debugging/)), here we will explore the code interactively in REPL by evaluating pieces of code separately.\n",
    "\n",
    "### Basic types, assignments and variables\n",
    "When defining a variable through an assignment we get the representation of the right side, again this is different from the default \n",
    "behavior in Python, where the output of assignments `a = [-19, 7, -4, 6]` or `x = 3`, prints nothing. Internally Julia returns the result of the `display` function.\n",
    "\n",
    "\n"
   ]
  },
  {
   "cell_type": "code",
   "execution_count": 7,
   "id": "099bca5e-4fd3-4bbb-9032-d88d066b6dc4",
   "metadata": {},
   "outputs": [
    {
     "data": {
      "text/plain": [
       "4-element Vector{Int64}:\n",
       " -19\n",
       "   7\n",
       "  -4\n",
       "   6"
      ]
     },
     "metadata": {},
     "output_type": "display_data"
    }
   ],
   "source": [
    "a = [-19, 7, -4, 6]\n",
    "display(a) # should return the same thing as the line above"
   ]
  },
  {
   "cell_type": "markdown",
   "id": "4522aee4-bf2d-4bf2-a32c-192999438a24",
   "metadata": {},
   "source": [
    "As you can see, the string that is being displayed contains information about the contents of a variable along with it's type in this case this is a `Vector/Array` of `Int` types. If the output of `display` is insufficient the type of variable can be checked with the `typeof` function:"
   ]
  },
  {
   "cell_type": "code",
   "execution_count": 8,
   "id": "3f94208d-3779-41ce-854e-341a0942d894",
   "metadata": {},
   "outputs": [
    {
     "data": {
      "text/plain": [
       "Vector{Int64} (alias for Array{Int64, 1})"
      ]
     },
     "execution_count": 8,
     "metadata": {},
     "output_type": "execute_result"
    }
   ],
   "source": [
    "typeof(a)"
   ]
  },
  {
   "cell_type": "markdown",
   "id": "d8b336be-b211-4f5e-af1c-e8a5c2b69050",
   "metadata": {},
   "source": [
    "Additionally for collection/iterable types such as `Vector` there is also the `eltype` function, which returns the type of elements in the collection.\n"
   ]
  },
  {
   "cell_type": "code",
   "execution_count": 9,
   "id": "258cbc44-e738-4f85-afa3-ba50a12528f3",
   "metadata": {},
   "outputs": [
    {
     "data": {
      "text/plain": [
       "Int64"
      ]
     },
     "execution_count": 9,
     "metadata": {},
     "output_type": "execute_result"
    }
   ],
   "source": [
    "eltype(a)"
   ]
  },
  {
   "cell_type": "code",
   "execution_count": 11,
   "id": "1e0ebafd-09c3-430d-a47f-0f2990836ab8",
   "metadata": {},
   "outputs": [
    {
     "data": {
      "text/plain": [
       "3-element Vector{Any}:\n",
       "  Bool[1]\n",
       " 1.0\n",
       " 3"
      ]
     },
     "execution_count": 11,
     "metadata": {},
     "output_type": "execute_result"
    }
   ],
   "source": [
    "tmp = [[true], 1.0, 3]"
   ]
  },
  {
   "cell_type": "code",
   "execution_count": 14,
   "id": "4bab9e44-1f99-4ca3-927e-fd8409af69ba",
   "metadata": {},
   "outputs": [
    {
     "data": {
      "text/plain": [
       "Vector{Any} (alias for Array{Any, 1})"
      ]
     },
     "execution_count": 14,
     "metadata": {},
     "output_type": "execute_result"
    }
   ],
   "source": [
    "tmp |> typeof "
   ]
  },
  {
   "cell_type": "code",
   "execution_count": 13,
   "id": "acff2d5c-9df6-4735-82b9-8472e0e6927e",
   "metadata": {},
   "outputs": [
    {
     "data": {
      "text/plain": [
       "3-element Vector{DataType}:\n",
       " Bool\n",
       " Float64\n",
       " Int64"
      ]
     },
     "execution_count": 13,
     "metadata": {},
     "output_type": "execute_result"
    }
   ],
   "source": [
    "eltype.(tmp)"
   ]
  },
  {
   "cell_type": "markdown",
   "id": "f4360e34-6392-40d5-acb7-d2e5a61e1408",
   "metadata": {},
   "source": [
    "In most cases variables store just a reference to a place in memory either stack/heap (exceptions are primitive types such as `Int`, `Float`) and therefore creating an array `a`, \"storing\" the reference in `b` with an assignment and changing elements of `b`, e.g. `b[1] = 2`, changes also the values in `a`.\n",
    "\n",
    "<div class=\"alert alert-block alert-success\">\n",
    "<b>Exercise:</b> \n",
    "\n",
    "Create variables `x` and `accumulator`, storing floating point `3.0` and integer value `0` respectively. Check the type of variables using `typeof` function.\n",
    "\n",
    "</div>\n",
    "\n",
    "####"
   ]
  },
  {
   "cell_type": "markdown",
   "id": "fe02cb58-1951-4a29-a99b-2bae3618def7",
   "metadata": {},
   "source": [
    "<div class=\"alert alert-block alert-info\">\n",
    "<b>Solution</b>: </div>"
   ]
  },
  {
   "cell_type": "markdown",
   "id": "c6a1fbd2-7cf0-4cd2-a2d0-a42af1504b93",
   "metadata": {
    "tags": []
   },
   "source": [
    "####"
   ]
  },
  {
   "cell_type": "code",
   "execution_count": 15,
   "id": "b3ccea66-0b94-4157-9659-7345bf050e87",
   "metadata": {},
   "outputs": [
    {
     "data": {
      "text/plain": [
       "3.0"
      ]
     },
     "execution_count": 15,
     "metadata": {},
     "output_type": "execute_result"
    }
   ],
   "source": [
    "x = 3.0"
   ]
  },
  {
   "cell_type": "code",
   "execution_count": 16,
   "id": "1c28cae1-a91e-4b3c-ae3c-50c40c1f25bb",
   "metadata": {},
   "outputs": [
    {
     "data": {
      "text/plain": [
       "0"
      ]
     },
     "execution_count": 16,
     "metadata": {},
     "output_type": "execute_result"
    }
   ],
   "source": [
    "accumulator = 0"
   ]
  },
  {
   "cell_type": "code",
   "execution_count": 17,
   "id": "29a50d59",
   "metadata": {},
   "outputs": [
    {
     "data": {
      "text/plain": [
       "(Float64, Int64)"
      ]
     },
     "execution_count": 17,
     "metadata": {},
     "output_type": "execute_result"
    }
   ],
   "source": [
    "typeof(x), typeof(accumulator)"
   ]
  },
  {
   "cell_type": "markdown",
   "id": "1a3d1566-afec-4c9a-9c25-6e13861400e3",
   "metadata": {},
   "source": [
    "####"
   ]
  },
  {
   "cell_type": "markdown",
   "id": "e054bdc5-33c0-41bb-bfef-5814598f3c98",
   "metadata": {},
   "source": [
    "### For cycles and ranges\n",
    "Moving further into the polynomial function we encounter the definition of a for cycle, with the de facto standard syntax\n",
    "```julia\n",
    "for iteration_variable in iterator\n",
    "    # do something\n",
    "end\n",
    "```\n",
    "As an example of iterator we have used an instance of a range type "
   ]
  },
  {
   "cell_type": "code",
   "execution_count": 20,
   "id": "a54912ba-235b-4235-8537-1df7a64f0c5c",
   "metadata": {},
   "outputs": [
    {
     "data": {
      "text/plain": [
       "StepRange{Int64, Int64}"
      ]
     },
     "execution_count": 20,
     "metadata": {},
     "output_type": "execute_result"
    }
   ],
   "source": [
    "r = length(a):-1:1\n",
    "typeof(r)"
   ]
  },
  {
   "cell_type": "markdown",
   "id": "4273e4fa-6e06-484e-ba49-7c59ecd5bdb0",
   "metadata": {},
   "source": [
    "As opposed to Python, ranges in Julia are *inclusive*, i.e. they contain number from start to end - in this case running from `4` to `1` with negative step `-1`, thus counting down. This can be checked with the `collect` and/or `length` functions."
   ]
  },
  {
   "cell_type": "code",
   "execution_count": 21,
   "id": "2063899a-d204-44b7-bc43-962fedbfdc00",
   "metadata": {},
   "outputs": [
    {
     "data": {
      "text/plain": [
       "4-element Vector{Int64}:\n",
       " 4\n",
       " 3\n",
       " 2\n",
       " 1"
      ]
     },
     "execution_count": 21,
     "metadata": {},
     "output_type": "execute_result"
    }
   ],
   "source": [
    "collect(r)"
   ]
  },
  {
   "cell_type": "code",
   "execution_count": 22,
   "id": "45a76f55-a0ee-41ad-8d48-f4c9ba5e4628",
   "metadata": {},
   "outputs": [
    {
     "data": {
      "text/plain": [
       "4"
      ]
     },
     "execution_count": 22,
     "metadata": {},
     "output_type": "execute_result"
    }
   ],
   "source": [
    "length(r)"
   ]
  },
  {
   "cell_type": "markdown",
   "id": "cec499e6-7748-4c7f-8c86-ec55ebb293e6",
   "metadata": {},
   "source": [
    "In most cases variables store just a reference to a place in memory either stack/heap (exceptions are primitive types such as `Int`, `Float`) and therefore creating an array `a`, \"storing\" the reference in `b` with an assignment and changing elements of `b`, e.g. `b[1] = 2`, changes also the values in `a`.\n",
    "\n",
    "<div class=\"alert alert-block alert-success\">\n",
    "<b>Exercise:</b> \n",
    "\n",
    "Create variable `c` containing an array of even numbers from `2` to `42`. Furthermore create variable `d` that is different from `c` only at the 7th position, which will contain `13`.\n",
    "\n",
    "**HINT**: Use `collect` function for creation of `c` and `copy` for making a copy of `c`.\n",
    "</div>\n",
    "\n",
    "####"
   ]
  },
  {
   "cell_type": "markdown",
   "id": "d04c695b-c239-4cc9-ac0c-255e76da5f14",
   "metadata": {},
   "source": [
    "<div class=\"alert alert-block alert-info\">\n",
    "<b>Solution</b>: </div>"
   ]
  },
  {
   "cell_type": "markdown",
   "id": "0dee027c-522c-47e0-9cdd-1efd4a472014",
   "metadata": {
    "tags": []
   },
   "source": [
    "####"
   ]
  },
  {
   "cell_type": "code",
   "execution_count": 28,
   "id": "bf90b49a-28be-4cf6-ad59-d8cf1c1b7b57",
   "metadata": {},
   "outputs": [
    {
     "data": {
      "text/plain": [
       "21-element Vector{Int64}:\n",
       "  2\n",
       "  4\n",
       "  6\n",
       "  8\n",
       " 10\n",
       " 12\n",
       " 14\n",
       " 16\n",
       " 18\n",
       " 20\n",
       " 22\n",
       " 24\n",
       " 26\n",
       " 28\n",
       " 30\n",
       " 32\n",
       " 34\n",
       " 36\n",
       " 38\n",
       " 40\n",
       " 42"
      ]
     },
     "execution_count": 28,
     "metadata": {},
     "output_type": "execute_result"
    }
   ],
   "source": [
    "c = collect(2:2:42)"
   ]
  },
  {
   "cell_type": "code",
   "execution_count": 29,
   "id": "5932b721-d1ac-4c9d-bfe0-ae26f0efa208",
   "metadata": {},
   "outputs": [
    {
     "data": {
      "text/plain": [
       "21-element Vector{Int64}:\n",
       "  2\n",
       "  4\n",
       "  6\n",
       "  8\n",
       " 10\n",
       " 12\n",
       " 14\n",
       " 16\n",
       " 18\n",
       " 20\n",
       " 22\n",
       " 24\n",
       " 26\n",
       " 28\n",
       " 30\n",
       " 32\n",
       " 34\n",
       " 36\n",
       " 38\n",
       " 40\n",
       " 42"
      ]
     },
     "execution_count": 29,
     "metadata": {},
     "output_type": "execute_result"
    }
   ],
   "source": [
    "d = copy(c)"
   ]
  },
  {
   "cell_type": "code",
   "execution_count": 30,
   "id": "8facf2dd-56e1-46a1-999d-6137ef774fe0",
   "metadata": {},
   "outputs": [
    {
     "data": {
      "text/plain": [
       "13"
      ]
     },
     "execution_count": 30,
     "metadata": {},
     "output_type": "execute_result"
    }
   ],
   "source": [
    "d[7] = 13"
   ]
  },
  {
   "cell_type": "code",
   "execution_count": 31,
   "id": "03f3dad2-fd43-4c69-9e20-40700d3d12ac",
   "metadata": {},
   "outputs": [
    {
     "data": {
      "text/plain": [
       "21-element Vector{Int64}:\n",
       "  2\n",
       "  4\n",
       "  6\n",
       "  8\n",
       " 10\n",
       " 12\n",
       " 13\n",
       " 16\n",
       " 18\n",
       " 20\n",
       " 22\n",
       " 24\n",
       " 26\n",
       " 28\n",
       " 30\n",
       " 32\n",
       " 34\n",
       " 36\n",
       " 38\n",
       " 40\n",
       " 42"
      ]
     },
     "execution_count": 31,
     "metadata": {},
     "output_type": "execute_result"
    }
   ],
   "source": [
    "d"
   ]
  },
  {
   "cell_type": "markdown",
   "id": "be1a7ffe-65a2-4dfe-8b03-4b0d2fcab374",
   "metadata": {},
   "source": [
    "####"
   ]
  },
  {
   "cell_type": "markdown",
   "id": "0309377b-f66a-43f4-97e8-2ec9f3b284f2",
   "metadata": {},
   "source": [
    "### Functions and operators\n",
    "Let us now move from the function body to the function definition itself. From the picture at the top of the page, we can infer the general syntax for function definition:"
   ]
  },
  {
   "cell_type": "code",
   "execution_count": 32,
   "id": "2695a324-eefc-4cb8-9b3e-4bcefc1be3fb",
   "metadata": {},
   "outputs": [
    {
     "data": {
      "text/plain": [
       "function_name (generic function with 1 method)"
      ]
     },
     "execution_count": 32,
     "metadata": {},
     "output_type": "execute_result"
    }
   ],
   "source": [
    "function function_name(arguments)\n",
    "    # do stuff with arguments and define output value `something`\n",
    "    return something\n",
    "end"
   ]
  },
  {
   "cell_type": "markdown",
   "id": "9b0ed557-d5cb-4c62-8a95-3e9301bf04e6",
   "metadata": {},
   "source": [
    "The return keyword can be omitted, if the last line being evaluated contains the result.\n",
    "\n",
    "By creating the function `polynomial` we have defined a variable `polynomial`, that from now on always refers to a function and cannot be reassigned to a different type, like for example `Int`.\n"
   ]
  },
  {
   "cell_type": "code",
   "execution_count": 33,
   "id": "95f44c90-f959-4125-95fa-90d703256aa8",
   "metadata": {},
   "outputs": [
    {
     "ename": "LoadError",
     "evalue": "invalid redefinition of constant polynomial",
     "output_type": "error",
     "traceback": [
      "invalid redefinition of constant polynomial",
      "",
      "Stacktrace:",
      " [1] top-level scope",
      "   @ In[33]:1",
      " [2] eval",
      "   @ ./boot.jl:373 [inlined]",
      " [3] include_string(mapexpr::typeof(REPL.softscope), mod::Module, code::String, filename::String)",
      "   @ Base ./loading.jl:1196"
     ]
    }
   ],
   "source": [
    "polynomial = 42"
   ]
  },
  {
   "cell_type": "markdown",
   "id": "19563a20-762e-41fc-8ab5-356d4dba9a79",
   "metadata": {},
   "source": [
    "This is caused by the fact that each function defines essentially a new type, the same like `Int ~ Int64` or `Vector{Int}`."
   ]
  },
  {
   "cell_type": "code",
   "execution_count": 34,
   "id": "1fc1d736-d6e1-4795-a2c3-0b0196639ef4",
   "metadata": {},
   "outputs": [
    {
     "data": {
      "text/plain": [
       "typeof(polynomial) (singleton type of function polynomial, subtype of Function)"
      ]
     },
     "execution_count": 34,
     "metadata": {},
     "output_type": "execute_result"
    }
   ],
   "source": [
    "typeof(polynomial)"
   ]
  },
  {
   "cell_type": "markdown",
   "id": "5947bed4-af3d-43d7-acea-45659150dfbe",
   "metadata": {},
   "source": [
    "You can check that it is a subtype of the `Function` abstract type, with the subtyping operator `<:`"
   ]
  },
  {
   "cell_type": "code",
   "execution_count": 35,
   "id": "67847ba7-7ee1-4dda-9b34-239acafa8233",
   "metadata": {},
   "outputs": [
    {
     "data": {
      "text/plain": [
       "true"
      ]
     },
     "execution_count": 35,
     "metadata": {},
     "output_type": "execute_result"
    }
   ],
   "source": [
    "typeof(polynomial) <: Function"
   ]
  },
  {
   "cell_type": "markdown",
   "id": "966439dd-1690-4baa-bcb1-f17b70ad0a3f",
   "metadata": {},
   "source": [
    "These concepts will be expanded further in the [type system lecture](@ref type_system), however for now note that this construction is quite useful for example if we wanted to create derivative rules for our function `derivativeof(::typeof(polynomial), ...)`.\n",
    "\n",
    "Looking at mathematical operators `+`, `*`, we can see that in Julia they are also standalone functions. \n"
   ]
  },
  {
   "cell_type": "code",
   "execution_count": 40,
   "id": "883c1ecb-62f8-4c2f-bb92-5fed7ac99b0f",
   "metadata": {},
   "outputs": [
    {
     "data": {
      "text/plain": [
       "+ (generic function with 208 methods)"
      ]
     },
     "execution_count": 40,
     "metadata": {},
     "output_type": "execute_result"
    }
   ],
   "source": [
    "+"
   ]
  },
  {
   "cell_type": "code",
   "execution_count": 41,
   "id": "7584356f-005f-4755-86d5-f979d526637d",
   "metadata": {},
   "outputs": [
    {
     "data": {
      "text/plain": [
       "* (generic function with 364 methods)"
      ]
     },
     "execution_count": 41,
     "metadata": {},
     "output_type": "execute_result"
    }
   ],
   "source": [
    "*"
   ]
  },
  {
   "cell_type": "markdown",
   "id": "57e5900a-c467-4216-a160-aa06aaee9b2a",
   "metadata": {},
   "source": [
    "The main difference from our `polynomial` function is that there are multiple methods, for each of these functions. Each one of the methods coresponds to a specific combination of arguments, for which the function can be specialized to using *multiple dispatch*. You can see the list by calling a `methods` function:"
   ]
  },
  {
   "cell_type": "code",
   "execution_count": 43,
   "id": "4e5de471-cb36-44f8-956e-546ebf2d390a",
   "metadata": {},
   "outputs": [],
   "source": [
    "methods(+);"
   ]
  },
  {
   "cell_type": "markdown",
   "id": "53e89771-62ee-423a-9223-69ef92b47cb6",
   "metadata": {},
   "source": [
    "One other notable difference is that these functions allow using both infix and postfix notation `a + b` and `+(a,b)`, which is a specialty of elementary functions such as arithmetic operators or set operation such as `∩, ∪, ∈`. \n",
    "\n",
    "The functionality of `methods` is complemented with the reverse lookup `methodswith`, which for a given type returns a list of methods that can be called with it as an argument."
   ]
  },
  {
   "cell_type": "code",
   "execution_count": 45,
   "id": "0cf6df83-689f-4961-82ed-9a3fea1ae85c",
   "metadata": {},
   "outputs": [],
   "source": [
    "methodswith(Int);"
   ]
  },
  {
   "cell_type": "markdown",
   "id": "cfad9aa4-ec25-4cb7-a45d-5fec35ceb876",
   "metadata": {},
   "source": [
    "<div class=\"alert alert-block alert-success\">\n",
    "<b>Exercise:</b> \n",
    "\n",
    "Define function called `addone` with one argument, that adds `1` to the argument.\n",
    "\n",
    "</div>\n",
    "\n",
    "####"
   ]
  },
  {
   "cell_type": "markdown",
   "id": "edd53619-a3dd-40b2-a2a8-7dce43bd21b6",
   "metadata": {},
   "source": [
    "<div class=\"alert alert-block alert-info\">\n",
    "<b>Solution</b>: </div>"
   ]
  },
  {
   "cell_type": "markdown",
   "id": "c7675f95-6db6-4711-b556-286ccfe1c513",
   "metadata": {
    "tags": []
   },
   "source": [
    "####"
   ]
  },
  {
   "cell_type": "code",
   "execution_count": 46,
   "id": "3e8da43a-38c4-478b-a0ef-31f4e615a1ae",
   "metadata": {},
   "outputs": [
    {
     "data": {
      "text/plain": [
       "addone (generic function with 1 method)"
      ]
     },
     "execution_count": 46,
     "metadata": {},
     "output_type": "execute_result"
    }
   ],
   "source": [
    "function addone(x)\n",
    "    x + 1\n",
    "end"
   ]
  },
  {
   "cell_type": "code",
   "execution_count": 47,
   "id": "17ca97fa-6026-4f8b-8e65-a1cf4537e4db",
   "metadata": {},
   "outputs": [
    {
     "data": {
      "text/plain": [
       "true"
      ]
     },
     "execution_count": 47,
     "metadata": {},
     "output_type": "execute_result"
    }
   ],
   "source": [
    "addone(1) == 2"
   ]
  },
  {
   "cell_type": "markdown",
   "id": "430cc2da-89b3-4033-a323-98b8b26d66af",
   "metadata": {},
   "source": [
    "####\n",
    "### Calling for help\n",
    "In order to better understand some keywords we have encountered so far, we can ask for help in the Julia's REPL itself with the built-in help terminal. Accessing help terminal can be achieved by writing `?` with a query keyword after. This searches documentation of all the available source code to find the corresponding keyword. The simplest way to create documentation, that can be accessed in this way, is using so called `docstring`s, which are multiline strings written above function or type definition. \n"
   ]
  },
  {
   "cell_type": "code",
   "execution_count": 48,
   "id": "5ba9fa12-891e-4f7d-9df3-f35be8deaca5",
   "metadata": {},
   "outputs": [
    {
     "data": {
      "text/plain": [
       "polynomial"
      ]
     },
     "execution_count": 48,
     "metadata": {},
     "output_type": "execute_result"
    }
   ],
   "source": [
    "\"\"\"\n",
    "    polynomial(a, x)\n",
    "\n",
    "Returns value of a polynomial with coefficients `a` at point `x`.\n",
    "\"\"\"\n",
    "function polynomial(a, x)\n",
    "    # function body\n",
    "end"
   ]
  },
  {
   "cell_type": "markdown",
   "id": "7130be6a-0096-4dd2-9945-27ac39792e18",
   "metadata": {},
   "source": [
    "More on this in lecture 4 about pkg development.\n",
    "\n",
    "<div class=\"alert alert-block alert-success\">\n",
    "<b>Exercise:</b> \n",
    "\n",
    "Lookup `docstring` for the basic functions that we have introduced in the previous exercises: `typeof`, `eltype`, `length`, `collect`, `copy`, `methods` and `methodswith`. \n",
    "\n",
    "**BONUS**: Try it with others, for example with the subtyping operator `<:`.\n",
    "</div>\n",
    "\n",
    "####"
   ]
  },
  {
   "cell_type": "markdown",
   "id": "202590ba-fab5-4550-ac8b-4dd9e9bb982b",
   "metadata": {},
   "source": [
    "<div class=\"alert alert-block alert-info\">\n",
    "<b>Solution</b>: </div>"
   ]
  },
  {
   "cell_type": "markdown",
   "id": "6754a15f-0d36-434c-a192-e109b2df73a7",
   "metadata": {
    "tags": []
   },
   "source": [
    "####"
   ]
  },
  {
   "cell_type": "code",
   "execution_count": 53,
   "id": "4f04b496-734c-4993-a360-c1b424264ee8",
   "metadata": {},
   "outputs": [
    {
     "name": "stdout",
     "output_type": "stream",
     "text": [
      "search: \u001b[0m\u001b[1mt\u001b[22m\u001b[0m\u001b[1my\u001b[22m\u001b[0m\u001b[1mp\u001b[22m\u001b[0m\u001b[1me\u001b[22m\u001b[0m\u001b[1mo\u001b[22m\u001b[0m\u001b[1mf\u001b[22m \u001b[0m\u001b[1mt\u001b[22m\u001b[0m\u001b[1my\u001b[22m\u001b[0m\u001b[1mp\u001b[22m\u001b[0m\u001b[1me\u001b[22mj\u001b[0m\u001b[1mo\u001b[22min \u001b[0m\u001b[1mT\u001b[22m\u001b[0m\u001b[1my\u001b[22m\u001b[0m\u001b[1mp\u001b[22m\u001b[0m\u001b[1me\u001b[22mErr\u001b[0m\u001b[1mo\u001b[22mr\n",
      "\n"
     ]
    },
    {
     "data": {
      "text/latex": [
       "\\begin{verbatim}\n",
       "typeof(x)\n",
       "\\end{verbatim}\n",
       "Get the concrete type of \\texttt{x}.\n",
       "\n",
       "See also \\href{@ref}{\\texttt{eltype}}.\n",
       "\n",
       "\\section{Examples}\n",
       "\\begin{verbatim}\n",
       "julia> a = 1//2;\n",
       "\n",
       "julia> typeof(a)\n",
       "Rational{Int64}\n",
       "\n",
       "julia> M = [1 2; 3.5 4];\n",
       "\n",
       "julia> typeof(M)\n",
       "Matrix{Float64} (alias for Array{Float64, 2})\n",
       "\\end{verbatim}\n"
      ],
      "text/markdown": [
       "```\n",
       "typeof(x)\n",
       "```\n",
       "\n",
       "Get the concrete type of `x`.\n",
       "\n",
       "See also [`eltype`](@ref).\n",
       "\n",
       "# Examples\n",
       "\n",
       "```jldoctest\n",
       "julia> a = 1//2;\n",
       "\n",
       "julia> typeof(a)\n",
       "Rational{Int64}\n",
       "\n",
       "julia> M = [1 2; 3.5 4];\n",
       "\n",
       "julia> typeof(M)\n",
       "Matrix{Float64} (alias for Array{Float64, 2})\n",
       "```\n"
      ],
      "text/plain": [
       "\u001b[36m  typeof(x)\u001b[39m\n",
       "\n",
       "  Get the concrete type of \u001b[36mx\u001b[39m.\n",
       "\n",
       "  See also \u001b[36meltype\u001b[39m.\n",
       "\n",
       "\u001b[1m  Examples\u001b[22m\n",
       "\u001b[1m  ≡≡≡≡≡≡≡≡≡≡\u001b[22m\n",
       "\n",
       "\u001b[36m  julia> a = 1//2;\u001b[39m\n",
       "\u001b[36m  \u001b[39m\n",
       "\u001b[36m  julia> typeof(a)\u001b[39m\n",
       "\u001b[36m  Rational{Int64}\u001b[39m\n",
       "\u001b[36m  \u001b[39m\n",
       "\u001b[36m  julia> M = [1 2; 3.5 4];\u001b[39m\n",
       "\u001b[36m  \u001b[39m\n",
       "\u001b[36m  julia> typeof(M)\u001b[39m\n",
       "\u001b[36m  Matrix{Float64} (alias for Array{Float64, 2})\u001b[39m"
      ]
     },
     "execution_count": 53,
     "metadata": {},
     "output_type": "execute_result"
    }
   ],
   "source": [
    "?typeof"
   ]
  },
  {
   "cell_type": "markdown",
   "id": "12d1f11b-5e84-4278-bd97-89e9aaddad35",
   "metadata": {},
   "source": [
    "####\n",
    "\n",
    "## Testing waters\n",
    "As the arguments of the `polynomial` functions are untyped, i.e. they do not specify the allowed types like for example `polynomial(a, x::Number)` does, the following exercise explores which arguments the function accepts, while giving expected result.\n",
    "\n",
    "<div class=\"alert alert-block alert-success\">\n",
    "<b>Exercise:</b> \n",
    "\n",
    "Choose one of the variables `af` to `ac` representing polynomial coefficients and try to evaluate it with the `polynomial` function at point `x=3` as before. Lookup the type of coefficient collection variable itself with `typeof` and the items in the collection with `eltype`. In this case we allow you to consult your solution with the expandable solution bellow to find out more information about a particular example.\n",
    "\n",
    "```@example lab01_base\n",
    "af = [-19.0, 7.0, -4.0, 6.0]\n",
    "at = (-19, 7, -4, 6)\n",
    "ant = (a₀ = -19, a₁ = 7, a₂ = -4, a₃ = 6)\n",
    "a2d = [-19 -4; 7 6]\n",
    "ac = [2i^2 + 1 for i in -2:1]\n",
    "```\n",
    "    \n",
    "</div>\n",
    "\n",
    "####"
   ]
  },
  {
   "cell_type": "markdown",
   "id": "94121d7c-cabd-4539-902d-fc636552ef87",
   "metadata": {},
   "source": [
    "<div class=\"alert alert-block alert-info\">\n",
    "<b>Solution</b>: </div>"
   ]
  },
  {
   "cell_type": "markdown",
   "id": "11f1cfce-1b60-4f18-9519-83c1d3a46c6f",
   "metadata": {
    "tags": []
   },
   "source": [
    "####"
   ]
  },
  {
   "cell_type": "code",
   "execution_count": 54,
   "id": "03e774fa-62ea-49e2-9870-0c2992a4113f",
   "metadata": {},
   "outputs": [
    {
     "data": {
      "text/plain": [
       "4-element Vector{Int64}:\n",
       " 9\n",
       " 3\n",
       " 1\n",
       " 3"
      ]
     },
     "execution_count": 54,
     "metadata": {},
     "output_type": "execute_result"
    }
   ],
   "source": [
    "af = [-19.0, 7.0, -4.0, 6.0]\n",
    "at = (-19, 7, -4, 6)\n",
    "ant = (a₀ = -19, a₁ = 7, a₂ = -4, a₃ = 6)\n",
    "a2d = [-19 -4; 7 6]\n",
    "ac = [2i^2 + 1 for i in -2:1]"
   ]
  },
  {
   "cell_type": "code",
   "execution_count": 55,
   "id": "9bba8c5d-14c1-449d-b5ed-f550cd51d755",
   "metadata": {},
   "outputs": [
    {
     "data": {
      "text/plain": [
       "(Vector{Float64}, Float64)"
      ]
     },
     "execution_count": 55,
     "metadata": {},
     "output_type": "execute_result"
    }
   ],
   "source": [
    "typeof(af), eltype(af)"
   ]
  },
  {
   "cell_type": "code",
   "execution_count": 58,
   "id": "88ab8815-df33-4287-9020-8f1dc8b515d2",
   "metadata": {},
   "outputs": [
    {
     "data": {
      "text/plain": [
       "128.0"
      ]
     },
     "execution_count": 58,
     "metadata": {},
     "output_type": "execute_result"
    }
   ],
   "source": [
    "polynomial(af, x)"
   ]
  },
  {
   "cell_type": "markdown",
   "id": "c52aa2b8-9919-4ec2-90d4-18373342ecc1",
   "metadata": {},
   "source": [
    "As opposed to the basic definition of `a` type the array is filled with `Float64` types and the resulting value gets promoted as well to the `Float64`.\n"
   ]
  },
  {
   "cell_type": "code",
   "execution_count": 59,
   "id": "df029cad-978f-4196-805f-4a314880dcfd",
   "metadata": {},
   "outputs": [
    {
     "data": {
      "text/plain": [
       "(NTuple{4, Int64}, Int64)"
      ]
     },
     "execution_count": 59,
     "metadata": {},
     "output_type": "execute_result"
    }
   ],
   "source": [
    "typeof(at), eltype(at)"
   ]
  },
  {
   "cell_type": "code",
   "execution_count": 60,
   "id": "6b34e1b4-24fb-42a2-a749-5eab7e0bb3bd",
   "metadata": {},
   "outputs": [
    {
     "data": {
      "text/plain": [
       "128.0"
      ]
     },
     "execution_count": 60,
     "metadata": {},
     "output_type": "execute_result"
    }
   ],
   "source": [
    "polynomial(at, x)"
   ]
  },
  {
   "cell_type": "markdown",
   "id": "1c14dbe9-d235-48ae-aedf-b04d61d201cf",
   "metadata": {},
   "source": [
    "With round brackets over a fixed length vector we get the `Tuple` type, which is so called immutable \"array\" of a fixed size (its elements cannot be changed, unless initialized from scratch). Each element can be of a different type, but here we have only one and thus the `Tuple` is aliased into `NTuple`. There are some performance benefits for using immutable structure, which will be discussed [later](@ref type_system).\n",
    "\n",
    "\n",
    "Defining `key=value` pairs inside round brackets creates a structure called `NamedTuple`, which has the same properties as `Tuple` and furthermore its elements can be conveniently accessed by dot syntax, e.g. `ant.a₀`.\n"
   ]
  },
  {
   "cell_type": "code",
   "execution_count": 61,
   "id": "d43f7082-7ca0-4553-a5c7-63c86ee19360",
   "metadata": {},
   "outputs": [
    {
     "data": {
      "text/plain": [
       "(NamedTuple{(:a₀, :a₁, :a₂, :a₃), NTuple{4, Int64}}, Int64)"
      ]
     },
     "execution_count": 61,
     "metadata": {},
     "output_type": "execute_result"
    }
   ],
   "source": [
    "typeof(ant), eltype(ant)"
   ]
  },
  {
   "cell_type": "code",
   "execution_count": 64,
   "id": "e07e10a4-ff22-429f-8036-e586aee7e6b6",
   "metadata": {},
   "outputs": [
    {
     "data": {
      "text/plain": [
       "true"
      ]
     },
     "execution_count": 64,
     "metadata": {},
     "output_type": "execute_result"
    }
   ],
   "source": [
    "ant[:a₁] == ant[2]"
   ]
  },
  {
   "cell_type": "code",
   "execution_count": 62,
   "id": "c8c1f3ab-69f2-49fd-a386-08482b06f3a5",
   "metadata": {},
   "outputs": [
    {
     "data": {
      "text/plain": [
       "128.0"
      ]
     },
     "execution_count": 62,
     "metadata": {},
     "output_type": "execute_result"
    }
   ],
   "source": [
    "polynomial(ant, x)"
   ]
  },
  {
   "cell_type": "markdown",
   "id": "f19de383-c948-45c8-93eb-5f3f67109b1c",
   "metadata": {},
   "source": [
    "Defining a 2D array is a simple change of syntax, which initialized a matrix row by row separated by `;` with spaces between individual elements. The function returns the same result because linear indexing works in 2d arrays in the column major order."
   ]
  },
  {
   "cell_type": "code",
   "execution_count": 65,
   "id": "80bcd5de-fd59-48d2-b39a-93a070cea1b6",
   "metadata": {},
   "outputs": [
    {
     "data": {
      "text/plain": [
       "(Matrix{Int64}, Int64)"
      ]
     },
     "execution_count": 65,
     "metadata": {},
     "output_type": "execute_result"
    }
   ],
   "source": [
    "typeof(a2d), eltype(a2d)"
   ]
  },
  {
   "cell_type": "code",
   "execution_count": 67,
   "id": "226975ef-46ac-437f-a24c-ac8cd362fdca",
   "metadata": {},
   "outputs": [
    {
     "data": {
      "text/plain": [
       "2×2 Matrix{Int64}:\n",
       " -19  -4\n",
       "   7   6"
      ]
     },
     "execution_count": 67,
     "metadata": {},
     "output_type": "execute_result"
    }
   ],
   "source": [
    "a2d"
   ]
  },
  {
   "cell_type": "code",
   "execution_count": 70,
   "id": "1d849f6b-c646-4b8b-b3a9-107250835e92",
   "metadata": {},
   "outputs": [
    {
     "data": {
      "text/plain": [
       "7"
      ]
     },
     "execution_count": 70,
     "metadata": {},
     "output_type": "execute_result"
    }
   ],
   "source": [
    "a2d[2,1]"
   ]
  },
  {
   "cell_type": "code",
   "execution_count": 73,
   "id": "daa2cb9a-6554-4ce6-ad78-cc857f50c100",
   "metadata": {},
   "outputs": [
    {
     "data": {
      "text/plain": [
       "-4"
      ]
     },
     "execution_count": 73,
     "metadata": {},
     "output_type": "execute_result"
    }
   ],
   "source": [
    "a2d[3]"
   ]
  },
  {
   "cell_type": "code",
   "execution_count": 66,
   "id": "7116b534-97e5-4111-bb3a-0c41514bf1b9",
   "metadata": {},
   "outputs": [
    {
     "data": {
      "text/plain": [
       "128.0"
      ]
     },
     "execution_count": 66,
     "metadata": {},
     "output_type": "execute_result"
    }
   ],
   "source": [
    "polynomial(a2d, x)"
   ]
  },
  {
   "cell_type": "markdown",
   "id": "180a1315-d379-46d1-9a43-00b57b389c41",
   "metadata": {},
   "source": [
    "The last example shows so called array comprehension syntax, where we define and array of known length using and for loop iteration. Resulting array/vector has integer elements, however even mixed type is possible yielding `Any`, if there isn't any other common supertype to `promote` every entry into. (Use `?` to look what `promote` and `promote_type` does.)"
   ]
  },
  {
   "cell_type": "code",
   "execution_count": 74,
   "id": "acd9b583-6768-4acf-abe8-1c2b39e849f0",
   "metadata": {},
   "outputs": [
    {
     "data": {
      "text/plain": [
       "(Vector{Int64}, Int64)"
      ]
     },
     "execution_count": 74,
     "metadata": {},
     "output_type": "execute_result"
    }
   ],
   "source": [
    "typeof(ac), eltype(ac)"
   ]
  },
  {
   "cell_type": "code",
   "execution_count": 75,
   "id": "0877a11b-0437-48fa-8ece-f45dc2c2a308",
   "metadata": {},
   "outputs": [
    {
     "data": {
      "text/plain": [
       "4-element Vector{Int64}:\n",
       " 9\n",
       " 3\n",
       " 1\n",
       " 3"
      ]
     },
     "execution_count": 75,
     "metadata": {},
     "output_type": "execute_result"
    }
   ],
   "source": [
    "ac"
   ]
  },
  {
   "cell_type": "code",
   "execution_count": 76,
   "id": "b3b62ba1-5ff9-4d46-8a52-9772d7afe8af",
   "metadata": {},
   "outputs": [
    {
     "data": {
      "text/plain": [
       "108.0"
      ]
     },
     "execution_count": 76,
     "metadata": {},
     "output_type": "execute_result"
    }
   ],
   "source": [
    "polynomial(ac, x)"
   ]
  },
  {
   "cell_type": "markdown",
   "id": "f3f759a1-9d78-4988-8321-4ece8eeab6fd",
   "metadata": {},
   "source": [
    "####\n",
    "So far we have seen that `polynomial` function accepts a wide variety of arguments, however there are some understandable edge cases that it cannot handle.\n",
    "\n",
    "Consider first the vector/array of characters `ach`\n"
   ]
  },
  {
   "cell_type": "code",
   "execution_count": 77,
   "id": "f11249c5-2a52-425e-b8d5-299ba37b4c9d",
   "metadata": {},
   "outputs": [
    {
     "data": {
      "text/plain": [
       "4-element Vector{Char}:\n",
       " '1': ASCII/Unicode U+0031 (category Nd: Number, decimal digit)\n",
       " '2': ASCII/Unicode U+0032 (category Nd: Number, decimal digit)\n",
       " '3': ASCII/Unicode U+0033 (category Nd: Number, decimal digit)\n",
       " '4': ASCII/Unicode U+0034 (category Nd: Number, decimal digit)"
      ]
     },
     "execution_count": 77,
     "metadata": {},
     "output_type": "execute_result"
    }
   ],
   "source": [
    "ach = ['1', '2', '3', '4']"
   ]
  },
  {
   "cell_type": "markdown",
   "id": "56f4b737-ef44-4330-ab76-2b506e0b2ad1",
   "metadata": {},
   "source": [
    "which themselves have numeric values (you can check by converting them to Int `Int('1')` or `convert(Int, '1')`). In spite of that, our untyped function cannot process such input, as there isn't an operation/method that would allow multiplication of `Char` and `Int` type. Julia tries to promote the argument types to some common type, however checking the `promote_type(Int, Char)` returns `Any` (union of all types), which tells us that the conversion is not possible automatically."
   ]
  },
  {
   "cell_type": "code",
   "execution_count": 78,
   "id": "5200d26e-ffba-4b61-ac8b-dd6f30c129d0",
   "metadata": {},
   "outputs": [
    {
     "data": {
      "text/plain": [
       "(Vector{Char}, Char)"
      ]
     },
     "execution_count": 78,
     "metadata": {},
     "output_type": "execute_result"
    }
   ],
   "source": [
    "typeof(ach), eltype(ach)"
   ]
  },
  {
   "cell_type": "code",
   "execution_count": 79,
   "id": "949c7c28-06f8-46bd-9cc2-2d48e0627c55",
   "metadata": {},
   "outputs": [
    {
     "ename": "LoadError",
     "evalue": "MethodError: no method matching *(::Float64, ::Char)\n\u001b[0mClosest candidates are:\n\u001b[0m  *(::Any, ::Any, \u001b[91m::Any\u001b[39m, \u001b[91m::Any...\u001b[39m) at /Applications/Julia-1.7.app/Contents/Resources/julia/share/julia/base/operators.jl:655\n\u001b[0m  *(\u001b[91m::Union{AbstractChar, AbstractString}\u001b[39m, ::Union{AbstractChar, AbstractString}...) at /Applications/Julia-1.7.app/Contents/Resources/julia/share/julia/base/strings/basic.jl:260\n\u001b[0m  *(::Union{Float16, Float32, Float64}, \u001b[91m::BigFloat\u001b[39m) at /Applications/Julia-1.7.app/Contents/Resources/julia/share/julia/base/mpfr.jl:413\n\u001b[0m  ...",
     "output_type": "error",
     "traceback": [
      "MethodError: no method matching *(::Float64, ::Char)\n\u001b[0mClosest candidates are:\n\u001b[0m  *(::Any, ::Any, \u001b[91m::Any\u001b[39m, \u001b[91m::Any...\u001b[39m) at /Applications/Julia-1.7.app/Contents/Resources/julia/share/julia/base/operators.jl:655\n\u001b[0m  *(\u001b[91m::Union{AbstractChar, AbstractString}\u001b[39m, ::Union{AbstractChar, AbstractString}...) at /Applications/Julia-1.7.app/Contents/Resources/julia/share/julia/base/strings/basic.jl:260\n\u001b[0m  *(::Union{Float16, Float32, Float64}, \u001b[91m::BigFloat\u001b[39m) at /Applications/Julia-1.7.app/Contents/Resources/julia/share/julia/base/mpfr.jl:413\n\u001b[0m  ...",
      "",
      "Stacktrace:",
      " [1] polynomial(a::Vector{Char}, x::Float64)",
      "   @ Main ./In[57]:4",
      " [2] top-level scope",
      "   @ In[79]:1",
      " [3] eval",
      "   @ ./boot.jl:373 [inlined]",
      " [4] include_string(mapexpr::typeof(REPL.softscope), mod::Module, code::String, filename::String)",
      "   @ Base ./loading.jl:1196"
     ]
    }
   ],
   "source": [
    "polynomial(ach, x)"
   ]
  },
  {
   "cell_type": "markdown",
   "id": "457a2bb3-2502-48ce-9fa9-eb31f837aa0c",
   "metadata": {},
   "source": [
    "In the stacktrace we can see the location of each function call. If we include the function `polynomial` from some file `poly.jl` using `include(\"poly.jl\")`, we will see that the location changes from `REPL[X]:10` to the actual file name.\n",
    "\n",
    "\n",
    "By swapping square brackets for round in the array comprehension `ac` above, we have defined so called generator/iterator, which as opposed to original variable `ac` does not allocate an array, only the structure that produces it.\n"
   ]
  },
  {
   "cell_type": "code",
   "execution_count": 80,
   "id": "9a2a178f-8233-4f9c-86f9-9604da214cb5",
   "metadata": {},
   "outputs": [
    {
     "data": {
      "text/plain": [
       "(Base.Generator{UnitRange{Int64}, var\"#3#4\"}, Any)"
      ]
     },
     "execution_count": 80,
     "metadata": {},
     "output_type": "execute_result"
    }
   ],
   "source": [
    "ag = (2i^2 + 1 for i in -2:1)\n",
    "typeof(ag), eltype(ag)"
   ]
  },
  {
   "cell_type": "markdown",
   "id": "464358e4-4c99-4d7f-96c6-7f13346c1406",
   "metadata": {},
   "source": [
    "You may notice that the element type in this case is `Any`, which means that a function using this generator as an argument cannot specialize based on the type and has to infer it every time an element is generated/returned. We will touch on how this affects performance in one of the later lectures."
   ]
  },
  {
   "cell_type": "code",
   "execution_count": 81,
   "id": "c5b2443d-e5ea-4018-9dcf-5d0c87a2af55",
   "metadata": {},
   "outputs": [
    {
     "ename": "LoadError",
     "evalue": "MethodError: no method matching getindex(::Base.Generator{UnitRange{Int64}, var\"#3#4\"}, ::Int64)",
     "output_type": "error",
     "traceback": [
      "MethodError: no method matching getindex(::Base.Generator{UnitRange{Int64}, var\"#3#4\"}, ::Int64)",
      "",
      "Stacktrace:",
      " [1] polynomial(a::Base.Generator{UnitRange{Int64}, var\"#3#4\"}, x::Float64)",
      "   @ Main ./In[57]:4",
      " [2] top-level scope",
      "   @ In[81]:1",
      " [3] eval",
      "   @ ./boot.jl:373 [inlined]",
      " [4] include_string(mapexpr::typeof(REPL.softscope), mod::Module, code::String, filename::String)",
      "   @ Base ./loading.jl:1196"
     ]
    }
   ],
   "source": [
    "polynomial(ag, x)"
   ]
  },
  {
   "cell_type": "markdown",
   "id": "41fb8c9b-5210-400d-994f-5e6d376759f3",
   "metadata": {},
   "source": [
    "The problem that we face during evaluation is that generator type is missing the `getindex` operation, as they are made for situations where the size of the collection may be unknown and the only way of obtaining particular elements is through sequential iteration. Generators can be useful for example when creating batches of data for a machine learning training. We can \"fix\" the situation using `collect` function, mentioned earlier, however that again allocates an array.\n",
    "\n",
    "## Extending/limiting the polynomial example\n",
    "Following up on the polynomial example, let's us expand it a little further in order to facilitate the arguments, that have been throwing exceptions. The first direction, which we will move forward to, is providing the user with more detailed error message when an incorrect type of coefficients has been provided."
   ]
  },
  {
   "cell_type": "markdown",
   "id": "29e380f4-0317-4520-b7b4-fa46a96b4700",
   "metadata": {},
   "source": [
    "<div class=\"alert alert-block alert-success\">\n",
    "<b>Exercise:</b> \n",
    "\n",
    "Design an `if-else` condition such that the array of `Char` example throws an error with custom string message, telling the user what went wrong and printing the incorrect input alongside it. Confirm that we have not broken the functionality of other examples from previous exercise.\n",
    "\n",
    "**HINTS:**\n",
    "- Throw the `ArgumentError(msg)` with `throw` function and string message `msg`. More details in help mode `?` or at the end of this [document](@ref lab_errors).\n",
    "- Strings are defined like this `s = \"Hello!\"`\n",
    "- Use string interpolation to create the error message. It allows injecting an expression into a string with the `$` syntax `b = 1; s = \"Hellow Number $(b)\"`\n",
    "- Compare `eltype` of the coefficients with `Char` type.\n",
    "- The syntax for `if-else`:\n",
    "```julia\n",
    "if condition\n",
    "    println(\"true\") # true branch code\n",
    "else\n",
    "    println(\"false\") # false branch code\n",
    "end\n",
    "```\n",
    "- Not equal condition can be written as `a != b`.\n",
    "- Throwing an exception automatically returns from the function. Use return inside one of the branches to return the correct value.\n",
    "   \n",
    "</div>\n",
    "\n",
    "####"
   ]
  },
  {
   "cell_type": "markdown",
   "id": "8bd0d914-9c5b-4746-a2ec-4e147a9a9b81",
   "metadata": {},
   "source": [
    "<div class=\"alert alert-block alert-info\">\n",
    "<b>Solution</b>: </div>"
   ]
  },
  {
   "cell_type": "markdown",
   "id": "43275142-dd84-4115-89dc-30e87ca089e9",
   "metadata": {
    "tags": []
   },
   "source": [
    "####"
   ]
  },
  {
   "cell_type": "markdown",
   "id": "c6fefa12-b487-4e0b-8245-c586fa79b48a",
   "metadata": {},
   "source": [
    "The simplest way is to wrap the whole function inside an `if-else` condition and returning only when the input is \"correct\" (it will still fail in some cases)."
   ]
  },
  {
   "cell_type": "code",
   "execution_count": 82,
   "id": "4157630d-b72f-40cf-8381-f044d3609606",
   "metadata": {},
   "outputs": [
    {
     "data": {
      "text/plain": [
       "polynomial (generic function with 1 method)"
      ]
     },
     "execution_count": 82,
     "metadata": {},
     "output_type": "execute_result"
    }
   ],
   "source": [
    "function polynomial(a, x)\n",
    "    if eltype(a) != Char\n",
    "        accumulator = 0\n",
    "        for i in length(a):-1:1\n",
    "            accumulator += x^(i-1) * a[i] # ! 1-based indexing for arrays\n",
    "        end\n",
    "        return accumulator\n",
    "    else\n",
    "        throw(ArgumentError(\"Invalid coefficients $(a) of type Char!\"))\n",
    "    end\n",
    "end"
   ]
  },
  {
   "cell_type": "markdown",
   "id": "d21ba52c-d41a-4c02-aab5-e161187c1abd",
   "metadata": {},
   "source": [
    "Now this should show our predefined error message. "
   ]
  },
  {
   "cell_type": "code",
   "execution_count": 83,
   "id": "b8b7549a-09bd-40b2-8193-1233a03c65ce",
   "metadata": {},
   "outputs": [
    {
     "ename": "LoadError",
     "evalue": "ArgumentError: Invalid coefficients ['1', '2', '3', '4'] of type Char!",
     "output_type": "error",
     "traceback": [
      "ArgumentError: Invalid coefficients ['1', '2', '3', '4'] of type Char!",
      "",
      "Stacktrace:",
      " [1] polynomial(a::Vector{Char}, x::Float64)",
      "   @ Main ./In[82]:9",
      " [2] top-level scope",
      "   @ In[83]:1",
      " [3] eval",
      "   @ ./boot.jl:373 [inlined]",
      " [4] include_string(mapexpr::typeof(REPL.softscope), mod::Module, code::String, filename::String)",
      "   @ Base ./loading.jl:1196"
     ]
    }
   ],
   "source": [
    "polynomial(ach, x)"
   ]
  },
  {
   "cell_type": "markdown",
   "id": "01a22417-0d13-4e3f-9f54-15613379052f",
   "metadata": {},
   "source": [
    "Testing on other examples should pass without errors and give the same output as before."
   ]
  },
  {
   "cell_type": "code",
   "execution_count": 84,
   "id": "90279062-8e09-4c34-ac60-8e3df44fe1b0",
   "metadata": {},
   "outputs": [],
   "source": [
    "a = [-19, 7, -4, 6]; #redefinition"
   ]
  },
  {
   "cell_type": "code",
   "execution_count": 85,
   "id": "be0bf410-0642-4387-82f0-54be2b8f3ae3",
   "metadata": {},
   "outputs": [
    {
     "data": {
      "text/plain": [
       "128.0"
      ]
     },
     "execution_count": 85,
     "metadata": {},
     "output_type": "execute_result"
    }
   ],
   "source": [
    "polynomial(a, x)"
   ]
  },
  {
   "cell_type": "code",
   "execution_count": 86,
   "id": "bb638059-ed52-4a49-be9a-daad53b7c569",
   "metadata": {},
   "outputs": [
    {
     "data": {
      "text/plain": [
       "128.0"
      ]
     },
     "execution_count": 86,
     "metadata": {},
     "output_type": "execute_result"
    }
   ],
   "source": [
    "polynomial(af, x)"
   ]
  },
  {
   "cell_type": "code",
   "execution_count": 87,
   "id": "30c378fe-e560-43b1-be70-9a27b5d254e1",
   "metadata": {},
   "outputs": [
    {
     "data": {
      "text/plain": [
       "128.0"
      ]
     },
     "execution_count": 87,
     "metadata": {},
     "output_type": "execute_result"
    }
   ],
   "source": [
    "polynomial(at, x)"
   ]
  },
  {
   "cell_type": "code",
   "execution_count": 88,
   "id": "b957de79-b5f9-4dd7-855e-8052db41e9a5",
   "metadata": {},
   "outputs": [
    {
     "data": {
      "text/plain": [
       "128.0"
      ]
     },
     "execution_count": 88,
     "metadata": {},
     "output_type": "execute_result"
    }
   ],
   "source": [
    "polynomial(ant, x)"
   ]
  },
  {
   "cell_type": "code",
   "execution_count": 89,
   "id": "aaecacf4-751e-4448-b631-6be64e4a2faa",
   "metadata": {},
   "outputs": [
    {
     "data": {
      "text/plain": [
       "128.0"
      ]
     },
     "execution_count": 89,
     "metadata": {},
     "output_type": "execute_result"
    }
   ],
   "source": [
    "polynomial(a2d, x)"
   ]
  },
  {
   "cell_type": "code",
   "execution_count": 90,
   "id": "ed680c3d-95fc-4322-b06a-2dd75efa0664",
   "metadata": {},
   "outputs": [
    {
     "data": {
      "text/plain": [
       "108.0"
      ]
     },
     "execution_count": 90,
     "metadata": {},
     "output_type": "execute_result"
    }
   ],
   "source": [
    "polynomial(ac, x)"
   ]
  },
  {
   "cell_type": "markdown",
   "id": "999fa244-1fbc-4bc6-abde-853d8f515f1e",
   "metadata": {},
   "source": [
    "####\n",
    "\n",
    "The second direction concerns the limitation to index-able structures, which the generator example is not. For this we will have to rewrite the whole loop in a more functional programming approach using `map`, anonymous function and other concepts.\n",
    "\n",
    "<div class=\"alert alert-block alert-success\">\n",
    "<b>Exercise:</b> \n",
    "\n",
    "Rewrite the following code inside our original `polynomial` function with `map`, `enumerate` and anonymous function.\n",
    "```julia\n",
    "accumulator = 0\n",
    "for i in length(a):-1:1\n",
    "    accumulator += x^(i-1) * a[i] # ! 1-based indexing for arrays\n",
    "end\n",
    "```\n",
    "!!! note \"Anonymous functions reminder\"\n",
    "```julia\n",
    "    x -> x + 1              # unless the reference is stored it cannot be called\n",
    "    plusone = x -> x + 1    # the reference can be stored inside a variable\n",
    "    plusone(x)              # calling with the same syntax\n",
    "```\n",
    "\n",
    "**HINTS:**\n",
    "- Use `enumerate` to obtain iterator over `a` that returns a tuple of `ia = (i, aᵢ)`. With Julia 1-based indexing `i` starts also from 1 and goes up to `length(a)`.\n",
    "- Pass this into a `map` with either in-place or predefined anonymous function that does the operation of `x^(i-1) * aᵢ`.\n",
    "- Use `sum` to collect the resulting array into `accumulator` variable or directly into the `return` command.\n",
    "\n",
    "**BONUS:**\n",
    "There is even shorter way how to write this using one line function syntax and recently added options to the `sum` function. See entry in the help mode `?`.\n",
    "</div>\n",
    "\n",
    "####"
   ]
  },
  {
   "cell_type": "markdown",
   "id": "f3ac848d-681b-4d6e-a022-3257fefa0a07",
   "metadata": {},
   "source": [
    "<div class=\"alert alert-block alert-info\">\n",
    "<b>Solution</b>: </div>"
   ]
  },
  {
   "cell_type": "markdown",
   "id": "00d6646b-dbf9-43ae-a01d-ff3a2c085539",
   "metadata": {
    "tags": []
   },
   "source": [
    "####"
   ]
  },
  {
   "cell_type": "markdown",
   "id": "04d4b288-d5bc-4314-bed3-6855b04abf54",
   "metadata": {},
   "source": [
    "Ordered from the longest to the shortest, here are three examples with the same functionality (and there are definitely many more).\n",
    "Using the `map(iterable) do itervar ... end` syntax, that creates anonymous function from the block of code."
   ]
  },
  {
   "cell_type": "code",
   "execution_count": 94,
   "id": "b7ccc298-f146-4177-bf87-6d32dd59473b",
   "metadata": {},
   "outputs": [
    {
     "data": {
      "text/plain": [
       "polynomial (generic function with 1 method)"
      ]
     },
     "execution_count": 94,
     "metadata": {},
     "output_type": "execute_result"
    }
   ],
   "source": [
    "function polynomial(a, x)\n",
    "    powers = map(enumerate(a)) do (i, aᵢ)\n",
    "        x^(i-1) * aᵢ\n",
    "    end\n",
    "    accumulator = sum(powers)\n",
    "    return accumulator\n",
    "end"
   ]
  },
  {
   "cell_type": "markdown",
   "id": "fcf6b3a0-13b0-4270-9026-262be7302c68",
   "metadata": {},
   "source": [
    "Using the default syntax for `map` and storing the anonymous into a variable"
   ]
  },
  {
   "cell_type": "code",
   "execution_count": 95,
   "id": "5326208e-9480-45d3-817e-c00ac14591ff",
   "metadata": {},
   "outputs": [
    {
     "data": {
      "text/plain": [
       "polynomial (generic function with 1 method)"
      ]
     },
     "execution_count": 95,
     "metadata": {},
     "output_type": "execute_result"
    }
   ],
   "source": [
    "function polynomial(a, x)\n",
    "    polypow = ia -> x^(ia[1]-1) * ia[2] # \n",
    "    powers = map(polypow, enumerate(a))\n",
    "    return sum(powers)\n",
    "end"
   ]
  },
  {
   "cell_type": "markdown",
   "id": "309aee73-1dc0-4e47-ae5a-31f0a93594d8",
   "metadata": {},
   "source": [
    "As the function `polypow` is used only once, there is no need to assign it to a local variable."
   ]
  },
  {
   "cell_type": "code",
   "execution_count": 96,
   "id": "299cfaf1-0b50-4bd7-87d1-3871b7ad35e0",
   "metadata": {},
   "outputs": [
    {
     "data": {
      "text/plain": [
       "polynomial (generic function with 1 method)"
      ]
     },
     "execution_count": 96,
     "metadata": {},
     "output_type": "execute_result"
    }
   ],
   "source": [
    "function polynomial(a, x)\n",
    "    powers = map(ia -> x^(ia[1]-1) * ia[2], enumerate(a))\n",
    "    sum(powers)\n",
    "end"
   ]
  },
  {
   "cell_type": "markdown",
   "id": "b8f29800-abf6-43a4-b9a1-21db1259fe96",
   "metadata": {},
   "source": [
    "Checking the behavior on all the inputs."
   ]
  },
  {
   "cell_type": "code",
   "execution_count": 97,
   "id": "2c1db87d-f4fc-48b6-85ac-0432b55deaf9",
   "metadata": {},
   "outputs": [
    {
     "data": {
      "text/plain": [
       "128.0"
      ]
     },
     "execution_count": 97,
     "metadata": {},
     "output_type": "execute_result"
    }
   ],
   "source": [
    "polynomial(a, x)"
   ]
  },
  {
   "cell_type": "code",
   "execution_count": 98,
   "id": "07dfd936-7cd0-47d9-baa8-8cc1696c56bf",
   "metadata": {},
   "outputs": [
    {
     "data": {
      "text/plain": [
       "128.0"
      ]
     },
     "execution_count": 98,
     "metadata": {},
     "output_type": "execute_result"
    }
   ],
   "source": [
    "polynomial(af, x)"
   ]
  },
  {
   "cell_type": "code",
   "execution_count": 99,
   "id": "e12c12bd-c49c-4944-a011-a548877661e9",
   "metadata": {},
   "outputs": [
    {
     "data": {
      "text/plain": [
       "128.0"
      ]
     },
     "execution_count": 99,
     "metadata": {},
     "output_type": "execute_result"
    }
   ],
   "source": [
    "polynomial(at, x)"
   ]
  },
  {
   "cell_type": "code",
   "execution_count": 100,
   "id": "0da8da1d-6938-4d59-a50d-c74abe6e458c",
   "metadata": {},
   "outputs": [
    {
     "data": {
      "text/plain": [
       "128.0"
      ]
     },
     "execution_count": 100,
     "metadata": {},
     "output_type": "execute_result"
    }
   ],
   "source": [
    "polynomial(ant, x)"
   ]
  },
  {
   "cell_type": "code",
   "execution_count": 101,
   "id": "8a4d0eed-f737-4a04-add2-90af744b041e",
   "metadata": {},
   "outputs": [
    {
     "data": {
      "text/plain": [
       "128.0"
      ]
     },
     "execution_count": 101,
     "metadata": {},
     "output_type": "execute_result"
    }
   ],
   "source": [
    "polynomial(a2d, x)"
   ]
  },
  {
   "cell_type": "code",
   "execution_count": 102,
   "id": "c17da1c9-1aa3-4a02-9495-9f2f2da5708e",
   "metadata": {},
   "outputs": [
    {
     "ename": "LoadError",
     "evalue": "MethodError: no method matching *(::Float64, ::Char)\n\u001b[0mClosest candidates are:\n\u001b[0m  *(::Any, ::Any, \u001b[91m::Any\u001b[39m, \u001b[91m::Any...\u001b[39m) at /Applications/Julia-1.7.app/Contents/Resources/julia/share/julia/base/operators.jl:655\n\u001b[0m  *(\u001b[91m::Union{AbstractChar, AbstractString}\u001b[39m, ::Union{AbstractChar, AbstractString}...) at /Applications/Julia-1.7.app/Contents/Resources/julia/share/julia/base/strings/basic.jl:260\n\u001b[0m  *(::Union{Float16, Float32, Float64}, \u001b[91m::BigFloat\u001b[39m) at /Applications/Julia-1.7.app/Contents/Resources/julia/share/julia/base/mpfr.jl:413\n\u001b[0m  ...",
     "output_type": "error",
     "traceback": [
      "MethodError: no method matching *(::Float64, ::Char)\n\u001b[0mClosest candidates are:\n\u001b[0m  *(::Any, ::Any, \u001b[91m::Any\u001b[39m, \u001b[91m::Any...\u001b[39m) at /Applications/Julia-1.7.app/Contents/Resources/julia/share/julia/base/operators.jl:655\n\u001b[0m  *(\u001b[91m::Union{AbstractChar, AbstractString}\u001b[39m, ::Union{AbstractChar, AbstractString}...) at /Applications/Julia-1.7.app/Contents/Resources/julia/share/julia/base/strings/basic.jl:260\n\u001b[0m  *(::Union{Float16, Float32, Float64}, \u001b[91m::BigFloat\u001b[39m) at /Applications/Julia-1.7.app/Contents/Resources/julia/share/julia/base/mpfr.jl:413\n\u001b[0m  ...",
      "",
      "Stacktrace:",
      " [1] (::var\"#13#14\"{Float64})(ia::Tuple{Int64, Char})",
      "   @ Main ./In[96]:2",
      " [2] iterate",
      "   @ ./generator.jl:47 [inlined]",
      " [3] collect",
      "   @ ./array.jl:724 [inlined]",
      " [4] map",
      "   @ ./abstractarray.jl:2896 [inlined]",
      " [5] polynomial(a::Vector{Char}, x::Float64)",
      "   @ Main ./In[96]:2",
      " [6] top-level scope",
      "   @ In[102]:1",
      " [7] eval",
      "   @ ./boot.jl:373 [inlined]",
      " [8] include_string(mapexpr::typeof(REPL.softscope), mod::Module, code::String, filename::String)",
      "   @ Base ./loading.jl:1196"
     ]
    }
   ],
   "source": [
    "polynomial(ach, x)"
   ]
  },
  {
   "cell_type": "code",
   "execution_count": 103,
   "id": "1ded6089-2bfc-4223-b4db-1bd687e6e690",
   "metadata": {},
   "outputs": [
    {
     "data": {
      "text/plain": [
       "108.0"
      ]
     },
     "execution_count": 103,
     "metadata": {},
     "output_type": "execute_result"
    }
   ],
   "source": [
    "polynomial(ac, x)"
   ]
  },
  {
   "cell_type": "code",
   "execution_count": 104,
   "id": "697867ec-c918-423e-ad21-9c304de328c9",
   "metadata": {},
   "outputs": [
    {
     "data": {
      "text/plain": [
       "108.0"
      ]
     },
     "execution_count": 104,
     "metadata": {},
     "output_type": "execute_result"
    }
   ],
   "source": [
    "polynomial(ag, x)"
   ]
  },
  {
   "cell_type": "markdown",
   "id": "65432311-94a4-4c03-8034-9b479f1a0492",
   "metadata": {},
   "source": [
    "**BONUS:** Using one line function definition and the recently added option of a function in the first argument of sum:"
   ]
  },
  {
   "cell_type": "code",
   "execution_count": 105,
   "id": "a682cc10-d152-4b6e-9f00-a0b5878dff3d",
   "metadata": {},
   "outputs": [
    {
     "data": {
      "text/plain": [
       "polynomial (generic function with 1 method)"
      ]
     },
     "execution_count": 105,
     "metadata": {},
     "output_type": "execute_result"
    }
   ],
   "source": [
    "polynomial(a, x) = sum(ia -> x^(ia[1]-1) * ia[2], enumerate(a))"
   ]
  },
  {
   "cell_type": "markdown",
   "id": "1e1f121a-3de3-401f-92e0-010e2775a8f3",
   "metadata": {},
   "source": [
    "####\n",
    "## How to use code from other people\n",
    "The script that we have run at the beginning of this lab has created two new files inside the current folder:\n",
    "```\n",
    "./\n",
    " ├── Manifest.toml\n",
    " └── Project.toml\n",
    "```\n",
    "Every folder with a toml file called `Project.toml`, can be used by Julia's pkg manager into setting so called environment, which contains a list of pkgs to be installed. Setting up or more often called activating an environment can be done either before starting Julia itself by running julia with the `--project XXX` flag or from within the Julia REPL, by switching to Pkg mode with `]` key (similar to the help mode activated by pressing `?`) and running command `activate`.\n",
    "\n",
    "So far we have used the general environment (depending on your setup), which by default does not come with any 3rd party packages and includes only the base and standard libraries - [already](https://docs.julialang.org/en/v1/base/arrays/) [quite](https://docs.julialang.org/en/v1/base/multi-threading/) [powerful](https://docs.julialang.org/en/v1/stdlib/Distributed/) [on its own](https://docs.julialang.org/en/v1/stdlib/LinearAlgebra/). \n",
    "\n",
    "In order to find which environment is currently active, run the following:\n",
    "\n",
    "```julia\n",
    "pkg> status\n",
    "```\n",
    "\n",
    "The output of such command usually indicates the general environment located at `.julia/` folder (`${HOME}/.julia/` or `${APPDATA}/.julia/` in case of Unix/Windows based systems respectively)\n",
    "\n",
    "```julia\n",
    "pkg> status\n",
    "Status `~/.julia/environments/v1.6/Project.toml` (empty project)\n",
    "```\n",
    "\n",
    "Generally one should avoid working in the general environment, with the exception of some generic pkgs, such as `PkgTemplates.jl`, which is used for generating library templates/folder structure like the one above ([link](https://github.com/invenia/PkgTemplates.jl)), more on this in the lecture on pkg development. \n",
    "\n",
    "<div class=\"alert alert-block alert-success\">\n",
    "<b>Exercise:</b> \n",
    "\n",
    "Activate the environment inside the current folder and check that the `BenchmarkTools` package has been installed. Use `BenchmarkTools` pkg's `@btime` to benchmark our `polynomial` function with the following arguments.\n",
    "    \n",
    "```@example lab01_base\n",
    "aexp = ones(10) ./ factorial.(0:9)\n",
    "x = 1.1\n",
    "```\n",
    "    \n",
    "**HINTS:**\n",
    "- In pkg mode use the command `activate` and `status` to check the presence. \n",
    "- In order to import the functionality from other package, lookup the keyword `using` in the repl help mode `?`. \n",
    "- The functionality that we want to use is the `@btime` macro (it acts almost like a function but with a different syntax `@macro arg1 arg2 arg3 ...`). More on macros in lecture 7.\n",
    "\n",
    "**BONUS**: Compare the output of `polynomial(aexp, x)` with the value of `exp(x)`, which it approximates.\n",
    "\n",
    "!!! note \"Broadcasting\"\n",
    "    In the assignment's code, we are using quite ubiquitous concept in Julia called `broadcasting` or simply the `dot-syntax` - represented here by `./`, `factorial.`. This concept allows to map both simple arithmetic operations as well as custom functions across arrays, with the added benefit of increased performance, when the broadcasting system can merge operations into a more efficient code. More information can be found in the official [documentation](https://docs.julialang.org/en/v1/manual/arrays/#Broadcasting) or [section](https://juliateachingctu.github.io/Julia-for-Optimization-and-Learning/stable/lecture_01/arrays/#Broadcasting) of our bachelor course.\n",
    "    \n",
    "</div>\n",
    "\n",
    "####"
   ]
  },
  {
   "cell_type": "markdown",
   "id": "f7900662-6ba2-4af2-841a-3b65b5bae876",
   "metadata": {},
   "source": [
    "<div class=\"alert alert-block alert-info\">\n",
    "<b>Solution</b>: </div>"
   ]
  },
  {
   "cell_type": "markdown",
   "id": "07dda643-e22f-40ba-9aed-394d8c3d6cf4",
   "metadata": {
    "tags": []
   },
   "source": [
    "####"
   ]
  },
  {
   "cell_type": "code",
   "execution_count": 106,
   "id": "480c799e-f4ef-4d82-8972-13ff228e9f02",
   "metadata": {},
   "outputs": [
    {
     "data": {
      "text/plain": [
       "1.1"
      ]
     },
     "execution_count": 106,
     "metadata": {},
     "output_type": "execute_result"
    }
   ],
   "source": [
    "aexp = ones(10) ./ factorial.(0:9)\n",
    "x = 1.1"
   ]
  },
  {
   "cell_type": "markdown",
   "id": "e783c9d3-9acc-4b41-b54c-29a50830753f",
   "metadata": {},
   "source": [
    "There are other options to import a function/macro from a different package, however for now let's keep it simple with the `using Module` syntax, that brings to the REPL, all the variables/function/macros exported by the `BenchmarkTools` pkg. If `@btime` is exported, which it is, it can be accessed without specification i.e. just by calling `@btime` without the need for `BenchmarkTools.@btime`. More on the architecture of pkg/module loading in the package developement lecture."
   ]
  },
  {
   "cell_type": "code",
   "execution_count": 109,
   "id": "fe4b42db-7a93-4369-b0d5-9f54dfe8aa1f",
   "metadata": {},
   "outputs": [
    {
     "name": "stderr",
     "output_type": "stream",
     "text": [
      "\u001b[32m\u001b[1m    Updating\u001b[22m\u001b[39m registry at `~/.julia/registries/General.toml`\n",
      "\u001b[32m\u001b[1m   Resolving\u001b[22m\u001b[39m package versions...\n",
      "\u001b[32m\u001b[1m   Installed\u001b[22m\u001b[39m IrrationalConstants ─ v0.2.2\n",
      "\u001b[32m\u001b[1m   Installed\u001b[22m\u001b[39m InverseFunctions ──── v0.1.12\n",
      "\u001b[32m\u001b[1m   Installed\u001b[22m\u001b[39m StatsAPI ──────────── v1.7.0\n",
      "\u001b[32m\u001b[1m   Installed\u001b[22m\u001b[39m LogExpFunctions ───── v0.3.26\n",
      "\u001b[32m\u001b[1m   Installed\u001b[22m\u001b[39m ChangesOfVariables ── v0.1.8\n",
      "\u001b[32m\u001b[1m   Installed\u001b[22m\u001b[39m StatsBase ─────────── v0.34.0\n",
      "\u001b[32m\u001b[1m   Installed\u001b[22m\u001b[39m ChainRulesCore ────── v1.16.0\n",
      "\u001b[32m\u001b[1m    Updating\u001b[22m\u001b[39m `~/AI_Center/Scientific-Programming-in-Julia/Project.toml`\n",
      " \u001b[90m [6e4b80f9] \u001b[39m\u001b[92m+ BenchmarkTools v1.3.2\u001b[39m\n",
      "\u001b[32m\u001b[1m    Updating\u001b[22m\u001b[39m `~/AI_Center/Scientific-Programming-in-Julia/Manifest.toml`\n",
      " \u001b[90m [6e4b80f9] \u001b[39m\u001b[92m+ BenchmarkTools v1.3.2\u001b[39m\n",
      " \u001b[90m [d360d2e6] \u001b[39m\u001b[92m+ ChainRulesCore v1.16.0\u001b[39m\n",
      " \u001b[90m [9e997f8a] \u001b[39m\u001b[92m+ ChangesOfVariables v0.1.8\u001b[39m\n",
      " \u001b[90m [34da2185] \u001b[39m\u001b[93m↑ Compat v4.9.0 ⇒ v4.10.0\u001b[39m\n",
      " \u001b[90m [3587e190] \u001b[39m\u001b[92m+ InverseFunctions v0.1.12\u001b[39m\n",
      " \u001b[90m [682c06a0] \u001b[39m\u001b[92m+ JSON v0.21.4\u001b[39m\n",
      " \u001b[90m [2ab3a3ac] \u001b[39m\u001b[93m↑ LogExpFunctions v0.3.24 ⇒ v0.3.26\u001b[39m\n",
      " \u001b[90m [69de0a69] \u001b[39m\u001b[92m+ Parsers v2.7.2\u001b[39m\n",
      " \u001b[90m [aea7be01] \u001b[39m\u001b[92m+ PrecompileTools v1.2.0\u001b[39m\n",
      " \u001b[90m [21216c6a] \u001b[39m\u001b[92m+ Preferences v1.4.1\u001b[39m\n",
      " \u001b[90m [82ae8749] \u001b[39m\u001b[93m↑ StatsAPI v1.6.0 ⇒ v1.7.0\u001b[39m\n",
      " \u001b[90m [0dad84c5] \u001b[39m\u001b[91m- ArgTools v1.1.1\u001b[39m\n",
      " \u001b[90m [f43a241f] \u001b[39m\u001b[91m- Downloads v1.6.0\u001b[39m\n",
      " \u001b[90m [7b1f6079] \u001b[39m\u001b[91m- FileWatching\u001b[39m\n",
      " \u001b[90m [b27032c2] \u001b[39m\u001b[91m- LibCURL v0.6.3\u001b[39m\n",
      " \u001b[90m [a63ad114] \u001b[39m\u001b[92m+ Mmap\u001b[39m\n",
      " \u001b[90m [ca575930] \u001b[39m\u001b[93m~ NetworkOptions v1.2.0 ⇒ \u001b[39m\n",
      " \u001b[90m [44cfe95a] \u001b[39m\u001b[91m- Pkg v1.9.2\u001b[39m\n",
      " \u001b[90m [9abbd945] \u001b[39m\u001b[92m+ Profile\u001b[39m\n",
      " \u001b[90m [3fa0cd96] \u001b[39m\u001b[91m- REPL\u001b[39m\n",
      " \u001b[90m [ea8e919c] \u001b[39m\u001b[93m~ SHA v0.7.0 ⇒ \u001b[39m\n",
      " \u001b[90m [6462fe0b] \u001b[39m\u001b[91m- Sockets\u001b[39m\n",
      " \u001b[90m [10745b16] \u001b[39m\u001b[93m~ Statistics v1.9.0 ⇒ \u001b[39m\n",
      " \u001b[90m [fa267f1f] \u001b[39m\u001b[93m~ TOML v1.0.3 ⇒ \u001b[39m\n",
      " \u001b[90m [a4e569a6] \u001b[39m\u001b[91m- Tar v1.10.0\u001b[39m\n",
      " \u001b[90m [8dfed614] \u001b[39m\u001b[92m+ Test\u001b[39m\n",
      " \u001b[90m [e66e0078] \u001b[39m\u001b[93m~ CompilerSupportLibraries_jll v1.0.5+0 ⇒ \u001b[39m\n",
      " \u001b[90m [deac9b47] \u001b[39m\u001b[91m- LibCURL_jll v7.84.0+0\u001b[39m\n",
      " \u001b[90m [29816b5a] \u001b[39m\u001b[91m- LibSSH2_jll v1.10.2+0\u001b[39m\n",
      " \u001b[90m [c8ffd9c3] \u001b[39m\u001b[91m- MbedTLS_jll v2.28.2+0\u001b[39m\n",
      " \u001b[90m [14a3606d] \u001b[39m\u001b[91m- MozillaCACerts_jll v2022.10.11\u001b[39m\n",
      " \u001b[90m [4536629a] \u001b[39m\u001b[93m~ OpenBLAS_jll v0.3.21+4 ⇒ \u001b[39m\n",
      " \u001b[90m [bea87d4a] \u001b[39m\u001b[91m- SuiteSparse_jll v5.10.1+6\u001b[39m\n",
      " \u001b[90m [83775a58] \u001b[39m\u001b[91m- Zlib_jll v1.2.13+0\u001b[39m\n",
      " \u001b[90m [8e850b90] \u001b[39m\u001b[93m~ libblastrampoline_jll v5.8.0+0 ⇒ \u001b[39m\n",
      " \u001b[90m [8e850ede] \u001b[39m\u001b[91m- nghttp2_jll v1.48.0+0\u001b[39m\n",
      " \u001b[90m [3f19e933] \u001b[39m\u001b[91m- p7zip_jll v17.4.0+0\u001b[39m\n",
      "\u001b[32m\u001b[1mPrecompiling\u001b[22m\u001b[39m project...\n",
      "\u001b[32m  ✓ \u001b[39m\u001b[90mStatsAPI\u001b[39m\n",
      "\u001b[32m  ✓ \u001b[39m\u001b[90mInverseFunctions\u001b[39m\n",
      "\u001b[32m  ✓ \u001b[39m\u001b[90mIrrationalConstants\u001b[39m\n",
      "\u001b[32m  ✓ \u001b[39m\u001b[90mChangesOfVariables\u001b[39m\n",
      "\u001b[32m  ✓ \u001b[39m\u001b[90mChainRulesCore\u001b[39m\n",
      "\u001b[32m  ✓ \u001b[39m\u001b[90mLogExpFunctions\u001b[39m\n",
      "\u001b[32m  ✓ \u001b[39mStatsBase\n",
      "\u001b[32m  ✓ \u001b[39mScientific_Programming_in_Julia\n",
      "  8 dependencies successfully precompiled in 4 seconds (15 already precompiled)\n"
     ]
    }
   ],
   "source": [
    "using Pkg; Pkg.add(\"BenchmarkTools\")"
   ]
  },
  {
   "cell_type": "code",
   "execution_count": 110,
   "id": "c53b2d47-56b1-417d-a7bd-1d6f8ab0afcf",
   "metadata": {},
   "outputs": [],
   "source": [
    "using BenchmarkTools"
   ]
  },
  {
   "cell_type": "code",
   "execution_count": 111,
   "id": "4a8d235b-e896-4b63-88a7-f8c7e2369d61",
   "metadata": {},
   "outputs": [
    {
     "name": "stdout",
     "output_type": "stream",
     "text": [
      "  172.701 ns (1 allocation: 16 bytes)\n"
     ]
    },
    {
     "data": {
      "text/plain": [
       "3.004165230550543"
      ]
     },
     "execution_count": 111,
     "metadata": {},
     "output_type": "execute_result"
    }
   ],
   "source": [
    "@btime polynomial(aexp, x)"
   ]
  },
  {
   "cell_type": "markdown",
   "id": "28a49d8c-ce3f-43aa-ac64-1d524bcafe24",
   "metadata": {},
   "source": [
    "The output gives us the time of execution averaged over multiple runs (the number of samples is defined automatically based on run time) as well as the number of allocations and the output of the function, that is being benchmarked.\n",
    "\n",
    "\n",
    "**BONUS**: The difference between our approximation and the \"actual\" function value computed as a difference of the two. "
   ]
  },
  {
   "cell_type": "code",
   "execution_count": null,
   "id": "9779766c-9e81-442f-9513-f17282dc6ef6",
   "metadata": {},
   "outputs": [],
   "source": [
    "polynomial(aexp, x) - exp(x)"
   ]
  },
  {
   "cell_type": "markdown",
   "id": "81d50307-2b54-47af-a7e9-e7d3b444d2cc",
   "metadata": {},
   "source": [
    "The apostrophes in the previous sentence are on purpose, because implementation of `exp` also relies on a finite sum, though much more sophisticated than the basic Taylor expansion.\n"
   ]
  },
  {
   "cell_type": "markdown",
   "id": "f2ea7a68-5828-46f4-893f-526598af3f8a",
   "metadata": {},
   "source": [
    "####\n",
    "\n",
    "\n",
    "## Discussion & future directions\n",
    "Instead of `if-else` statements that would throw an error for different types, in Julia, we generally see the pattern of typing the function in a way, that for other than desirable types `MethodError` is emitted with the information about closest matching methods. This is part of the design process in Julia of a function and for the particular functionality of the `polynomial` example, we can look into the Julia itself, where it has been implemented in the `evalpoly` function\n",
    "\n"
   ]
  },
  {
   "cell_type": "code",
   "execution_count": null,
   "id": "bb3b6ded-0f16-40e5-818d-ff50db8f9a7f",
   "metadata": {},
   "outputs": [],
   "source": [
    "methods(evalpoly)"
   ]
  },
  {
   "cell_type": "markdown",
   "id": "33a6614d-9b4c-4091-a7ee-bbdd142f94ed",
   "metadata": {},
   "source": [
    "Another avenue, that we have only touched with the `BenchmarkTools`, is performance and will be further explored in the later lectures.\n",
    "\n",
    "With the next lecture focused on typing in Julia, it is worth noting that polynomials lend themselves quite nicely to a definition of a custom type, which can help both readability of the code as well further extensions."
   ]
  },
  {
   "cell_type": "code",
   "execution_count": null,
   "id": "73c8defc-2384-462a-bc66-4fe0e4e8c7a0",
   "metadata": {},
   "outputs": [],
   "source": [
    "struct Polynom{C}\n",
    "    coefficients::{C}\n",
    "end\n",
    "\n",
    "function (p:Polynom)(x)\n",
    "    polynomial(p.coefficients, x)\n",
    "end"
   ]
  },
  {
   "cell_type": "markdown",
   "id": "221fe99b-66de-42e8-af5a-e4ab21a8f27c",
   "metadata": {},
   "source": [
    "## Useful resources\n",
    "- Getting Started tutorial from JuliaLang documentation - [Docs](https://docs.julialang.org/en/v1/manual/getting-started/)\n",
    "- Converting syntax between MATLAB ↔ Python ↔ Julia - [Cheatsheet](https://cheatsheets.quantecon.org/)\n",
    "- Bachelor course for refreshing your knowledge - [Course](https://juliateachingctu.github.io/Julia-for-Optimization-and-Learning/stable/)\n",
    "- Stylistic conventions - [Style Guide](https://docs.julialang.org/en/v1/manual/style-guide/#Style-Guide)\n",
    "- Reserved keywords - [List](https://docs.julialang.org/en/v1/base/base/#Keywords)\n",
    "- Official cheatsheet with basic syntax - [link](https://juliadocs.github.io/Julia-Cheat-Sheet/)\n",
    "\n",
    "\n",
    "### [Various errors and how to read them](@id lab_errors)\n",
    "This section summarizes most commonly encountered types of errors in Julia and how to resolve them or at least understand, what has gone wrong. It expands a little bit the official [documentation](https://docs.julialang.org/en/v1/base/base/#Errors), which contains the complete list with examples. Keep in mind again, that you can use help mode in the REPL to query error types as well.\n",
    "\n",
    "#### `MethodError`\n",
    "This type of error is most commonly thrown by Julia's multiple dispatch system with a message like `no method matching X(args...)`, seen in two examples bellow.\n"
   ]
  },
  {
   "cell_type": "code",
   "execution_count": null,
   "id": "44f350f7-5bee-484f-a0ec-96b1b21b89d3",
   "metadata": {},
   "outputs": [],
   "source": [
    "2 * 'a'                       # many candidates"
   ]
  },
  {
   "cell_type": "code",
   "execution_count": null,
   "id": "c7bdf353-dea1-47fe-baa2-8a8a0cac27dc",
   "metadata": {},
   "outputs": [],
   "source": [
    "getindex((i for i in 1:4), 3) # no candidates"
   ]
  },
  {
   "cell_type": "markdown",
   "id": "2e18cc9a-d79e-41bf-bca8-6fb6022417b3",
   "metadata": {},
   "source": [
    "Both of these examples have a short stacktrace, showing that the execution failed on the top most level in `REPL`, however if this code is a part of some function in a separate file, the stacktrace will reflect it. What this error tells us is that the dispatch system could not find a method for a given function, that would be suitable for the type of arguments, that it has been given. In the first case Julia offers also a list of candidate methods, that match at least some of the arguments\n",
    "\n",
    "When dealing with basic Julia functions and types, this behavior can be treated as something given and though one could locally add a method for example for multiplication of `Char` and `Int`, there is usually a good reason why Julia does not support such functionality by default. On the other hand when dealing with user defined code, this error may suggest the developer, that either the functions are too strictly typed or that another method definition is needed in order to satisfy the desired functionality.\n",
    "\n",
    "#### `InexactError`\n",
    "This type of error is most commonly thrown by the type conversion system (centered around `convert` function), informing the user that it cannot exactly convert a value of some type to match arguments of a function being called.\n"
   ]
  },
  {
   "cell_type": "code",
   "execution_count": null,
   "id": "adc3b4cf-cbe1-4311-b227-86bcd5e36e7c",
   "metadata": {},
   "outputs": [],
   "source": [
    "Int(1.2)                      # root cause"
   ]
  },
  {
   "cell_type": "code",
   "execution_count": null,
   "id": "3f5ac60b-cb68-4248-9a37-ac99d5b6347f",
   "metadata": {},
   "outputs": [],
   "source": [
    "append!([1,2,3], 1.2)         # same as above but shows the root cause deeper in the stack trace"
   ]
  },
  {
   "cell_type": "markdown",
   "id": "a945e639-b810-487d-801e-e137b0dad2c5",
   "metadata": {},
   "source": [
    "In this case the function being `Int` and the value a floating point. The second example shows `InexactError` may be caused deeper inside an inconspicuous function call, where we want to extend an array by another value, which is unfortunately incompatible.\n",
    "\n",
    "#### `ArgumentError`\n",
    "As opposed to the previous two errors, `ArgumentError` can contain user specified error message and thus can serve multiple purposes. It is however recommended to throw this type of error, when the parameters to a function call do not match a valid signature, e.g. when `factorial` were given negative or non-integer argument (note that this is being handled in Julia by multiple dispatch and specific `DomainError`).\n",
    "\n",
    "This example shows a concatenation of two 2d arrays of incompatible sizes 3x3 and 2x2.\n",
    "\n"
   ]
  },
  {
   "cell_type": "code",
   "execution_count": null,
   "id": "5e644dee-9836-4d65-888d-592bf904a9a9",
   "metadata": {},
   "outputs": [],
   "source": [
    "hcat(ones(3,3), zeros(2,2))"
   ]
  },
  {
   "cell_type": "markdown",
   "id": "a08fe1e5-4b0c-4fe2-88c1-1b038f9f2cc4",
   "metadata": {},
   "source": [
    "#### `KeyError`\n",
    "This error is specific to hash table based objects such as the `Dict` type and tells the user that and indexing operation into such structure tried to access or delete a non-existent element."
   ]
  },
  {
   "cell_type": "code",
   "execution_count": null,
   "id": "49dc95ac-f88e-4695-adb1-0d30cc5876a4",
   "metadata": {},
   "outputs": [],
   "source": [
    "d = Dict(:a => [1,2,3], :b => [1,23])"
   ]
  },
  {
   "cell_type": "code",
   "execution_count": null,
   "id": "58691b57-a776-4891-8131-e813309a1378",
   "metadata": {},
   "outputs": [],
   "source": [
    "d[:c]"
   ]
  },
  {
   "cell_type": "markdown",
   "id": "c9b19d9f-8e26-4967-be16-af8bfa737943",
   "metadata": {},
   "source": [
    "#### `TypeError`\n",
    "Type assertion failure, or calling an intrinsic function (inside LLVM, where code is strictly typed) with incorrect argument type. In practice this error comes up most often when comparing value of a type against the `Bool` type as seen in the example bellow."
   ]
  },
  {
   "cell_type": "code",
   "execution_count": null,
   "id": "0874dec2-d64b-4347-8df6-42e91338d8aa",
   "metadata": {},
   "outputs": [],
   "source": [
    "if 1 end                # calls internally typeassert(1, Bool)"
   ]
  },
  {
   "cell_type": "code",
   "execution_count": null,
   "id": "f3e6af8a-cabc-4c6c-b685-c8cef3f490e1",
   "metadata": {},
   "outputs": [],
   "source": [
    "typeassert(1, Bool)"
   ]
  },
  {
   "cell_type": "markdown",
   "id": "3ac1b661-bb62-440b-9f65-21ddc5ac2211",
   "metadata": {},
   "source": [
    "In order to compare inside conditional statements such as `if-elseif-else` or the ternary operator `x ? a : b` the condition has to be always of `Bool` type, thus the example above can be fixed by the comparison operator: `if 1 == 1 end` (in reality either the left or the right side of the expression contains an expression or a variable to compare against).\n",
    "\n",
    "#### `UndefVarError`\n",
    "While this error is quite self-explanatory, the exact causes are often quite puzzling for the user. The reason behind the confusion is to do with *code scoping*, which comes into play for example when trying to access a local variable from outside of a given function or just updating a global variable from within a simple loop. \n",
    "\n",
    "In the first example we show the former case, where variable is declared from within a function and accessed from outside afterwards."
   ]
  },
  {
   "cell_type": "code",
   "execution_count": null,
   "id": "0506113f-7b5f-4b40-859a-df6a71b068e1",
   "metadata": {},
   "outputs": [],
   "source": [
    "function plusone(x)\n",
    "    uno = 1\n",
    "    return x + uno\n",
    "end\n",
    "uno # defined only within plusone"
   ]
  },
  {
   "cell_type": "markdown",
   "id": "f2f4e21f-4f4a-43eb-ad50-8ef1a58cc22b",
   "metadata": {},
   "source": [
    "Unless there is variable `I_am_not_defined` in the global scope, the following should throw an error."
   ]
  },
  {
   "cell_type": "code",
   "execution_count": null,
   "id": "7cc48282-debd-4068-b23b-7be1a58b978e",
   "metadata": {},
   "outputs": [],
   "source": [
    "I_am_not_defined"
   ]
  },
  {
   "cell_type": "markdown",
   "id": "a510baa7-19a6-41f8-99af-1d19ebe17723",
   "metadata": {},
   "source": [
    "Often these kind of errors arise as a result of bad code practices, such as long running sessions of Julia having long forgotten global variables, that do not exist upon new execution (this one in particular has been addressed by the authors of the reactive Julia notebooks [Pluto.jl](https://github.com/fonsp/Pluto.jl)).\n",
    "\n",
    "For more details on code scoping we recommend particular places in the bachelor course lectures [here](https://juliateachingctu.github.io/Julia-for-Optimization-and-Learning/stable/lecture_02/scope/#Soft-local-scope) and [there](https://juliateachingctu.github.io/Julia-for-Optimization-and-Learning/stable/lecture_03/scope/#Scope-of-variables).\n",
    "\n",
    "#### `ErrorException` & `error` function\n",
    "`ErrorException` is the most generic error, which can be thrown/raised just by calling the `error` function with a chosen string message. As a result developers may be inclined to misuse this for any kind of unexpected behavior a user can run into, often providing out-of-context/uninformative messages."
   ]
  },
  {
   "cell_type": "code",
   "execution_count": null,
   "id": "fa86df70-52aa-4eb4-859e-3a70bc5a7a1c",
   "metadata": {},
   "outputs": [],
   "source": []
  }
 ],
 "metadata": {
  "kernelspec": {
   "display_name": "Julia 1.7.3",
   "language": "julia",
   "name": "julia-1.7"
  },
  "language_info": {
   "file_extension": ".jl",
   "mimetype": "application/julia",
   "name": "julia",
   "version": "1.7.3"
  }
 },
 "nbformat": 4,
 "nbformat_minor": 5
}
