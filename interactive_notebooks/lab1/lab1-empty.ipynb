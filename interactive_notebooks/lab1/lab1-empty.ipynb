{
 "cells": [
  {
   "cell_type": "markdown",
   "id": "0631ef2f",
   "metadata": {
    "tags": []
   },
   "source": [
    "# Lab 01: Introduction to Julia\n",
    "This lab should get everyone up to speed in the basics of Julia's installation, syntax and basic\n",
    "coding. For more detailed introduction you can check out Lectures 1-3 of the bachelor\n",
    "[course](https://juliateachingctu.github.io/Julia-for-Optimization-and-Learning/stable/).\n",
    "\n",
    "## Testing Julia installation (custom setup)\n",
    "In order to proceed further let's run a simple [script](https://github.com/JuliaTeachingCTU/Scientific-Programming-in-Julia/blob/master/docs/src/lecture_01/test_setup.jl) to see, that the setup described in chapter [Installation](@ref install) is working properly.\n",
    "After spawning a terminal/cmdline run this command:\n",
    "```bash\n",
    "julia ./test_setup.jl\n",
    "```\n",
    "The script does the following \n",
    "- \"Tests\" if Julia is added to path and can be run with `julia` command from anywhere\n",
    "- Prints Julia version info\n",
    "- Checks Julia version.\n",
    "- Checks git configuration (name + email)\n",
    "- Creates an environment configuration files\n",
    "- Installs a basic pkg called BenchmarkTools, which we will use for benchmarking a simple function later in the labs.\n",
    "\n",
    "There are some quality of life improvements over long term support versions of Julia and thus throughout this course we will use the latest stable release of Julia 1.6.x.\n",
    "\n",
    "## Polynomial evaluation example\n",
    "Let's consider a common mathematical example for evaluation of nth-degree polynomial\n",
    "```math\n",
    "f(x) = a_{n}x^{n} + a_{n-1}x^{n-1} + \\dots + a_{0}x^{0},\n",
    "```\n",
    "where $x \\in \\mathbb{R}$ and $\\vec{a} \\in \\mathbb{R}^{n+1}$.\n",
    "\n",
    "The simplest way of writing this in a generic fashion is realizing that essentially the function $f$ is really implicitly containing argument $\\vec{a}$, i.e. $f \\equiv f(\\vec{a}, x)$, yielding the following Julia code\n"
   ]
  },
  {
   "cell_type": "code",
   "execution_count": null,
   "id": "dc0a4286",
   "metadata": {},
   "outputs": [],
   "source": [
    "function polynomial(a, x)\n",
    "    accumulator = 0\n",
    "    for i in length(a):-1:1\n",
    "        accumulator += x^(i-1) * a[i] # ! 1-based indexing for arrays\n",
    "    end\n",
    "    return accumulator\n",
    "end"
   ]
  },
  {
   "cell_type": "markdown",
   "id": "9bd2d887-4f36-457b-8c73-84d7b19542a9",
   "metadata": {},
   "source": [
    "<div class=\"alert alert-block alert-success\">\n",
    "<b>Exercise:</b> \n",
    "\n",
    "Evaluate the code of the function called `polynomial` in Julia REPL and evaluate the function itself with the following arguments.\n",
    "```@example lab01_base\n",
    "a = [-19, 7, -4, 6] # list coefficients a from a^0 to a^n\n",
    "x = 3               # point of evaluation\n",
    "```\n",
    "</div>\n",
    "\n",
    "####"
   ]
  },
  {
   "cell_type": "markdown",
   "id": "b923521a-5103-4802-9682-b254fe0bc0d1",
   "metadata": {},
   "source": [
    "<div class=\"alert alert-block alert-info\">\n",
    "<b>Solution</b>: </div>"
   ]
  },
  {
   "cell_type": "markdown",
   "id": "cb9ccc83-e18d-431d-8b78-aa6e7590e7d6",
   "metadata": {
    "tags": []
   },
   "source": [
    "####"
   ]
  },
  {
   "cell_type": "code",
   "execution_count": null,
   "id": "ca5a7099-4628-46f6-bd8c-081e73723004",
   "metadata": {},
   "outputs": [],
   "source": []
  },
  {
   "cell_type": "code",
   "execution_count": null,
   "id": "646d3e20-5c37-427f-96c3-9a58363db366",
   "metadata": {},
   "outputs": [],
   "source": []
  },
  {
   "cell_type": "code",
   "execution_count": null,
   "id": "d8b3a39d-218a-4d45-a592-c18f68c0ab6b",
   "metadata": {},
   "outputs": [],
   "source": []
  },
  {
   "cell_type": "code",
   "execution_count": null,
   "id": "f9ed04c9-f1a0-4150-b952-1f539d9fff3d",
   "metadata": {},
   "outputs": [],
   "source": []
  },
  {
   "cell_type": "code",
   "execution_count": null,
   "id": "4b93b66b-f32a-4750-86e4-6945a5ca07d9",
   "metadata": {},
   "outputs": [],
   "source": []
  },
  {
   "cell_type": "code",
   "execution_count": null,
   "id": "cd9abf84-e9b4-4ba4-be0a-b2d225233c06",
   "metadata": {},
   "outputs": [],
   "source": []
  },
  {
   "cell_type": "code",
   "execution_count": null,
   "id": "3f6ac398-4aa8-4df5-bb19-2b56ba15f34c",
   "metadata": {},
   "outputs": [],
   "source": []
  },
  {
   "cell_type": "markdown",
   "id": "bf21a805-d24f-453a-99ae-24d5a11e2e74",
   "metadata": {
    "tags": []
   },
   "source": [
    "####\n",
    "Thanks to the high level nature of Julia language it is often the case that examples written in pseudocode are almost directly rewritable into the language itself without major changes and the code can be thus interpreted easily.\n",
    "\n",
    "<img src=\"./polynomial.svg\" align=\"center\">\n",
    "\n",
    "Due to the existence of the `end` keyword, indentation is not necessary as opposed to other languages such as Python, however it is strongly recommended to use it, see [style guide](https://docs.julialang.org/en/v1/manual/style-guide/#Style-Guide).\n",
    "\n",
    "Though there are libraries/IDEs that allow us to step through Julia code (`Debugger.jl` [link](https://github.com/JuliaDebug/Debugger.jl) and `VSCode` [link](https://www.julia-vscode.org/docs/stable/userguide/debugging/)), here we will explore the code interactively in REPL by evaluating pieces of code separately.\n",
    "\n",
    "### Basic types, assignments and variables\n",
    "When defining a variable through an assignment we get the representation of the right side, again this is different from the default \n",
    "behavior in Python, where the output of assignments `a = [-19, 7, -4, 6]` or `x = 3`, prints nothing. Internally Julia returns the result of the `display` function.\n",
    "\n",
    "\n"
   ]
  },
  {
   "cell_type": "code",
   "execution_count": null,
   "id": "099bca5e-4fd3-4bbb-9032-d88d066b6dc4",
   "metadata": {},
   "outputs": [],
   "source": [
    "a = [-19, 7, -4, 6]\n",
    "display(a) # should return the same thing as the line above"
   ]
  },
  {
   "cell_type": "markdown",
   "id": "4522aee4-bf2d-4bf2-a32c-192999438a24",
   "metadata": {},
   "source": [
    "As you can see, the string that is being displayed contains information about the contents of a variable along with it's type in this case this is a `Vector/Array` of `Int` types. If the output of `display` is insufficient the type of variable can be checked with the `typeof` function:"
   ]
  },
  {
   "cell_type": "code",
   "execution_count": null,
   "id": "3f94208d-3779-41ce-854e-341a0942d894",
   "metadata": {},
   "outputs": [],
   "source": [
    "typeof(a)"
   ]
  },
  {
   "cell_type": "markdown",
   "id": "d8b336be-b211-4f5e-af1c-e8a5c2b69050",
   "metadata": {},
   "source": [
    "Additionally for collection/iterable types such as `Vector` there is also the `eltype` function, which returns the type of elements in the collection.\n"
   ]
  },
  {
   "cell_type": "code",
   "execution_count": null,
   "id": "258cbc44-e738-4f85-afa3-ba50a12528f3",
   "metadata": {},
   "outputs": [],
   "source": [
    "eltype(a)"
   ]
  },
  {
   "cell_type": "markdown",
   "id": "f4360e34-6392-40d5-acb7-d2e5a61e1408",
   "metadata": {},
   "source": [
    "In most cases variables store just a reference to a place in memory either stack/heap (exceptions are primitive types such as `Int`, `Float`) and therefore creating an array `a`, \"storing\" the reference in `b` with an assignment and changing elements of `b`, e.g. `b[1] = 2`, changes also the values in `a`.\n",
    "\n",
    "<div class=\"alert alert-block alert-success\">\n",
    "<b>Exercise:</b> \n",
    "\n",
    "Create variables `x` and `accumulator`, storing floating point `3.0` and integer value `0` respectively. Check the type of variables using `typeof` function.\n",
    "\n",
    "</div>\n",
    "\n",
    "####"
   ]
  },
  {
   "cell_type": "markdown",
   "id": "fe02cb58-1951-4a29-a99b-2bae3618def7",
   "metadata": {},
   "source": [
    "<div class=\"alert alert-block alert-info\">\n",
    "<b>Solution</b>: </div>"
   ]
  },
  {
   "cell_type": "markdown",
   "id": "c6a1fbd2-7cf0-4cd2-a2d0-a42af1504b93",
   "metadata": {
    "tags": []
   },
   "source": [
    "####"
   ]
  },
  {
   "cell_type": "markdown",
   "id": "1a3d1566-afec-4c9a-9c25-6e13861400e3",
   "metadata": {},
   "source": [
    "####"
   ]
  },
  {
   "cell_type": "code",
   "execution_count": null,
   "id": "fd4e6fb1-314e-4ff7-b091-49a7c3a9ca08",
   "metadata": {},
   "outputs": [],
   "source": []
  },
  {
   "cell_type": "code",
   "execution_count": null,
   "id": "3dc72f2b-7a10-43c6-8b21-b3c5dd64664e",
   "metadata": {},
   "outputs": [],
   "source": []
  },
  {
   "cell_type": "code",
   "execution_count": null,
   "id": "13854460-ee2e-4d12-96df-d72214e51462",
   "metadata": {},
   "outputs": [],
   "source": []
  },
  {
   "cell_type": "markdown",
   "id": "e054bdc5-33c0-41bb-bfef-5814598f3c98",
   "metadata": {},
   "source": [
    "### For cycles and ranges\n",
    "Moving further into the polynomial function we encounter the definition of a for cycle, with the de facto standard syntax\n",
    "```julia\n",
    "for iteration_variable in iterator\n",
    "    # do something\n",
    "end\n",
    "```\n",
    "As an example of iterator we have used an instance of a range type "
   ]
  },
  {
   "cell_type": "code",
   "execution_count": null,
   "id": "a54912ba-235b-4235-8537-1df7a64f0c5c",
   "metadata": {},
   "outputs": [],
   "source": [
    "r = length(a):-1:1\n",
    "typeof(r)"
   ]
  },
  {
   "cell_type": "markdown",
   "id": "4273e4fa-6e06-484e-ba49-7c59ecd5bdb0",
   "metadata": {},
   "source": [
    "As opposed to Python, ranges in Julia are *inclusive*, i.e. they contain number from start to end - in this case running from `4` to `1` with negative step `-1`, thus counting down. This can be checked with the `collect` and/or `length` functions."
   ]
  },
  {
   "cell_type": "code",
   "execution_count": null,
   "id": "2063899a-d204-44b7-bc43-962fedbfdc00",
   "metadata": {},
   "outputs": [],
   "source": [
    "collect(r)"
   ]
  },
  {
   "cell_type": "code",
   "execution_count": null,
   "id": "45a76f55-a0ee-41ad-8d48-f4c9ba5e4628",
   "metadata": {},
   "outputs": [],
   "source": [
    "length(r)"
   ]
  },
  {
   "cell_type": "markdown",
   "id": "cec499e6-7748-4c7f-8c86-ec55ebb293e6",
   "metadata": {},
   "source": [
    "In most cases variables store just a reference to a place in memory either stack/heap (exceptions are primitive types such as `Int`, `Float`) and therefore creating an array `a`, \"storing\" the reference in `b` with an assignment and changing elements of `b`, e.g. `b[1] = 2`, changes also the values in `a`.\n",
    "\n",
    "<div class=\"alert alert-block alert-success\">\n",
    "<b>Exercise:</b> \n",
    "\n",
    "Create variable `c` containing an array of even numbers from `2` to `42`. Furthermore create variable `d` that is different from `c` only at the 7th position, which will contain `13`.\n",
    "\n",
    "**HINT**: Use `collect` function for creation of `c` and `copy` for making a copy of `c`.\n",
    "</div>\n",
    "\n",
    "####"
   ]
  },
  {
   "cell_type": "markdown",
   "id": "d04c695b-c239-4cc9-ac0c-255e76da5f14",
   "metadata": {},
   "source": [
    "<div class=\"alert alert-block alert-info\">\n",
    "<b>Solution</b>: </div>"
   ]
  },
  {
   "cell_type": "markdown",
   "id": "0dee027c-522c-47e0-9cdd-1efd4a472014",
   "metadata": {
    "tags": []
   },
   "source": [
    "####"
   ]
  },
  {
   "cell_type": "markdown",
   "id": "be1a7ffe-65a2-4dfe-8b03-4b0d2fcab374",
   "metadata": {
    "tags": []
   },
   "source": [
    "####"
   ]
  },
  {
   "cell_type": "code",
   "execution_count": null,
   "id": "39793b01-9eb4-457b-b55c-49f9e581b430",
   "metadata": {},
   "outputs": [],
   "source": []
  },
  {
   "cell_type": "code",
   "execution_count": null,
   "id": "a7262caf-75ed-4953-92fc-512e7660fdcf",
   "metadata": {},
   "outputs": [],
   "source": []
  },
  {
   "cell_type": "code",
   "execution_count": null,
   "id": "08567cd7-0d24-4026-9547-ea33c5f3513b",
   "metadata": {},
   "outputs": [],
   "source": []
  },
  {
   "cell_type": "code",
   "execution_count": null,
   "id": "ac095681-8624-4f97-abae-5da1dfc9ca33",
   "metadata": {},
   "outputs": [],
   "source": []
  },
  {
   "cell_type": "markdown",
   "id": "0309377b-f66a-43f4-97e8-2ec9f3b284f2",
   "metadata": {},
   "source": [
    "### Functions and operators\n",
    "Let us now move from the function body to the function definition itself. From the picture at the top of the page, we can infer the general syntax for function definition:"
   ]
  },
  {
   "cell_type": "code",
   "execution_count": null,
   "id": "2695a324-eefc-4cb8-9b3e-4bcefc1be3fb",
   "metadata": {},
   "outputs": [],
   "source": [
    "function function_name(arguments)\n",
    "    # do stuff with arguments and define output value `something`\n",
    "    return something\n",
    "end"
   ]
  },
  {
   "cell_type": "markdown",
   "id": "9b0ed557-d5cb-4c62-8a95-3e9301bf04e6",
   "metadata": {},
   "source": [
    "The return keyword can be omitted, if the last line being evaluated contains the result.\n",
    "\n",
    "By creating the function `polynomial` we have defined a variable `polynomial`, that from now on always refers to a function and cannot be reassigned to a different type, like for example `Int`.\n"
   ]
  },
  {
   "cell_type": "code",
   "execution_count": null,
   "id": "95f44c90-f959-4125-95fa-90d703256aa8",
   "metadata": {},
   "outputs": [],
   "source": [
    "polynomial = 42"
   ]
  },
  {
   "cell_type": "markdown",
   "id": "19563a20-762e-41fc-8ab5-356d4dba9a79",
   "metadata": {},
   "source": [
    "This is caused by the fact that each function defines essentially a new type, the same like `Int ~ Int64` or `Vector{Int}`."
   ]
  },
  {
   "cell_type": "code",
   "execution_count": null,
   "id": "1fc1d736-d6e1-4795-a2c3-0b0196639ef4",
   "metadata": {},
   "outputs": [],
   "source": [
    "typeof(polynomial)"
   ]
  },
  {
   "cell_type": "markdown",
   "id": "5947bed4-af3d-43d7-acea-45659150dfbe",
   "metadata": {},
   "source": [
    "You can check that it is a subtype of the `Function` abstract type, with the subtyping operator `<:`"
   ]
  },
  {
   "cell_type": "code",
   "execution_count": null,
   "id": "67847ba7-7ee1-4dda-9b34-239acafa8233",
   "metadata": {},
   "outputs": [],
   "source": [
    "typeof(polynomial) <: Function"
   ]
  },
  {
   "cell_type": "markdown",
   "id": "966439dd-1690-4baa-bcb1-f17b70ad0a3f",
   "metadata": {},
   "source": [
    "These concepts will be expanded further in the [type system lecture](@ref type_system), however for now note that this construction is quite useful for example if we wanted to create derivative rules for our function `derivativeof(::typeof(polynomial), ...)`.\n",
    "\n",
    "Looking at mathematical operators `+`, `*`, we can see that in Julia they are also standalone functions. \n"
   ]
  },
  {
   "cell_type": "code",
   "execution_count": null,
   "id": "883c1ecb-62f8-4c2f-bb92-5fed7ac99b0f",
   "metadata": {},
   "outputs": [],
   "source": [
    "+"
   ]
  },
  {
   "cell_type": "code",
   "execution_count": null,
   "id": "7584356f-005f-4755-86d5-f979d526637d",
   "metadata": {},
   "outputs": [],
   "source": [
    "*"
   ]
  },
  {
   "cell_type": "markdown",
   "id": "57e5900a-c467-4216-a160-aa06aaee9b2a",
   "metadata": {},
   "source": [
    "The main difference from our `polynomial` function is that there are multiple methods, for each of these functions. Each one of the methods coresponds to a specific combination of arguments, for which the function can be specialized to using *multiple dispatch*. You can see the list by calling a `methods` function:"
   ]
  },
  {
   "cell_type": "code",
   "execution_count": null,
   "id": "4e5de471-cb36-44f8-956e-546ebf2d390a",
   "metadata": {},
   "outputs": [],
   "source": [
    "methods(+);"
   ]
  },
  {
   "cell_type": "markdown",
   "id": "53e89771-62ee-423a-9223-69ef92b47cb6",
   "metadata": {},
   "source": [
    "One other notable difference is that these functions allow using both infix and postfix notation `a + b` and `+(a,b)`, which is a specialty of elementary functions such as arithmetic operators or set operation such as `∩, ∪, ∈`. \n",
    "\n",
    "The functionality of `methods` is complemented with the reverse lookup `methodswith`, which for a given type returns a list of methods that can be called with it as an argument."
   ]
  },
  {
   "cell_type": "code",
   "execution_count": null,
   "id": "0cf6df83-689f-4961-82ed-9a3fea1ae85c",
   "metadata": {},
   "outputs": [],
   "source": [
    "methodswith(Int);"
   ]
  },
  {
   "cell_type": "markdown",
   "id": "cfad9aa4-ec25-4cb7-a45d-5fec35ceb876",
   "metadata": {},
   "source": [
    "<div class=\"alert alert-block alert-success\">\n",
    "<b>Exercise:</b> \n",
    "\n",
    "Define function called `addone` with one argument, that adds `1` to the argument.\n",
    "\n",
    "</div>\n",
    "\n",
    "####"
   ]
  },
  {
   "cell_type": "markdown",
   "id": "edd53619-a3dd-40b2-a2a8-7dce43bd21b6",
   "metadata": {},
   "source": [
    "<div class=\"alert alert-block alert-info\">\n",
    "<b>Solution</b>: </div>"
   ]
  },
  {
   "cell_type": "markdown",
   "id": "c7675f95-6db6-4711-b556-286ccfe1c513",
   "metadata": {
    "tags": []
   },
   "source": [
    "####"
   ]
  },
  {
   "cell_type": "code",
   "execution_count": null,
   "id": "3e8da43a-38c4-478b-a0ef-31f4e615a1ae",
   "metadata": {},
   "outputs": [],
   "source": []
  },
  {
   "cell_type": "code",
   "execution_count": null,
   "id": "17ca97fa-6026-4f8b-8e65-a1cf4537e4db",
   "metadata": {},
   "outputs": [],
   "source": []
  },
  {
   "cell_type": "markdown",
   "id": "430cc2da-89b3-4033-a323-98b8b26d66af",
   "metadata": {},
   "source": [
    "####\n",
    "### Calling for help\n",
    "In order to better understand some keywords we have encountered so far, we can ask for help in the Julia's REPL itself with the built-in help terminal. Accessing help terminal can be achieved by writing `?` with a query keyword after. This searches documentation of all the available source code to find the corresponding keyword. The simplest way to create documentation, that can be accessed in this way, is using so called `docstring`s, which are multiline strings written above function or type definition. \n"
   ]
  },
  {
   "cell_type": "code",
   "execution_count": null,
   "id": "5ba9fa12-891e-4f7d-9df3-f35be8deaca5",
   "metadata": {},
   "outputs": [],
   "source": [
    "\"\"\"\n",
    "    polynomial(a, x)\n",
    "\n",
    "Returns value of a polynomial with coefficients `a` at point `x`.\n",
    "\"\"\"\n",
    "function polynomial(a, x)\n",
    "    # function body\n",
    "end"
   ]
  },
  {
   "cell_type": "markdown",
   "id": "7130be6a-0096-4dd2-9945-27ac39792e18",
   "metadata": {},
   "source": [
    "More on this in lecture 4 about pkg development.\n",
    "\n",
    "<div class=\"alert alert-block alert-success\">\n",
    "<b>Exercise:</b> \n",
    "\n",
    "Lookup `docstring` for the basic functions that we have introduced in the previous exercises: `typeof`, `eltype`, `length`, `collect`, `copy`, `methods` and `methodswith`. \n",
    "\n",
    "**BONUS**: Try it with others, for example with the subtyping operator `<:`.\n",
    "</div>\n",
    "\n",
    "####"
   ]
  },
  {
   "cell_type": "markdown",
   "id": "202590ba-fab5-4550-ac8b-4dd9e9bb982b",
   "metadata": {},
   "source": [
    "<div class=\"alert alert-block alert-info\">\n",
    "<b>Solution</b>: </div>"
   ]
  },
  {
   "cell_type": "code",
   "execution_count": null,
   "id": "daf0ef83-e2b6-4e1d-bae8-2bd1bb397f02",
   "metadata": {},
   "outputs": [],
   "source": []
  },
  {
   "cell_type": "markdown",
   "id": "6754a15f-0d36-434c-a192-e109b2df73a7",
   "metadata": {
    "tags": []
   },
   "source": [
    "####"
   ]
  },
  {
   "cell_type": "markdown",
   "id": "12d1f11b-5e84-4278-bd97-89e9aaddad35",
   "metadata": {},
   "source": [
    "####\n",
    "\n",
    "## Testing waters\n",
    "As the arguments of the `polynomial` functions are untyped, i.e. they do not specify the allowed types like for example `polynomial(a, x::Number)` does, the following exercise explores which arguments the function accepts, while giving expected result.\n",
    "\n",
    "<div class=\"alert alert-block alert-success\">\n",
    "<b>Exercise:</b> \n",
    "\n",
    "Choose one of the variables `af` to `ac` representing polynomial coefficients and try to evaluate it with the `polynomial` function at point `x=3` as before. Lookup the type of coefficient collection variable itself with `typeof` and the items in the collection with `eltype`. In this case we allow you to consult your solution with the expandable solution bellow to find out more information about a particular example.\n",
    "\n",
    "```@example lab01_base\n",
    "af = [-19.0, 7.0, -4.0, 6.0]\n",
    "at = (-19, 7, -4, 6)\n",
    "ant = (a₀ = -19, a₁ = 7, a₂ = -4, a₃ = 6)\n",
    "a2d = [-19 -4; 7 6]\n",
    "ac = [2i^2 + 1 for i in -2:1]\n",
    "```\n",
    "    \n",
    "</div>\n",
    "\n",
    "####"
   ]
  },
  {
   "cell_type": "markdown",
   "id": "94121d7c-cabd-4539-902d-fc636552ef87",
   "metadata": {},
   "source": [
    "<div class=\"alert alert-block alert-info\">\n",
    "<b>Solution</b>: </div>"
   ]
  },
  {
   "cell_type": "markdown",
   "id": "11f1cfce-1b60-4f18-9519-83c1d3a46c6f",
   "metadata": {
    "tags": []
   },
   "source": [
    "####"
   ]
  },
  {
   "cell_type": "code",
   "execution_count": null,
   "id": "03e774fa-62ea-49e2-9870-0c2992a4113f",
   "metadata": {},
   "outputs": [],
   "source": [
    "af = [-19.0, 7.0, -4.0, 6.0]\n",
    "at = (-19, 7, -4, 6)\n",
    "ant = (a₀ = -19, a₁ = 7, a₂ = -4, a₃ = 6)\n",
    "a2d = [-19 -4; 7 6]\n",
    "ac = [2i^2 + 1 for i in -2:1]"
   ]
  },
  {
   "cell_type": "code",
   "execution_count": null,
   "id": "61f9d94b-2152-4fce-8251-0abeb67a25c1",
   "metadata": {},
   "outputs": [],
   "source": []
  },
  {
   "cell_type": "code",
   "execution_count": null,
   "id": "70c51d03-3d7e-45d8-a42d-f0412e4e4ec3",
   "metadata": {},
   "outputs": [],
   "source": []
  },
  {
   "cell_type": "code",
   "execution_count": null,
   "id": "4c6d4748-4f59-45b9-bebf-99302b8f934b",
   "metadata": {},
   "outputs": [],
   "source": []
  },
  {
   "cell_type": "code",
   "execution_count": null,
   "id": "a3d99969-75e0-4d5b-89ea-53e3620e6d55",
   "metadata": {},
   "outputs": [],
   "source": []
  },
  {
   "cell_type": "code",
   "execution_count": null,
   "id": "eed76252-ce2a-4cf7-beac-b13e33212ee5",
   "metadata": {},
   "outputs": [],
   "source": []
  },
  {
   "cell_type": "code",
   "execution_count": null,
   "id": "9650beb7-f69c-4bc1-92c8-85b5b80b51fb",
   "metadata": {},
   "outputs": [],
   "source": []
  },
  {
   "cell_type": "markdown",
   "id": "f3f759a1-9d78-4988-8321-4ece8eeab6fd",
   "metadata": {},
   "source": [
    "####\n",
    "So far we have seen that `polynomial` function accepts a wide variety of arguments, however there are some understandable edge cases that it cannot handle.\n",
    "\n",
    "Consider first the vector/array of characters `ach`\n"
   ]
  },
  {
   "cell_type": "code",
   "execution_count": null,
   "id": "f11249c5-2a52-425e-b8d5-299ba37b4c9d",
   "metadata": {},
   "outputs": [],
   "source": [
    "ach = ['1', '2', '3', '4']"
   ]
  },
  {
   "cell_type": "markdown",
   "id": "56f4b737-ef44-4330-ab76-2b506e0b2ad1",
   "metadata": {},
   "source": [
    "which themselves have numeric values (you can check by converting them to Int `Int('1')` or `convert(Int, '1')`). In spite of that, our untyped function cannot process such input, as there isn't an operation/method that would allow multiplication of `Char` and `Int` type. Julia tries to promote the argument types to some common type, however checking the `promote_type(Int, Char)` returns `Any` (union of all types), which tells us that the conversion is not possible automatically."
   ]
  },
  {
   "cell_type": "code",
   "execution_count": null,
   "id": "5200d26e-ffba-4b61-ac8b-dd6f30c129d0",
   "metadata": {},
   "outputs": [],
   "source": [
    "typeof(ach), eltype(ach)"
   ]
  },
  {
   "cell_type": "code",
   "execution_count": null,
   "id": "949c7c28-06f8-46bd-9cc2-2d48e0627c55",
   "metadata": {},
   "outputs": [],
   "source": [
    "polynomial(ach, x)"
   ]
  },
  {
   "cell_type": "markdown",
   "id": "457a2bb3-2502-48ce-9fa9-eb31f837aa0c",
   "metadata": {},
   "source": [
    "In the stacktrace we can see the location of each function call. If we include the function `polynomial` from some file `poly.jl` using `include(\"poly.jl\")`, we will see that the location changes from `REPL[X]:10` to the actual file name.\n",
    "\n",
    "\n",
    "By swapping square brackets for round in the array comprehension `ac` above, we have defined so called generator/iterator, which as opposed to original variable `ac` does not allocate an array, only the structure that produces it.\n"
   ]
  },
  {
   "cell_type": "code",
   "execution_count": null,
   "id": "9a2a178f-8233-4f9c-86f9-9604da214cb5",
   "metadata": {},
   "outputs": [],
   "source": [
    "ag = (2i^2 + 1 for i in -2:1)\n",
    "typeof(ag), eltype(ag)"
   ]
  },
  {
   "cell_type": "markdown",
   "id": "464358e4-4c99-4d7f-96c6-7f13346c1406",
   "metadata": {},
   "source": [
    "You may notice that the element type in this case is `Any`, which means that a function using this generator as an argument cannot specialize based on the type and has to infer it every time an element is generated/returned. We will touch on how this affects performance in one of the later lectures."
   ]
  },
  {
   "cell_type": "code",
   "execution_count": null,
   "id": "c5b2443d-e5ea-4018-9dcf-5d0c87a2af55",
   "metadata": {},
   "outputs": [],
   "source": [
    "polynomial(ag, x)"
   ]
  },
  {
   "cell_type": "markdown",
   "id": "41fb8c9b-5210-400d-994f-5e6d376759f3",
   "metadata": {},
   "source": [
    "The problem that we face during evaluation is that generator type is missing the `getindex` operation, as they are made for situations where the size of the collection may be unknown and the only way of obtaining particular elements is through sequential iteration. Generators can be useful for example when creating batches of data for a machine learning training. We can \"fix\" the situation using `collect` function, mentioned earlier, however that again allocates an array.\n",
    "\n",
    "## Extending/limiting the polynomial example\n",
    "Following up on the polynomial example, let's us expand it a little further in order to facilitate the arguments, that have been throwing exceptions. The first direction, which we will move forward to, is providing the user with more detailed error message when an incorrect type of coefficients has been provided."
   ]
  },
  {
   "cell_type": "markdown",
   "id": "29e380f4-0317-4520-b7b4-fa46a96b4700",
   "metadata": {},
   "source": [
    "<div class=\"alert alert-block alert-success\">\n",
    "<b>Exercise:</b> \n",
    "\n",
    "Design an `if-else` condition such that the array of `Char` example throws an error with custom string message, telling the user what went wrong and printing the incorrect input alongside it. Confirm that we have not broken the functionality of other examples from previous exercise.\n",
    "\n",
    "**HINTS:**\n",
    "- Throw the `ArgumentError(msg)` with `throw` function and string message `msg`. More details in help mode `?` or at the end of this [document](@ref lab_errors).\n",
    "- Strings are defined like this `s = \"Hello!\"`\n",
    "- Use string interpolation to create the error message. It allows injecting an expression into a string with the `$` syntax `b = 1; s = \"Hellow Number $(b)\"`\n",
    "- Compare `eltype` of the coefficients with `Char` type.\n",
    "- The syntax for `if-else`:\n",
    "```julia\n",
    "if condition\n",
    "    println(\"true\") # true branch code\n",
    "else\n",
    "    println(\"false\") # false branch code\n",
    "end\n",
    "```\n",
    "- Not equal condition can be written as `a != b`.\n",
    "- Throwing an exception automatically returns from the function. Use return inside one of the branches to return the correct value.\n",
    "   \n",
    "</div>\n",
    "\n",
    "####"
   ]
  },
  {
   "cell_type": "markdown",
   "id": "8bd0d914-9c5b-4746-a2ec-4e147a9a9b81",
   "metadata": {},
   "source": [
    "<div class=\"alert alert-block alert-info\">\n",
    "<b>Solution</b>: </div>"
   ]
  },
  {
   "cell_type": "markdown",
   "id": "43275142-dd84-4115-89dc-30e87ca089e9",
   "metadata": {
    "tags": []
   },
   "source": [
    "####"
   ]
  },
  {
   "cell_type": "code",
   "execution_count": null,
   "id": "a76e1837-9021-43e7-ac2a-508a454a5267",
   "metadata": {},
   "outputs": [],
   "source": []
  },
  {
   "cell_type": "code",
   "execution_count": null,
   "id": "eac46325-44b7-4063-97ea-2e207a0c4e9a",
   "metadata": {},
   "outputs": [],
   "source": []
  },
  {
   "cell_type": "code",
   "execution_count": null,
   "id": "143d1c49-eb72-45d8-9e3e-68455796e375",
   "metadata": {},
   "outputs": [],
   "source": []
  },
  {
   "cell_type": "code",
   "execution_count": null,
   "id": "464268d0-b104-4ae9-a4c5-cffc493b9543",
   "metadata": {},
   "outputs": [],
   "source": []
  },
  {
   "cell_type": "code",
   "execution_count": null,
   "id": "9bbce2ff-abda-4693-9a02-96644c3a1d95",
   "metadata": {},
   "outputs": [],
   "source": []
  },
  {
   "cell_type": "code",
   "execution_count": null,
   "id": "bf974d4f-e18b-4f66-b567-d0a119508638",
   "metadata": {},
   "outputs": [],
   "source": []
  },
  {
   "cell_type": "code",
   "execution_count": null,
   "id": "007a0358-d04f-4c81-b28d-4d497279ef4a",
   "metadata": {},
   "outputs": [],
   "source": []
  },
  {
   "cell_type": "markdown",
   "id": "999fa244-1fbc-4bc6-abde-853d8f515f1e",
   "metadata": {},
   "source": [
    "####\n",
    "\n",
    "The second direction concerns the limitation to index-able structures, which the generator example is not. For this we will have to rewrite the whole loop in a more functional programming approach using `map`, anonymous function and other concepts.\n",
    "\n",
    "<div class=\"alert alert-block alert-success\">\n",
    "<b>Exercise:</b> \n",
    "\n",
    "Rewrite the following code inside our original `polynomial` function with `map`, `enumerate` and anonymous function.\n",
    "```julia\n",
    "accumulator = 0\n",
    "for i in length(a):-1:1\n",
    "    accumulator += x^(i-1) * a[i] # ! 1-based indexing for arrays\n",
    "end\n",
    "```\n",
    "!!! note \"Anonymous functions reminder\"\n",
    "```julia\n",
    "    x -> x + 1              # unless the reference is stored it cannot be called\n",
    "    plusone = x -> x + 1    # the reference can be stored inside a variable\n",
    "    plusone(x)              # calling with the same syntax\n",
    "```\n",
    "\n",
    "**HINTS:**\n",
    "- Use `enumerate` to obtain iterator over `a` that returns a tuple of `ia = (i, aᵢ)`. With Julia 1-based indexing `i` starts also from 1 and goes up to `length(a)`.\n",
    "- Pass this into a `map` with either in-place or predefined anonymous function that does the operation of `x^(i-1) * aᵢ`.\n",
    "- Use `sum` to collect the resulting array into `accumulator` variable or directly into the `return` command.\n",
    "\n",
    "**BONUS:**\n",
    "There is even shorter way how to write this using one line function syntax and recently added options to the `sum` function. See entry in the help mode `?`.\n",
    "</div>\n",
    "\n",
    "####"
   ]
  },
  {
   "cell_type": "markdown",
   "id": "f3ac848d-681b-4d6e-a022-3257fefa0a07",
   "metadata": {},
   "source": [
    "<div class=\"alert alert-block alert-info\">\n",
    "<b>Solution</b>: </div>"
   ]
  },
  {
   "cell_type": "markdown",
   "id": "00d6646b-dbf9-43ae-a01d-ff3a2c085539",
   "metadata": {
    "tags": []
   },
   "source": [
    "####"
   ]
  },
  {
   "cell_type": "code",
   "execution_count": null,
   "id": "cdc64803-b334-46a2-9920-3000d82ced03",
   "metadata": {},
   "outputs": [],
   "source": []
  },
  {
   "cell_type": "code",
   "execution_count": null,
   "id": "b027a7e1-2e6d-4803-8045-38faa1125b51",
   "metadata": {},
   "outputs": [],
   "source": []
  },
  {
   "cell_type": "code",
   "execution_count": null,
   "id": "be844064-8522-4e41-b729-c9be264225fd",
   "metadata": {},
   "outputs": [],
   "source": []
  },
  {
   "cell_type": "code",
   "execution_count": null,
   "id": "8f435e7a-6448-40bf-abf8-e464e98b6367",
   "metadata": {},
   "outputs": [],
   "source": []
  },
  {
   "cell_type": "code",
   "execution_count": null,
   "id": "edaf430c-4616-495a-8aeb-661410175066",
   "metadata": {},
   "outputs": [],
   "source": []
  },
  {
   "cell_type": "code",
   "execution_count": null,
   "id": "c124c9fe-97a1-4fb6-bfe3-87b385bf8356",
   "metadata": {},
   "outputs": [],
   "source": []
  },
  {
   "cell_type": "code",
   "execution_count": null,
   "id": "4b575865-91c8-41fa-91dc-b2d43ecfd6d9",
   "metadata": {},
   "outputs": [],
   "source": []
  },
  {
   "cell_type": "code",
   "execution_count": null,
   "id": "783ee2bc-cf7c-4352-aa2d-213f7805abce",
   "metadata": {},
   "outputs": [],
   "source": []
  },
  {
   "cell_type": "code",
   "execution_count": null,
   "id": "7e94b036-1d9f-44a0-beb2-3d68da5eddb7",
   "metadata": {},
   "outputs": [],
   "source": []
  },
  {
   "cell_type": "markdown",
   "id": "1e1f121a-3de3-401f-92e0-010e2775a8f3",
   "metadata": {},
   "source": [
    "####\n",
    "## How to use code from other people\n",
    "The script that we have run at the beginning of this lab has created two new files inside the current folder:\n",
    "```\n",
    "./\n",
    " ├── Manifest.toml\n",
    " └── Project.toml\n",
    "```\n",
    "Every folder with a toml file called `Project.toml`, can be used by Julia's pkg manager into setting so called environment, which contains a list of pkgs to be installed. Setting up or more often called activating an environment can be done either before starting Julia itself by running julia with the `--project XXX` flag or from within the Julia REPL, by switching to Pkg mode with `]` key (similar to the help mode activated by pressing `?`) and running command `activate`.\n",
    "\n",
    "So far we have used the general environment (depending on your setup), which by default does not come with any 3rd party packages and includes only the base and standard libraries - [already](https://docs.julialang.org/en/v1/base/arrays/) [quite](https://docs.julialang.org/en/v1/base/multi-threading/) [powerful](https://docs.julialang.org/en/v1/stdlib/Distributed/) [on its own](https://docs.julialang.org/en/v1/stdlib/LinearAlgebra/). \n",
    "\n",
    "In order to find which environment is currently active, run the following:\n",
    "\n",
    "```julia\n",
    "pkg> status\n",
    "```\n",
    "\n",
    "The output of such command usually indicates the general environment located at `.julia/` folder (`${HOME}/.julia/` or `${APPDATA}/.julia/` in case of Unix/Windows based systems respectively)\n",
    "\n",
    "```julia\n",
    "pkg> status\n",
    "Status `~/.julia/environments/v1.6/Project.toml` (empty project)\n",
    "```\n",
    "\n",
    "Generally one should avoid working in the general environment, with the exception of some generic pkgs, such as `PkgTemplates.jl`, which is used for generating library templates/folder structure like the one above ([link](https://github.com/invenia/PkgTemplates.jl)), more on this in the lecture on pkg development. \n",
    "\n",
    "<div class=\"alert alert-block alert-success\">\n",
    "<b>Exercise:</b> \n",
    "\n",
    "Activate the environment inside the current folder and check that the `BenchmarkTools` package has been installed. Use `BenchmarkTools` pkg's `@btime` to benchmark our `polynomial` function with the following arguments.\n",
    "    \n",
    "```@example lab01_base\n",
    "aexp = ones(10) ./ factorial.(0:9)\n",
    "x = 1.1\n",
    "```\n",
    "    \n",
    "**HINTS:**\n",
    "- In pkg mode use the command `activate` and `status` to check the presence. \n",
    "- In order to import the functionality from other package, lookup the keyword `using` in the repl help mode `?`. \n",
    "- The functionality that we want to use is the `@btime` macro (it acts almost like a function but with a different syntax `@macro arg1 arg2 arg3 ...`). More on macros in lecture 7.\n",
    "\n",
    "**BONUS**: Compare the output of `polynomial(aexp, x)` with the value of `exp(x)`, which it approximates.\n",
    "\n",
    "!!! note \"Broadcasting\"\n",
    "    In the assignment's code, we are using quite ubiquitous concept in Julia called `broadcasting` or simply the `dot-syntax` - represented here by `./`, `factorial.`. This concept allows to map both simple arithmetic operations as well as custom functions across arrays, with the added benefit of increased performance, when the broadcasting system can merge operations into a more efficient code. More information can be found in the official [documentation](https://docs.julialang.org/en/v1/manual/arrays/#Broadcasting) or [section](https://juliateachingctu.github.io/Julia-for-Optimization-and-Learning/stable/lecture_01/arrays/#Broadcasting) of our bachelor course.\n",
    "    \n",
    "</div>\n",
    "\n",
    "####"
   ]
  },
  {
   "cell_type": "markdown",
   "id": "f7900662-6ba2-4af2-841a-3b65b5bae876",
   "metadata": {},
   "source": [
    "<div class=\"alert alert-block alert-info\">\n",
    "<b>Solution</b>: </div>"
   ]
  },
  {
   "cell_type": "markdown",
   "id": "07dda643-e22f-40ba-9aed-394d8c3d6cf4",
   "metadata": {
    "tags": []
   },
   "source": [
    "####"
   ]
  },
  {
   "cell_type": "code",
   "execution_count": null,
   "id": "84c731f3-d25f-4869-b73a-98865cdc8d84",
   "metadata": {},
   "outputs": [],
   "source": []
  },
  {
   "cell_type": "code",
   "execution_count": null,
   "id": "1552a1e8-ff9b-45ff-8eaa-6396f3fc503d",
   "metadata": {},
   "outputs": [],
   "source": []
  },
  {
   "cell_type": "code",
   "execution_count": null,
   "id": "0991a75e-a99c-428b-a3c2-6a303f0610a1",
   "metadata": {},
   "outputs": [],
   "source": []
  },
  {
   "cell_type": "code",
   "execution_count": null,
   "id": "af5c1931-e4f7-41a2-896c-369b9449cd74",
   "metadata": {},
   "outputs": [],
   "source": []
  },
  {
   "cell_type": "code",
   "execution_count": null,
   "id": "73bcb57d-fe4a-41bb-a98e-54cfdf100289",
   "metadata": {},
   "outputs": [],
   "source": []
  },
  {
   "cell_type": "markdown",
   "id": "f2ea7a68-5828-46f4-893f-526598af3f8a",
   "metadata": {},
   "source": [
    "####\n",
    "\n",
    "\n",
    "## Discussion & future directions\n",
    "Instead of `if-else` statements that would throw an error for different types, in Julia, we generally see the pattern of typing the function in a way, that for other than desirable types `MethodError` is emitted with the information about closest matching methods. This is part of the design process in Julia of a function and for the particular functionality of the `polynomial` example, we can look into the Julia itself, where it has been implemented in the `evalpoly` function\n",
    "\n"
   ]
  },
  {
   "cell_type": "code",
   "execution_count": null,
   "id": "bb3b6ded-0f16-40e5-818d-ff50db8f9a7f",
   "metadata": {},
   "outputs": [],
   "source": [
    "methods(evalpoly)"
   ]
  },
  {
   "cell_type": "markdown",
   "id": "33a6614d-9b4c-4091-a7ee-bbdd142f94ed",
   "metadata": {},
   "source": [
    "Another avenue, that we have only touched with the `BenchmarkTools`, is performance and will be further explored in the later lectures.\n",
    "\n",
    "With the next lecture focused on typing in Julia, it is worth noting that polynomials lend themselves quite nicely to a definition of a custom type, which can help both readability of the code as well further extensions."
   ]
  },
  {
   "cell_type": "code",
   "execution_count": null,
   "id": "73c8defc-2384-462a-bc66-4fe0e4e8c7a0",
   "metadata": {},
   "outputs": [],
   "source": [
    "struct Polynom{C}\n",
    "    coefficients::{C}\n",
    "end\n",
    "\n",
    "function (p:Polynom)(x)\n",
    "    polynomial(p.coefficients, x)\n",
    "end"
   ]
  },
  {
   "cell_type": "markdown",
   "id": "221fe99b-66de-42e8-af5a-e4ab21a8f27c",
   "metadata": {},
   "source": [
    "## Useful resources\n",
    "- Getting Started tutorial from JuliaLang documentation - [Docs](https://docs.julialang.org/en/v1/manual/getting-started/)\n",
    "- Converting syntax between MATLAB ↔ Python ↔ Julia - [Cheatsheet](https://cheatsheets.quantecon.org/)\n",
    "- Bachelor course for refreshing your knowledge - [Course](https://juliateachingctu.github.io/Julia-for-Optimization-and-Learning/stable/)\n",
    "- Stylistic conventions - [Style Guide](https://docs.julialang.org/en/v1/manual/style-guide/#Style-Guide)\n",
    "- Reserved keywords - [List](https://docs.julialang.org/en/v1/base/base/#Keywords)\n",
    "- Official cheatsheet with basic syntax - [link](https://juliadocs.github.io/Julia-Cheat-Sheet/)\n",
    "\n",
    "\n",
    "### [Various errors and how to read them](@id lab_errors)\n",
    "This section summarizes most commonly encountered types of errors in Julia and how to resolve them or at least understand, what has gone wrong. It expands a little bit the official [documentation](https://docs.julialang.org/en/v1/base/base/#Errors), which contains the complete list with examples. Keep in mind again, that you can use help mode in the REPL to query error types as well.\n",
    "\n",
    "#### `MethodError`\n",
    "This type of error is most commonly thrown by Julia's multiple dispatch system with a message like `no method matching X(args...)`, seen in two examples bellow.\n"
   ]
  },
  {
   "cell_type": "code",
   "execution_count": null,
   "id": "44f350f7-5bee-484f-a0ec-96b1b21b89d3",
   "metadata": {},
   "outputs": [],
   "source": [
    "2 * 'a'                       # many candidates"
   ]
  },
  {
   "cell_type": "code",
   "execution_count": null,
   "id": "c7bdf353-dea1-47fe-baa2-8a8a0cac27dc",
   "metadata": {},
   "outputs": [],
   "source": [
    "getindex((i for i in 1:4), 3) # no candidates"
   ]
  },
  {
   "cell_type": "markdown",
   "id": "2e18cc9a-d79e-41bf-bca8-6fb6022417b3",
   "metadata": {},
   "source": [
    "Both of these examples have a short stacktrace, showing that the execution failed on the top most level in `REPL`, however if this code is a part of some function in a separate file, the stacktrace will reflect it. What this error tells us is that the dispatch system could not find a method for a given function, that would be suitable for the type of arguments, that it has been given. In the first case Julia offers also a list of candidate methods, that match at least some of the arguments\n",
    "\n",
    "When dealing with basic Julia functions and types, this behavior can be treated as something given and though one could locally add a method for example for multiplication of `Char` and `Int`, there is usually a good reason why Julia does not support such functionality by default. On the other hand when dealing with user defined code, this error may suggest the developer, that either the functions are too strictly typed or that another method definition is needed in order to satisfy the desired functionality.\n",
    "\n",
    "#### `InexactError`\n",
    "This type of error is most commonly thrown by the type conversion system (centered around `convert` function), informing the user that it cannot exactly convert a value of some type to match arguments of a function being called.\n"
   ]
  },
  {
   "cell_type": "code",
   "execution_count": null,
   "id": "adc3b4cf-cbe1-4311-b227-86bcd5e36e7c",
   "metadata": {},
   "outputs": [],
   "source": [
    "Int(1.2)                      # root cause"
   ]
  },
  {
   "cell_type": "code",
   "execution_count": null,
   "id": "3f5ac60b-cb68-4248-9a37-ac99d5b6347f",
   "metadata": {},
   "outputs": [],
   "source": [
    "append!([1,2,3], 1.2)         # same as above but shows the root cause deeper in the stack trace"
   ]
  },
  {
   "cell_type": "markdown",
   "id": "a945e639-b810-487d-801e-e137b0dad2c5",
   "metadata": {},
   "source": [
    "In this case the function being `Int` and the value a floating point. The second example shows `InexactError` may be caused deeper inside an inconspicuous function call, where we want to extend an array by another value, which is unfortunately incompatible.\n",
    "\n",
    "#### `ArgumentError`\n",
    "As opposed to the previous two errors, `ArgumentError` can contain user specified error message and thus can serve multiple purposes. It is however recommended to throw this type of error, when the parameters to a function call do not match a valid signature, e.g. when `factorial` were given negative or non-integer argument (note that this is being handled in Julia by multiple dispatch and specific `DomainError`).\n",
    "\n",
    "This example shows a concatenation of two 2d arrays of incompatible sizes 3x3 and 2x2.\n",
    "\n"
   ]
  },
  {
   "cell_type": "code",
   "execution_count": null,
   "id": "5e644dee-9836-4d65-888d-592bf904a9a9",
   "metadata": {},
   "outputs": [],
   "source": [
    "hcat(ones(3,3), zeros(2,2))"
   ]
  },
  {
   "cell_type": "markdown",
   "id": "a08fe1e5-4b0c-4fe2-88c1-1b038f9f2cc4",
   "metadata": {},
   "source": [
    "#### `KeyError`\n",
    "This error is specific to hash table based objects such as the `Dict` type and tells the user that and indexing operation into such structure tried to access or delete a non-existent element."
   ]
  },
  {
   "cell_type": "code",
   "execution_count": null,
   "id": "49dc95ac-f88e-4695-adb1-0d30cc5876a4",
   "metadata": {},
   "outputs": [],
   "source": [
    "d = Dict(:a => [1,2,3], :b => [1,23])"
   ]
  },
  {
   "cell_type": "code",
   "execution_count": null,
   "id": "58691b57-a776-4891-8131-e813309a1378",
   "metadata": {},
   "outputs": [],
   "source": [
    "d[:c]"
   ]
  },
  {
   "cell_type": "markdown",
   "id": "c9b19d9f-8e26-4967-be16-af8bfa737943",
   "metadata": {},
   "source": [
    "#### `TypeError`\n",
    "Type assertion failure, or calling an intrinsic function (inside LLVM, where code is strictly typed) with incorrect argument type. In practice this error comes up most often when comparing value of a type against the `Bool` type as seen in the example bellow."
   ]
  },
  {
   "cell_type": "code",
   "execution_count": null,
   "id": "0874dec2-d64b-4347-8df6-42e91338d8aa",
   "metadata": {},
   "outputs": [],
   "source": [
    "if 1 end                # calls internally typeassert(1, Bool)"
   ]
  },
  {
   "cell_type": "code",
   "execution_count": null,
   "id": "f3e6af8a-cabc-4c6c-b685-c8cef3f490e1",
   "metadata": {},
   "outputs": [],
   "source": [
    "typeassert(1, Bool)"
   ]
  },
  {
   "cell_type": "markdown",
   "id": "3ac1b661-bb62-440b-9f65-21ddc5ac2211",
   "metadata": {},
   "source": [
    "In order to compare inside conditional statements such as `if-elseif-else` or the ternary operator `x ? a : b` the condition has to be always of `Bool` type, thus the example above can be fixed by the comparison operator: `if 1 == 1 end` (in reality either the left or the right side of the expression contains an expression or a variable to compare against).\n",
    "\n",
    "#### `UndefVarError`\n",
    "While this error is quite self-explanatory, the exact causes are often quite puzzling for the user. The reason behind the confusion is to do with *code scoping*, which comes into play for example when trying to access a local variable from outside of a given function or just updating a global variable from within a simple loop. \n",
    "\n",
    "In the first example we show the former case, where variable is declared from within a function and accessed from outside afterwards."
   ]
  },
  {
   "cell_type": "code",
   "execution_count": null,
   "id": "0506113f-7b5f-4b40-859a-df6a71b068e1",
   "metadata": {},
   "outputs": [],
   "source": [
    "function plusone(x)\n",
    "    uno = 1\n",
    "    return x + uno\n",
    "end\n",
    "uno # defined only within plusone"
   ]
  },
  {
   "cell_type": "markdown",
   "id": "f2f4e21f-4f4a-43eb-ad50-8ef1a58cc22b",
   "metadata": {},
   "source": [
    "Unless there is variable `I_am_not_defined` in the global scope, the following should throw an error."
   ]
  },
  {
   "cell_type": "code",
   "execution_count": null,
   "id": "7cc48282-debd-4068-b23b-7be1a58b978e",
   "metadata": {},
   "outputs": [],
   "source": [
    "I_am_not_defined"
   ]
  },
  {
   "cell_type": "markdown",
   "id": "a510baa7-19a6-41f8-99af-1d19ebe17723",
   "metadata": {},
   "source": [
    "Often these kind of errors arise as a result of bad code practices, such as long running sessions of Julia having long forgotten global variables, that do not exist upon new execution (this one in particular has been addressed by the authors of the reactive Julia notebooks [Pluto.jl](https://github.com/fonsp/Pluto.jl)).\n",
    "\n",
    "For more details on code scoping we recommend particular places in the bachelor course lectures [here](https://juliateachingctu.github.io/Julia-for-Optimization-and-Learning/stable/lecture_02/scope/#Soft-local-scope) and [there](https://juliateachingctu.github.io/Julia-for-Optimization-and-Learning/stable/lecture_03/scope/#Scope-of-variables).\n",
    "\n",
    "#### `ErrorException` & `error` function\n",
    "`ErrorException` is the most generic error, which can be thrown/raised just by calling the `error` function with a chosen string message. As a result developers may be inclined to misuse this for any kind of unexpected behavior a user can run into, often providing out-of-context/uninformative messages."
   ]
  }
 ],
 "metadata": {
  "kernelspec": {
   "display_name": "Julia 1.7.3",
   "language": "julia",
   "name": "julia-1.7"
  },
  "language_info": {
   "file_extension": ".jl",
   "mimetype": "application/julia",
   "name": "julia",
   "version": "1.7.3"
  }
 },
 "nbformat": 4,
 "nbformat_minor": 5
}
