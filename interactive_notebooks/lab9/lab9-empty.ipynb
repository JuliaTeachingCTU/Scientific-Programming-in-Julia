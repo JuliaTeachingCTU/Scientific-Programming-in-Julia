{
 "cells": [
  {
   "cell_type": "code",
   "execution_count": null,
   "id": "ec560687-15b7-4386-ab60-b84706629ccd",
   "metadata": {},
   "outputs": [],
   "source": [
    "using BenchmarkTools"
   ]
  },
  {
   "cell_type": "markdown",
   "id": "e58a3597-9393-4f04-8419-7b30920c4656",
   "metadata": {},
   "source": [
    "# Lab 09 - Generated Functions & IR\n",
    "\n",
    "In this lab you will practice two advanced meta programming techniques:\n",
    "\n",
    "* _**Generated functions**_ can help you write specialized code for certain\n",
    "  kinds of parametric types with more flexibility and/or less code.\n",
    "* _**IRTools.jl**_ is a package that simplifies the manipulation of lowered and\n",
    "  typed Julia code\n",
    "  \n",
    "  \n",
    "## `@generate`d Functions\n",
    "\n",
    "Remember the three most important things about generated functions:\n",
    "* They return *quoted expressions* (like macros).\n",
    "* You have access to type information of your input variables.\n",
    "* They have to be _**pure**_\n",
    "\n",
    "### A faster `polynomial`\n",
    "\n",
    "Throughout this course we have come back to our `polynomial` function which\n",
    "evaluates a polynomial based on the Horner schema. Below you can find a version\n",
    "of the function that operates on a tuple of length $N$."
   ]
  },
  {
   "cell_type": "code",
   "execution_count": null,
   "id": "d5189ec1-984c-43a9-9e90-2cac94e0cc07",
   "metadata": {},
   "outputs": [],
   "source": [
    "function polynomial(x, p::NTuple{N}) where N\n",
    "    acc = p[N]\n",
    "    for i in N-1:-1:1\n",
    "        acc = x*acc + p[i]\n",
    "    end\n",
    "    acc\n",
    "end"
   ]
  },
  {
   "cell_type": "markdown",
   "id": "13754c2d-c4a8-4652-9eb0-b3cd47ab1b53",
   "metadata": {},
   "source": [
    "Julia has its own implementation of this function called `evalpoly`. If we\n",
    "compare the performance of our `polynomial` and Julia's `evalpoly` we can\n",
    "observe a pretty big difference:"
   ]
  },
  {
   "cell_type": "code",
   "execution_count": null,
   "id": "fe0b63f9-ecdd-4f5b-b6c0-cf8d4d3c6592",
   "metadata": {},
   "outputs": [],
   "source": [
    "x = 2.0"
   ]
  },
  {
   "cell_type": "code",
   "execution_count": null,
   "id": "fa019e66-d904-4ce7-8f82-d65665a7ab93",
   "metadata": {},
   "outputs": [],
   "source": [
    "p = ntuple(float,20)"
   ]
  },
  {
   "cell_type": "code",
   "execution_count": null,
   "id": "8372c334-903b-4c5a-8203-642190e05590",
   "metadata": {},
   "outputs": [],
   "source": [
    "@btime polynomial($x,$p)"
   ]
  },
  {
   "cell_type": "code",
   "execution_count": null,
   "id": "fd5b005c-1d6b-425a-a70b-d001885a3f3c",
   "metadata": {},
   "outputs": [],
   "source": [
    "@btime evalpoly($x,$p)"
   ]
  },
  {
   "cell_type": "markdown",
   "id": "48461244-c2a7-4101-98dc-f2af4a99098e",
   "metadata": {},
   "source": [
    "Julia's implementation uses a generated function which specializes on different\n",
    "tuple lengths (i.e. it *unrolls* the loop) and eliminates the (small) overhead\n",
    "of looping over the tuple. This is possible, because the length of the tuple is\n",
    "known during compile time. You can check the difference between `polynomial`\n",
    "and `evalpoly` yourself via the introspectionwtools you know - e.g.\n",
    "`@code_lowered`."
   ]
  },
  {
   "cell_type": "markdown",
   "id": "66d15c39-b4a9-42e8-bed0-c4c23015e2e4",
   "metadata": {},
   "source": [
    "<div class=\"alert alert-block alert-success\">\n",
    "<b>Exercise:</b>\n",
    "    \n",
    "Rewrite the `polynomial` function as a generated function with the signature\n",
    "```genpoly(x::Number, p::NTuple{N}) where N```.\n",
    "    \n",
    "**Hints:**\n",
    "* Remember that you have to generate a quoted expression inside your generated\n",
    "  function, so you will need things like `:($expr1 + $expr2)`.\n",
    "* You can debug the expression you are generating by omitting the `@generated`\n",
    "  macro from your function.\n",
    "    \n",
    "</div>"
   ]
  },
  {
   "cell_type": "markdown",
   "id": "08bc67ab-26cf-47b0-a00e-6deaf48da5f2",
   "metadata": {},
   "source": [
    "<div class=\"alert alert-block alert-info\">\n",
    "<b>Solution</b>: </div>"
   ]
  },
  {
   "cell_type": "code",
   "execution_count": null,
   "id": "cb64c05e-df72-487e-aefc-6cb78beedf7b",
   "metadata": {},
   "outputs": [],
   "source": []
  },
  {
   "cell_type": "markdown",
   "id": "6104a87d-402e-4895-81df-42536d1d404b",
   "metadata": {},
   "source": [
    "###\n",
    "You should get the same performance as `evalpoly` (and as `@poly` from Lab 7 with\n",
    "the added convenience of not having to spell out all the coefficients in your code\n",
    "like: `p = @poly 1 2 3 ...`)."
   ]
  },
  {
   "cell_type": "code",
   "execution_count": null,
   "id": "62d4127d-7879-4852-8ddb-67e7aca2eb4f",
   "metadata": {},
   "outputs": [],
   "source": [
    "@btime genpoly($x,$p)"
   ]
  },
  {
   "cell_type": "markdown",
   "id": "c5761f6c-e89d-44a7-9fce-33417592d293",
   "metadata": {},
   "source": [
    "### Fast, Static Matrices\n",
    "\n",
    "Another great example that makes heavy use of generated functions are *static\n",
    "arrays*. A static array is an array of fixed size which can be implemented via\n",
    "an `NTuple`. This means that it will be allocated on the stack, which can buy\n",
    "us a lot of performance for smaller static arrays. We define a\n",
    "`StaticMatrix{T,C,R,L}` where the paramteric types represent the matrix element\n",
    "type `T` (e.g. `Float32`), the number of rows `R`, the number of columns `C`,\n",
    "and the total length of the matrix `L=C*R` (which we need to set the size of\n",
    "the `NTuple`).\n"
   ]
  },
  {
   "cell_type": "code",
   "execution_count": null,
   "id": "06c87c8b-8119-4ca2-9825-f27d7aeac418",
   "metadata": {},
   "outputs": [],
   "source": [
    "struct StaticMatrix{T,R,C,L} <: AbstractArray{T,2}\n",
    "    data::NTuple{L,T}\n",
    "end\n",
    "\n",
    "function StaticMatrix(x::AbstractMatrix{T}) where T\n",
    "    (R,C) = size(x)\n",
    "    StaticMatrix{T,R,C,C*R}(x |> Tuple)\n",
    "end"
   ]
  },
  {
   "cell_type": "markdown",
   "id": "d5c600a2-8e58-4146-90cf-26e7c21a5c08",
   "metadata": {},
   "source": [
    "<div class=\"alert alert-block alert-success\">\n",
    "<b>Exercise:</b>\n",
    "    \n",
    "As a warm-up, overload the `Base` functions `size`, `length`,\n",
    "`getindex(x::StaticMatrix,i::Int)`, and `getindex(x::Solution,r::Int,c::Int)`.\n",
    "    \n",
    "</div>"
   ]
  },
  {
   "cell_type": "markdown",
   "id": "9445f7ed-4153-4c16-8a06-9cecb6ea0f40",
   "metadata": {},
   "source": [
    "<div class=\"alert alert-block alert-info\">\n",
    "<b>Solution</b>: </div>"
   ]
  },
  {
   "cell_type": "code",
   "execution_count": null,
   "id": "89bebca5-36e1-48cd-9d8d-98ecc2dbf1a8",
   "metadata": {},
   "outputs": [],
   "source": []
  },
  {
   "cell_type": "markdown",
   "id": "931d8e83-b451-4bac-b17c-d1260d26d6b0",
   "metadata": {
    "tags": []
   },
   "source": [
    "###\n",
    "\n",
    "You can check if everything works correctly by comparing to a normal `Matrix`:\n"
   ]
  },
  {
   "cell_type": "code",
   "execution_count": null,
   "id": "9c527c10-25a9-4a1f-b7fd-5b4486d99b5e",
   "metadata": {},
   "outputs": [],
   "source": [
    "x = rand(2,3)"
   ]
  },
  {
   "cell_type": "code",
   "execution_count": null,
   "id": "370ca9b6-909c-49db-8e41-ac3601590364",
   "metadata": {},
   "outputs": [],
   "source": [
    "x[1,2]"
   ]
  },
  {
   "cell_type": "code",
   "execution_count": null,
   "id": "54448303-c06d-43a5-b8b9-4e5a659c9faa",
   "metadata": {},
   "outputs": [],
   "source": [
    "a = StaticMatrix(x)"
   ]
  },
  {
   "cell_type": "code",
   "execution_count": null,
   "id": "5f9ad70f-83bc-4e5e-ae97-8e0c03ec2647",
   "metadata": {},
   "outputs": [],
   "source": [
    "a[1,2]"
   ]
  },
  {
   "cell_type": "markdown",
   "id": "d0cf452f-8db8-4f71-b27b-282209573a46",
   "metadata": {},
   "source": [
    "<div class=\"alert alert-block alert-success\">\n",
    "<b>Exercise:</b>\n",
    "\n",
    "Overload matrix multiplication between two static matrices\n",
    "```julia\n",
    "Base.:*(x::StaticMatrix{T,K,M},y::StaticMatrix{T,M,N})\n",
    "```\n",
    "with a generated function that creates an expression without loops.  Below you\n",
    "can see an example for an expression that would be generated from multiplying\n",
    "two $2\\times 2$ matrices.\n",
    "```julia\n",
    ":(StaticMatrix{T,2,2,4}((\n",
    "    (x[1,1]*y[1,1] + x[1,2]*y[2,1]),\n",
    "    (x[2,1]*y[1,1] + x[2,2]*y[2,1]),\n",
    "    (x[1,1]*y[1,2] + x[1,2]*y[2,2]),\n",
    "    (x[2,1]*y[1,2] + x[2,2]*y[2,2])\n",
    ")))\n",
    "```\n",
    "\n",
    "**Hints:**\n",
    "\n",
    "* You can get output like above by leaving out the `@generated` in front of your\n",
    "  overload.\n",
    "* It might be helpful to implement matrix multiplication in a *normal* Julia\n",
    "  function first.\n",
    "* You can construct an expression for a sum of multiple elements like below.\n",
    "    \n",
    "</div>"
   ]
  },
  {
   "cell_type": "code",
   "execution_count": null,
   "id": "22da1ddd-e98e-4ad6-99a4-7851d1631413",
   "metadata": {},
   "outputs": [],
   "source": [
    "Expr(:call,:+,1,2,3)"
   ]
  },
  {
   "cell_type": "code",
   "execution_count": null,
   "id": "1dc489ed-f599-4ae7-b6d7-5fe08688032e",
   "metadata": {},
   "outputs": [],
   "source": [
    "Expr(:call,:+,1,2,3) |> eval"
   ]
  },
  {
   "cell_type": "markdown",
   "id": "1bd0498d-b20a-46e4-8db3-1355b9b11196",
   "metadata": {},
   "source": [
    "<div class=\"alert alert-block alert-info\">\n",
    "<b>Solution</b>: </div>"
   ]
  },
  {
   "cell_type": "code",
   "execution_count": null,
   "id": "b116d162-39a2-4226-a991-e6efdbc9072a",
   "metadata": {},
   "outputs": [],
   "source": []
  },
  {
   "cell_type": "markdown",
   "id": "da6eaaca-6e16-4da9-a102-3699f18b0898",
   "metadata": {},
   "source": [
    "###"
   ]
  },
  {
   "cell_type": "markdown",
   "id": "7160ded8-5ab2-4de5-9b2d-06bc39053af2",
   "metadata": {},
   "source": [
    "You can check that your matrix multiplication works by multiplying two random\n",
    "matrices. Which one is faster?"
   ]
  },
  {
   "cell_type": "code",
   "execution_count": null,
   "id": "48bda48c-f5e2-4a4a-92ac-cfe2c61a45bb",
   "metadata": {},
   "outputs": [],
   "source": [
    "a = rand(2,3)"
   ]
  },
  {
   "cell_type": "code",
   "execution_count": null,
   "id": "48938b59-2cb4-434a-8305-de9c8314a180",
   "metadata": {},
   "outputs": [],
   "source": [
    "b = rand(3,4)"
   ]
  },
  {
   "cell_type": "code",
   "execution_count": null,
   "id": "6f7eb824-c5c5-4b85-907d-6c021215e8ef",
   "metadata": {},
   "outputs": [],
   "source": [
    "c = StaticMatrix(a)"
   ]
  },
  {
   "cell_type": "code",
   "execution_count": null,
   "id": "ce95d3fb-f6ca-48e8-ba9f-71dbb0edefe0",
   "metadata": {},
   "outputs": [],
   "source": [
    "d = StaticMatrix(b)"
   ]
  },
  {
   "cell_type": "code",
   "execution_count": null,
   "id": "e369aefd-6fa2-41f5-b4f9-3ef7b390b41a",
   "metadata": {},
   "outputs": [],
   "source": [
    "a*b"
   ]
  },
  {
   "cell_type": "code",
   "execution_count": null,
   "id": "c9be85b6-5982-4cc3-ae85-fe771b46a9d0",
   "metadata": {},
   "outputs": [],
   "source": [
    "c*d"
   ]
  },
  {
   "cell_type": "markdown",
   "id": "9da42fdc-44fa-4f85-a770-a316687995fd",
   "metadata": {},
   "source": [
    "## `OptionalArgChecks.jl`\n",
    "\n",
    "The package [`OptionalArgChecks.jl`](https://github.com/simeonschaub/OptionalArgChecks.jl)\n",
    "makes is possible to add checks to a function which can then be removed by\n",
    "calling the function with the `@skip` macro.  For example, we can check if the\n",
    "input to a function `f` is an even number\n"
   ]
  },
  {
   "cell_type": "code",
   "execution_count": null,
   "id": "0c05fd57-de94-42c1-8088-03aa7ab774e6",
   "metadata": {},
   "outputs": [],
   "source": [
    "function f(x::Number)\n",
    "    iseven(x) || error(\"Input has to be an even number!\")\n",
    "    x\n",
    "end"
   ]
  },
  {
   "cell_type": "markdown",
   "id": "cc6b7f12-34d3-438f-9faa-d99ade87eeeb",
   "metadata": {},
   "source": [
    "If you are doing more involved argument checking it can take quite some time to\n",
    "perform all your checks. However, if you want to be fast and are completely\n",
    "sure that you are always passing in the correct inputs to your function, you\n",
    "might want to remove them in some cases. Hence, we would like to transform the\n",
    "IR of the function above\n"
   ]
  },
  {
   "cell_type": "code",
   "execution_count": null,
   "id": "5d3ae7c2-bda2-4516-bf1e-7ff13b81fb59",
   "metadata": {},
   "outputs": [],
   "source": [
    "using IRTools\n",
    "using IRTools: @code_ir\n",
    "@code_ir f(1)"
   ]
  },
  {
   "cell_type": "markdown",
   "id": "6b799b11-a105-4ca9-a0fc-a46a5a252e33",
   "metadata": {},
   "source": [
    "To some thing like this"
   ]
  },
  {
   "cell_type": "code",
   "execution_count": null,
   "id": "1be0e404-6351-46da-8c4b-7ddf7c4f18e5",
   "metadata": {},
   "outputs": [],
   "source": [
    "transformed_f(x::Number) = x\n",
    "@code_ir transformed_f(1)"
   ]
  },
  {
   "cell_type": "markdown",
   "id": "1eebe744-61e6-4ca2-9cc3-ee20a2fdce6e",
   "metadata": {},
   "source": [
    "### Marking Argument Checks\n",
    "As a first step we will implement a macro that marks checks which we might want\n",
    "to remove later by surrounding it with `:meta` expressions. This will make it\n",
    "easy to detect which part of the code can be removed. A `:meta` expression can\n",
    "be created like this\n"
   ]
  },
  {
   "cell_type": "code",
   "execution_count": null,
   "id": "8fd9edf6-d53f-4c66-a778-f19df77f162a",
   "metadata": {},
   "outputs": [],
   "source": [
    "Expr(:meta, :mark_begin)"
   ]
  },
  {
   "cell_type": "code",
   "execution_count": null,
   "id": "d2adf74d-d273-4ada-b65f-21b7958022a5",
   "metadata": {},
   "outputs": [],
   "source": [
    "Expr(:meta, :mark_end)"
   ]
  },
  {
   "cell_type": "markdown",
   "id": "a8b21785-7bc1-4585-9c22-3312d5c015d9",
   "metadata": {},
   "source": [
    "and they will not be evaluated but remain in your IR. To surround an expression\n",
    "with two meta expressions you can use a `:block` expression:"
   ]
  },
  {
   "cell_type": "code",
   "execution_count": null,
   "id": "be80ceef-9166-4825-94ac-4301f93e6c48",
   "metadata": {},
   "outputs": [],
   "source": [
    "ex = :(x+x)"
   ]
  },
  {
   "cell_type": "code",
   "execution_count": null,
   "id": "2c5728cd-7d4c-4e62-8f36-a26236bcdd58",
   "metadata": {},
   "outputs": [],
   "source": [
    "Expr(:block, :(print(x)), ex, :(print(x)))"
   ]
  },
  {
   "cell_type": "markdown",
   "id": "00054e7e-91b2-4940-b228-451c0af16c91",
   "metadata": {},
   "source": [
    "<div class=\"alert alert-block alert-success\">\n",
    "<b>Exercise:</b>\n",
    "    \n",
    "Define a macro `@mark` that takes an expression and surrounds it with two\n",
    "meta expressions marking the beginning and end of a check.\n",
    "**Hints**\n",
    "* Defining a function `_mark(ex::Expr)` which manipulates your expressions can\n",
    "  help a lot with debugging your macro.\n",
    "\n",
    "    \n",
    "</div>"
   ]
  },
  {
   "cell_type": "markdown",
   "id": "4c98f98e-1401-46a1-97a9-63f3dcb7bd8a",
   "metadata": {},
   "source": [
    "<div class=\"alert alert-block alert-info\">\n",
    "<b>Solution</b>: </div>"
   ]
  },
  {
   "cell_type": "code",
   "execution_count": null,
   "id": "3b9a8501-d279-4d6c-a018-05361de9c9c7",
   "metadata": {},
   "outputs": [],
   "source": []
  },
  {
   "cell_type": "markdown",
   "id": "1f07a3ad-ae54-4e6a-a613-3139c54134d2",
   "metadata": {},
   "source": [
    "###"
   ]
  },
  {
   "cell_type": "markdown",
   "id": "2de81945-5808-464a-8958-174866bc77c7",
   "metadata": {},
   "source": [
    "If you have defined a `_mark` function you can test that it works like this"
   ]
  },
  {
   "cell_type": "code",
   "execution_count": null,
   "id": "9d605eaa-1f6d-4fba-96b2-186d95b900fa",
   "metadata": {},
   "outputs": [],
   "source": [
    "_mark(:(println(x)))"
   ]
  },
  {
   "cell_type": "markdown",
   "id": "7c17d8b1-ed79-4e45-a8ff-df4980527840",
   "metadata": {},
   "source": [
    "The complete macro should work like below"
   ]
  },
  {
   "cell_type": "code",
   "execution_count": null,
   "id": "ac3a9300-d9b7-41cd-97c8-699c59e89f04",
   "metadata": {},
   "outputs": [],
   "source": [
    "function f(x::Number)\n",
    "    @mark @show x\n",
    "    x\n",
    "end;"
   ]
  },
  {
   "cell_type": "code",
   "execution_count": null,
   "id": "3e1d9bda-9320-4536-8f1c-c964ada80c98",
   "metadata": {},
   "outputs": [],
   "source": [
    "@code_ir f(2)"
   ]
  },
  {
   "cell_type": "code",
   "execution_count": null,
   "id": "bc810b9f-2f67-4aac-b1a9-4a829080d246",
   "metadata": {},
   "outputs": [],
   "source": [
    "f(2)"
   ]
  },
  {
   "cell_type": "markdown",
   "id": "a383513b-db5c-4f33-912e-68f4e329de5f",
   "metadata": {},
   "source": [
    "### Removing Argument Checks\n",
    "\n",
    "Now comes tricky part for which we need `IRTools.jl`.\n",
    "We want to remove all lines that are between our two meta blocks.\n",
    "You can delete the line that corresponds to a certain variable with the `delete!`\n",
    "and the `var` functions.\n",
    "E.g. deleting the line that defines variable `%4` works like this:"
   ]
  },
  {
   "cell_type": "code",
   "execution_count": null,
   "id": "59cf6894-bba2-49e2-baf5-c76f406c3208",
   "metadata": {},
   "outputs": [],
   "source": [
    "using IRTools: delete!, var"
   ]
  },
  {
   "cell_type": "code",
   "execution_count": null,
   "id": "198557b6-11a1-4431-98cd-0c9b2c222591",
   "metadata": {},
   "outputs": [],
   "source": [
    "ir = @code_ir f(2)"
   ]
  },
  {
   "cell_type": "code",
   "execution_count": null,
   "id": "c68c6e0d-bb95-4ddc-80ba-ddc2276a2cc9",
   "metadata": {},
   "outputs": [],
   "source": [
    "delete!(ir, var(4))"
   ]
  },
  {
   "cell_type": "markdown",
   "id": "4e276aa4-9805-413f-97a8-71413a981329",
   "metadata": {},
   "source": [
    "<div class=\"alert alert-block alert-success\">\n",
    "<b>Exercise:</b>\n",
    "    \n",
    "Write a function `skip(ir::IR)` which deletes all lines between the meta\n",
    "expression `:mark_begin` and `:mark_end`.\n",
    "\n",
    "**Hints**\n",
    "You can check whether a statement is one of our meta expressions like this:\n",
    "    \n",
    "</div>"
   ]
  },
  {
   "cell_type": "code",
   "execution_count": null,
   "id": "17724d65-7b89-4c8b-bce4-b9e6019418a0",
   "metadata": {},
   "outputs": [],
   "source": [
    "ismarkbegin(e::Expr) = Meta.isexpr(e,:meta) && e.args[1]===:mark_begin"
   ]
  },
  {
   "cell_type": "code",
   "execution_count": null,
   "id": "606bfd54-303c-41d5-bc14-7b4828f42f24",
   "metadata": {},
   "outputs": [],
   "source": [
    "ismarkbegin(Expr(:meta,:mark_begin))"
   ]
  },
  {
   "cell_type": "markdown",
   "id": "0278df0a-0abf-406a-911b-cc953ff48c43",
   "metadata": {},
   "source": [
    "<div class=\"alert alert-block alert-info\">\n",
    "<b>Solution</b>: </div>\n"
   ]
  },
  {
   "cell_type": "code",
   "execution_count": null,
   "id": "cc473d89-85d3-4cb5-994b-74417b001cfe",
   "metadata": {},
   "outputs": [],
   "source": []
  },
  {
   "cell_type": "markdown",
   "id": "3156f8ce-cbd1-4d53-a2a8-5ef1932d08b1",
   "metadata": {
    "tags": []
   },
   "source": [
    "###"
   ]
  },
  {
   "cell_type": "markdown",
   "id": "93397f6d-2856-478f-ba21-05b8b3ee1e0d",
   "metadata": {},
   "source": [
    "Your function should transform the IR of `f` like below.\n"
   ]
  },
  {
   "cell_type": "code",
   "execution_count": null,
   "id": "62ba74e3-c921-4550-89f9-d31b376a4988",
   "metadata": {},
   "outputs": [],
   "source": [
    "using IRTools: func"
   ]
  },
  {
   "cell_type": "code",
   "execution_count": null,
   "id": "8107d38b-fa09-4476-84d8-bb09f87e8222",
   "metadata": {},
   "outputs": [],
   "source": [
    "ir = @code_ir f(2)"
   ]
  },
  {
   "cell_type": "code",
   "execution_count": null,
   "id": "b6e2c176-f64d-48e0-a755-259cecdbb984",
   "metadata": {},
   "outputs": [],
   "source": [
    "ir = skip(ir)"
   ]
  },
  {
   "cell_type": "code",
   "execution_count": null,
   "id": "bb000ebc-d883-4a20-b20e-cf3188640940",
   "metadata": {},
   "outputs": [],
   "source": [
    "func(ir)(nothing, 2)  # no output from @show!"
   ]
  },
  {
   "cell_type": "markdown",
   "id": "ec7dc1d6-c093-452a-a002-4f73ec3752f7",
   "metadata": {},
   "source": [
    "However, if we have a slightly more complicated IR like below this version of\n",
    "our function will fail. It actually fails so badly that running\n",
    "`func(ir)(nothing,2)` after `skip` will cause the build of this page to crash,\n",
    "so we cannot show you the output here ;)."
   ]
  },
  {
   "cell_type": "code",
   "execution_count": null,
   "id": "428bc626-a4e0-4829-900c-fedc03588e56",
   "metadata": {},
   "outputs": [],
   "source": [
    "function g(x)\n",
    "    @mark iseven(x) && println(\"even\")\n",
    "    x\n",
    "end"
   ]
  },
  {
   "cell_type": "code",
   "execution_count": null,
   "id": "aeaef8b4-e394-4934-ae3c-43c88c1133a8",
   "metadata": {},
   "outputs": [],
   "source": [
    "ir = @code_ir g(2)"
   ]
  },
  {
   "cell_type": "code",
   "execution_count": null,
   "id": "c87bc7e0-e37d-4a69-910c-61b156ef43c4",
   "metadata": {},
   "outputs": [],
   "source": [
    "ir = skip(ir)"
   ]
  },
  {
   "cell_type": "markdown",
   "id": "b9b78703-a5a4-4299-8a1a-599f7597c7b7",
   "metadata": {},
   "source": [
    "The crash is due to `%4` not existing anymore. We can fix this by emptying the\n",
    "block in which we found the `:mark_begin` expression and branching to the\n",
    "block that contains `:mark_end` (unless they are in the same block already).\n",
    "If some (branching) code in between remained, it should then be removed by the\n",
    "compiler because it is never reached."
   ]
  },
  {
   "cell_type": "markdown",
   "id": "f3a11f43-f83f-4aa7-bb20-2fc7944cd8f0",
   "metadata": {},
   "source": [
    "<div class=\"alert alert-block alert-success\">\n",
    "<b>Exercise:</b>\n",
    "    \n",
    "Use the functions `IRTools.block`, `IRTools.branches`, `IRTools.empty!`, and\n",
    "`IRTools.branch!` to modify `skip` such that it also empties the `:mark_begin`\n",
    "block, and adds a branch to the `:mark_end` block (unless they are the same\n",
    "block).\n",
    "\n",
    "**Hints**\n",
    "* `block` gets you the block of IR in which a given variable is if you call e.g. `block(ir,var(4))`.\n",
    "* `empty!` removes all statements in a block.\n",
    "* `branches` returns all branches of a block.\n",
    "* `branch!(a,b)` creates a branch from the end of block `a` to the beginning\n",
    "  block `b`\n",
    "\n",
    "    \n",
    "</div>"
   ]
  },
  {
   "cell_type": "markdown",
   "id": "fd932b6c-33ae-4571-a4e5-c752c28ca061",
   "metadata": {},
   "source": [
    "<div class=\"alert alert-block alert-info\">\n",
    "<b>Solution</b>: </div>"
   ]
  },
  {
   "cell_type": "code",
   "execution_count": null,
   "id": "f80770f1-cc68-42ec-90b0-73962cf1fe21",
   "metadata": {},
   "outputs": [],
   "source": []
  },
  {
   "cell_type": "markdown",
   "id": "236e02b4-9a2d-4977-b470-88171138eec4",
   "metadata": {},
   "source": [
    "###"
   ]
  },
  {
   "cell_type": "markdown",
   "id": "cc97a814-5830-44cc-9b4f-8fc0b4d15cc1",
   "metadata": {},
   "source": [
    "The result should construct valid IR for our `g` function.\n"
   ]
  },
  {
   "cell_type": "code",
   "execution_count": null,
   "id": "5eca7345-6705-4269-b7a4-991a2385002e",
   "metadata": {},
   "outputs": [],
   "source": [
    "g(2)"
   ]
  },
  {
   "cell_type": "code",
   "execution_count": null,
   "id": "d19467c7-f02b-4bde-a2d5-a9ed536de2a9",
   "metadata": {},
   "outputs": [],
   "source": [
    "ir = @code_ir g(2)"
   ]
  },
  {
   "cell_type": "code",
   "execution_count": null,
   "id": "dd69708d-e82d-44cb-9f6a-8ddd74c89eed",
   "metadata": {},
   "outputs": [],
   "source": [
    "ir = skip(ir)"
   ]
  },
  {
   "cell_type": "code",
   "execution_count": null,
   "id": "14dd700e-a8d4-4566-ad42-fa919aa1e20c",
   "metadata": {},
   "outputs": [],
   "source": [
    "func(ir)(nothing,2)"
   ]
  },
  {
   "cell_type": "markdown",
   "id": "774ba00c-113c-4c28-a282-b85010233195",
   "metadata": {},
   "source": [
    "And it should not break when applying it to `f`."
   ]
  },
  {
   "cell_type": "code",
   "execution_count": null,
   "id": "e9c26e24-1ed4-4db0-b296-59c41dbb4f91",
   "metadata": {},
   "outputs": [],
   "source": [
    "f(2)"
   ]
  },
  {
   "cell_type": "code",
   "execution_count": null,
   "id": "0797f621-c1a8-479f-880a-e54d7253cd94",
   "metadata": {},
   "outputs": [],
   "source": [
    "ir = @code_ir f(2)"
   ]
  },
  {
   "cell_type": "code",
   "execution_count": null,
   "id": "e94c04b3-8baf-4cd7-9871-f37582930464",
   "metadata": {},
   "outputs": [],
   "source": [
    "ir = skip(ir)"
   ]
  },
  {
   "cell_type": "code",
   "execution_count": null,
   "id": "f24f64ce-be20-4d52-81d1-dd1f15e3bf16",
   "metadata": {},
   "outputs": [],
   "source": [
    "func(ir)(nothing,2)"
   ]
  },
  {
   "cell_type": "markdown",
   "id": "5ce0ee1a-07a0-4d94-9420-317208b4ef77",
   "metadata": {},
   "source": [
    "### Recursively Removing Argument Checks\n",
    "\n",
    "The last step to finalize the `skip` function is to make it work recursively.\n",
    "In the current version we can handle functions that contain `@mark` statements,\n",
    "but we are not going any deeper than that. Nested functions will not be touched:\n"
   ]
  },
  {
   "cell_type": "code",
   "execution_count": null,
   "id": "4edb662b-a532-48f8-8be9-361e0c52b5a1",
   "metadata": {},
   "outputs": [],
   "source": [
    "foo(x) = bar(baz(x))\n",
    "\n",
    "function bar(x)\n",
    "    @mark iseven(x) && println(\"The input is even.\")\n",
    "    x\n",
    "end\n",
    "\n",
    "function baz(x)\n",
    "    @mark x<0 && println(\"The input is negative.\")\n",
    "    x\n",
    "end"
   ]
  },
  {
   "cell_type": "code",
   "execution_count": null,
   "id": "2e8b2640-dc39-446d-bd19-138f9fbf235a",
   "metadata": {},
   "outputs": [],
   "source": [
    "ir = @code_ir foo(-2)"
   ]
  },
  {
   "cell_type": "code",
   "execution_count": null,
   "id": "9f45673e-e11e-4050-b86d-feafe2cefd7a",
   "metadata": {},
   "outputs": [],
   "source": [
    "ir = skip(ir)"
   ]
  },
  {
   "cell_type": "code",
   "execution_count": null,
   "id": "12ea9dbe-bae8-4eba-a802-8be802515062",
   "metadata": {},
   "outputs": [],
   "source": [
    "func(ir)(nothing,-2)"
   ]
  },
  {
   "cell_type": "markdown",
   "id": "52dd7a76-f6a0-43ed-b91f-0fcb0246e676",
   "metadata": {},
   "source": [
    "For recursion we will use the macro `IRTools.@dynamo` which will make recursion\n",
    "of our `skip` function a lot easier. Additionally, it will save us from all the\n",
    "`func(ir)(nothing, args...)` statements. To use `@dynamo` we have to slightly\n",
    "modify how we call `skip`:"
   ]
  },
  {
   "cell_type": "markdown",
   "id": "5b2d54b4-d276-4bf3-aa12-f1e6a555fb57",
   "metadata": {},
   "source": [
    "```julia\n",
    "@dynamo function skip(args...)\n",
    "    ir = IR(args...)\n",
    "    \n",
    "    # same code as before that modifies `ir`\n",
    "    # ...\n",
    "\n",
    "    return ir\n",
    "end\n",
    "\n",
    "# now we can call `skip` like this\n",
    "skip(f,2)\n",
    "```"
   ]
  },
  {
   "cell_type": "markdown",
   "id": "2250a895-a9e8-4636-ad7e-dae117c685fd",
   "metadata": {},
   "source": [
    "Now we can easily use `skip` in recursion, because we can just pass the\n",
    "arguments of an expression like this:"
   ]
  },
  {
   "cell_type": "markdown",
   "id": "18c93ee1-773f-4521-af14-fc9605972591",
   "metadata": {},
   "source": [
    "```julia\n",
    "using IRTools: xcall\n",
    "\n",
    "for (x,st) in ir\n",
    "    isexpr(st.expr,:call) || continue\n",
    "    ir[x] = xcall(skip, st.expr.args...)\n",
    "end\n",
    "```"
   ]
  },
  {
   "cell_type": "markdown",
   "id": "b5923eb4-d0c6-4f9c-9799-95643789cd8d",
   "metadata": {},
   "source": [
    "The function `xcall` will create an expression that calls `skip` with the given\n",
    "arguments and returns `Expr(:call, skip, args...)`.  Note that you can modify\n",
    "expressions of a given variable in the IR via `setindex!`."
   ]
  },
  {
   "cell_type": "markdown",
   "id": "6f3a32d8-5a60-4013-ab14-5eebc791c2d1",
   "metadata": {},
   "source": [
    "<div class=\"alert alert-block alert-success\">\n",
    "<b>Exercise:</b>\n",
    "\n",
    "Modify `skip` such that it uses `@dynamo` and apply it recursively to all\n",
    "`:call` expressions that you ecounter while looping over the given IR.\n",
    "This will dive all the way down to `Core.Builtin`s and `Core.IntrinsicFunction`s\n",
    "which you cannot maniuplate anymore (because they are written in C).\n",
    "You have to end the recursion at these places which can be done via multiple\n",
    "dispatch of `skip` on `Builtin`s and `IntrinsicFunction`s.\n",
    "\n",
    "Once you are done with this you can also define a macro such that you can\n",
    "conveniently call `@skip` with an expression:\n",
    "\n",
    "```julia\n",
    "skip(f,2)\n",
    "@skip f(2)\n",
    "```\n",
    "    \n",
    "</div>"
   ]
  },
  {
   "cell_type": "markdown",
   "id": "4cad7fdc-abce-4569-ba1a-9f120d9a3587",
   "metadata": {},
   "source": [
    "<div class=\"alert alert-block alert-info\">\n",
    "<b>Solution</b>: </div>"
   ]
  },
  {
   "cell_type": "code",
   "execution_count": null,
   "id": "657b74a1-e786-4645-8c60-c96637a863d8",
   "metadata": {},
   "outputs": [],
   "source": []
  },
  {
   "cell_type": "markdown",
   "id": "4d665686-01a8-48cb-9f83-2d4164d1033d",
   "metadata": {},
   "source": [
    "####"
   ]
  },
  {
   "cell_type": "code",
   "execution_count": null,
   "id": "be6008eb-382b-4e3a-b9b2-35e40c65f95d",
   "metadata": {},
   "outputs": [],
   "source": [
    "@code_ir foo(2)"
   ]
  },
  {
   "cell_type": "code",
   "execution_count": null,
   "id": "039980db-15ff-40eb-bae0-573efe82d99d",
   "metadata": {},
   "outputs": [],
   "source": [
    "@code_ir skip(foo,2)"
   ]
  },
  {
   "cell_type": "code",
   "execution_count": null,
   "id": "16e2083a-cba3-4611-9fca-d9e6e2ba1c65",
   "metadata": {},
   "outputs": [],
   "source": [
    "foo(-2)"
   ]
  },
  {
   "cell_type": "code",
   "execution_count": null,
   "id": "61c0923e-771e-403e-8c1a-a711f6ea06b1",
   "metadata": {},
   "outputs": [],
   "source": [
    "skip(foo,-2)"
   ]
  },
  {
   "cell_type": "code",
   "execution_count": null,
   "id": "c3bb9aca-9895-4cc0-9cbe-e9d53c1e4fb4",
   "metadata": {},
   "outputs": [],
   "source": [
    "@skip foo(-2)"
   ]
  },
  {
   "cell_type": "markdown",
   "id": "4e0e03f6-f2fa-4644-8d3c-a1432f390b24",
   "metadata": {},
   "source": [
    "## References\n",
    "\n",
    "* [Static matrices](https://wesselb.github.io/2020/12/13/julia-learning-circle-meeting-3.html) with `@generate`d functions blog post\n",
    "* [`OptionalArgChecks.jl`](https://github.com/simeonschaub/OptionalArgChecks.jl)\n",
    "* IRTools [Dynamo](https://fluxml.ai/IRTools.jl/latest/dynamo/)"
   ]
  }
 ],
 "metadata": {
  "kernelspec": {
   "display_name": "Julia 1.9.4",
   "language": "julia",
   "name": "julia-1.9"
  },
  "language_info": {
   "file_extension": ".jl",
   "mimetype": "application/julia",
   "name": "julia",
   "version": "1.9.4"
  }
 },
 "nbformat": 4,
 "nbformat_minor": 5
}
