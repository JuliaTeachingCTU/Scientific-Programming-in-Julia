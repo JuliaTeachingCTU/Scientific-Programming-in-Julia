{
 "cells": [
  {
   "cell_type": "code",
   "execution_count": null,
   "id": "69ce6630",
   "metadata": {},
   "outputs": [],
   "source": [
    "using Plots, AbstractTrees"
   ]
  },
  {
   "cell_type": "markdown",
   "id": "9953e4ad",
   "metadata": {},
   "source": [
    "# Lab 08 - Reverse Mode Differentiation"
   ]
  },
  {
   "cell_type": "markdown",
   "id": "9c612a8f",
   "metadata": {},
   "source": [
    "<img src=\"gd-path.gif\" width=\"900\" align=\"center\">"
   ]
  },
  {
   "cell_type": "markdown",
   "id": "ded418f2",
   "metadata": {},
   "source": [
    "In the lecture you have seen how to implement *forward-mode* automatic\n",
    "differentiation (AD). Assume you want to find the derivative $\\frac{df}{dx}$ of\n",
    "the function $f:\\mathbb R^2 \\rightarrow \\mathbb R$"
   ]
  },
  {
   "cell_type": "markdown",
   "id": "a6793eb0",
   "metadata": {},
   "source": [
    "```julia\n",
    "f(x,y) = x*y + sin(x)\n",
    "```"
   ]
  },
  {
   "cell_type": "markdown",
   "id": "34ad5899",
   "metadata": {},
   "source": [
    "If we have rules for `*`, `+`, and `sin` we could simply *seed* the function with\n",
    "`Dual(x,one(x))` and read out the derivative $\\frac{df}{dx}$ from the `Dual` that is returned\n",
    "by `f`. If we are also interested in the derivative $\\frac{df}{dy}$ we will have\n",
    "to run `f` again, this time seeding the second argument with `Dual(y,one(y))`.\n",
    "Hence, we have to evaluate `f` *twice* if we want derivatives w.r.t to both its\n",
    "arguments which means that forward differentiation scales as $O(N)$ where $N$ is\n",
    "the number of inputs to `f`.\n"
   ]
  },
  {
   "cell_type": "markdown",
   "id": "adbd3ed1",
   "metadata": {},
   "source": [
    "```julia\n",
    "dfdx = f(Dual(x,one(x)), Dual(y,zero(y)))\n",
    "dfdy = f(Dual(x,zero(x)), Dual(y,one(y)))\n",
    "```"
   ]
  },
  {
   "cell_type": "markdown",
   "id": "98898a82",
   "metadata": {},
   "source": [
    "*Reverse-mode* AD can compute gradients of functions with many inputs and one\n",
    "output in one go. This is great because very often we want to optimize loss\n",
    "functions which are exactly that: Functions with many input variables and one\n",
    "loss output.\n",
    "\n",
    "## Reverse Mode AD\n",
    "\n",
    "With functions $f:\\mathbb R^N\\rightarrow\\mathbb R^M$ and $g:\\mathbb\n",
    "R^L\\rightarrow \\mathbb R^N$ with an input vector $x$ we can define the\n",
    "composition of $f$ and $g$ as\n",
    "\n",
    "\\begin{equation}\n",
    "z = (f \\circ g)(x), \\qquad \\text{where} \\qquad y=g(x), \\qquad z = f(y).\n",
    "\\end{equation}\n",
    "\n",
    "The multivariate chainrule reads\n",
    "\n",
    "\\begin{equation}\n",
    "\\left.\\frac{\\partial z_i}{\\partial x_j}\\right|_{x} =\n",
    "    \\sum_{k=1}^N \\left.\\frac{\\partial z_i}{\\partial y_k}\\right|_{y}\n",
    "                 \\left.\\frac{\\partial y_k}{\\partial x_i}\\right|_{x}\n",
    "\\end{equation}\n",
    "\n",
    "If you want to read about where this comes from you can check\n",
    "[here](https://math.stackexchange.com/questions/3785018/intuitive-proof-of-the-multivariable-chain-rule)\n",
    "or [here](https://people.math.harvard.edu/~shlomo/docs/Advanced_Calculus.pdf).\n",
    "It is essentially one row of the *Jacobian matrix* $J$.\n",
    "Note that in order to compute the derivative we always have to know the input\n",
    "to the respective function, because we can only compute the derivative *at a specific point*\n",
    "(denoted by the $|_x$ $_{}$ notation).  For our example\n",
    "\n",
    "\\begin{equation}\n",
    "z = f(x,y) = xy + \\sin(x)\n",
    "\\end{equation}\n",
    "\n",
    "with the sub-functions $g(x,y)=xy$ and $h(x)=\\sin(x)$ we get\n",
    "\n",
    "\\begin{equation}\n",
    "\\left.{\\frac {df}{dx}}\\right|_{x,y}\n",
    "    = \\left.{\\frac {df}{dg}}\\right|_{g(x,y)}\\cdot \\left.{\\frac {dg}{dx}}\\right|_{x,y}\n",
    "    + \\left.{\\frac {df}{dh}}\\right|_{h(x)}\\cdot \\left.{\\frac {dh}{dx}}\\right|_{x}\n",
    "    = 1 \\cdot y |_{y} + 1\\cdot\\cos(x)|_{x}.\n",
    "\\end{equation}\n",
    "\n",
    "You can see that, in order to implement reverse-mode AD we have to trace and\n",
    "remember all inputs to our intermediate functions during the forward pass such\n",
    "that we can compute their gradients during the backward pass. The simplest way\n",
    "of doing this is by dynamically building a computation graph which tracks how\n",
    "each input variable affects its output variables. The graph below represents\n",
    "the computation of our function `f`.\n",
    "```julia\n",
    "z = x*y + sin(x)\n",
    "\n",
    "# as a Wengert list   # Partial derivatives\n",
    "a = x*y               # da/dx = y;     da/dy = x\n",
    "b = sin(x)            # db/dx = cos(x)\n",
    "z = a + b             # dz/da = 1;     dz/db = 1\n",
    "```"
   ]
  },
  {
   "cell_type": "markdown",
   "id": "a5656811",
   "metadata": {},
   "source": [
    "<img src=\"graph.png\" align=\"center\">"
   ]
  },
  {
   "cell_type": "markdown",
   "id": "98120ecb",
   "metadata": {},
   "source": [
    "In the graph you can see that the variable `x` can directly affect `b` and `a`.\n",
    "Hence, `x` has two children `a` and `b`.  During the forward pass we build the\n",
    "graph, keeping track of which input affects which output. Additionally we\n",
    "include the corresponding local derivatives (which we can already compute).\n",
    "To implement a dynamically built graph we can introduce a new number type\n",
    "`TrackedReal` which has three fields:\n",
    "* `data` contains the value of this node in the computation graph as obtained\n",
    "  in the forward pass.\n",
    "* `grad` is initialized to `nothing` and will later hold the accumulated gradients (the sum in the multivariate chain rule)\n",
    "* `children` is a `Dict` that keeps track which output variables are affected\n",
    "  by the current node and also stores the corresponding local derivatives\n",
    "  $\\frac{\\partial f}{\\partial g_k}$.\n"
   ]
  },
  {
   "cell_type": "code",
   "execution_count": null,
   "id": "7f955b42",
   "metadata": {},
   "outputs": [],
   "source": [
    "# TrackedReal\n",
    "mutable struct TrackedReal{T<:Real}\n",
    "    data::T\n",
    "    grad::Union{Nothing, T}\n",
    "    children::Dict\n",
    "    name::String\n",
    "end\n",
    "\n",
    "# track()\n",
    "track(x::Real, name=\"\") = TrackedReal(x, nothing, Dict(), name)\n",
    "\n",
    "# show(io, x)\n",
    "function Base.show(io::IO, x::TrackedReal)\n",
    "    t = isempty(x.name) ? \"(tracked)\" : \"(tracked $(x.name))\"\n",
    "    print(io, \"$(x.data) $t\")\n",
    "end\n"
   ]
  },
  {
   "cell_type": "markdown",
   "id": "6ebdae8f",
   "metadata": {
    "tags": []
   },
   "source": [
    "The backward pass is nothing more than the application of the chainrule. To\n",
    "compute the derivative. Assuming we know how to compute the *local derivatives*\n",
    "$\\frac{\\partial f}{\\partial g_k}$ for simple functions\n",
    "such as `+`, `*`, and `sin`, we can write a simple function that implements\n",
    "the gradient accumulation from above via the chainrule\n",
    "        \n",
    "\\begin{equation}\n",
    "\\left.\\frac{\\partial f}{\\partial x_i}\\right|_{x} =\n",
    "    \\sum_{k=1}^N \\left.\\frac{\\partial f}{\\partial g_k}\\right|_{g(x)}\n",
    "                 \\left.\\frac{\\partial g_k}{\\partial x_i}\\right|_{x}.\n",
    "\\end{equation}\n",
    "        \n",
    "We just have to loop over all children, collect the local derivatives, and\n",
    "recurse:"
   ]
  },
  {
   "cell_type": "code",
   "execution_count": null,
   "id": "f04a502b",
   "metadata": {},
   "outputs": [],
   "source": [
    "# accum! function\n",
    "function accum!(x::TrackedReal)\n",
    "    if isnothing(x.grad)\n",
    "        x.grad = sum(w*accum!(v) for (v,w) in x.children)\n",
    "    end\n",
    "    x.grad\n",
    "end"
   ]
  },
  {
   "cell_type": "markdown",
   "id": "603cdeba-d3b5-40e6-849a-90ce9e74108f",
   "metadata": {},
   "source": [
    "where `w` corresponds to $\\frac{\\partial f}{\\partial g_k}$ and `accum!(v)` corresponds\n",
    "to $\\frac{\\partial g_k}{\\partial x_i}$. At this point we have already implemented\n",
    "the core functionality of our first reverse-mode AD! The only thing left to do\n",
    "is implement the reverse rules for basic functions.  Via recursion the\n",
    "chainrule is applied until we arrive at the final output `z`.  This final\n",
    "output has to be seeded (just like with forward-mode) with $\\frac{\\partial\n",
    "z}{\\partial z}=1$.\n",
    "\n",
    "\n",
    "### Writing Reverse Rules\n",
    "\n",
    "Lets start by overloading the three functions `+`, `*`, and `sin` that we need\n",
    "to build our computation graph. First, we have to track the forward computation\n",
    "and then we *register* the output `z` as a child of its inputs by using `z`\n",
    "as a key in the dictionary of children. The corresponding value holds the \n",
    "derivatives, in the case of multiplication case we simply have\n",
    "\\begin{equation}\n",
    "z = a \\cdot b\n",
    "\\end{equation}\n",
    "for which the derivatives are\n",
    "\\begin{equation}\n",
    "\\frac{\\partial z}{\\partial a}=b, \\qquad\n",
    "\\frac{\\partial z}{\\partial b}=a.\n",
    "\\end{equation}\n",
    "Knowing the derivatives of `*` at a given point we can write our reverse rule"
   ]
  },
  {
   "cell_type": "code",
   "execution_count": null,
   "id": "33f091aa",
   "metadata": {},
   "outputs": [],
   "source": [
    "# multiplication\n",
    "function Base.:*(a::TrackedReal, b::TrackedReal)\n",
    "    z = track(a.data*b.data, \"*\")\n",
    "    a.children[z] = b.data\n",
    "    b.children[z] = a.data\n",
    "    return z\n",
    "end\n"
   ]
  },
  {
   "cell_type": "code",
   "execution_count": null,
   "id": "608dbfe9",
   "metadata": {},
   "outputs": [],
   "source": [
    "function Base.:*(a::TrackedReal, b::TrackedReal)\n",
    "    z = track(a.data * b.data, \"*\")\n",
    "    a.children[z] = b.data  # dz/da=b\n",
    "    b.children[z] = a.data  # dz/db=a\n",
    "    z\n",
    "end"
   ]
  },
  {
   "cell_type": "markdown",
   "id": "985ee104-6ec8-4f52-8ece-9d1dc41c5642",
   "metadata": {
    "tags": []
   },
   "source": [
    "Creating two tracked numbers and adding them results in"
   ]
  },
  {
   "cell_type": "code",
   "execution_count": null,
   "id": "e047d913",
   "metadata": {},
   "outputs": [],
   "source": [
    "x = track(2.0)"
   ]
  },
  {
   "cell_type": "code",
   "execution_count": null,
   "id": "739952b7",
   "metadata": {},
   "outputs": [],
   "source": [
    "y = track(3.0)"
   ]
  },
  {
   "cell_type": "code",
   "execution_count": null,
   "id": "71d03057",
   "metadata": {},
   "outputs": [],
   "source": [
    "z = x*y"
   ]
  },
  {
   "cell_type": "code",
   "execution_count": null,
   "id": "a378530b",
   "metadata": {},
   "outputs": [],
   "source": [
    "x.children"
   ]
  },
  {
   "cell_type": "code",
   "execution_count": null,
   "id": "e679e9b2",
   "metadata": {},
   "outputs": [],
   "source": [
    "y.children"
   ]
  },
  {
   "cell_type": "markdown",
   "id": "04c8a0fd-0abe-4a3c-8979-3830830c6090",
   "metadata": {
    "tags": []
   },
   "source": [
    "<div class=\"alert alert-block alert-success\">\n",
    "<b>Exercise:</b> \n",
    "    \n",
    "Implement the two remaining rules for `+` and `sin` by overloading the\n",
    "appropriate methods like we did for `*`. First you have to compute the tracked\n",
    "forward pass, and then register the local derivatives in the children of your\n",
    "input variables.  Remember to return the tracked result of the forward pass in\n",
    "the end.\n",
    "    \n",
    "</div>"
   ]
  },
  {
   "cell_type": "code",
   "execution_count": null,
   "id": "9822d9f9-c169-409a-b3ff-d30f137cd3c1",
   "metadata": {},
   "outputs": [],
   "source": [
    "# addition\n",
    "\n",
    "\n",
    "# sin\n",
    "\n"
   ]
  },
  {
   "cell_type": "code",
   "execution_count": null,
   "id": "9bc9595a-80f5-4dd7-a408-00fb339a1218",
   "metadata": {},
   "outputs": [],
   "source": [
    "function Base.:+(a::TrackedReal{T}, b::TrackedReal{T}) where T\n",
    "    z = track(a.data + b.data, \"+\")\n",
    "    a.children[z] = one(T)\n",
    "    b.children[z] = one(T)\n",
    "    z\n",
    "end\n",
    "\n",
    "function Base.sin(x::TrackedReal)\n",
    "    z = track(sin(x.data), \"sin\")\n",
    "    x.children[z] = cos(x.data)\n",
    "    z\n",
    "end"
   ]
  },
  {
   "cell_type": "markdown",
   "id": "9c810d8c-360b-4438-870e-7095c303d26b",
   "metadata": {
    "tags": []
   },
   "source": [
    "## Forward & Backward Pass\n",
    "\n",
    "To visualize that with reverse-mode AD we really do save computation we can\n",
    "visualize the computation graph at different stages. We start with the forward\n",
    "pass and keep observing `x`"
   ]
  },
  {
   "cell_type": "markdown",
   "id": "829d77a8-6321-497b-b124-42db650ee065",
   "metadata": {
    "tags": []
   },
   "source": [
    "#### Overload AbstractTrees (to get nice printout)\n",
    "\n",
    "\n",
    "\"x data: 2.0 grad: nothing\"\\\n",
    "└─ \"* data: 6.0 grad: nothing\"\n",
    "\n",
    "1) children\n",
    "2) nodevalue X printnode"
   ]
  },
  {
   "cell_type": "code",
   "execution_count": null,
   "id": "2bd98e41-22bc-4144-8ed1-18458206bb7b",
   "metadata": {},
   "outputs": [],
   "source": [
    "# children\n",
    "\n",
    "# printnode"
   ]
  },
  {
   "cell_type": "code",
   "execution_count": null,
   "id": "0dce3a10-4b1b-4389-85ca-80515807a49c",
   "metadata": {},
   "outputs": [],
   "source": []
  },
  {
   "cell_type": "code",
   "execution_count": null,
   "id": "de9e9dd7-8bd6-493c-8be3-a8e440f58ca8",
   "metadata": {},
   "outputs": [],
   "source": [
    "x = track(2.0, \"x\")"
   ]
  },
  {
   "cell_type": "code",
   "execution_count": null,
   "id": "2912cc86-5c64-4e5d-9db3-74a738a997d8",
   "metadata": {},
   "outputs": [],
   "source": [
    "y = track(3.0, \"y\")"
   ]
  },
  {
   "cell_type": "code",
   "execution_count": null,
   "id": "2135fc0f-85a6-4517-b1aa-89f3b9db2f31",
   "metadata": {},
   "outputs": [],
   "source": [
    "a = x*y"
   ]
  },
  {
   "cell_type": "code",
   "execution_count": null,
   "id": "811475ff-253a-423a-8e2b-de171cc64e06",
   "metadata": {},
   "outputs": [],
   "source": [
    "print_tree(x)"
   ]
  },
  {
   "cell_type": "markdown",
   "id": "96726086-2b22-4d28-9039-79d4bcac5b99",
   "metadata": {},
   "source": [
    "We can see that we `x` now has one child `a` which has the value `2.0*3.0==6.0`. All the\n",
    "gradients are still `nothing`. Computing another value that depends on `x`\n",
    "will add another child."
   ]
  },
  {
   "cell_type": "code",
   "execution_count": null,
   "id": "62f87461-4d82-4cbe-89cb-65ba5ed55bc8",
   "metadata": {},
   "outputs": [],
   "source": [
    "b = sin(x)"
   ]
  },
  {
   "cell_type": "code",
   "execution_count": null,
   "id": "fb8c9f7f-5fb1-46f0-ac35-2dfb6858eff3",
   "metadata": {},
   "outputs": [],
   "source": [
    "print_tree(x)"
   ]
  },
  {
   "cell_type": "markdown",
   "id": "99339c35-e570-45c5-958f-13a6ac1a9ebe",
   "metadata": {},
   "source": [
    "In the final step we compute `z` which does not mutate the children of `x`\n",
    "because it does not depend directly on it. The result `z` is added as a child\n",
    "to both `a` and `b`."
   ]
  },
  {
   "cell_type": "code",
   "execution_count": null,
   "id": "192674ba-afb6-4e8a-a4a7-b93981a454c9",
   "metadata": {},
   "outputs": [],
   "source": [
    "z = a + b"
   ]
  },
  {
   "cell_type": "code",
   "execution_count": null,
   "id": "12de427c-11c3-4cb8-b5e7-3c51f69dd890",
   "metadata": {},
   "outputs": [],
   "source": [
    "print_tree(x)"
   ]
  },
  {
   "cell_type": "markdown",
   "id": "a113d5de-2c99-472e-94d5-0d51493d1dca",
   "metadata": {},
   "source": [
    "For the backward pass we have to seed the initial gradient value of `z` and\n",
    "call `accum!` on the variable that we are interested in."
   ]
  },
  {
   "cell_type": "code",
   "execution_count": null,
   "id": "1451f239-0c97-4600-b881-a76effde2396",
   "metadata": {},
   "outputs": [],
   "source": [
    "z.grad = 1"
   ]
  },
  {
   "cell_type": "code",
   "execution_count": null,
   "id": "e33007e1-9f51-4f90-9dc9-6a5a0990c59b",
   "metadata": {},
   "outputs": [],
   "source": [
    "dx = accum!(x)"
   ]
  },
  {
   "cell_type": "code",
   "execution_count": null,
   "id": "16e58b1d-d168-4b49-9e63-0c862edf47d0",
   "metadata": {},
   "outputs": [],
   "source": [
    "dx ≈ y.data + cos(x.data)"
   ]
  },
  {
   "cell_type": "markdown",
   "id": "fe0eeb7c-239b-4050-90b5-5e7dfe61e2bb",
   "metadata": {},
   "source": [
    "By accumulating the gradients for `x`, the gradients in the sub-tree connected\n",
    "to `x` will be evaluated. The parts of the tree that are only connected to `y`\n",
    "stay untouched."
   ]
  },
  {
   "cell_type": "code",
   "execution_count": null,
   "id": "ecd6ceaa-fe3a-487c-8a87-d5e9553c4dc9",
   "metadata": {},
   "outputs": [],
   "source": [
    "print_tree(x)"
   ]
  },
  {
   "cell_type": "code",
   "execution_count": null,
   "id": "436b7f42-865a-4109-ab10-c4dd422dab8a",
   "metadata": {},
   "outputs": [],
   "source": [
    "print_tree(y)"
   ]
  },
  {
   "cell_type": "markdown",
   "id": "87ae53f3-e827-4743-8f49-798d8d160f5e",
   "metadata": {},
   "source": [
    "If we now accumulate the gradients over `y` we re-use the gradients that are already\n",
    "computed. In larger computations this will save us *a lot* of effort!\n",
    "\n",
    "!!! info : \n",
    "    This also means that we have to re-build the graph for every new set of inputs!\n"
   ]
  },
  {
   "cell_type": "markdown",
   "id": "06aa4f42-389a-49a1-846d-9b88e6ac5599",
   "metadata": {},
   "source": [
    "##  Optimizing 2D Functions\n"
   ]
  },
  {
   "cell_type": "markdown",
   "id": "b7522cdf-9e77-4f69-a28f-3b25e2b39df2",
   "metadata": {},
   "source": [
    "<div class=\"alert alert-block alert-success\">\n",
    "<b>Exercise:</b> \n",
    "    \n",
    "Implement a function `gradient(f, args::Real...)` which takes a function `f`\n",
    "and its corresponding arguments (as `Real` numbers) and outputs the corresponding\n",
    "gradients\n",
    "    \n",
    "</div>\n",
    "\n"
   ]
  },
  {
   "cell_type": "code",
   "execution_count": null,
   "id": "fd872874-dc9d-49b5-b699-980976d263db",
   "metadata": {},
   "outputs": [],
   "source": [
    "# gradient\n"
   ]
  },
  {
   "cell_type": "code",
   "execution_count": null,
   "id": "0ce87648-6b70-4b78-a50d-731bb036c78c",
   "metadata": {},
   "outputs": [],
   "source": [
    "f(x,y) = x*y + sin(x)"
   ]
  },
  {
   "cell_type": "code",
   "execution_count": null,
   "id": "10870783-7296-4c05-8f0a-dad26d8bf46a",
   "metadata": {},
   "outputs": [],
   "source": [
    "gradient(f, 2.0, 3.0)"
   ]
  },
  {
   "cell_type": "markdown",
   "id": "2ec9f0be-dad2-4b49-b7da-0d596d20b0d5",
   "metadata": {},
   "source": [
    "As an example we can find a local minimum of the function `g` (slightly\n",
    "modified to show you that we can now actually do *automatic* differentiation)."
   ]
  },
  {
   "cell_type": "code",
   "execution_count": null,
   "id": "351a236b-0576-41ee-97cb-3234901bd3ce",
   "metadata": {},
   "outputs": [],
   "source": [
    "g(x,y) = y*y + sin(x)\n",
    "\n",
    "color_scheme = cgrad(:RdYlBu_5, rev=true)\n",
    "contour(-4:0.1:4, -2:0.1:2, g, fill=true, c=color_scheme, xlabel=\"x\", ylabel=\"y\")"
   ]
  },
  {
   "cell_type": "markdown",
   "id": "50f70cd8-0c01-48fb-98f2-d29e76e25014",
   "metadata": {},
   "source": [
    "We can find a local minimum of $g$ by starting at an initial point $(x_0,y_0)$\n",
    "and taking small steps in the opposite direction of the gradient\n",
    "\n",
    "\\begin{align}\n",
    "x_{i+1} &= x_i - \\lambda \\frac{\\partial f}{\\partial x_i} \\\\\n",
    "y_{i+1} &= y_i - \\lambda \\frac{\\partial f}{\\partial y_i},\n",
    "\\end{align}\n",
    "\n",
    "where $\\lambda$ is the learning rate that has to be tuned manually.\n",
    "\n",
    "<div class=\"alert alert-block alert-success\">\n",
    "<b>Exercise:</b> \n",
    "    \n",
    "Implement a function `descend` performs one step of Gradient Descent (GD) on a\n",
    "function `f` with an arbitrary number of inputs. For GD you also have to\n",
    "specify the learning rate $\\lambda$ so the function signature should look like\n",
    "this \n",
    "    \n",
    "```julia\n",
    "descend(f::Function, λ::Real, args::Real...)\n",
    "```\n",
    "</div>\n"
   ]
  },
  {
   "cell_type": "code",
   "execution_count": null,
   "id": "da624fda-3ca2-46d9-913b-9490640622a6",
   "metadata": {},
   "outputs": [],
   "source": [
    "# descend\n",
    "\n"
   ]
  },
  {
   "cell_type": "code",
   "execution_count": null,
   "id": "1f2d364c-f8f7-4696-8124-11ad265f9cbd",
   "metadata": {},
   "outputs": [],
   "source": [
    "function descend(f::Function, λ::Real, args::Real...)\n",
    "    Δargs = gradient(f, args...)\n",
    "    args .- λ .* Δargs\n",
    "end"
   ]
  },
  {
   "cell_type": "markdown",
   "id": "4c65a260-3126-4664-ba22-08078e683754",
   "metadata": {},
   "source": [
    "Running one `descend` step should result in two new inputs with a smaller output"
   ]
  },
  {
   "cell_type": "code",
   "execution_count": null,
   "id": "3cb01089-1171-4365-85ac-41cffed1fed3",
   "metadata": {},
   "outputs": [],
   "source": [
    "g(1.0,1.0)"
   ]
  },
  {
   "cell_type": "code",
   "execution_count": null,
   "id": "edb2a417-3824-46d8-a2f9-c6b3228f663a",
   "metadata": {},
   "outputs": [],
   "source": [
    "(x,y) = descend(g, 0.2, 1.0, 1.0)"
   ]
  },
  {
   "cell_type": "code",
   "execution_count": null,
   "id": "ea229bca-c8aa-4c84-8b36-e83d64f677e0",
   "metadata": {},
   "outputs": [],
   "source": [
    "g(x,y)"
   ]
  },
  {
   "cell_type": "markdown",
   "id": "d44b8d28-7927-4d9c-9a1c-aa54b0ec3885",
   "metadata": {},
   "source": [
    "You can `minimize` a `g` starting from an initial value. Below is a code\n",
    "snippet that performs a number of `descend` steps on two different initial\n",
    "points and creates an animation of each step of the GD algorithm."
   ]
  },
  {
   "cell_type": "code",
   "execution_count": null,
   "id": "a01c2e1b-3066-46f7-963f-ea1290fffe35",
   "metadata": {},
   "outputs": [],
   "source": [
    "function minimize(f::Function, args::T...; niters=20, λ=0.01) where T<:Real\n",
    "    paths = ntuple(_->Vector{T}(undef,niters), length(args))\n",
    "    for i in 1:niters\n",
    "        args = descend(f, λ, args...)\n",
    "        #@info f(args...)\n",
    "        for j in 1:length(args)\n",
    "            paths[j][i] = args[j]\n",
    "        end\n",
    "    end\n",
    "    paths\n",
    "end\n",
    "\n",
    "xs1, ys1 = minimize(g, 1.5, -2.4, λ=0.2, niters=34)#1.5\n",
    "xs2, ys2 = minimize(g, 1.8, -2.4, λ=0.2, niters=16)\n",
    "\n",
    "p1 = contour(-4:0.1:4, -2:0.1:2, g, fill=true, c=color_scheme, xlabel=\"x\", ylabel=\"y\")\n",
    "scatter!(p1, [xs1[1]], [ys1[1]], mc=:red, marker=:star, ms=7, label=\"Minimum\")\n",
    "scatter!(p1, [xs2[1]], [ys2[1]], mc=:red, marker=:star, ms=7, label=false)\n",
    "scatter!(p1, [-π/2], [0], mc=:black, marker=:star, ms=7, label=\"Initial Point\")\n",
    "scatter!(p1, xs1[1:1], ys1[1:1], mc=:black, label=\"GD Path\", xlims=(-4,4), ylims=(-2,2))\n",
    "\n",
    "@gif for i in 1:max(length(xs1), length(xs2))\n",
    "    if i <= length(xs1)\n",
    "        scatter!(p1, xs1[1:i], ys1[1:i], mc=:black, lw=3, xlims=(-4,4), ylims=(-2,2), label=false)\n",
    "    end\n",
    "    if i <= length(xs2)\n",
    "        scatter!(p1, xs2[1:i], ys2[1:i], mc=:black, lw=3, label=false)\n",
    "    end\n",
    "    p1\n",
    "end"
   ]
  },
  {
   "cell_type": "markdown",
   "id": "8a835d18-9944-421e-9dc7-f80e2fbf869b",
   "metadata": {},
   "source": [
    "At this point you can move to the [homework](@ref hw08) of this lab.  If you want to\n",
    "know how to generalize this simple reverse AD to work with functions that\n",
    "operate on `Array`s, feel free to continue with the remaining **volutary part\n",
    "of the lab**."
   ]
  },
  {
   "cell_type": "markdown",
   "id": "c2346120-7816-45d4-a71c-5839705fe70d",
   "metadata": {},
   "source": [
    "## Naively Vectorized Reverse AD\n",
    "\n",
    "A naive solution to use our `TrackedReal` number type to differentiate\n",
    "functions that operate on vectors is to just use `Array{<:TrackedReal}`.\n",
    "Unfortunately, this means that we have to replace the fast BLAS matrix\n",
    "operations with our own matrix multiplication methods that know how to deal\n",
    "with `TrackedReal`s.  This results in large performance hits and your task\n",
    "during the rest of the lab is to implement a smarter solution to this problem."
   ]
  },
  {
   "cell_type": "code",
   "execution_count": null,
   "id": "a3677451-7c6e-4dc9-ba50-eb299fc52d76",
   "metadata": {},
   "outputs": [],
   "source": [
    "using LinearAlgebra\n",
    "\n",
    "Base.zero(::TrackedReal{T}) where T = TrackedReal(zero(T))\n",
    "LinearAlgebra.adjoint(x::TrackedReal) = x\n",
    "track(x::Array) = track.(x)\n",
    "accum!(xs::Array{<:TrackedReal}) = accum!.(xs)\n",
    "\n",
    "const VecTracked = AbstractVector{<:TrackedReal}\n",
    "const MatTracked = AbstractMatrix{<:TrackedReal}\n",
    "\n",
    "LinearAlgebra.dot(xs::VecTracked, ys::VecTracked) = mapreduce(*, +, xs, ys)\n",
    "Base.:*(X::MatTracked, y::VecTracked) = map(x->dot(x,y), eachrow(X))\n",
    "Base.:*(X::MatTracked, Y::MatTracked) = mapreduce(y->X*y, hcat, eachcol(Y))\n",
    "Base.sum(xs::AbstractArray{<:TrackedReal}) = reduce(+,xs)\n",
    "\n",
    "function reset!(x::TrackedReal)\n",
    "    x.grad = nothing\n",
    "    reset!.(keys(x.children))\n",
    "    x.children = Dict()\n",
    "end\n",
    "\n",
    "X = rand(2,3)\n",
    "Y = rand(3,2)\n",
    "\n",
    "function run()\n",
    "    Xv = track(X)\n",
    "    Yv = track(Y)\n",
    "    z = sum(Xv * Yv)\n",
    "    z.grad = 1.0\n",
    "    accum!(Yv)\n",
    "end"
   ]
  },
  {
   "cell_type": "code",
   "execution_count": null,
   "id": "61bf3651-d657-422c-8582-f7de5d6c4ee6",
   "metadata": {},
   "outputs": [],
   "source": [
    "using BenchmarkTools\n",
    "@benchmark run()"
   ]
  },
  {
   "cell_type": "markdown",
   "id": "2f5295d2-4dd1-47ac-9afd-66faa60d7bf1",
   "metadata": {},
   "source": [
    "## Reverse AD with `TrackedArray`s\n",
    "\n",
    "To make use of the much faster BLAS methods we have to implement a custom array\n",
    "type which will offload the heavy matrix multiplications to the normal matrix\n",
    "methods.  Start with a **fresh REPL** and possibly a **new file** that only\n",
    "contains the definition of our `TrackedReal`:"
   ]
  },
  {
   "cell_type": "markdown",
   "id": "e49c7f14-6651-4047-8cff-884192b86af4",
   "metadata": {},
   "source": [
    "```julia\n",
    "mutable struct TrackedReal{T<:Real}\n",
    "    data::T\n",
    "    grad::Union{Nothing,T}\n",
    "    children::Dict\n",
    "end\n",
    "\n",
    "track(x::Real) = TrackedReal(x, nothing, Dict())\n",
    "```"
   ]
  },
  {
   "cell_type": "markdown",
   "id": "0940aa19-2273-4429-98e3-ee4429b551d4",
   "metadata": {},
   "source": [
    "<div class=\"alert alert-block alert-success\">\n",
    "<b>Exercise:</b> \n",
    "\n",
    "Define a new `TrackedArray` type which subtypes and `AbstractArray{T,N}` and contains\n",
    "the three fields: `data`, `grad`, and `children`. Which type should `grad` have?\n",
    "\n",
    "Additionally define `track(x::Array)`, and forward `size`, `length`, and `eltype`\n",
    "to `x.data` (maybe via metaprogrammming? ;).\n",
    "    \n",
    "</div>\n",
    "\n"
   ]
  },
  {
   "cell_type": "code",
   "execution_count": null,
   "id": "cc117c8d-9259-4cbf-b793-bd8807c58693",
   "metadata": {},
   "outputs": [],
   "source": [
    "# TrackedArray\n",
    "\n",
    "\n",
    "# track (Array->TrackedArray etc)\n",
    "\n",
    "\n",
    "# size, length, eltype\n",
    "\n",
    "\n",
    "# getindex\n",
    "\n",
    "\n",
    "# show\n",
    "\n",
    "\n",
    "# print_array\n",
    "\n",
    "\n"
   ]
  },
  {
   "cell_type": "markdown",
   "id": "cc096077-6b09-44be-b341-67b3dc7327df",
   "metadata": {},
   "source": [
    "Creating a `TrackedArray` should work like this:"
   ]
  },
  {
   "cell_type": "code",
   "execution_count": null,
   "id": "269912ce-378b-48e4-8097-fadcf1e45d91",
   "metadata": {},
   "outputs": [],
   "source": [
    "track(rand(2,2))"
   ]
  },
  {
   "cell_type": "code",
   "execution_count": null,
   "id": "6b49f66f-a3f7-4f24-bc2c-af0fae46b25d",
   "metadata": {},
   "outputs": [],
   "source": [
    "function accum!(x::Union{TrackedReal,TrackedArray})\n",
    "    if isnothing(x.grad)\n",
    "        x.grad = sum(λ(accum!(Δ)) for (Δ,λ) in x.children)\n",
    "    end\n",
    "    x.grad\n",
    "end"
   ]
  },
  {
   "cell_type": "code",
   "execution_count": null,
   "id": "eecd9d73-4449-4b60-9213-a1b6d1421ddd",
   "metadata": {},
   "outputs": [],
   "source": [
    "methods(accum!)"
   ]
  },
  {
   "cell_type": "markdown",
   "id": "f3729532-f16c-4b62-8e43-9f265fce737b",
   "metadata": {},
   "source": [
    "To implement the first rule for `*` i.e. matrix multiplication we would first\n",
    "have to derive it. In the case of general matrix multiplication (which is a function\n",
    "$(R^{N\\times M}, R^{M\\times L}) \\rightarrow R^{N\\times L}$) we are not dealing\n",
    "with simple derivatives anymore, but with a so-called *pullback* which takes a\n",
    "*wobble* in the output space $R^{N\\times L}$  and returns a *wiggle* in the input space\n",
    "(either $R^{N\\times M}$ or $R^{M\\times L}$).\n",
    "\n",
    "Luckily\n",
    "[`ChainRules.jl`](https://juliadiff.org/ChainRulesCore.jl/dev/arrays.html) has\n",
    "a nice guide on how to derive array rules, so we will only state the solution\n",
    "for the reverse rule such that you can implement it. They read:\n",
    "\n",
    "\\begin{equation}\n",
    "\\bar A = \\bar\\Omega B^T, \\qquad \\bar B = A^T\\bar\\Omega\n",
    "\\end{equation}\n",
    "\n",
    "Where $\\bar\\Omega$ is the given output *wobble*, which in the simplest case can\n",
    "be the seeded value of the final node. The crucial problem to note here is that\n",
    "the two rules rely in $\\bar\\Omega$ being multiplied *from different sides*.\n",
    "This information would be lost if would just store $B^T$ as the pullback for\n",
    "$A$.  Hence we will store our pullbacks as closures:\n",
    "\n",
    "```julia\n",
    "Ω̄ -> Ω̄  * B'\n",
    "Ω̄ -> A' * Ω̄\n",
    "```\n",
    "\n",
    "<div class=\"alert alert-block alert-success\">\n",
    "<b>Exercise:</b> \n",
    "\n",
    "Define the pullback for matrix multiplication i.e. `Base.:*(A::TrackedArray,B::TrackedArray)`\n",
    "by computing the primal and storing the partials as closures.\n",
    "    \n",
    "</div>\n"
   ]
  },
  {
   "cell_type": "code",
   "execution_count": null,
   "id": "e13b2357-062b-49cd-809a-df07dcf37723",
   "metadata": {},
   "outputs": [],
   "source": [
    "# multiplication (Array*Array)\n",
    "\n"
   ]
  },
  {
   "cell_type": "code",
   "execution_count": null,
   "id": "de0c242e-139e-4764-b666-21026e02a658",
   "metadata": {},
   "outputs": [],
   "source": [
    "X = rand(2,3) |> track"
   ]
  },
  {
   "cell_type": "code",
   "execution_count": null,
   "id": "0f3bb66b-3e42-4796-8bcc-cbd6e471a97c",
   "metadata": {},
   "outputs": [],
   "source": [
    "Y = rand(3,2) |> track"
   ]
  },
  {
   "cell_type": "code",
   "execution_count": null,
   "id": "e82c2b7f-2ef5-478a-bd31-44fb5c84ee52",
   "metadata": {},
   "outputs": [],
   "source": [
    "Z = X*Y"
   ]
  },
  {
   "cell_type": "code",
   "execution_count": null,
   "id": "5298d715-678c-4497-9dcb-9348f1de232f",
   "metadata": {},
   "outputs": [],
   "source": [
    "X.children[Z]"
   ]
  },
  {
   "cell_type": "code",
   "execution_count": null,
   "id": "34e2fd59-de08-43fa-8b64-1a3e9db4c781",
   "metadata": {},
   "outputs": [],
   "source": [
    "f_ = X.children[Z]"
   ]
  },
  {
   "cell_type": "code",
   "execution_count": null,
   "id": "d3623c89-8da6-46ea-87f0-b34c14584b86",
   "metadata": {},
   "outputs": [],
   "source": [
    "Ω̄ = ones(size(Z)...)"
   ]
  },
  {
   "cell_type": "code",
   "execution_count": null,
   "id": "926b8360-d197-4ff1-abec-ce2b6ab6214a",
   "metadata": {},
   "outputs": [],
   "source": [
    "f_(Ω̄)"
   ]
  },
  {
   "cell_type": "code",
   "execution_count": null,
   "id": "06896d22-b3af-4e8e-867a-6c9a0d98c571",
   "metadata": {},
   "outputs": [],
   "source": [
    "Ω̄*Y.data'"
   ]
  },
  {
   "cell_type": "markdown",
   "id": "19b638b8-64e3-4285-b4d2-f17d0ee8c380",
   "metadata": {},
   "source": [
    "<div class=\"alert alert-block alert-success\">\n",
    "<b>Exercise:</b> \n",
    "\n",
    "Implement rules for `sum`, `+`, `-`, and  `abs2`.\n",
    "    \n",
    "</div>\n"
   ]
  },
  {
   "cell_type": "code",
   "execution_count": null,
   "id": "5695c1e7-0605-497d-9beb-c51b7cc60c56",
   "metadata": {},
   "outputs": [],
   "source": [
    "# sum\n",
    "\n",
    "\n",
    "# +\n",
    "\n",
    "\n",
    "# - \n",
    "\n",
    "\n",
    "# abs2\n",
    "\n",
    "\n",
    "\n"
   ]
  },
  {
   "cell_type": "code",
   "execution_count": null,
   "id": "d2e7c18f-5528-4246-a41d-388d2e0c6689",
   "metadata": {},
   "outputs": [],
   "source": [
    "X = rand(2,3)\n",
    "Y = rand(3,2)\n",
    "function run()\n",
    "    Xv = track(X)\n",
    "    Yv = track(Y)\n",
    "    z = sum(Xv * Yv)\n",
    "    z.grad = 1.0\n",
    "    accum!(Yv)\n",
    "end"
   ]
  },
  {
   "cell_type": "code",
   "execution_count": null,
   "id": "22809b4c-81b9-4c04-b31b-0fc225cf313e",
   "metadata": {},
   "outputs": [],
   "source": [
    "@benchmark run()"
   ]
  },
  {
   "cell_type": "markdown",
   "id": "aff0c56f-0b2f-4114-9cb9-dd0683d4edec",
   "metadata": {},
   "source": [
    "####\n",
    "\n",
    "Even for this tiny example we are already 10 times faster than with the naively\n",
    "vectorized approach!\n",
    "\n",
    "In order to implement a full neural network we need two more rules. One for\n",
    "the non-linearity and one for concatentation of individual training points to\n",
    "a batch."
   ]
  },
  {
   "cell_type": "code",
   "execution_count": null,
   "id": "b79d3795-3e02-4b66-b399-790668480ef7",
   "metadata": {},
   "outputs": [],
   "source": [
    "σ(x::Real) = 1/(1+exp(-x))\n",
    "σ(x::AbstractArray) = σ.(x)\n",
    "function σ(x::TrackedArray)\n",
    "    z = track(σ(x.data))\n",
    "    d = z.data\n",
    "    x.children[z] = Δ -> Δ .* d .* (1 .- d)\n",
    "    z\n",
    "end\n",
    "\n",
    "function Base.hcat(xs::TrackedArray...)\n",
    "    y  = track(hcat(data.(xs)...))\n",
    "    stops  = cumsum([size(x,2) for x in xs])\n",
    "    starts = vcat([1], stops[1:end-1] .+ 1)\n",
    "    for (start,stop,x) in zip(starts,stops,xs)\n",
    "        x.children[y] = function (Δ)\n",
    "            δ = if ndims(x) == 1\n",
    "                Δ[:,start]\n",
    "            else\n",
    "                ds = map(_ -> :, size(x)) |> Base.tail |> Base.tail\n",
    "                Δ[:, start:stop, ds...]\n",
    "            end\n",
    "            δ\n",
    "        end\n",
    "    end\n",
    "    y\n",
    "end"
   ]
  },
  {
   "cell_type": "markdown",
   "id": "8334c965-45fd-413f-b3e6-9562dd16044f",
   "metadata": {},
   "source": [
    "You can see a full implementation of our tracing based AD [here](https://github.com/JuliaTeachingCTU/Scientific-Programming-in-Julia/blob/master/src/ReverseDiff.jl)\n",
    "and a simple implementation of a Neural Network that can learn an approximation\n",
    "to the function `g` [here](https://github.com/JuliaTeachingCTU/Scientific-Programming-in-Julia/blob/master/docs/src/lecture_08/reverse-nn.jl). Running the latter script will produce an animation\n",
    "that shows how the network is learning."
   ]
  },
  {
   "cell_type": "markdown",
   "id": "eb73326a-95d8-4314-9f5a-55811d49d407",
   "metadata": {},
   "source": [
    "<img src=\"anim.gif\" width=\"1300\" align=\"center\">"
   ]
  },
  {
   "cell_type": "code",
   "execution_count": null,
   "id": "7b3774f7-0ec9-4ae1-9be3-3e01f2c9d854",
   "metadata": {},
   "outputs": [],
   "source": []
  }
 ],
 "metadata": {
  "kernelspec": {
   "display_name": "Julia 1.7.3",
   "language": "julia",
   "name": "julia-1.7"
  },
  "language_info": {
   "file_extension": ".jl",
   "mimetype": "application/julia",
   "name": "julia",
   "version": "1.7.3"
  }
 },
 "nbformat": 4,
 "nbformat_minor": 5
}
