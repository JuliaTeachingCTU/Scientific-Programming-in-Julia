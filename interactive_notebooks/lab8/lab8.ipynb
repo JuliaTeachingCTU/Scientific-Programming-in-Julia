{
 "cells": [
  {
   "cell_type": "code",
   "execution_count": 2,
   "id": "69ce6630",
   "metadata": {},
   "outputs": [],
   "source": [
    "using Plots, AbstractTrees"
   ]
  },
  {
   "cell_type": "markdown",
   "id": "9953e4ad",
   "metadata": {},
   "source": [
    "# Lab 08 - Reverse Mode Differentiation"
   ]
  },
  {
   "cell_type": "markdown",
   "id": "9c612a8f",
   "metadata": {},
   "source": [
    "<img src=\"gd-path.gif\" width=\"900\" align=\"center\">"
   ]
  },
  {
   "cell_type": "markdown",
   "id": "ded418f2",
   "metadata": {},
   "source": [
    "In the lecture you have seen how to implement *forward-mode* automatic\n",
    "differentiation (AD). Assume you want to find the derivative $\\frac{df}{dx}$ of\n",
    "the function $f:\\mathbb R^2 \\rightarrow \\mathbb R$"
   ]
  },
  {
   "cell_type": "markdown",
   "id": "a6793eb0",
   "metadata": {},
   "source": [
    "```julia\n",
    "f(x,y) = x*y + sin(x)\n",
    "```"
   ]
  },
  {
   "cell_type": "markdown",
   "id": "34ad5899",
   "metadata": {},
   "source": [
    "If we have rules for `*`, `+`, and `sin` we could simply *seed* the function with\n",
    "`Dual(x,one(x))` and read out the derivative $\\frac{df}{dx}$ from the `Dual` that is returned\n",
    "by `f`. If we are also interested in the derivative $\\frac{df}{dy}$ we will have\n",
    "to run `f` again, this time seeding the second argument with `Dual(y,one(y))`.\n",
    "Hence, we have to evaluate `f` *twice* if we want derivatives w.r.t to both its\n",
    "arguments which means that forward differentiation scales as $O(N)$ where $N$ is\n",
    "the number of inputs to `f`.\n"
   ]
  },
  {
   "cell_type": "markdown",
   "id": "adbd3ed1",
   "metadata": {},
   "source": [
    "```julia\n",
    "dfdx = f(Dual(x,one(x)), Dual(y,zero(y)))\n",
    "dfdy = f(Dual(x,zero(x)), Dual(y,one(y)))\n",
    "```"
   ]
  },
  {
   "cell_type": "markdown",
   "id": "98898a82",
   "metadata": {},
   "source": [
    "*Reverse-mode* AD can compute gradients of functions with many inputs and one\n",
    "output in one go. This is great because very often we want to optimize loss\n",
    "functions which are exactly that: Functions with many input variables and one\n",
    "loss output.\n",
    "\n",
    "## Reverse Mode AD\n",
    "\n",
    "With functions $f:\\mathbb R^N\\rightarrow\\mathbb R^M$ and $g:\\mathbb\n",
    "R^L\\rightarrow \\mathbb R^N$ with an input vector $x$ we can define the\n",
    "composition of $f$ and $g$ as\n",
    "\n",
    "\\begin{equation}\n",
    "z = (f \\circ g)(x), \\qquad \\text{where} \\qquad y=g(x), \\qquad z = f(y).\n",
    "\\end{equation}\n",
    "\n",
    "The multivariate chainrule reads\n",
    "\n",
    "\\begin{equation}\n",
    "\\left.\\frac{\\partial z_i}{\\partial x_j}\\right|_{x} =\n",
    "    \\sum_{k=1}^N \\left.\\frac{\\partial z_i}{\\partial y_k}\\right|_{y}\n",
    "                 \\left.\\frac{\\partial y_k}{\\partial x_i}\\right|_{x}\n",
    "\\end{equation}\n",
    "\n",
    "If you want to read about where this comes from you can check\n",
    "[here](https://math.stackexchange.com/questions/3785018/intuitive-proof-of-the-multivariable-chain-rule)\n",
    "or [here](https://people.math.harvard.edu/~shlomo/docs/Advanced_Calculus.pdf).\n",
    "It is essentially one row of the *Jacobian matrix* $J$.\n",
    "Note that in order to compute the derivative we always have to know the input\n",
    "to the respective function, because we can only compute the derivative *at a specific point*\n",
    "(denoted by the $|_x$ $_{}$ notation).  For our example\n",
    "\n",
    "\\begin{equation}\n",
    "z = f(x,y) = xy + \\sin(x)\n",
    "\\end{equation}\n",
    "\n",
    "with the sub-functions $g(x,y)=xy$ and $h(x)=\\sin(x)$ we get\n",
    "\n",
    "\\begin{equation}\n",
    "\\left.{\\frac {df}{dx}}\\right|_{x,y}\n",
    "    = \\left.{\\frac {df}{dg}}\\right|_{g(x,y)}\\cdot \\left.{\\frac {dg}{dx}}\\right|_{x,y}\n",
    "    + \\left.{\\frac {df}{dh}}\\right|_{h(x)}\\cdot \\left.{\\frac {dh}{dx}}\\right|_{x}\n",
    "    = 1 \\cdot y |_{y} + 1\\cdot\\cos(x)|_{x}.\n",
    "\\end{equation}\n",
    "\n",
    "You can see that, in order to implement reverse-mode AD we have to trace and\n",
    "remember all inputs to our intermediate functions during the forward pass such\n",
    "that we can compute their gradients during the backward pass. The simplest way\n",
    "of doing this is by dynamically building a computation graph which tracks how\n",
    "each input variable affects its output variables. The graph below represents\n",
    "the computation of our function `f`.\n",
    "```julia\n",
    "z = x*y + sin(x)\n",
    "\n",
    "# as a Wengert list   # Partial derivatives\n",
    "a = x*y               # da/dx = y;     da/dy = x\n",
    "b = sin(x)            # db/dx = cos(x)\n",
    "z = a + b             # dz/da = 1;     dz/db = 1\n",
    "```"
   ]
  },
  {
   "cell_type": "markdown",
   "id": "a5656811",
   "metadata": {},
   "source": [
    "<img src=\"graph.png\" align=\"center\">"
   ]
  },
  {
   "cell_type": "markdown",
   "id": "98120ecb",
   "metadata": {},
   "source": [
    "In the graph you can see that the variable `x` can directly affect `b` and `a`.\n",
    "Hence, `x` has two children `a` and `b`.  During the forward pass we build the\n",
    "graph, keeping track of which input affects which output. Additionally we\n",
    "include the corresponding local derivatives (which we can already compute).\n",
    "To implement a dynamically built graph we can introduce a new number type\n",
    "`TrackedReal` which has three fields:\n",
    "* `data` contains the value of this node in the computation graph as obtained\n",
    "  in the forward pass.\n",
    "* `grad` is initialized to `nothing` and will later hold the accumulated gradients (the sum in the multivariate chain rule)\n",
    "* `children` is a `Dict` that keeps track which output variables are affected\n",
    "  by the current node and also stores the corresponding local derivatives\n",
    "  $\\frac{\\partial f}{\\partial g_k}$.\n"
   ]
  },
  {
   "cell_type": "code",
   "execution_count": 3,
   "id": "7f955b42",
   "metadata": {},
   "outputs": [],
   "source": [
    "# TrackedReal\n",
    "mutable struct TrackedReal{T<:Real}\n",
    "    data::T\n",
    "    grad::Union{Nothing, T}\n",
    "    children::Dict\n",
    "    name::String\n",
    "end\n",
    "\n",
    "# track()\n",
    "track(x::Real, name=\"\") = TrackedReal(x, nothing, Dict(), name)\n",
    "\n",
    "# show(io, x)\n",
    "function Base.show(io::IO, x::TrackedReal)\n",
    "    t = isempty(x.name) ? \"(tracked)\" : \"(tracked $(x.name))\"\n",
    "    print(io, \"$(x.data) $t\")\n",
    "end\n"
   ]
  },
  {
   "cell_type": "markdown",
   "id": "7aee7e73-d1e3-4a17-bdb9-5109d918d73a",
   "metadata": {
    "jp-MarkdownHeadingCollapsed": true,
    "tags": []
   },
   "source": [
    "#### Solution"
   ]
  },
  {
   "cell_type": "code",
   "execution_count": null,
   "id": "79728793",
   "metadata": {
    "tags": [
     "hide-cell",
     "hide_code"
    ]
   },
   "outputs": [],
   "source": [
    "mutable struct TrackedReal{T<:Real}\n",
    "    data::T\n",
    "    grad::Union{Nothing,T}\n",
    "    children::Dict\n",
    "    # this field is only need for printing the graph. you can safely remove it.\n",
    "    name::String\n",
    "end\n",
    "\n",
    "track(x::Real,name=\"\") = TrackedReal(x,nothing,Dict(),name)\n",
    "\n",
    "function Base.show(io::IO, x::TrackedReal)\n",
    "    t = isempty(x.name) ? \"(tracked)\" : \"(tracked $(x.name))\"\n",
    "    print(io, \"$(x.data) $t\")\n",
    "end"
   ]
  },
  {
   "cell_type": "markdown",
   "id": "6ebdae8f",
   "metadata": {
    "tags": []
   },
   "source": [
    "###\n",
    "The backward pass is nothing more than the application of the chainrule. To\n",
    "compute the derivative. Assuming we know how to compute the *local derivatives*\n",
    "$\\frac{\\partial f}{\\partial g_k}$ for simple functions\n",
    "such as `+`, `*`, and `sin`, we can write a simple function that implements\n",
    "the gradient accumulation from above via the chainrule\n",
    "        \n",
    "\\begin{equation}\n",
    "\\left.\\frac{\\partial f}{\\partial x_i}\\right|_{x} =\n",
    "    \\sum_{k=1}^N \\left.\\frac{\\partial f}{\\partial g_k}\\right|_{g(x)}\n",
    "                 \\left.\\frac{\\partial g_k}{\\partial x_i}\\right|_{x}.\n",
    "\\end{equation}\n",
    "        \n",
    "We just have to loop over all children, collect the local derivatives, and\n",
    "recurse:"
   ]
  },
  {
   "cell_type": "code",
   "execution_count": 6,
   "id": "f04a502b",
   "metadata": {},
   "outputs": [
    {
     "data": {
      "text/plain": [
       "accum! (generic function with 1 method)"
      ]
     },
     "execution_count": 6,
     "metadata": {},
     "output_type": "execute_result"
    }
   ],
   "source": [
    "# accum! function\n",
    "function accum!(x::TrackedReal)\n",
    "    if isnothing(x.grad) \n",
    "        x.grad = sum(w*accum!(v) for (v, w) in x.children) \n",
    "    end\n",
    "    x.grad\n",
    "end"
   ]
  },
  {
   "cell_type": "markdown",
   "id": "89b9ad67-c5f9-405e-ba8d-0572cbc1bbb3",
   "metadata": {
    "jp-MarkdownHeadingCollapsed": true,
    "tags": []
   },
   "source": [
    "#### Solution"
   ]
  },
  {
   "cell_type": "code",
   "execution_count": null,
   "id": "2c5145d3",
   "metadata": {
    "tags": [
     "hide-cell"
    ]
   },
   "outputs": [],
   "source": [
    "function accum!(x::TrackedReal)\n",
    "    if isnothing(x.grad)\n",
    "        x.grad = sum(w*accum!(v) for (v,w) in x.children)\n",
    "    end\n",
    "    x.grad\n",
    "end"
   ]
  },
  {
   "cell_type": "markdown",
   "id": "603cdeba-d3b5-40e6-849a-90ce9e74108f",
   "metadata": {},
   "source": [
    "###\n",
    "where `w` corresponds to $\\frac{\\partial f}{\\partial g_k}$ and `accum!(v)` corresponds\n",
    "to $\\frac{\\partial g_k}{\\partial x_i}$. At this point we have already implemented\n",
    "the core functionality of our first reverse-mode AD! The only thing left to do\n",
    "is implement the reverse rules for basic functions.  Via recursion the\n",
    "chainrule is applied until we arrive at the final output `z`.  This final\n",
    "output has to be seeded (just like with forward-mode) with $\\frac{\\partial\n",
    "z}{\\partial z}=1$.\n",
    "\n",
    "\n",
    "### Writing Reverse Rules\n",
    "\n",
    "Lets start by overloading the three functions `+`, `*`, and `sin` that we need\n",
    "to build our computation graph. First, we have to track the forward computation\n",
    "and then we *register* the output `z` as a child of its inputs by using `z`\n",
    "as a key in the dictionary of children. The corresponding value holds the \n",
    "derivatives, in the case of multiplication case we simply have\n",
    "\\begin{equation}\n",
    "z = a \\cdot b\n",
    "\\end{equation}\n",
    "for which the derivatives are\n",
    "\\begin{equation}\n",
    "\\frac{\\partial z}{\\partial a}=b, \\qquad\n",
    "\\frac{\\partial z}{\\partial b}=a.\n",
    "\\end{equation}\n",
    "Knowing the derivatives of `*` at a given point we can write our reverse rule"
   ]
  },
  {
   "cell_type": "code",
   "execution_count": 14,
   "id": "33f091aa",
   "metadata": {},
   "outputs": [],
   "source": [
    "# multiplication\n",
    "function Base.:*(a::TrackedReal, b::TrackedReal)\n",
    "    z = track(a.data*b.data, \"*\")\n",
    "    a.children[z] = b.data\n",
    "    b.children[z] = a.data\n",
    "    return z\n",
    "end\n"
   ]
  },
  {
   "cell_type": "markdown",
   "id": "fc538fed-3da9-4bfa-b953-220e1572332e",
   "metadata": {
    "jp-MarkdownHeadingCollapsed": true,
    "tags": []
   },
   "source": [
    "#### Solution"
   ]
  },
  {
   "cell_type": "code",
   "execution_count": null,
   "id": "608dbfe9",
   "metadata": {},
   "outputs": [],
   "source": [
    "function Base.:*(a::TrackedReal, b::TrackedReal)\n",
    "    z = track(a.data * b.data, \"*\")\n",
    "    a.children[z] = b.data  # dz/da=b\n",
    "    b.children[z] = a.data  # dz/db=a\n",
    "    z\n",
    "end"
   ]
  },
  {
   "cell_type": "markdown",
   "id": "985ee104-6ec8-4f52-8ece-9d1dc41c5642",
   "metadata": {},
   "source": [
    "###\n",
    "Creating two tracked numbers and adding them results in\n"
   ]
  },
  {
   "cell_type": "code",
   "execution_count": 9,
   "id": "e047d913",
   "metadata": {},
   "outputs": [
    {
     "data": {
      "text/plain": [
       "2.0 (tracked)"
      ]
     },
     "execution_count": 9,
     "metadata": {},
     "output_type": "execute_result"
    }
   ],
   "source": [
    "x = track(2.0)"
   ]
  },
  {
   "cell_type": "code",
   "execution_count": 10,
   "id": "739952b7",
   "metadata": {},
   "outputs": [
    {
     "data": {
      "text/plain": [
       "3.0 (tracked)"
      ]
     },
     "execution_count": 10,
     "metadata": {},
     "output_type": "execute_result"
    }
   ],
   "source": [
    "y = track(3.0)"
   ]
  },
  {
   "cell_type": "code",
   "execution_count": 11,
   "id": "71d03057",
   "metadata": {},
   "outputs": [
    {
     "data": {
      "text/plain": [
       "6.0 (tracked)"
      ]
     },
     "execution_count": 11,
     "metadata": {},
     "output_type": "execute_result"
    }
   ],
   "source": [
    "z = x*y"
   ]
  },
  {
   "cell_type": "code",
   "execution_count": 12,
   "id": "a378530b",
   "metadata": {},
   "outputs": [
    {
     "data": {
      "text/plain": [
       "Dict{Any, Any} with 1 entry:\n",
       "  6.0 (tracked) => 3.0"
      ]
     },
     "execution_count": 12,
     "metadata": {},
     "output_type": "execute_result"
    }
   ],
   "source": [
    "x.children"
   ]
  },
  {
   "cell_type": "code",
   "execution_count": 13,
   "id": "e679e9b2",
   "metadata": {},
   "outputs": [
    {
     "data": {
      "text/plain": [
       "Dict{Any, Any} with 1 entry:\n",
       "  6.0 (tracked) => 2.0"
      ]
     },
     "execution_count": 13,
     "metadata": {},
     "output_type": "execute_result"
    }
   ],
   "source": [
    "y.children"
   ]
  },
  {
   "cell_type": "markdown",
   "id": "04c8a0fd-0abe-4a3c-8979-3830830c6090",
   "metadata": {},
   "source": [
    "### Exercise 1\n",
    "\n",
    "Implement the two remaining rules for `+` and `sin` by overloading the\n",
    "appropriate methods like we did for `*`. First you have to compute the tracked\n",
    "forward pass, and then register the local derivatives in the children of your\n",
    "input variables.  Remember to return the tracked result of the forward pass in\n",
    "the end."
   ]
  },
  {
   "cell_type": "code",
   "execution_count": 17,
   "id": "9822d9f9-c169-409a-b3ff-d30f137cd3c1",
   "metadata": {},
   "outputs": [],
   "source": [
    "# addition\n",
    "function Base.:+(a::TrackedReal{T}, b::TrackedReal{T}) where T\n",
    "    z = track(a.data + b.data,\"+\")\n",
    "    a.children[z] = one(T)\n",
    "    b.children[z] = one(T)\n",
    "    z\n",
    "end\n",
    "\n",
    "# sin\n",
    "function Base.sin(x::TrackedReal)\n",
    "    z = track(sin(x.data), \"sin\")\n",
    "    x.children[z] = cos(x.data)\n",
    "    z\n",
    "end\n"
   ]
  },
  {
   "cell_type": "markdown",
   "id": "368737a5-062e-41af-a764-8c5e4b46151b",
   "metadata": {
    "jp-MarkdownHeadingCollapsed": true,
    "tags": []
   },
   "source": [
    "#### Solution"
   ]
  },
  {
   "cell_type": "code",
   "execution_count": null,
   "id": "9bc9595a-80f5-4dd7-a408-00fb339a1218",
   "metadata": {},
   "outputs": [],
   "source": [
    "function Base.:+(a::TrackedReal{T}, b::TrackedReal{T}) where T\n",
    "    z = track(a.data + b.data, \"+\")\n",
    "    a.children[z] = one(T)\n",
    "    b.children[z] = one(T)\n",
    "    z\n",
    "end\n",
    "\n",
    "function Base.sin(x::TrackedReal)\n",
    "    z = track(sin(x.data), \"sin\")\n",
    "    x.children[z] = cos(x.data)\n",
    "    z\n",
    "end"
   ]
  },
  {
   "cell_type": "markdown",
   "id": "9c810d8c-360b-4438-870e-7095c303d26b",
   "metadata": {
    "tags": []
   },
   "source": [
    "## Forward & Backward Pass\n",
    "\n",
    "To visualize that with reverse-mode AD we really do save computation we can\n",
    "visualize the computation graph at different stages. We start with the forward\n",
    "pass and keep observing `x`"
   ]
  },
  {
   "cell_type": "markdown",
   "id": "829d77a8-6321-497b-b124-42db650ee065",
   "metadata": {
    "tags": []
   },
   "source": [
    "#### Overload AbstractTrees (to get nice printout)\n",
    "\n",
    "\n",
    "\"x data: 2.0 grad: nothing\"\\\n",
    "└─ \"* data: 6.0 grad: nothing\"\n",
    "\n",
    "1) children\n",
    "2) nodevalue"
   ]
  },
  {
   "cell_type": "code",
   "execution_count": 29,
   "id": "2bd98e41-22bc-4144-8ed1-18458206bb7b",
   "metadata": {},
   "outputs": [],
   "source": [
    "function AbstractTrees.printnode(io::IO, x::TrackedReal)\n",
    "    print(io, \"$(x.name) data: $(round(x.data, digits=2)) grad: $(x.grad)\")\n",
    "end\n",
    "\n",
    "AbstractTrees.children(x::TrackedReal) = x.children |> keys |> collect"
   ]
  },
  {
   "cell_type": "markdown",
   "id": "51407021-9f93-4c40-8fa6-7bf9f017bff6",
   "metadata": {
    "jp-MarkdownHeadingCollapsed": true,
    "tags": []
   },
   "source": [
    "#### Solution"
   ]
  },
  {
   "cell_type": "code",
   "execution_count": null,
   "id": "2c6eb0ac-e727-4e22-9273-f1aaa80b77e7",
   "metadata": {},
   "outputs": [],
   "source": [
    "function AbstractTrees.children(t::TrackedReal)\n",
    "    keys(t.children)\n",
    "end\n",
    "\n",
    "# Two options for printing\n",
    "function AbstractTrees.nodevalue(t::TrackedReal)\n",
    "    \"$(t.name) data: $(round(t.data,digits=2)) grad: $(t.grad)\"\n",
    "end \n",
    "function AbstractTrees.printnode(io::IO,v::TrackedReal)\n",
    "    print(io,\"$(v.name) data: $(round(v.data,digits=2)) grad: $(v.grad)\")\n",
    "end"
   ]
  },
  {
   "cell_type": "markdown",
   "id": "d20367fa-f5ae-4960-ad07-22b59d08df47",
   "metadata": {
    "tags": []
   },
   "source": [
    "#### "
   ]
  },
  {
   "cell_type": "code",
   "execution_count": 23,
   "id": "de9e9dd7-8bd6-493c-8be3-a8e440f58ca8",
   "metadata": {},
   "outputs": [
    {
     "data": {
      "text/plain": [
       "2.0 (tracked x)"
      ]
     },
     "execution_count": 23,
     "metadata": {},
     "output_type": "execute_result"
    }
   ],
   "source": [
    "x = track(2.0, \"x\")"
   ]
  },
  {
   "cell_type": "code",
   "execution_count": 24,
   "id": "2912cc86-5c64-4e5d-9db3-74a738a997d8",
   "metadata": {},
   "outputs": [
    {
     "data": {
      "text/plain": [
       "3.0 (tracked y)"
      ]
     },
     "execution_count": 24,
     "metadata": {},
     "output_type": "execute_result"
    }
   ],
   "source": [
    "y = track(3.0, \"y\")"
   ]
  },
  {
   "cell_type": "code",
   "execution_count": 25,
   "id": "2135fc0f-85a6-4517-b1aa-89f3b9db2f31",
   "metadata": {},
   "outputs": [
    {
     "data": {
      "text/plain": [
       "6.0 (tracked *)"
      ]
     },
     "execution_count": 25,
     "metadata": {},
     "output_type": "execute_result"
    }
   ],
   "source": [
    "a = x*y"
   ]
  },
  {
   "cell_type": "code",
   "execution_count": 26,
   "id": "811475ff-253a-423a-8e2b-de171cc64e06",
   "metadata": {},
   "outputs": [
    {
     "name": "stdout",
     "output_type": "stream",
     "text": [
      "x data: 2.0 grad: nothing\n",
      "└─ * data: 6.0 grad: nothing\n"
     ]
    }
   ],
   "source": [
    "print_tree(x)"
   ]
  },
  {
   "cell_type": "markdown",
   "id": "96726086-2b22-4d28-9039-79d4bcac5b99",
   "metadata": {},
   "source": [
    "We can see that we `x` now has one child `a` which has the value `2.0*3.0==6.0`. All the\n",
    "gradients are still `nothing`. Computing another value that depends on `x`\n",
    "will add another child."
   ]
  },
  {
   "cell_type": "code",
   "execution_count": 27,
   "id": "62f87461-4d82-4cbe-89cb-65ba5ed55bc8",
   "metadata": {},
   "outputs": [
    {
     "data": {
      "text/plain": [
       "0.9092974268256817 (tracked sin)"
      ]
     },
     "execution_count": 27,
     "metadata": {},
     "output_type": "execute_result"
    }
   ],
   "source": [
    "b = sin(x)"
   ]
  },
  {
   "cell_type": "code",
   "execution_count": 30,
   "id": "fb8c9f7f-5fb1-46f0-ac35-2dfb6858eff3",
   "metadata": {},
   "outputs": [
    {
     "name": "stdout",
     "output_type": "stream",
     "text": [
      "x data: 2.0 grad: nothing\n",
      "├─ * data: 6.0 grad: nothing\n",
      "└─ sin data: 0.91 grad: nothing\n"
     ]
    }
   ],
   "source": [
    "print_tree(x)"
   ]
  },
  {
   "cell_type": "markdown",
   "id": "99339c35-e570-45c5-958f-13a6ac1a9ebe",
   "metadata": {},
   "source": [
    "In the final step we compute `z` which does not mutate the children of `x`\n",
    "because it does not depend directly on it. The result `z` is added as a child\n",
    "to both `a` and `b`."
   ]
  },
  {
   "cell_type": "code",
   "execution_count": 31,
   "id": "192674ba-afb6-4e8a-a4a7-b93981a454c9",
   "metadata": {},
   "outputs": [
    {
     "data": {
      "text/plain": [
       "6.909297426825682 (tracked +)"
      ]
     },
     "execution_count": 31,
     "metadata": {},
     "output_type": "execute_result"
    }
   ],
   "source": [
    "z = a + b"
   ]
  },
  {
   "cell_type": "code",
   "execution_count": 32,
   "id": "12de427c-11c3-4cb8-b5e7-3c51f69dd890",
   "metadata": {},
   "outputs": [
    {
     "name": "stdout",
     "output_type": "stream",
     "text": [
      "x data: 2.0 grad: nothing\n",
      "├─ * data: 6.0 grad: nothing\n",
      "│  └─ + data: 6.91 grad: nothing\n",
      "└─ sin data: 0.91 grad: nothing\n",
      "   └─ + data: 6.91 grad: nothing\n"
     ]
    }
   ],
   "source": [
    "print_tree(x)"
   ]
  },
  {
   "cell_type": "markdown",
   "id": "a113d5de-2c99-472e-94d5-0d51493d1dca",
   "metadata": {},
   "source": [
    "For the backward pass we have to seed the initial gradient value of `z` and\n",
    "call `accum!` on the variable that we are interested in."
   ]
  },
  {
   "cell_type": "code",
   "execution_count": 33,
   "id": "1451f239-0c97-4600-b881-a76effde2396",
   "metadata": {},
   "outputs": [
    {
     "data": {
      "text/plain": [
       "1"
      ]
     },
     "execution_count": 33,
     "metadata": {},
     "output_type": "execute_result"
    }
   ],
   "source": [
    "z.grad = 1"
   ]
  },
  {
   "cell_type": "code",
   "execution_count": 34,
   "id": "e33007e1-9f51-4f90-9dc9-6a5a0990c59b",
   "metadata": {},
   "outputs": [
    {
     "data": {
      "text/plain": [
       "2.5838531634528574"
      ]
     },
     "execution_count": 34,
     "metadata": {},
     "output_type": "execute_result"
    }
   ],
   "source": [
    "dx = accum!(x)"
   ]
  },
  {
   "cell_type": "code",
   "execution_count": 36,
   "id": "16e58b1d-d168-4b49-9e63-0c862edf47d0",
   "metadata": {},
   "outputs": [
    {
     "data": {
      "text/plain": [
       "true"
      ]
     },
     "execution_count": 36,
     "metadata": {},
     "output_type": "execute_result"
    }
   ],
   "source": [
    "dx ≈ y.data + cos(x.data)"
   ]
  },
  {
   "cell_type": "markdown",
   "id": "fe0eeb7c-239b-4050-90b5-5e7dfe61e2bb",
   "metadata": {},
   "source": [
    "By accumulating the gradients for `x`, the gradients in the sub-tree connected\n",
    "to `x` will be evaluated. The parts of the tree that are only connected to `y`\n",
    "stay untouched."
   ]
  },
  {
   "cell_type": "code",
   "execution_count": 37,
   "id": "ecd6ceaa-fe3a-487c-8a87-d5e9553c4dc9",
   "metadata": {},
   "outputs": [
    {
     "name": "stdout",
     "output_type": "stream",
     "text": [
      "x data: 2.0 grad: 2.5838531634528574\n",
      "├─ * data: 6.0 grad: 1.0\n",
      "│  └─ + data: 6.91 grad: 1.0\n",
      "└─ sin data: 0.91 grad: 1.0\n",
      "   └─ + data: 6.91 grad: 1.0\n"
     ]
    }
   ],
   "source": [
    "print_tree(x)"
   ]
  },
  {
   "cell_type": "code",
   "execution_count": 38,
   "id": "436b7f42-865a-4109-ab10-c4dd422dab8a",
   "metadata": {},
   "outputs": [
    {
     "name": "stdout",
     "output_type": "stream",
     "text": [
      "y data: 3.0 grad: nothing\n",
      "└─ * data: 6.0 grad: 1.0\n",
      "   └─ + data: 6.91 grad: 1.0\n"
     ]
    }
   ],
   "source": [
    "print_tree(y)"
   ]
  },
  {
   "cell_type": "markdown",
   "id": "87ae53f3-e827-4743-8f49-798d8d160f5e",
   "metadata": {},
   "source": [
    "If we now accumulate the gradients over `y` we re-use the gradients that are already\n",
    "computed. In larger computations this will save us *a lot* of effort!\n",
    "\n",
    "!!! info : \n",
    "    This also means that we have to re-build the graph for every new set of inputs!\n"
   ]
  },
  {
   "cell_type": "markdown",
   "id": "06aa4f42-389a-49a1-846d-9b88e6ac5599",
   "metadata": {},
   "source": [
    "##  Optimizing 2D Functions\n"
   ]
  },
  {
   "cell_type": "markdown",
   "id": "b7522cdf-9e77-4f69-a28f-3b25e2b39df2",
   "metadata": {},
   "source": [
    "### Exercise 2\n",
    "\n",
    "Implement a function `gradient(f, args::Real...)` which takes a function `f`\n",
    "and its corresponding arguments (as `Real` numbers) and outputs the corresponding\n",
    "gradients"
   ]
  },
  {
   "cell_type": "code",
   "execution_count": 40,
   "id": "fd872874-dc9d-49b5-b699-980976d263db",
   "metadata": {},
   "outputs": [
    {
     "data": {
      "text/plain": [
       "gradient (generic function with 1 method)"
      ]
     },
     "execution_count": 40,
     "metadata": {},
     "output_type": "execute_result"
    }
   ],
   "source": [
    "function gradient(f, args::Real...)\n",
    "    ts = track.(args)\n",
    "    y = f(ts...)\n",
    "    y.grad = 1\n",
    "    accum!.(ts)\n",
    "end"
   ]
  },
  {
   "cell_type": "markdown",
   "id": "2c43cb3a-f35f-4508-9111-476ab4c8c4f2",
   "metadata": {
    "jp-MarkdownHeadingCollapsed": true,
    "tags": []
   },
   "source": [
    "#### Solution"
   ]
  },
  {
   "cell_type": "code",
   "execution_count": null,
   "id": "d1d0732d-fd53-4b3f-8ea7-660174701f6e",
   "metadata": {},
   "outputs": [],
   "source": [
    "function gradient(f, args::Real...)\n",
    "    ts = track.(args)\n",
    "    y  = f(ts...)\n",
    "    y.grad = 1.0\n",
    "    accum!.(ts)\n",
    "end"
   ]
  },
  {
   "cell_type": "markdown",
   "id": "f428d3dc-6579-46df-8151-450a1469a49e",
   "metadata": {
    "tags": []
   },
   "source": [
    "#"
   ]
  },
  {
   "cell_type": "code",
   "execution_count": 41,
   "id": "0ce87648-6b70-4b78-a50d-731bb036c78c",
   "metadata": {},
   "outputs": [
    {
     "data": {
      "text/plain": [
       "f (generic function with 1 method)"
      ]
     },
     "execution_count": 41,
     "metadata": {},
     "output_type": "execute_result"
    }
   ],
   "source": [
    "f(x,y) = x*y + sin(x)"
   ]
  },
  {
   "cell_type": "code",
   "execution_count": 42,
   "id": "10870783-7296-4c05-8f0a-dad26d8bf46a",
   "metadata": {},
   "outputs": [
    {
     "data": {
      "text/plain": [
       "(2.5838531634528574, 2.0)"
      ]
     },
     "execution_count": 42,
     "metadata": {},
     "output_type": "execute_result"
    }
   ],
   "source": [
    "gradient(f, 2.0, 3.0)"
   ]
  },
  {
   "cell_type": "markdown",
   "id": "2ec9f0be-dad2-4b49-b7da-0d596d20b0d5",
   "metadata": {},
   "source": [
    "As an example we can find a local minimum of the function `g` (slightly\n",
    "modified to show you that we can now actually do *automatic* differentiation)."
   ]
  },
  {
   "cell_type": "code",
   "execution_count": 43,
   "id": "351a236b-0576-41ee-97cb-3234901bd3ce",
   "metadata": {},
   "outputs": [
    {
     "data": {
      "image/svg+xml": [
       "<?xml version=\"1.0\" encoding=\"utf-8\"?>\n",
       "<svg xmlns=\"http://www.w3.org/2000/svg\" xmlns:xlink=\"http://www.w3.org/1999/xlink\" width=\"600\" height=\"400\" viewBox=\"0 0 2400 1600\">\n",
       "<defs>\n",
       "  <clipPath id=\"clip270\">\n",
       "    <rect x=\"0\" y=\"0\" width=\"2400\" height=\"1600\"/>\n",
       "  </clipPath>\n",
       "</defs>\n",
       "<path clip-path=\"url(#clip270)\" d=\"\n",
       "M0 1600 L2400 1600 L2400 0 L0 0  Z\n",
       "  \" fill=\"#ffffff\" fill-rule=\"evenodd\" fill-opacity=\"1\"/>\n",
       "<defs>\n",
       "  <clipPath id=\"clip271\">\n",
       "    <rect x=\"480\" y=\"0\" width=\"1681\" height=\"1600\"/>\n",
       "  </clipPath>\n",
       "</defs>\n",
       "<path clip-path=\"url(#clip270)\" d=\"\n",
       "M210.746 1423.18 L2112.76 1423.18 L2112.76 47.2441 L210.746 47.2441  Z\n",
       "  \" fill=\"#ffffff\" fill-rule=\"evenodd\" fill-opacity=\"1\"/>\n",
       "<defs>\n",
       "  <clipPath id=\"clip272\">\n",
       "    <rect x=\"210\" y=\"47\" width=\"1903\" height=\"1377\"/>\n",
       "  </clipPath>\n",
       "</defs>\n",
       "<polyline clip-path=\"url(#clip272)\" style=\"stroke:#000000; stroke-linecap:round; stroke-linejoin:round; stroke-width:2; stroke-opacity:0.1; fill:none\" points=\"\n",
       "  210.746,1423.18 210.746,47.2441 \n",
       "  \"/>\n",
       "<polyline clip-path=\"url(#clip272)\" style=\"stroke:#000000; stroke-linecap:round; stroke-linejoin:round; stroke-width:2; stroke-opacity:0.1; fill:none\" points=\"\n",
       "  686.248,1423.18 686.248,47.2441 \n",
       "  \"/>\n",
       "<polyline clip-path=\"url(#clip272)\" style=\"stroke:#000000; stroke-linecap:round; stroke-linejoin:round; stroke-width:2; stroke-opacity:0.1; fill:none\" points=\"\n",
       "  1161.75,1423.18 1161.75,47.2441 \n",
       "  \"/>\n",
       "<polyline clip-path=\"url(#clip272)\" style=\"stroke:#000000; stroke-linecap:round; stroke-linejoin:round; stroke-width:2; stroke-opacity:0.1; fill:none\" points=\"\n",
       "  1637.25,1423.18 1637.25,47.2441 \n",
       "  \"/>\n",
       "<polyline clip-path=\"url(#clip272)\" style=\"stroke:#000000; stroke-linecap:round; stroke-linejoin:round; stroke-width:2; stroke-opacity:0.1; fill:none\" points=\"\n",
       "  2112.76,1423.18 2112.76,47.2441 \n",
       "  \"/>\n",
       "<polyline clip-path=\"url(#clip270)\" style=\"stroke:#000000; stroke-linecap:round; stroke-linejoin:round; stroke-width:4; stroke-opacity:1; fill:none\" points=\"\n",
       "  210.746,1423.18 2112.76,1423.18 \n",
       "  \"/>\n",
       "<polyline clip-path=\"url(#clip270)\" style=\"stroke:#000000; stroke-linecap:round; stroke-linejoin:round; stroke-width:4; stroke-opacity:1; fill:none\" points=\"\n",
       "  210.746,1423.18 210.746,1404.28 \n",
       "  \"/>\n",
       "<polyline clip-path=\"url(#clip270)\" style=\"stroke:#000000; stroke-linecap:round; stroke-linejoin:round; stroke-width:4; stroke-opacity:1; fill:none\" points=\"\n",
       "  686.248,1423.18 686.248,1404.28 \n",
       "  \"/>\n",
       "<polyline clip-path=\"url(#clip270)\" style=\"stroke:#000000; stroke-linecap:round; stroke-linejoin:round; stroke-width:4; stroke-opacity:1; fill:none\" points=\"\n",
       "  1161.75,1423.18 1161.75,1404.28 \n",
       "  \"/>\n",
       "<polyline clip-path=\"url(#clip270)\" style=\"stroke:#000000; stroke-linecap:round; stroke-linejoin:round; stroke-width:4; stroke-opacity:1; fill:none\" points=\"\n",
       "  1637.25,1423.18 1637.25,1404.28 \n",
       "  \"/>\n",
       "<polyline clip-path=\"url(#clip270)\" style=\"stroke:#000000; stroke-linecap:round; stroke-linejoin:round; stroke-width:4; stroke-opacity:1; fill:none\" points=\"\n",
       "  2112.76,1423.18 2112.76,1404.28 \n",
       "  \"/>\n",
       "<path clip-path=\"url(#clip270)\" d=\"M179.647 1468.75 L209.322 1468.75 L209.322 1472.69 L179.647 1472.69 L179.647 1468.75 Z\" fill=\"#000000\" fill-rule=\"evenodd\" fill-opacity=\"1\" /><path clip-path=\"url(#clip270)\" d=\"M232.262 1455.09 L220.457 1473.54 L232.262 1473.54 L232.262 1455.09 M231.035 1451.02 L236.915 1451.02 L236.915 1473.54 L241.845 1473.54 L241.845 1477.43 L236.915 1477.43 L236.915 1485.58 L232.262 1485.58 L232.262 1477.43 L216.66 1477.43 L216.66 1472.92 L231.035 1451.02 Z\" fill=\"#000000\" fill-rule=\"evenodd\" fill-opacity=\"1\" /><path clip-path=\"url(#clip270)\" d=\"M656.191 1468.75 L685.866 1468.75 L685.866 1472.69 L656.191 1472.69 L656.191 1468.75 Z\" fill=\"#000000\" fill-rule=\"evenodd\" fill-opacity=\"1\" /><path clip-path=\"url(#clip270)\" d=\"M699.987 1481.64 L716.306 1481.64 L716.306 1485.58 L694.362 1485.58 L694.362 1481.64 Q697.024 1478.89 701.607 1474.26 Q706.214 1469.61 707.394 1468.27 Q709.64 1465.74 710.519 1464.01 Q711.422 1462.25 711.422 1460.56 Q711.422 1457.8 709.477 1456.07 Q707.556 1454.33 704.454 1454.33 Q702.255 1454.33 699.802 1455.09 Q697.371 1455.86 694.593 1457.41 L694.593 1452.69 Q697.417 1451.55 699.871 1450.97 Q702.325 1450.39 704.362 1450.39 Q709.732 1450.39 712.927 1453.08 Q716.121 1455.77 716.121 1460.26 Q716.121 1462.39 715.311 1464.31 Q714.524 1466.2 712.417 1468.8 Q711.839 1469.47 708.737 1472.69 Q705.635 1475.88 699.987 1481.64 Z\" fill=\"#000000\" fill-rule=\"evenodd\" fill-opacity=\"1\" /><path clip-path=\"url(#clip270)\" d=\"M1161.75 1454.1 Q1158.14 1454.1 1156.31 1457.66 Q1154.51 1461.2 1154.51 1468.33 Q1154.51 1475.44 1156.31 1479.01 Q1158.14 1482.55 1161.75 1482.55 Q1165.39 1482.55 1167.19 1479.01 Q1169.02 1475.44 1169.02 1468.33 Q1169.02 1461.2 1167.19 1457.66 Q1165.39 1454.1 1161.75 1454.1 M1161.75 1450.39 Q1167.56 1450.39 1170.62 1455 Q1173.7 1459.58 1173.7 1468.33 Q1173.7 1477.06 1170.62 1481.67 Q1167.56 1486.25 1161.75 1486.25 Q1155.94 1486.25 1152.86 1481.67 Q1149.81 1477.06 1149.81 1468.33 Q1149.81 1459.58 1152.86 1455 Q1155.94 1450.39 1161.75 1450.39 Z\" fill=\"#000000\" fill-rule=\"evenodd\" fill-opacity=\"1\" /><path clip-path=\"url(#clip270)\" d=\"M1631.91 1481.64 L1648.23 1481.64 L1648.23 1485.58 L1626.28 1485.58 L1626.28 1481.64 Q1628.94 1478.89 1633.53 1474.26 Q1638.13 1469.61 1639.31 1468.27 Q1641.56 1465.74 1642.44 1464.01 Q1643.34 1462.25 1643.34 1460.56 Q1643.34 1457.8 1641.4 1456.07 Q1639.48 1454.33 1636.37 1454.33 Q1634.17 1454.33 1631.72 1455.09 Q1629.29 1455.86 1626.51 1457.41 L1626.51 1452.69 Q1629.34 1451.55 1631.79 1450.97 Q1634.24 1450.39 1636.28 1450.39 Q1641.65 1450.39 1644.85 1453.08 Q1648.04 1455.77 1648.04 1460.26 Q1648.04 1462.39 1647.23 1464.31 Q1646.44 1466.2 1644.34 1468.8 Q1643.76 1469.47 1640.66 1472.69 Q1637.55 1475.88 1631.91 1481.64 Z\" fill=\"#000000\" fill-rule=\"evenodd\" fill-opacity=\"1\" /><path clip-path=\"url(#clip270)\" d=\"M2115.77 1455.09 L2103.96 1473.54 L2115.77 1473.54 L2115.77 1455.09 M2114.54 1451.02 L2120.42 1451.02 L2120.42 1473.54 L2125.35 1473.54 L2125.35 1477.43 L2120.42 1477.43 L2120.42 1485.58 L2115.77 1485.58 L2115.77 1477.43 L2100.16 1477.43 L2100.16 1472.92 L2114.54 1451.02 Z\" fill=\"#000000\" fill-rule=\"evenodd\" fill-opacity=\"1\" /><path clip-path=\"url(#clip270)\" d=\"M1178.37 1532.4 L1165.47 1549.74 L1179.03 1568.04 L1172.13 1568.04 L1161.75 1554.04 L1151.37 1568.04 L1144.47 1568.04 L1158.31 1549.39 L1145.65 1532.4 L1152.55 1532.4 L1162.01 1545.1 L1171.46 1532.4 L1178.37 1532.4 Z\" fill=\"#000000\" fill-rule=\"evenodd\" fill-opacity=\"1\" /><polyline clip-path=\"url(#clip272)\" style=\"stroke:#000000; stroke-linecap:round; stroke-linejoin:round; stroke-width:2; stroke-opacity:0.1; fill:none\" points=\"\n",
       "  210.746,1423.18 2112.76,1423.18 \n",
       "  \"/>\n",
       "<polyline clip-path=\"url(#clip272)\" style=\"stroke:#000000; stroke-linecap:round; stroke-linejoin:round; stroke-width:2; stroke-opacity:0.1; fill:none\" points=\"\n",
       "  210.746,1079.2 2112.76,1079.2 \n",
       "  \"/>\n",
       "<polyline clip-path=\"url(#clip272)\" style=\"stroke:#000000; stroke-linecap:round; stroke-linejoin:round; stroke-width:2; stroke-opacity:0.1; fill:none\" points=\"\n",
       "  210.746,735.212 2112.76,735.212 \n",
       "  \"/>\n",
       "<polyline clip-path=\"url(#clip272)\" style=\"stroke:#000000; stroke-linecap:round; stroke-linejoin:round; stroke-width:2; stroke-opacity:0.1; fill:none\" points=\"\n",
       "  210.746,391.228 2112.76,391.228 \n",
       "  \"/>\n",
       "<polyline clip-path=\"url(#clip272)\" style=\"stroke:#000000; stroke-linecap:round; stroke-linejoin:round; stroke-width:2; stroke-opacity:0.1; fill:none\" points=\"\n",
       "  210.746,47.2441 2112.76,47.2441 \n",
       "  \"/>\n",
       "<polyline clip-path=\"url(#clip270)\" style=\"stroke:#000000; stroke-linecap:round; stroke-linejoin:round; stroke-width:4; stroke-opacity:1; fill:none\" points=\"\n",
       "  210.746,1423.18 210.746,47.2441 \n",
       "  \"/>\n",
       "<polyline clip-path=\"url(#clip270)\" style=\"stroke:#000000; stroke-linecap:round; stroke-linejoin:round; stroke-width:4; stroke-opacity:1; fill:none\" points=\"\n",
       "  210.746,1423.18 227.526,1423.18 \n",
       "  \"/>\n",
       "<polyline clip-path=\"url(#clip270)\" style=\"stroke:#000000; stroke-linecap:round; stroke-linejoin:round; stroke-width:4; stroke-opacity:1; fill:none\" points=\"\n",
       "  210.746,1079.2 227.526,1079.2 \n",
       "  \"/>\n",
       "<polyline clip-path=\"url(#clip270)\" style=\"stroke:#000000; stroke-linecap:round; stroke-linejoin:round; stroke-width:4; stroke-opacity:1; fill:none\" points=\"\n",
       "  210.746,735.212 227.526,735.212 \n",
       "  \"/>\n",
       "<polyline clip-path=\"url(#clip270)\" style=\"stroke:#000000; stroke-linecap:round; stroke-linejoin:round; stroke-width:4; stroke-opacity:1; fill:none\" points=\"\n",
       "  210.746,391.228 227.526,391.228 \n",
       "  \"/>\n",
       "<polyline clip-path=\"url(#clip270)\" style=\"stroke:#000000; stroke-linecap:round; stroke-linejoin:round; stroke-width:4; stroke-opacity:1; fill:none\" points=\"\n",
       "  210.746,47.2441 227.526,47.2441 \n",
       "  \"/>\n",
       "<path clip-path=\"url(#clip270)\" d=\"M114.631 1423.63 L144.306 1423.63 L144.306 1427.57 L114.631 1427.57 L114.631 1423.63 Z\" fill=\"#000000\" fill-rule=\"evenodd\" fill-opacity=\"1\" /><path clip-path=\"url(#clip270)\" d=\"M158.427 1436.52 L174.746 1436.52 L174.746 1440.46 L152.802 1440.46 L152.802 1436.52 Q155.464 1433.77 160.047 1429.14 Q164.653 1424.49 165.834 1423.15 Q168.079 1420.62 168.959 1418.89 Q169.862 1417.13 169.862 1415.44 Q169.862 1412.68 167.917 1410.95 Q165.996 1409.21 162.894 1409.21 Q160.695 1409.21 158.241 1409.97 Q155.811 1410.74 153.033 1412.29 L153.033 1407.57 Q155.857 1406.43 158.311 1405.85 Q160.765 1405.27 162.802 1405.27 Q168.172 1405.27 171.366 1407.96 Q174.561 1410.65 174.561 1415.14 Q174.561 1417.27 173.751 1419.19 Q172.964 1421.08 170.857 1423.68 Q170.278 1424.35 167.177 1427.57 Q164.075 1430.76 158.427 1436.52 Z\" fill=\"#000000\" fill-rule=\"evenodd\" fill-opacity=\"1\" /><path clip-path=\"url(#clip270)\" d=\"M114.26 1079.65 L143.936 1079.65 L143.936 1083.58 L114.26 1083.58 L114.26 1079.65 Z\" fill=\"#000000\" fill-rule=\"evenodd\" fill-opacity=\"1\" /><path clip-path=\"url(#clip270)\" d=\"M154.839 1092.54 L162.477 1092.54 L162.477 1066.18 L154.167 1067.84 L154.167 1063.58 L162.431 1061.92 L167.107 1061.92 L167.107 1092.54 L174.746 1092.54 L174.746 1096.48 L154.839 1096.48 L154.839 1092.54 Z\" fill=\"#000000\" fill-rule=\"evenodd\" fill-opacity=\"1\" /><path clip-path=\"url(#clip270)\" d=\"M162.802 721.011 Q159.19 721.011 157.362 724.575 Q155.556 728.117 155.556 735.247 Q155.556 742.353 157.362 745.918 Q159.19 749.46 162.802 749.46 Q166.436 749.46 168.241 745.918 Q170.07 742.353 170.07 735.247 Q170.07 728.117 168.241 724.575 Q166.436 721.011 162.802 721.011 M162.802 717.307 Q168.612 717.307 171.667 721.913 Q174.746 726.497 174.746 735.247 Q174.746 743.973 171.667 748.58 Q168.612 753.163 162.802 753.163 Q156.991 753.163 153.913 748.58 Q150.857 743.973 150.857 735.247 Q150.857 726.497 153.913 721.913 Q156.991 717.307 162.802 717.307 Z\" fill=\"#000000\" fill-rule=\"evenodd\" fill-opacity=\"1\" /><path clip-path=\"url(#clip270)\" d=\"M154.839 404.573 L162.477 404.573 L162.477 378.207 L154.167 379.874 L154.167 375.615 L162.431 373.948 L167.107 373.948 L167.107 404.573 L174.746 404.573 L174.746 408.508 L154.839 408.508 L154.839 404.573 Z\" fill=\"#000000\" fill-rule=\"evenodd\" fill-opacity=\"1\" /><path clip-path=\"url(#clip270)\" d=\"M158.427 60.5889 L174.746 60.5889 L174.746 64.5241 L152.802 64.5241 L152.802 60.5889 Q155.464 57.8343 160.047 53.2047 Q164.653 48.552 165.834 47.2094 Q168.079 44.6862 168.959 42.9501 Q169.862 41.1909 169.862 39.5011 Q169.862 36.7465 167.917 35.0104 Q165.996 33.2743 162.894 33.2743 Q160.695 33.2743 158.241 34.0381 Q155.811 34.802 153.033 36.3529 L153.033 31.6308 Q155.857 30.4965 158.311 29.9178 Q160.765 29.3391 162.802 29.3391 Q168.172 29.3391 171.366 32.0243 Q174.561 34.7094 174.561 39.2002 Q174.561 41.3298 173.751 43.2511 Q172.964 45.1492 170.857 47.7418 Q170.278 48.4131 167.177 51.6306 Q164.075 54.8251 158.427 60.5889 Z\" fill=\"#000000\" fill-rule=\"evenodd\" fill-opacity=\"1\" /><path clip-path=\"url(#clip270)\" d=\"M67.3143 733.525 Q73.68 736.008 75.6216 738.363 Q77.5631 740.718 77.5631 744.665 L77.5631 749.344 L72.6615 749.344 L72.6615 745.906 Q72.6615 743.487 71.5157 742.151 Q70.3699 740.814 66.1048 739.191 L63.4312 738.14 L28.3562 752.559 L28.3562 746.352 L56.238 735.212 L28.3562 724.072 L28.3562 717.865 L67.3143 733.525 Z\" fill=\"#000000\" fill-rule=\"evenodd\" fill-opacity=\"1\" /><path clip-path=\"url(#clip272)\" d=\"\n",
       "M210.746 1423.18 L210.746 1423.18 L234.521 1423.18 L258.296 1423.18 L282.071 1423.18 L305.846 1423.18 L329.622 1423.18 L353.397 1423.18 L377.172 1423.18 L400.947 1423.18 \n",
       "  L424.722 1423.18 L448.497 1423.18 L472.272 1423.18 L496.047 1423.18 L519.823 1423.18 L543.598 1423.18 L567.373 1423.18 L591.148 1423.18 L614.923 1423.18 L638.698 1423.18 \n",
       "  L662.473 1423.18 L686.248 1423.18 L710.024 1423.18 L733.799 1423.18 L757.574 1423.18 L781.349 1423.18 L805.124 1423.18 L828.899 1423.18 L852.674 1423.18 L876.449 1423.18 \n",
       "  L900.225 1423.18 L924 1423.18 L947.775 1423.18 L971.55 1423.18 L995.325 1423.18 L1019.1 1423.18 L1042.88 1423.18 L1066.65 1423.18 L1090.43 1423.18 L1114.2 1423.18 \n",
       "  L1137.98 1423.18 L1161.75 1423.18 L1185.53 1423.18 L1209.3 1423.18 L1233.08 1423.18 L1256.85 1423.18 L1280.63 1423.18 L1304.4 1423.18 L1328.18 1423.18 L1351.95 1423.18 \n",
       "  L1375.73 1423.18 L1399.5 1423.18 L1423.28 1423.18 L1447.05 1423.18 L1470.83 1423.18 L1494.6 1423.18 L1518.38 1423.18 L1542.15 1423.18 L1565.93 1423.18 L1589.7 1423.18 \n",
       "  L1613.48 1423.18 L1637.25 1423.18 L1661.03 1423.18 L1684.8 1423.18 L1708.58 1423.18 L1732.35 1423.18 L1756.13 1423.18 L1779.9 1423.18 L1803.68 1423.18 L1827.45 1423.18 \n",
       "  L1851.23 1423.18 L1875 1423.18 L1898.78 1423.18 L1922.55 1423.18 L1946.33 1423.18 L1970.11 1423.18 L1993.88 1423.18 L2017.66 1423.18 L2041.43 1423.18 L2065.21 1423.18 \n",
       "  L2088.98 1423.18 L2112.76 1423.18 L2112.76 1423.18 L2112.76 1423.18 L2112.76 1423.18 L2112.76 1388.78 L2112.76 1354.38 L2112.76 1319.98 L2112.76 1285.59 L2112.76 1251.19 \n",
       "  L2112.76 1216.79 L2112.76 1182.39 L2112.76 1147.99 L2112.76 1113.59 L2112.76 1079.2 L2112.76 1044.8 L2112.76 1010.4 L2112.76 976.001 L2112.76 941.602 L2112.76 907.204 \n",
       "  L2112.76 872.806 L2112.76 838.407 L2112.76 804.009 L2112.76 769.61 L2112.76 735.212 L2112.76 700.814 L2112.76 666.415 L2112.76 632.017 L2112.76 597.618 L2112.76 563.22 \n",
       "  L2112.76 528.822 L2112.76 494.423 L2112.76 460.025 L2112.76 425.626 L2112.76 391.228 L2112.76 356.83 L2112.76 322.431 L2112.76 288.033 L2112.76 253.634 L2112.76 219.236 \n",
       "  L2112.76 184.838 L2112.76 150.439 L2112.76 116.041 L2112.76 81.6425 L2112.76 47.2441 L2112.76 47.2441 L2112.76 47.2441 L2112.76 47.2441 L2088.98 47.2441 L2065.21 47.2441 \n",
       "  L2041.43 47.2441 L2017.66 47.2441 L1993.88 47.2441 L1970.11 47.2441 L1946.33 47.2441 L1922.55 47.2441 L1898.78 47.2441 L1875 47.2441 L1851.23 47.2441 L1827.45 47.2441 \n",
       "  L1803.68 47.2441 L1779.9 47.2441 L1756.13 47.2441 L1732.35 47.2441 L1708.58 47.2441 L1684.8 47.2441 L1661.03 47.2441 L1637.25 47.2441 L1613.48 47.2441 L1589.7 47.2441 \n",
       "  L1565.93 47.2441 L1542.15 47.2441 L1518.38 47.2441 L1494.6 47.2441 L1470.83 47.2441 L1447.05 47.2441 L1423.28 47.2441 L1399.5 47.2441 L1375.73 47.2441 L1351.95 47.2441 \n",
       "  L1328.18 47.2441 L1304.4 47.2441 L1280.63 47.2441 L1256.85 47.2441 L1233.08 47.2441 L1209.3 47.2441 L1185.53 47.2441 L1161.75 47.2441 L1137.98 47.2441 L1114.2 47.2441 \n",
       "  L1090.43 47.2441 L1066.65 47.2441 L1042.88 47.2441 L1019.1 47.2441 L995.325 47.2441 L971.55 47.2441 L947.775 47.2441 L924 47.2441 L900.225 47.2441 L876.449 47.2441 \n",
       "  L852.674 47.2441 L828.899 47.2441 L805.124 47.2441 L781.349 47.2441 L757.574 47.2441 L733.799 47.2441 L710.024 47.2441 L686.248 47.2441 L662.473 47.2441 L638.698 47.2441 \n",
       "  L614.923 47.2441 L591.148 47.2441 L567.373 47.2441 L543.598 47.2441 L519.823 47.2441 L496.047 47.2441 L472.272 47.2441 L448.497 47.2441 L424.722 47.2441 L400.947 47.2441 \n",
       "  L377.172 47.2441 L353.397 47.2441 L329.622 47.2441 L305.846 47.2441 L282.071 47.2441 L258.296 47.2441 L234.521 47.2441 L210.746 47.2441 L210.746 47.2441 L210.746 47.2441 \n",
       "  L210.746 47.2441 L210.746 81.6425 L210.746 116.041 L210.746 150.439 L210.746 184.838 L210.746 219.236 L210.746 253.634 L210.746 288.033 L210.746 322.431 L210.746 356.83 \n",
       "  L210.746 391.228 L210.746 425.626 L210.746 460.025 L210.746 494.423 L210.746 528.822 L210.746 563.22 L210.746 597.618 L210.746 632.017 L210.746 666.415 L210.746 700.814 \n",
       "  L210.746 735.212 L210.746 769.61 L210.746 804.009 L210.746 838.407 L210.746 872.806 L210.746 907.204 L210.746 941.602 L210.746 976.001 L210.746 1010.4 L210.746 1044.8 \n",
       "  L210.746 1079.2 L210.746 1113.59 L210.746 1147.99 L210.746 1182.39 L210.746 1216.79 L210.746 1251.19 L210.746 1285.59 L210.746 1319.98 L210.746 1354.38 L210.746 1388.78 \n",
       "  L210.746 1423.18 L210.746 1423.18 L210.746 1423.18  Z\n",
       "  \" fill=\"#2c7ab6\" fill-rule=\"evenodd\" fill-opacity=\"1\"/>\n",
       "<path clip-path=\"url(#clip272)\" d=\"\n",
       "M210.746 1423.18 L210.746 1423.18 L234.521 1423.18 L258.296 1423.18 L282.071 1423.18 L305.846 1423.18 L329.622 1423.18 L353.397 1423.18 L377.172 1423.18 L400.947 1423.18 \n",
       "  L424.722 1423.18 L448.497 1423.18 L472.272 1423.18 L496.047 1423.18 L519.823 1423.18 L543.598 1423.18 L567.373 1423.18 L591.148 1423.18 L614.923 1423.18 L638.698 1423.18 \n",
       "  L662.473 1423.18 L686.248 1423.18 L710.024 1423.18 L733.799 1423.18 L757.574 1423.18 L781.349 1423.18 L805.124 1423.18 L828.899 1423.18 L852.674 1423.18 L876.449 1423.18 \n",
       "  L900.225 1423.18 L924 1423.18 L947.775 1423.18 L971.55 1423.18 L995.325 1423.18 L1019.1 1423.18 L1042.88 1423.18 L1066.65 1423.18 L1090.43 1423.18 L1114.2 1423.18 \n",
       "  L1137.98 1423.18 L1161.75 1423.18 L1185.53 1423.18 L1209.3 1423.18 L1233.08 1423.18 L1256.85 1423.18 L1280.63 1423.18 L1304.4 1423.18 L1328.18 1423.18 L1351.95 1423.18 \n",
       "  L1375.73 1423.18 L1399.5 1423.18 L1423.28 1423.18 L1447.05 1423.18 L1470.83 1423.18 L1494.6 1423.18 L1518.38 1423.18 L1542.15 1423.18 L1565.93 1423.18 L1589.7 1423.18 \n",
       "  L1613.48 1423.18 L1637.25 1423.18 L1661.03 1423.18 L1684.8 1423.18 L1708.58 1423.18 L1732.35 1423.18 L1756.13 1423.18 L1779.9 1423.18 L1803.68 1423.18 L1827.45 1423.18 \n",
       "  L1851.23 1423.18 L1875 1423.18 L1898.78 1423.18 L1922.55 1423.18 L1946.33 1423.18 L1970.11 1423.18 L1993.88 1423.18 L2017.66 1423.18 L2041.43 1423.18 L2065.21 1423.18 \n",
       "  L2088.98 1423.18 L2112.76 1423.18 L2112.76 1423.18 L2112.76 1423.18 L2112.76 1423.18 L2112.76 1388.78 L2112.76 1354.38 L2112.76 1319.98 L2112.76 1285.59 L2112.76 1251.19 \n",
       "  L2112.76 1216.79 L2112.76 1182.39 L2112.76 1147.99 L2112.76 1113.59 L2112.76 1079.2 L2112.76 1044.8 L2112.76 1010.4 L2112.76 976.001 L2112.76 941.602 L2112.76 907.204 \n",
       "  L2112.76 872.806 L2112.76 872.806 L2112.76 859.132 L2098.23 838.407 L2088.98 819.928 L2081.73 804.009 L2072.34 769.61 L2069.21 735.212 L2072.34 700.814 L2081.73 666.415 \n",
       "  L2088.98 650.496 L2098.23 632.017 L2112.76 611.291 L2112.76 632.017 L2112.76 597.618 L2112.76 563.22 L2112.76 528.822 L2112.76 494.423 L2112.76 460.025 L2112.76 425.626 \n",
       "  L2112.76 391.228 L2112.76 356.83 L2112.76 322.431 L2112.76 288.033 L2112.76 253.634 L2112.76 219.236 L2112.76 184.838 L2112.76 150.439 L2112.76 116.041 L2112.76 81.6425 \n",
       "  L2112.76 47.2441 L2112.76 47.2441 L2112.76 47.2441 L2112.76 47.2441 L2088.98 47.2441 L2065.21 47.2441 L2041.43 47.2441 L2017.66 47.2441 L1993.88 47.2441 L1970.11 47.2441 \n",
       "  L1946.33 47.2441 L1922.55 47.2441 L1898.78 47.2441 L1875 47.2441 L1851.23 47.2441 L1827.45 47.2441 L1803.68 47.2441 L1779.9 47.2441 L1756.13 47.2441 L1732.35 47.2441 \n",
       "  L1708.58 47.2441 L1684.8 47.2441 L1661.03 47.2441 L1637.25 47.2441 L1613.48 47.2441 L1589.7 47.2441 L1565.93 47.2441 L1542.15 47.2441 L1518.38 47.2441 L1494.6 47.2441 \n",
       "  L1470.83 47.2441 L1447.05 47.2441 L1423.28 47.2441 L1399.5 47.2441 L1375.73 47.2441 L1351.95 47.2441 L1328.18 47.2441 L1304.4 47.2441 L1280.63 47.2441 L1256.85 47.2441 \n",
       "  L1233.08 47.2441 L1209.3 47.2441 L1185.53 47.2441 L1161.75 47.2441 L1137.98 47.2441 L1114.2 47.2441 L1090.43 47.2441 L1066.65 47.2441 L1042.88 47.2441 L1019.1 47.2441 \n",
       "  L995.325 47.2441 L971.55 47.2441 L947.775 47.2441 L924 47.2441 L900.225 47.2441 L876.449 47.2441 L852.674 47.2441 L828.899 47.2441 L805.124 47.2441 L781.349 47.2441 \n",
       "  L757.574 47.2441 L733.799 47.2441 L710.024 47.2441 L686.248 47.2441 L662.473 47.2441 L638.698 47.2441 L614.923 47.2441 L591.148 47.2441 L567.373 47.2441 L543.598 47.2441 \n",
       "  L519.823 47.2441 L496.047 47.2441 L472.272 47.2441 L448.497 47.2441 L424.722 47.2441 L400.947 47.2441 L377.172 47.2441 L353.397 47.2441 L329.622 47.2441 L305.846 47.2441 \n",
       "  L282.071 47.2441 L258.296 47.2441 L234.521 47.2441 L210.746 47.2441 L210.746 47.2441 L210.746 47.2441 L210.746 47.2441 L210.746 81.6425 L210.746 116.041 L210.746 150.439 \n",
       "  L210.746 184.838 L210.746 219.236 L210.746 253.634 L210.746 288.033 L210.746 322.431 L210.746 356.83 L210.746 391.228 L210.746 425.626 L210.746 460.025 L210.746 494.423 \n",
       "  L210.746 528.822 L210.746 563.22 L210.746 597.618 L210.746 632.017 L210.746 666.415 L210.746 700.814 L210.746 735.212 L210.746 769.61 L210.746 804.009 L210.746 838.407 \n",
       "  L210.746 872.806 L210.746 907.204 L210.746 941.602 L210.746 976.001 L210.746 1010.4 L210.746 1044.8 L210.746 1079.2 L210.746 1113.59 L210.746 1147.99 L210.746 1182.39 \n",
       "  L210.746 1216.79 L210.746 1251.19 L210.746 1285.59 L210.746 1319.98 L210.746 1354.38 L210.746 1388.78 L210.746 1423.18 L210.746 1423.18 L210.746 1423.18 M757.574 943.465 L781.349 945.557 L805.124 945.007 L828.899 941.82 L829.793 941.602 L852.674 935.014 L876.449 925.157 L900.225 912.389 L908.15 907.204 L924 894.532 \n",
       "  L947.243 872.806 L947.775 872.167 L971.55 839.748 L972.437 838.407 L988.691 804.009 L995.325 780.607 L998.191 769.61 L1001.18 735.212 L998.191 700.814 L995.325 689.817 \n",
       "  L988.691 666.415 L972.437 632.017 L971.55 630.676 L947.775 598.257 L947.243 597.618 L924 575.892 L908.15 563.22 L900.225 558.035 L876.449 545.266 L852.674 535.41 \n",
       "  L829.793 528.822 L828.899 528.604 L805.124 525.417 L781.349 524.867 L757.574 526.959 L748.182 528.822 L733.799 532.192 L710.024 540.807 L686.248 552.378 L668.363 563.22 \n",
       "  L662.473 567.584 L638.698 588.495 L629.66 597.618 L614.923 616.745 L604.404 632.017 L591.148 658.96 L587.802 666.415 L578.538 700.814 L575.45 735.212 L578.538 769.61 \n",
       "  L587.802 804.009 L591.148 811.464 L604.404 838.407 L614.923 853.679 L629.66 872.806 L638.698 881.929 L662.473 902.84 L668.363 907.204 L686.248 918.046 L710.024 929.617 \n",
       "  L733.799 938.232 L748.182 941.602 L757.574 943.465  Z\n",
       "  \" fill=\"#4d94c3\" fill-rule=\"evenodd\" fill-opacity=\"1\"/>\n",
       "<path clip-path=\"url(#clip272)\" d=\"\n",
       "M210.746 1423.18 L210.746 1423.18 L234.521 1423.18 L258.296 1423.18 L282.071 1423.18 L305.846 1423.18 L329.622 1423.18 L353.397 1423.18 L377.172 1423.18 L400.947 1423.18 \n",
       "  L424.722 1423.18 L448.497 1423.18 L472.272 1423.18 L496.047 1423.18 L519.823 1423.18 L543.598 1423.18 L567.373 1423.18 L591.148 1423.18 L614.923 1423.18 L638.698 1423.18 \n",
       "  L662.473 1423.18 L686.248 1423.18 L710.024 1423.18 L733.799 1423.18 L757.574 1423.18 L781.349 1423.18 L805.124 1423.18 L828.899 1423.18 L852.674 1423.18 L876.449 1423.18 \n",
       "  L900.225 1423.18 L924 1423.18 L947.775 1423.18 L971.55 1423.18 L995.325 1423.18 L1019.1 1423.18 L1042.88 1423.18 L1066.65 1423.18 L1090.43 1423.18 L1114.2 1423.18 \n",
       "  L1137.98 1423.18 L1161.75 1423.18 L1185.53 1423.18 L1209.3 1423.18 L1233.08 1423.18 L1256.85 1423.18 L1280.63 1423.18 L1304.4 1423.18 L1328.18 1423.18 L1351.95 1423.18 \n",
       "  L1375.73 1423.18 L1399.5 1423.18 L1423.28 1423.18 L1447.05 1423.18 L1470.83 1423.18 L1494.6 1423.18 L1518.38 1423.18 L1542.15 1423.18 L1565.93 1423.18 L1589.7 1423.18 \n",
       "  L1613.48 1423.18 L1637.25 1423.18 L1661.03 1423.18 L1684.8 1423.18 L1708.58 1423.18 L1732.35 1423.18 L1756.13 1423.18 L1779.9 1423.18 L1803.68 1423.18 L1827.45 1423.18 \n",
       "  L1851.23 1423.18 L1875 1423.18 L1898.78 1423.18 L1922.55 1423.18 L1946.33 1423.18 L1970.11 1423.18 L1993.88 1423.18 L2017.66 1423.18 L2041.43 1423.18 L2065.21 1423.18 \n",
       "  L2088.98 1423.18 L2112.76 1423.18 L2112.76 1423.18 L2112.76 1423.18 L2112.76 1423.18 L2112.76 1388.78 L2112.76 1354.38 L2112.76 1319.98 L2112.76 1285.59 L2112.76 1251.19 \n",
       "  L2112.76 1216.79 L2112.76 1182.39 L2112.76 1147.99 L2112.76 1113.59 L2112.76 1079.2 L2112.76 1044.8 L2112.76 1010.4 L2112.76 1010.4 L2112.76 979.927 L2106.86 976.001 \n",
       "  L2088.98 962.264 L2065.21 942.179 L2064.57 941.602 L2041.43 916.634 L2033.22 907.204 L2017.66 885.357 L2009.14 872.806 L1993.88 843.863 L1991.11 838.407 L1978.63 804.009 \n",
       "  L1971.14 769.61 L1970.11 755.373 L1968.68 735.212 L1970.11 715.051 L1971.14 700.814 L1978.63 666.415 L1991.11 632.017 L1993.88 626.561 L2009.14 597.618 L2017.66 585.067 \n",
       "  L2033.22 563.22 L2041.43 553.79 L2064.57 528.822 L2065.21 528.245 L2088.98 508.16 L2106.86 494.423 L2112.76 490.497 L2112.76 494.423 L2112.76 460.025 L2112.76 425.626 \n",
       "  L2112.76 391.228 L2112.76 356.83 L2112.76 322.431 L2112.76 288.033 L2112.76 253.634 L2112.76 219.236 L2112.76 184.838 L2112.76 150.439 L2112.76 116.041 L2112.76 81.6425 \n",
       "  L2112.76 47.2441 L2112.76 47.2441 L2112.76 47.2441 L2112.76 47.2441 L2088.98 47.2441 L2065.21 47.2441 L2041.43 47.2441 L2017.66 47.2441 L1993.88 47.2441 L1970.11 47.2441 \n",
       "  L1946.33 47.2441 L1922.55 47.2441 L1898.78 47.2441 L1875 47.2441 L1851.23 47.2441 L1827.45 47.2441 L1803.68 47.2441 L1779.9 47.2441 L1756.13 47.2441 L1732.35 47.2441 \n",
       "  L1708.58 47.2441 L1684.8 47.2441 L1661.03 47.2441 L1637.25 47.2441 L1613.48 47.2441 L1589.7 47.2441 L1565.93 47.2441 L1542.15 47.2441 L1518.38 47.2441 L1494.6 47.2441 \n",
       "  L1470.83 47.2441 L1447.05 47.2441 L1423.28 47.2441 L1399.5 47.2441 L1375.73 47.2441 L1351.95 47.2441 L1328.18 47.2441 L1304.4 47.2441 L1280.63 47.2441 L1256.85 47.2441 \n",
       "  L1233.08 47.2441 L1209.3 47.2441 L1185.53 47.2441 L1161.75 47.2441 L1137.98 47.2441 L1114.2 47.2441 L1090.43 47.2441 L1066.65 47.2441 L1042.88 47.2441 L1019.1 47.2441 \n",
       "  L995.325 47.2441 L971.55 47.2441 L947.775 47.2441 L924 47.2441 L900.225 47.2441 L876.449 47.2441 L852.674 47.2441 L828.899 47.2441 L805.124 47.2441 L781.349 47.2441 \n",
       "  L757.574 47.2441 L733.799 47.2441 L710.024 47.2441 L686.248 47.2441 L662.473 47.2441 L638.698 47.2441 L614.923 47.2441 L591.148 47.2441 L567.373 47.2441 L543.598 47.2441 \n",
       "  L519.823 47.2441 L496.047 47.2441 L472.272 47.2441 L448.497 47.2441 L424.722 47.2441 L400.947 47.2441 L377.172 47.2441 L353.397 47.2441 L329.622 47.2441 L305.846 47.2441 \n",
       "  L282.071 47.2441 L258.296 47.2441 L234.521 47.2441 L210.746 47.2441 L210.746 47.2441 L210.746 47.2441 L210.746 47.2441 L210.746 81.6425 L210.746 116.041 L210.746 150.439 \n",
       "  L210.746 184.838 L210.746 219.236 L210.746 253.634 L210.746 288.033 L210.746 322.431 L210.746 356.83 L210.746 391.228 L210.746 425.626 L210.746 460.025 L210.746 494.423 \n",
       "  L210.746 528.822 L210.746 563.22 L210.746 597.618 L210.746 632.017 L210.746 666.415 L210.746 700.814 L210.746 735.212 L210.746 769.61 L210.746 804.009 L210.746 838.407 \n",
       "  L210.746 872.806 L210.746 907.204 L210.746 941.602 L210.746 976.001 L210.746 1010.4 L210.746 1044.8 L210.746 1079.2 L210.746 1113.59 L210.746 1147.99 L210.746 1182.39 \n",
       "  L210.746 1216.79 L210.746 1251.19 L210.746 1285.59 L210.746 1319.98 L210.746 1354.38 L210.746 1388.78 L210.746 1423.18 L210.746 1423.18 L210.746 1423.18 M686.248 1014.37 L710.024 1021.86 L733.799 1027.43 L757.574 1031.04 L781.349 1032.64 L805.124 1032.21 L828.899 1029.78 L852.674 1025.35 L876.449 1018.97 L900.225 1010.71 \n",
       "  L900.955 1010.4 L924 999.344 L947.775 986.01 L963.505 976.001 L971.55 970.094 L995.325 950.741 L1005.64 941.602 L1019.1 927.518 L1037.22 907.204 L1042.88 899.463 \n",
       "  L1061.3 872.806 L1066.65 862.849 L1079.24 838.407 L1090.43 808.026 L1091.86 804.009 L1099.22 769.61 L1101.68 735.212 L1099.22 700.814 L1091.86 666.415 L1090.43 662.397 \n",
       "  L1079.24 632.017 L1066.65 607.575 L1061.3 597.618 L1042.88 570.961 L1037.22 563.22 L1019.1 542.905 L1005.64 528.822 L995.325 519.683 L971.55 500.33 L963.505 494.423 \n",
       "  L947.775 484.414 L924 471.08 L900.955 460.025 L900.225 459.716 L876.449 451.454 L852.674 445.076 L828.899 440.646 L805.124 438.209 L781.349 437.789 L757.574 439.389 \n",
       "  L733.799 442.994 L710.024 448.568 L686.248 456.055 L676.129 460.025 L662.473 466.095 L638.698 478.642 L614.923 493.042 L612.884 494.423 L591.148 511.415 L570.834 528.822 \n",
       "  L567.373 532.327 L543.598 558.273 L539.329 563.22 L519.823 590.853 L515.268 597.618 L497.255 632.017 L496.047 635.245 L484.796 666.415 L477.346 700.814 L474.863 735.212 \n",
       "  L477.346 769.61 L484.796 804.009 L496.047 835.179 L497.255 838.407 L515.268 872.806 L519.823 879.57 L539.329 907.204 L543.598 912.151 L567.373 938.097 L570.834 941.602 \n",
       "  L591.148 959.009 L612.884 976.001 L614.923 977.382 L638.698 991.782 L662.473 1004.33 L676.129 1010.4 L686.248 1014.37  Z\n",
       "  \" fill=\"#6fadd1\" fill-rule=\"evenodd\" fill-opacity=\"1\"/>\n",
       "<path clip-path=\"url(#clip272)\" d=\"\n",
       "M210.746 1423.18 L210.746 1423.18 L234.521 1423.18 L258.296 1423.18 L282.071 1423.18 L305.846 1423.18 L329.622 1423.18 L353.397 1423.18 L377.172 1423.18 L400.947 1423.18 \n",
       "  L424.722 1423.18 L448.497 1423.18 L472.272 1423.18 L496.047 1423.18 L519.823 1423.18 L543.598 1423.18 L567.373 1423.18 L591.148 1423.18 L614.923 1423.18 L638.698 1423.18 \n",
       "  L662.473 1423.18 L686.248 1423.18 L710.024 1423.18 L733.799 1423.18 L757.574 1423.18 L781.349 1423.18 L805.124 1423.18 L828.899 1423.18 L852.674 1423.18 L876.449 1423.18 \n",
       "  L900.225 1423.18 L924 1423.18 L947.775 1423.18 L971.55 1423.18 L995.325 1423.18 L1019.1 1423.18 L1042.88 1423.18 L1066.65 1423.18 L1090.43 1423.18 L1114.2 1423.18 \n",
       "  L1137.98 1423.18 L1161.75 1423.18 L1185.53 1423.18 L1209.3 1423.18 L1233.08 1423.18 L1256.85 1423.18 L1280.63 1423.18 L1304.4 1423.18 L1328.18 1423.18 L1351.95 1423.18 \n",
       "  L1375.73 1423.18 L1399.5 1423.18 L1423.28 1423.18 L1447.05 1423.18 L1470.83 1423.18 L1494.6 1423.18 L1518.38 1423.18 L1542.15 1423.18 L1565.93 1423.18 L1589.7 1423.18 \n",
       "  L1613.48 1423.18 L1637.25 1423.18 L1661.03 1423.18 L1684.8 1423.18 L1708.58 1423.18 L1732.35 1423.18 L1756.13 1423.18 L1779.9 1423.18 L1803.68 1423.18 L1827.45 1423.18 \n",
       "  L1851.23 1423.18 L1875 1423.18 L1898.78 1423.18 L1922.55 1423.18 L1946.33 1423.18 L1970.11 1423.18 L1993.88 1423.18 L2017.66 1423.18 L2041.43 1423.18 L2065.21 1423.18 \n",
       "  L2088.98 1423.18 L2112.76 1423.18 L2112.76 1423.18 L2112.76 1423.18 L2112.76 1423.18 L2112.76 1388.78 L2112.76 1354.38 L2112.76 1319.98 L2112.76 1285.59 L2112.76 1251.19 \n",
       "  L2112.76 1216.79 L2112.76 1182.39 L2112.76 1147.99 L2112.76 1113.59 L2112.76 1079.2 L2112.76 1079.2 L2112.76 1057.85 L2088.98 1045.35 L2088.03 1044.8 L2065.21 1030.05 \n",
       "  L2041.43 1013.46 L2037.32 1010.4 L2017.66 993.839 L1997.5 976.001 L1993.88 972.309 L1970.11 947.108 L1965.05 941.602 L1946.33 917.527 L1938.43 907.204 L1922.55 881.841 \n",
       "  L1916.93 872.806 L1900.28 838.407 L1898.78 834.063 L1888.35 804.009 L1881.18 769.61 L1878.79 735.212 L1881.18 700.814 L1888.35 666.415 L1898.78 636.361 L1900.28 632.017 \n",
       "  L1916.93 597.618 L1922.55 588.583 L1938.43 563.22 L1946.33 552.897 L1965.05 528.822 L1970.11 523.316 L1993.88 498.114 L1997.5 494.423 L2017.66 476.585 L2037.32 460.025 \n",
       "  L2041.43 456.969 L2065.21 440.372 L2088.03 425.626 L2088.98 425.077 L2112.76 412.579 L2112.76 425.626 L2112.76 391.228 L2112.76 356.83 L2112.76 322.431 L2112.76 288.033 \n",
       "  L2112.76 253.634 L2112.76 219.236 L2112.76 184.838 L2112.76 150.439 L2112.76 116.041 L2112.76 81.6425 L2112.76 47.2441 L2112.76 47.2441 L2112.76 47.2441 L2112.76 47.2441 \n",
       "  L2088.98 47.2441 L2065.21 47.2441 L2041.43 47.2441 L2017.66 47.2441 L1993.88 47.2441 L1970.11 47.2441 L1946.33 47.2441 L1922.55 47.2441 L1898.78 47.2441 L1875 47.2441 \n",
       "  L1851.23 47.2441 L1827.45 47.2441 L1803.68 47.2441 L1779.9 47.2441 L1756.13 47.2441 L1732.35 47.2441 L1708.58 47.2441 L1684.8 47.2441 L1661.03 47.2441 L1637.25 47.2441 \n",
       "  L1613.48 47.2441 L1589.7 47.2441 L1565.93 47.2441 L1542.15 47.2441 L1518.38 47.2441 L1494.6 47.2441 L1470.83 47.2441 L1447.05 47.2441 L1423.28 47.2441 L1399.5 47.2441 \n",
       "  L1375.73 47.2441 L1351.95 47.2441 L1328.18 47.2441 L1304.4 47.2441 L1280.63 47.2441 L1256.85 47.2441 L1233.08 47.2441 L1209.3 47.2441 L1185.53 47.2441 L1161.75 47.2441 \n",
       "  L1137.98 47.2441 L1114.2 47.2441 L1090.43 47.2441 L1066.65 47.2441 L1042.88 47.2441 L1019.1 47.2441 L995.325 47.2441 L971.55 47.2441 L947.775 47.2441 L924 47.2441 \n",
       "  L900.225 47.2441 L876.449 47.2441 L852.674 47.2441 L828.899 47.2441 L805.124 47.2441 L781.349 47.2441 L757.574 47.2441 L733.799 47.2441 L710.024 47.2441 L686.248 47.2441 \n",
       "  L662.473 47.2441 L638.698 47.2441 L614.923 47.2441 L591.148 47.2441 L567.373 47.2441 L543.598 47.2441 L519.823 47.2441 L496.047 47.2441 L472.272 47.2441 L448.497 47.2441 \n",
       "  L424.722 47.2441 L400.947 47.2441 L377.172 47.2441 L353.397 47.2441 L329.622 47.2441 L305.846 47.2441 L282.071 47.2441 L258.296 47.2441 L234.521 47.2441 L210.746 47.2441 \n",
       "  L210.746 47.2441 L210.746 47.2441 L210.746 47.2441 L210.746 81.6425 L210.746 116.041 L210.746 150.439 L210.746 184.838 L210.746 219.236 L210.746 253.634 L210.746 288.033 \n",
       "  L210.746 322.431 L210.746 356.83 L210.746 391.228 L210.746 425.626 L210.746 460.025 L210.746 494.423 L210.746 528.822 L210.746 563.22 L210.746 597.618 L210.746 632.017 \n",
       "  L210.746 666.415 L210.746 700.814 L210.746 735.212 L210.746 769.61 L210.746 804.009 L210.746 838.407 L210.746 872.806 L210.746 907.204 L210.746 941.602 L210.746 976.001 \n",
       "  L210.746 1010.4 L210.746 1044.8 L210.746 1079.2 L210.746 1113.59 L210.746 1147.99 L210.746 1182.39 L210.746 1216.79 L210.746 1251.19 L210.746 1285.59 L210.746 1319.98 \n",
       "  L210.746 1354.38 L210.746 1388.78 L210.746 1423.18 L210.746 1423.18 L210.746 1423.18 M686.248 1084.86 L710.024 1090.92 L733.799 1095.43 L757.574 1098.35 \n",
       "  L781.349 1099.64 L805.124 1099.3 L828.899 1097.33 L852.674 1093.75 L876.449 1088.58 L900.225 1081.89 L908.099 1079.2 L924 1073.17 L947.775 1062.65 L971.55 1050.7 \n",
       "  L982.155 1044.8 L995.325 1036.6 L1019.1 1020.5 L1033.02 1010.4 L1042.88 1002.3 L1066.65 981.662 L1072.9 976.001 L1090.43 957.687 L1105.35 941.602 L1114.2 930.325 \n",
       "  L1131.99 907.204 L1137.98 897.687 L1153.48 872.806 L1161.75 855.737 L1170.15 838.407 L1182.06 804.009 L1185.53 787.306 L1189.24 769.61 L1191.64 735.212 L1189.24 700.814 \n",
       "  L1185.53 683.118 L1182.06 666.415 L1170.15 632.017 L1161.75 614.687 L1153.48 597.618 L1137.98 572.737 L1131.99 563.22 L1114.2 540.099 L1105.35 528.822 L1090.43 512.737 \n",
       "  L1072.9 494.423 L1066.65 488.762 L1042.88 468.122 L1033.02 460.025 L1019.1 449.926 L995.325 433.825 L982.155 425.626 L971.55 419.72 L947.775 407.777 L924 397.25 \n",
       "  L908.099 391.228 L900.225 388.53 L876.449 381.841 L852.674 376.678 L828.899 373.093 L805.124 371.119 L781.349 370.779 L757.574 372.074 L733.799 374.993 L710.024 379.505 \n",
       "  L686.248 385.566 L668.418 391.228 L662.473 393.314 L638.698 403.22 L614.923 414.588 L594.286 425.626 L591.148 427.502 L567.373 443.081 L543.598 459.869 L543.391 460.025 \n",
       "  L519.823 480.057 L503.702 494.423 L496.047 502.294 L472.272 527.627 L471.178 528.822 L448.497 558.096 L444.583 563.22 L424.722 595.001 L423.093 597.618 L406.443 632.017 \n",
       "  L400.947 647.914 L394.513 666.415 L387.335 700.814 L384.943 735.212 L387.335 769.61 L394.513 804.009 L400.947 822.51 L406.443 838.407 L423.093 872.806 L424.722 875.423 \n",
       "  L444.583 907.204 L448.497 912.328 L471.178 941.602 L472.272 942.797 L496.047 968.13 L503.702 976.001 L519.823 990.367 L543.391 1010.4 L543.598 1010.55 L567.373 1027.34 \n",
       "  L591.148 1042.92 L594.286 1044.8 L614.923 1055.84 L638.698 1067.2 L662.473 1077.11 L668.418 1079.2 L686.248 1084.86  Z\n",
       "  \" fill=\"#91c6de\" fill-rule=\"evenodd\" fill-opacity=\"1\"/>\n",
       "<path clip-path=\"url(#clip272)\" d=\"\n",
       "M210.746 1423.18 L210.746 1423.18 L234.521 1423.18 L258.296 1423.18 L282.071 1423.18 L305.846 1423.18 L329.622 1423.18 L353.397 1423.18 L377.172 1423.18 L400.947 1423.18 \n",
       "  L424.722 1423.18 L448.497 1423.18 L472.272 1423.18 L496.047 1423.18 L519.823 1423.18 L543.598 1423.18 L567.373 1423.18 L591.148 1423.18 L614.923 1423.18 L638.698 1423.18 \n",
       "  L662.473 1423.18 L686.248 1423.18 L710.024 1423.18 L733.799 1423.18 L757.574 1423.18 L781.349 1423.18 L805.124 1423.18 L828.899 1423.18 L852.674 1423.18 L876.449 1423.18 \n",
       "  L900.225 1423.18 L924 1423.18 L947.775 1423.18 L971.55 1423.18 L995.325 1423.18 L1019.1 1423.18 L1042.88 1423.18 L1066.65 1423.18 L1090.43 1423.18 L1114.2 1423.18 \n",
       "  L1137.98 1423.18 L1161.75 1423.18 L1185.53 1423.18 L1209.3 1423.18 L1233.08 1423.18 L1256.85 1423.18 L1280.63 1423.18 L1304.4 1423.18 L1328.18 1423.18 L1351.95 1423.18 \n",
       "  L1375.73 1423.18 L1399.5 1423.18 L1423.28 1423.18 L1447.05 1423.18 L1470.83 1423.18 L1494.6 1423.18 L1518.38 1423.18 L1542.15 1423.18 L1565.93 1423.18 L1589.7 1423.18 \n",
       "  L1613.48 1423.18 L1637.25 1423.18 L1661.03 1423.18 L1684.8 1423.18 L1708.58 1423.18 L1732.35 1423.18 L1756.13 1423.18 L1779.9 1423.18 L1803.68 1423.18 L1827.45 1423.18 \n",
       "  L1851.23 1423.18 L1875 1423.18 L1898.78 1423.18 L1922.55 1423.18 L1946.33 1423.18 L1970.11 1423.18 L1993.88 1423.18 L2017.66 1423.18 L2041.43 1423.18 L2065.21 1423.18 \n",
       "  L2088.98 1423.18 L2112.76 1423.18 L2112.76 1423.18 L2112.76 1423.18 L2112.76 1423.18 L2112.76 1388.78 L2112.76 1354.38 L2112.76 1319.98 L2112.76 1285.59 L2112.76 1251.19 \n",
       "  L2112.76 1216.79 L2112.76 1182.39 L2112.76 1147.99 L2112.76 1147.99 L2112.76 1120.63 L2096.56 1113.59 L2088.98 1109.99 L2065.21 1097.55 L2041.43 1084.12 L2033.25 1079.2 \n",
       "  L2017.66 1068.83 L1993.88 1052.22 L1983.65 1044.8 L1970.11 1033.82 L1946.33 1014.03 L1942.03 1010.4 L1922.55 991.729 L1906.24 976.001 L1898.78 967.701 L1875.22 941.602 \n",
       "  L1875 941.319 L1851.23 910.632 L1848.51 907.204 L1827.45 874.803 L1826.11 872.806 L1808.1 838.407 L1803.68 826.597 L1794.82 804.009 L1786.73 769.61 L1784.03 735.212 \n",
       "  L1786.73 700.814 L1794.82 666.415 L1803.68 643.827 L1808.1 632.017 L1826.11 597.618 L1827.45 595.621 L1848.51 563.22 L1851.23 559.791 L1875 529.105 L1875.22 528.822 \n",
       "  L1898.78 502.723 L1906.24 494.423 L1922.55 478.695 L1942.03 460.025 L1946.33 456.391 L1970.11 436.603 L1983.65 425.626 L1993.88 418.204 L2017.66 401.596 L2033.25 391.228 \n",
       "  L2041.43 386.306 L2065.21 372.871 L2088.98 360.437 L2096.56 356.83 L2112.76 349.798 L2112.76 356.83 L2112.76 322.431 L2112.76 288.033 L2112.76 253.634 L2112.76 219.236 \n",
       "  L2112.76 184.838 L2112.76 150.439 L2112.76 116.041 L2112.76 81.6425 L2112.76 47.2441 L2112.76 47.2441 L2112.76 47.2441 L2112.76 47.2441 L2088.98 47.2441 L2065.21 47.2441 \n",
       "  L2041.43 47.2441 L2017.66 47.2441 L1993.88 47.2441 L1970.11 47.2441 L1946.33 47.2441 L1922.55 47.2441 L1898.78 47.2441 L1875 47.2441 L1851.23 47.2441 L1827.45 47.2441 \n",
       "  L1803.68 47.2441 L1779.9 47.2441 L1756.13 47.2441 L1732.35 47.2441 L1708.58 47.2441 L1684.8 47.2441 L1661.03 47.2441 L1637.25 47.2441 L1613.48 47.2441 L1589.7 47.2441 \n",
       "  L1565.93 47.2441 L1542.15 47.2441 L1518.38 47.2441 L1494.6 47.2441 L1470.83 47.2441 L1447.05 47.2441 L1423.28 47.2441 L1399.5 47.2441 L1375.73 47.2441 L1351.95 47.2441 \n",
       "  L1328.18 47.2441 L1304.4 47.2441 L1280.63 47.2441 L1256.85 47.2441 L1233.08 47.2441 L1209.3 47.2441 L1185.53 47.2441 L1161.75 47.2441 L1137.98 47.2441 L1114.2 47.2441 \n",
       "  L1090.43 47.2441 L1066.65 47.2441 L1042.88 47.2441 L1019.1 47.2441 L995.325 47.2441 L971.55 47.2441 L947.775 47.2441 L924 47.2441 L900.225 47.2441 L876.449 47.2441 \n",
       "  L852.674 47.2441 L828.899 47.2441 L805.124 47.2441 L781.349 47.2441 L757.574 47.2441 L733.799 47.2441 L710.024 47.2441 L686.248 47.2441 L662.473 47.2441 L638.698 47.2441 \n",
       "  L614.923 47.2441 L591.148 47.2441 L567.373 47.2441 L543.598 47.2441 L519.823 47.2441 L496.047 47.2441 L472.272 47.2441 L448.497 47.2441 L424.722 47.2441 L400.947 47.2441 \n",
       "  L377.172 47.2441 L353.397 47.2441 L329.622 47.2441 L305.846 47.2441 L282.071 47.2441 L258.296 47.2441 L234.521 47.2441 L210.746 47.2441 L210.746 47.2441 L210.746 47.2441 \n",
       "  L210.746 47.2441 L210.746 81.6425 L210.746 116.041 L210.746 150.439 L210.746 184.838 L210.746 219.236 L210.746 253.634 L210.746 288.033 L210.746 322.431 L210.746 356.83 \n",
       "  L210.746 391.228 L210.746 425.626 L210.746 460.025 L210.746 494.423 L210.746 528.822 L210.746 563.22 L210.746 597.618 L210.746 632.017 L210.746 666.415 L210.746 700.814 \n",
       "  L210.746 735.212 L210.746 769.61 L210.746 804.009 L210.746 838.407 L210.746 872.806 L210.746 907.204 L210.746 941.602 L210.746 976.001 L210.746 1010.4 L210.746 1044.8 \n",
       "  L210.746 1079.2 L210.746 1113.59 L210.746 1147.99 L210.746 1182.39 L210.746 1216.79 L210.746 1251.19 L210.746 1285.59 L210.746 1319.98 L210.746 1354.38 L210.746 1388.78 \n",
       "  L210.746 1423.18 L210.746 1423.18 L210.746 1423.18 M710.024 1148.89 L733.799 1152.68 L757.574 1155.13 L781.349 1156.22 L805.124 1155.93 L828.899 1154.28 \n",
       "  L852.674 1151.26 L870.605 1147.99 L876.449 1146.83 L900.225 1140.73 L924 1133.29 L947.775 1124.59 L971.55 1114.73 L974.01 1113.59 L995.325 1102.85 L1019.1 1089.82 \n",
       "  L1037.19 1079.2 L1042.88 1075.51 L1066.65 1059.21 L1086.81 1044.8 L1090.43 1041.91 L1114.2 1022.31 L1128.36 1010.4 L1137.98 1001.24 L1161.75 978.343 L1164.18 976.001 \n",
       "  L1185.53 952.287 L1195.24 941.602 L1209.3 923.322 L1221.95 907.204 L1233.08 889.887 L1244.39 872.806 L1256.85 848.626 L1262.34 838.407 L1275.55 804.009 L1280.63 781.98 \n",
       "  L1283.64 769.61 L1286.43 735.212 L1283.64 700.814 L1280.63 688.444 L1275.55 666.415 L1262.34 632.017 L1256.85 621.798 L1244.39 597.618 L1233.08 580.537 L1221.95 563.22 \n",
       "  L1209.3 547.102 L1195.24 528.822 L1185.53 518.137 L1164.18 494.423 L1161.75 492.081 L1137.98 469.187 L1128.36 460.025 L1114.2 448.11 L1090.43 428.513 L1086.81 425.626 \n",
       "  L1066.65 411.21 L1042.88 394.914 L1037.19 391.228 L1019.1 380.605 L995.325 367.57 L974.01 356.83 L971.55 355.698 L947.775 345.831 L924 337.135 L900.225 329.697 \n",
       "  L876.449 323.59 L870.605 322.431 L852.674 319.16 L828.899 316.148 L805.124 314.491 L781.349 314.205 L757.574 315.293 L733.799 317.745 L710.024 321.535 L705.839 322.431 \n",
       "  L686.248 326.991 L662.473 333.884 L638.698 342.067 L614.923 351.458 L602.766 356.83 L591.148 362.452 L567.373 375.063 L543.598 388.654 L539.358 391.228 L519.823 404.337 \n",
       "  L496.047 421.064 L489.789 425.626 L472.272 439.899 L448.497 459.755 L448.179 460.025 L424.722 482.546 L412.402 494.423 L400.947 507.167 L381.367 528.822 L377.172 534.304 \n",
       "  L354.692 563.22 L353.397 565.256 L332.26 597.618 L329.622 602.813 L314.219 632.017 L305.846 654.243 L301.029 666.415 L292.86 700.814 L290.137 735.212 L292.86 769.61 \n",
       "  L301.029 804.009 L305.846 816.181 L314.219 838.407 L329.622 867.611 L332.26 872.806 L353.397 905.168 L354.692 907.204 L377.172 936.12 L381.367 941.602 L400.947 963.257 \n",
       "  L412.402 976.001 L424.722 987.878 L448.179 1010.4 L448.497 1010.67 L472.272 1030.52 L489.789 1044.8 L496.047 1049.36 L519.823 1066.09 L539.358 1079.2 L543.598 1081.77 \n",
       "  L567.373 1095.36 L591.148 1107.97 L602.766 1113.59 L614.923 1118.97 L638.698 1128.36 L662.473 1136.54 L686.248 1143.43 L705.839 1147.99 L710.024 1148.89  Z\n",
       "  \" fill=\"#b0dbe6\" fill-rule=\"evenodd\" fill-opacity=\"1\"/>\n",
       "<path clip-path=\"url(#clip272)\" d=\"\n",
       "M210.746 1423.18 L210.746 1423.18 L234.521 1423.18 L258.296 1423.18 L282.071 1423.18 L305.846 1423.18 L329.622 1423.18 L353.397 1423.18 L377.172 1423.18 L400.947 1423.18 \n",
       "  L424.722 1423.18 L448.497 1423.18 L472.272 1423.18 L496.047 1423.18 L519.823 1423.18 L543.598 1423.18 L567.373 1423.18 L591.148 1423.18 L614.923 1423.18 L638.698 1423.18 \n",
       "  L662.473 1423.18 L686.248 1423.18 L710.024 1423.18 L733.799 1423.18 L757.574 1423.18 L781.349 1423.18 L805.124 1423.18 L828.899 1423.18 L852.674 1423.18 L876.449 1423.18 \n",
       "  L900.225 1423.18 L924 1423.18 L947.775 1423.18 L971.55 1423.18 L995.325 1423.18 L1019.1 1423.18 L1042.88 1423.18 L1066.65 1423.18 L1090.43 1423.18 L1114.2 1423.18 \n",
       "  L1137.98 1423.18 L1161.75 1423.18 L1185.53 1423.18 L1209.3 1423.18 L1233.08 1423.18 L1256.85 1423.18 L1280.63 1423.18 L1304.4 1423.18 L1328.18 1423.18 L1351.95 1423.18 \n",
       "  L1375.73 1423.18 L1399.5 1423.18 L1423.28 1423.18 L1447.05 1423.18 L1470.83 1423.18 L1494.6 1423.18 L1518.38 1423.18 L1542.15 1423.18 L1565.93 1423.18 L1589.7 1423.18 \n",
       "  L1613.48 1423.18 L1637.25 1423.18 L1661.03 1423.18 L1684.8 1423.18 L1708.58 1423.18 L1732.35 1423.18 L1756.13 1423.18 L1779.9 1423.18 L1803.68 1423.18 L1827.45 1423.18 \n",
       "  L1851.23 1423.18 L1875 1423.18 L1898.78 1423.18 L1922.55 1423.18 L1946.33 1423.18 L1970.11 1423.18 L1993.88 1423.18 L2017.66 1423.18 L2041.43 1423.18 L2065.21 1423.18 \n",
       "  L2088.98 1423.18 L2112.76 1423.18 L2112.76 1423.18 L2112.76 1423.18 L2112.76 1423.18 L2112.76 1388.78 L2112.76 1354.38 L2112.76 1319.98 L2112.76 1285.59 L2112.76 1251.19 \n",
       "  L2112.76 1216.79 L2112.76 1182.39 L2112.76 1182.39 L2112.76 1174.41 L2088.98 1164.91 L2065.21 1154.46 L2051.58 1147.99 L2041.43 1142.76 L2017.66 1129.7 L1993.88 1115.98 \n",
       "  L1989.9 1113.59 L1970.11 1100.6 L1946.33 1084.59 L1938.46 1079.2 L1922.55 1067.16 L1898.78 1049.07 L1893.15 1044.8 L1875 1029.43 L1852.22 1010.4 L1851.23 1009.46 \n",
       "  L1827.45 987.506 L1814.54 976.001 L1803.68 964.829 L1780 941.602 L1779.9 941.496 L1756.13 915.55 L1747.89 907.204 L1732.35 887.978 L1718.92 872.806 L1708.58 857.795 \n",
       "  L1693.64 838.407 L1684.8 822.352 L1673.22 804.009 L1661.03 771.847 L1660.02 769.61 L1654.86 735.212 L1660.02 700.814 L1661.03 698.577 L1673.22 666.415 L1684.8 648.072 \n",
       "  L1693.64 632.017 L1708.58 612.629 L1718.92 597.618 L1732.35 582.446 L1747.89 563.22 L1756.13 554.874 L1779.9 528.928 L1780 528.822 L1803.68 505.595 L1814.54 494.423 \n",
       "  L1827.45 482.918 L1851.23 460.963 L1852.22 460.025 L1875 440.996 L1893.15 425.626 L1898.78 421.358 L1922.55 403.261 L1938.46 391.228 L1946.33 385.838 L1970.11 369.819 \n",
       "  L1989.9 356.83 L1993.88 354.445 L2017.66 340.725 L2041.43 327.666 L2051.58 322.431 L2065.21 315.962 L2088.98 305.517 L2112.76 296.018 L2112.76 322.431 L2112.76 288.033 \n",
       "  L2112.76 253.634 L2112.76 219.236 L2112.76 184.838 L2112.76 150.439 L2112.76 116.041 L2112.76 81.6425 L2112.76 47.2441 L2112.76 47.2441 L2112.76 47.2441 L2112.76 47.2441 \n",
       "  L2088.98 47.2441 L2065.21 47.2441 L2041.43 47.2441 L2017.66 47.2441 L1993.88 47.2441 L1970.11 47.2441 L1946.33 47.2441 L1922.55 47.2441 L1898.78 47.2441 L1875 47.2441 \n",
       "  L1851.23 47.2441 L1827.45 47.2441 L1803.68 47.2441 L1779.9 47.2441 L1756.13 47.2441 L1732.35 47.2441 L1708.58 47.2441 L1684.8 47.2441 L1661.03 47.2441 L1637.25 47.2441 \n",
       "  L1613.48 47.2441 L1589.7 47.2441 L1565.93 47.2441 L1542.15 47.2441 L1518.38 47.2441 L1494.6 47.2441 L1470.83 47.2441 L1447.05 47.2441 L1423.28 47.2441 L1399.5 47.2441 \n",
       "  L1375.73 47.2441 L1351.95 47.2441 L1328.18 47.2441 L1304.4 47.2441 L1280.63 47.2441 L1256.85 47.2441 L1233.08 47.2441 L1209.3 47.2441 L1185.53 47.2441 L1161.75 47.2441 \n",
       "  L1137.98 47.2441 L1114.2 47.2441 L1090.43 47.2441 L1066.65 47.2441 L1042.88 47.2441 L1019.1 47.2441 L995.325 47.2441 L971.55 47.2441 L947.775 47.2441 L924 47.2441 \n",
       "  L900.225 47.2441 L876.449 47.2441 L852.674 47.2441 L828.899 47.2441 L805.124 47.2441 L781.349 47.2441 L757.574 47.2441 L733.799 47.2441 L710.024 47.2441 L686.248 47.2441 \n",
       "  L662.473 47.2441 L638.698 47.2441 L614.923 47.2441 L591.148 47.2441 L567.373 47.2441 L543.598 47.2441 L519.823 47.2441 L496.047 47.2441 L472.272 47.2441 L448.497 47.2441 \n",
       "  L424.722 47.2441 L400.947 47.2441 L377.172 47.2441 L353.397 47.2441 L329.622 47.2441 L305.846 47.2441 L282.071 47.2441 L258.296 47.2441 L234.521 47.2441 L210.746 47.2441 \n",
       "  L210.746 47.2441 L210.746 47.2441 L210.746 47.2441 L210.746 81.6425 L210.746 116.041 L210.746 150.439 L210.746 184.838 L210.746 219.236 L210.746 253.634 L210.746 288.033 \n",
       "  L210.746 322.431 L210.746 356.83 L210.746 391.228 L210.746 425.626 L210.746 460.025 L210.746 494.423 L210.746 528.822 L210.746 563.22 L210.746 597.618 L210.746 632.017 \n",
       "  L210.746 618.082 L225.087 597.618 L234.521 587.148 L254.13 563.22 L258.296 559.06 L282.071 533.411 L286.068 528.822 L305.846 509.601 L320.712 494.423 L329.622 486.54 \n",
       "  L353.397 464.699 L358.352 460.025 L377.172 444.361 L399.323 425.626 L400.947 424.398 L424.722 406.302 L444.609 391.228 L448.497 388.561 L472.272 372.488 L496.011 356.83 \n",
       "  L496.047 356.807 L519.823 342.99 L543.598 329.81 L557.736 322.431 L567.373 317.804 L591.148 307.21 L614.923 297.545 L638.698 288.906 L641.455 288.033 L662.473 281.871 \n",
       "  L686.248 275.999 L710.024 271.285 L733.799 267.775 L757.574 265.505 L781.349 264.498 L805.124 264.762 L828.899 266.297 L852.674 269.086 L876.449 273.102 L900.225 278.304 \n",
       "  L924 284.64 L934.889 288.033 L947.775 292.369 L971.55 301.446 L995.325 311.509 L1019.04 322.431 L1019.1 322.461 L1042.88 335.206 L1066.65 348.667 L1080.47 356.83 \n",
       "  L1090.43 363.27 L1114.2 379.135 L1131.96 391.228 L1137.98 395.755 L1161.75 413.83 L1177.27 425.626 L1185.53 432.642 L1209.3 452.641 L1218.26 460.025 L1233.08 473.867 \n",
       "  L1255.77 494.423 L1256.85 495.55 L1280.63 519.366 L1290.6 528.822 L1304.4 544.295 L1322.48 563.22 L1328.18 570.504 L1351.24 597.618 L1351.95 598.698 L1375.73 631.116 \n",
       "  L1376.48 632.017 L1396.92 666.415 L1399.5 673.652 L1410.83 700.814 L1415.61 735.212 L1410.83 769.61 L1399.5 796.772 L1396.92 804.009 L1376.48 838.407 L1375.73 839.308 \n",
       "  L1351.95 871.726 L1351.24 872.806 L1328.18 899.92 L1322.48 907.204 L1304.4 926.129 L1290.6 941.602 L1280.63 951.058 L1256.85 974.874 L1255.77 976.001 L1233.08 996.557 \n",
       "  L1218.26 1010.4 L1209.3 1017.78 L1185.53 1037.78 L1177.27 1044.8 L1161.75 1056.59 L1137.98 1074.67 L1131.96 1079.2 L1114.2 1091.29 L1090.43 1107.15 L1080.47 1113.59 \n",
       "  L1066.65 1121.76 L1042.88 1135.22 L1019.1 1147.96 L1019.04 1147.99 L995.325 1158.91 L971.55 1168.98 L947.775 1178.06 L934.889 1182.39 L924 1185.78 L900.225 1192.12 \n",
       "  L876.449 1197.32 L852.674 1201.34 L828.899 1204.13 L805.124 1205.66 L781.349 1205.93 L757.574 1204.92 L733.799 1202.65 L710.024 1199.14 L686.248 1194.43 L662.473 1188.55 \n",
       "  L641.455 1182.39 L638.698 1181.52 L614.923 1172.88 L591.148 1163.21 L567.373 1152.62 L557.736 1147.99 L543.598 1140.61 L519.823 1127.43 L496.047 1113.62 L496.011 1113.59 \n",
       "  L472.272 1097.94 L448.497 1081.86 L444.609 1079.2 L424.722 1064.12 L400.947 1046.03 L399.323 1044.8 L377.172 1026.06 L358.352 1010.4 L353.397 1005.73 L329.622 983.884 \n",
       "  L320.712 976.001 L305.846 960.823 L286.068 941.602 L282.071 937.013 L258.296 911.364 L254.13 907.204 L234.521 883.276 L225.087 872.806 L210.746 852.342 L210.746 872.806 \n",
       "  L210.746 872.806 L210.746 907.204 L210.746 941.602 L210.746 976.001 L210.746 1010.4 L210.746 1044.8 L210.746 1079.2 L210.746 1113.59 L210.746 1147.99 L210.746 1182.39 \n",
       "  L210.746 1216.79 L210.746 1251.19 L210.746 1285.59 L210.746 1319.98 L210.746 1354.38 L210.746 1388.78 L210.746 1423.18 L210.746 1423.18 L210.746 1423.18  Z\n",
       "  \" fill=\"#c7e5db\" fill-rule=\"evenodd\" fill-opacity=\"1\"/>\n",
       "<path clip-path=\"url(#clip272)\" d=\"\n",
       "M210.746 1423.18 L210.746 1423.18 L234.521 1423.18 L258.296 1423.18 L282.071 1423.18 L305.846 1423.18 L329.622 1423.18 L353.397 1423.18 L377.172 1423.18 L400.947 1423.18 \n",
       "  L424.722 1423.18 L448.497 1423.18 L472.272 1423.18 L496.047 1423.18 L519.823 1423.18 L543.598 1423.18 L567.373 1423.18 L591.148 1423.18 L614.923 1423.18 L638.698 1423.18 \n",
       "  L662.473 1423.18 L686.248 1423.18 L710.024 1423.18 L733.799 1423.18 L757.574 1423.18 L781.349 1423.18 L805.124 1423.18 L828.899 1423.18 L852.674 1423.18 L876.449 1423.18 \n",
       "  L900.225 1423.18 L924 1423.18 L947.775 1423.18 L971.55 1423.18 L995.325 1423.18 L1019.1 1423.18 L1042.88 1423.18 L1066.65 1423.18 L1090.43 1423.18 L1114.2 1423.18 \n",
       "  L1137.98 1423.18 L1161.75 1423.18 L1185.53 1423.18 L1209.3 1423.18 L1233.08 1423.18 L1256.85 1423.18 L1280.63 1423.18 L1304.4 1423.18 L1328.18 1423.18 L1351.95 1423.18 \n",
       "  L1375.73 1423.18 L1399.5 1423.18 L1423.28 1423.18 L1447.05 1423.18 L1470.83 1423.18 L1494.6 1423.18 L1518.38 1423.18 L1542.15 1423.18 L1565.93 1423.18 L1589.7 1423.18 \n",
       "  L1613.48 1423.18 L1637.25 1423.18 L1661.03 1423.18 L1684.8 1423.18 L1708.58 1423.18 L1732.35 1423.18 L1756.13 1423.18 L1779.9 1423.18 L1803.68 1423.18 L1827.45 1423.18 \n",
       "  L1851.23 1423.18 L1875 1423.18 L1898.78 1423.18 L1922.55 1423.18 L1946.33 1423.18 L1970.11 1423.18 L1993.88 1423.18 L2017.66 1423.18 L2041.43 1423.18 L2065.21 1423.18 \n",
       "  L2088.98 1423.18 L2112.76 1423.18 L2112.76 1423.18 L2112.76 1423.18 L2112.76 1423.18 L2112.76 1388.78 L2112.76 1354.38 L2112.76 1319.98 L2112.76 1285.59 L2112.76 1251.19 \n",
       "  L2112.76 1251.19 L2112.76 1222.35 L2096.6 1216.79 L2088.98 1213.97 L2065.21 1204.3 L2041.43 1193.85 L2017.66 1182.73 L2016.97 1182.39 L1993.88 1170.13 L1970.11 1157.03 \n",
       "  L1954.15 1147.99 L1946.33 1143.18 L1922.55 1128.32 L1899.13 1113.59 L1898.78 1113.35 L1875 1097.05 L1851.23 1080.97 L1848.53 1079.2 L1827.45 1063.83 L1803.68 1047.1 \n",
       "  L1800.25 1044.8 L1779.9 1029.54 L1756.13 1012.75 L1752.54 1010.4 L1732.35 995.411 L1708.58 979.303 L1703.13 976.001 L1684.8 963.197 L1661.03 948.719 L1647.15 941.602 \n",
       "  L1637.25 935.601 L1613.48 924.03 L1589.7 915.415 L1565.93 909.844 L1542.15 907.371 L1518.38 908.021 L1494.6 911.787 L1470.83 918.633 L1447.05 928.49 L1423.28 941.258 \n",
       "  L1422.75 941.602 L1399.5 954.471 L1375.73 969.857 L1367.36 976.001 L1351.95 985.804 L1328.18 1002.58 L1317.99 1010.4 L1304.4 1019.6 L1280.63 1036.84 L1270.24 1044.8 \n",
       "  L1256.85 1053.97 L1233.08 1070.97 L1221.93 1079.2 L1209.3 1087.62 L1185.53 1103.81 L1171.3 1113.59 L1161.75 1119.59 L1137.98 1134.52 L1116.31 1147.99 L1114.2 1149.2 \n",
       "  L1090.43 1162.53 L1066.65 1175.45 L1053.32 1182.39 L1042.88 1187.43 L1019.1 1198.28 L995.325 1208.42 L973.976 1216.79 L971.55 1217.67 L947.775 1225.5 L924 1232.4 \n",
       "  L900.225 1238.3 L876.449 1243.14 L852.674 1246.88 L828.899 1249.47 L805.124 1250.9 L781.349 1251.15 L757.574 1250.21 L733.799 1248.1 L710.024 1244.83 L686.248 1240.44 \n",
       "  L662.473 1234.98 L638.698 1228.49 L614.923 1221.04 L602.802 1216.79 L591.148 1212.4 L567.373 1202.59 L543.598 1192.02 L523.199 1182.39 L519.823 1180.67 L496.047 1167.96 \n",
       "  L472.272 1154.78 L460.314 1147.99 L448.497 1140.7 L424.722 1125.81 L405.292 1113.59 L400.947 1110.6 L377.172 1094.32 L354.718 1079.2 L353.397 1078.21 L329.622 1060.97 \n",
       "  L306.472 1044.8 L305.846 1044.31 L282.071 1026.64 L258.804 1010.4 L258.296 1010 L234.521 992.59 L210.746 976.758 L210.746 1010.4 L210.746 1010.4 L210.746 1044.8 \n",
       "  L210.746 1079.2 L210.746 1113.59 L210.746 1147.99 L210.746 1182.39 L210.746 1216.79 L210.746 1251.19 L210.746 1285.59 L210.746 1319.98 L210.746 1354.38 L210.746 1388.78 \n",
       "  L210.746 1423.18 L210.746 1423.18 L210.746 1423.18 M1423.28 529.166 L1447.05 541.934 L1470.83 551.791 L1494.6 558.637 L1518.38 562.403 L1542.15 563.053 \n",
       "  L1565.93 560.58 L1589.7 555.008 L1613.48 546.394 L1637.25 534.823 L1647.15 528.822 L1661.03 521.705 L1684.8 507.227 L1703.13 494.423 L1708.58 491.121 L1732.35 475.013 \n",
       "  L1752.54 460.025 L1756.13 457.671 L1779.9 440.882 L1800.25 425.626 L1803.68 423.322 L1827.45 406.595 L1848.53 391.228 L1851.23 389.45 L1875 373.376 L1898.78 357.071 \n",
       "  L1899.13 356.83 L1922.55 342.101 L1946.33 327.239 L1954.15 322.431 L1970.11 313.399 L1993.88 300.294 L2016.97 288.033 L2017.66 287.698 L2041.43 276.574 L2065.21 266.124 \n",
       "  L2088.98 256.453 L2096.6 253.634 L2112.76 248.07 L2112.76 253.634 L2112.76 219.236 L2112.76 184.838 L2112.76 150.439 L2112.76 116.041 L2112.76 81.6425 L2112.76 47.2441 \n",
       "  L2112.76 47.2441 L2112.76 47.2441 L2112.76 47.2441 L2088.98 47.2441 L2065.21 47.2441 L2041.43 47.2441 L2017.66 47.2441 L1993.88 47.2441 L1970.11 47.2441 L1946.33 47.2441 \n",
       "  L1922.55 47.2441 L1898.78 47.2441 L1875 47.2441 L1851.23 47.2441 L1827.45 47.2441 L1803.68 47.2441 L1779.9 47.2441 L1756.13 47.2441 L1732.35 47.2441 L1708.58 47.2441 \n",
       "  L1684.8 47.2441 L1661.03 47.2441 L1637.25 47.2441 L1613.48 47.2441 L1589.7 47.2441 L1565.93 47.2441 L1542.15 47.2441 L1518.38 47.2441 L1494.6 47.2441 L1470.83 47.2441 \n",
       "  L1447.05 47.2441 L1423.28 47.2441 L1399.5 47.2441 L1375.73 47.2441 L1351.95 47.2441 L1328.18 47.2441 L1304.4 47.2441 L1280.63 47.2441 L1256.85 47.2441 L1233.08 47.2441 \n",
       "  L1209.3 47.2441 L1185.53 47.2441 L1161.75 47.2441 L1137.98 47.2441 L1114.2 47.2441 L1090.43 47.2441 L1066.65 47.2441 L1042.88 47.2441 L1019.1 47.2441 L995.325 47.2441 \n",
       "  L971.55 47.2441 L947.775 47.2441 L924 47.2441 L900.225 47.2441 L876.449 47.2441 L852.674 47.2441 L828.899 47.2441 L805.124 47.2441 L781.349 47.2441 L757.574 47.2441 \n",
       "  L733.799 47.2441 L710.024 47.2441 L686.248 47.2441 L662.473 47.2441 L638.698 47.2441 L614.923 47.2441 L591.148 47.2441 L567.373 47.2441 L543.598 47.2441 L519.823 47.2441 \n",
       "  L496.047 47.2441 L472.272 47.2441 L448.497 47.2441 L424.722 47.2441 L400.947 47.2441 L377.172 47.2441 L353.397 47.2441 L329.622 47.2441 L305.846 47.2441 L282.071 47.2441 \n",
       "  L258.296 47.2441 L234.521 47.2441 L210.746 47.2441 L210.746 47.2441 L210.746 47.2441 L210.746 47.2441 L210.746 81.6425 L210.746 116.041 L210.746 150.439 L210.746 184.838 \n",
       "  L210.746 219.236 L210.746 253.634 L210.746 288.033 L210.746 322.431 L210.746 356.83 L210.746 391.228 L210.746 425.626 L210.746 460.025 L210.746 494.423 L210.746 493.666 \n",
       "  L234.521 477.834 L258.296 460.426 L258.804 460.025 L282.071 443.783 L305.846 426.115 L306.472 425.626 L329.622 409.455 L353.397 392.212 L354.718 391.228 L377.172 376.099 \n",
       "  L400.947 359.822 L405.292 356.83 L424.722 344.613 L448.497 329.726 L460.314 322.431 L472.272 315.64 L496.047 302.467 L519.823 289.755 L523.199 288.033 L543.598 278.4 \n",
       "  L567.373 267.83 L591.148 258.021 L602.802 253.634 L614.923 249.387 L638.698 241.939 L662.473 235.449 L686.248 229.982 L710.024 225.593 L733.799 222.325 L757.574 220.212 \n",
       "  L781.349 219.274 L805.124 219.521 L828.899 220.949 L852.674 223.546 L876.449 227.285 L900.225 232.128 L924 238.027 L947.775 244.924 L971.55 252.749 L973.976 253.634 \n",
       "  L995.325 262.002 L1019.1 272.14 L1042.88 282.996 L1053.32 288.033 L1066.65 294.978 L1090.43 307.898 L1114.2 321.224 L1116.31 322.431 L1137.98 335.9 L1161.75 350.831 \n",
       "  L1171.3 356.83 L1185.53 366.613 L1209.3 382.803 L1221.93 391.228 L1233.08 399.45 L1256.85 416.45 L1270.24 425.626 L1280.63 433.582 L1304.4 450.825 L1317.99 460.025 \n",
       "  L1328.18 467.847 L1351.95 484.62 L1367.36 494.423 L1375.73 500.567 L1399.5 515.952 L1422.75 528.822 L1423.28 529.166  Z\n",
       "  \" fill=\"#ddefcf\" fill-rule=\"evenodd\" fill-opacity=\"1\"/>\n",
       "<path clip-path=\"url(#clip272)\" d=\"\n",
       "M210.746 1423.18 L210.746 1423.18 L234.521 1423.18 L258.296 1423.18 L282.071 1423.18 L305.846 1423.18 L329.622 1423.18 L353.397 1423.18 L377.172 1423.18 L400.947 1423.18 \n",
       "  L424.722 1423.18 L448.497 1423.18 L472.272 1423.18 L496.047 1423.18 L519.823 1423.18 L543.598 1423.18 L567.373 1423.18 L591.148 1423.18 L614.923 1423.18 L638.698 1423.18 \n",
       "  L662.473 1423.18 L686.248 1423.18 L710.024 1423.18 L733.799 1423.18 L757.574 1423.18 L781.349 1423.18 L805.124 1423.18 L828.899 1423.18 L852.674 1423.18 L876.449 1423.18 \n",
       "  L900.225 1423.18 L924 1423.18 L947.775 1423.18 L971.55 1423.18 L995.325 1423.18 L1019.1 1423.18 L1042.88 1423.18 L1066.65 1423.18 L1090.43 1423.18 L1114.2 1423.18 \n",
       "  L1137.98 1423.18 L1161.75 1423.18 L1185.53 1423.18 L1209.3 1423.18 L1233.08 1423.18 L1256.85 1423.18 L1280.63 1423.18 L1304.4 1423.18 L1328.18 1423.18 L1351.95 1423.18 \n",
       "  L1375.73 1423.18 L1399.5 1423.18 L1423.28 1423.18 L1447.05 1423.18 L1470.83 1423.18 L1494.6 1423.18 L1518.38 1423.18 L1542.15 1423.18 L1565.93 1423.18 L1589.7 1423.18 \n",
       "  L1613.48 1423.18 L1637.25 1423.18 L1661.03 1423.18 L1684.8 1423.18 L1708.58 1423.18 L1732.35 1423.18 L1756.13 1423.18 L1779.9 1423.18 L1803.68 1423.18 L1827.45 1423.18 \n",
       "  L1851.23 1423.18 L1875 1423.18 L1898.78 1423.18 L1922.55 1423.18 L1946.33 1423.18 L1970.11 1423.18 L1993.88 1423.18 L2017.66 1423.18 L2041.43 1423.18 L2065.21 1423.18 \n",
       "  L2088.98 1423.18 L2112.76 1423.18 L2112.76 1423.18 L2112.76 1423.18 L2112.76 1423.18 L2112.76 1388.78 L2112.76 1354.38 L2112.76 1319.98 L2112.76 1285.59 L2112.76 1285.59 \n",
       "  L2112.76 1265.82 L2088.98 1258.16 L2069.31 1251.19 L2065.21 1249.64 L2041.43 1239.91 L2017.66 1229.55 L1993.88 1218.67 L1989.93 1216.79 L1970.11 1206.67 L1946.33 1194.21 \n",
       "  L1924.13 1182.39 L1922.55 1181.49 L1898.78 1167.73 L1875 1154.04 L1864.36 1147.99 L1851.23 1139.89 L1827.45 1125.57 L1806.85 1113.59 L1803.68 1111.58 L1779.9 1097.14 \n",
       "  L1756.13 1083.55 L1747.92 1079.2 L1732.35 1070.07 L1708.58 1057.35 L1684.8 1045.98 L1681.95 1044.8 L1661.03 1035.05 L1637.25 1025.73 L1613.48 1018.24 L1589.7 1012.67 \n",
       "  L1574.75 1010.4 L1565.93 1008.88 L1542.15 1007.07 L1518.38 1007.55 L1494.6 1010.31 L1494.17 1010.4 L1470.83 1014.75 L1447.05 1021.13 L1423.28 1029.39 L1399.5 1039.45 \n",
       "  L1388.7 1044.8 L1375.73 1050.54 L1351.95 1062.49 L1328.18 1075.73 L1322.45 1079.2 L1304.4 1089.09 L1280.63 1103.05 L1263.62 1113.59 L1256.85 1117.43 L1233.08 1131.47 \n",
       "  L1209.3 1145.96 L1206.03 1147.99 L1185.53 1159.72 L1161.75 1173.45 L1146.28 1182.39 L1137.98 1186.84 L1114.2 1199.43 L1090.43 1211.77 L1080.44 1216.79 L1066.65 1223.25 \n",
       "  L1042.88 1233.93 L1019.1 1244.03 L1001.08 1251.19 L995.325 1253.33 L971.55 1261.44 L947.775 1268.76 L924 1275.21 L900.225 1280.73 L876.449 1285.26 L874.256 1285.59 \n",
       "  L852.674 1288.57 L828.899 1290.85 L805.124 1292.11 L781.349 1292.32 L757.574 1291.5 L733.799 1289.64 L710.024 1286.77 L702.729 1285.59 L686.248 1282.74 L662.473 1277.63 \n",
       "  L638.698 1271.56 L614.923 1264.59 L591.148 1256.79 L575.548 1251.19 L567.373 1248.05 L543.598 1238.21 L519.823 1227.75 L496.047 1216.79 L496.037 1216.79 L472.272 1204.6 \n",
       "  L448.497 1192.1 L430.303 1182.39 L424.722 1179.18 L400.947 1165.42 L377.172 1151.75 L370.533 1147.99 L353.397 1137.45 L329.622 1123.21 L312.965 1113.59 L305.846 1109.1 \n",
       "  L282.071 1094.79 L258.296 1081.36 L254.163 1079.2 L234.521 1067.84 L210.746 1055.34 L210.746 1079.2 L210.746 1079.2 L210.746 1113.59 L210.746 1147.99 L210.746 1182.39 \n",
       "  L210.746 1216.79 L210.746 1251.19 L210.746 1285.59 L210.746 1319.98 L210.746 1354.38 L210.746 1388.78 L210.746 1423.18 L210.746 1423.18 L210.746 1423.18 M1494.6 460.116 L1518.38 462.878 L1542.15 463.355 L1565.93 461.541 L1574.75 460.025 L1589.7 457.757 L1613.48 452.183 L1637.25 444.696 L1661.03 435.37 L1681.95 425.626 \n",
       "  L1684.8 424.439 L1708.58 413.071 L1732.35 400.354 L1747.92 391.228 L1756.13 386.874 L1779.9 373.283 L1803.68 358.849 L1806.85 356.83 L1827.45 344.855 L1851.23 330.537 \n",
       "  L1864.36 322.431 L1875 316.386 L1898.78 302.69 L1922.55 288.937 L1924.13 288.033 L1946.33 276.21 L1970.11 263.751 L1989.93 253.634 L1993.88 251.756 L2017.66 240.875 \n",
       "  L2041.43 230.518 L2065.21 220.789 L2069.31 219.236 L2088.98 212.265 L2112.76 204.605 L2112.76 219.236 L2112.76 184.838 L2112.76 150.439 L2112.76 116.041 L2112.76 81.6425 \n",
       "  L2112.76 47.2441 L2112.76 47.2441 L2112.76 47.2441 L2112.76 47.2441 L2088.98 47.2441 L2065.21 47.2441 L2041.43 47.2441 L2017.66 47.2441 L1993.88 47.2441 L1970.11 47.2441 \n",
       "  L1946.33 47.2441 L1922.55 47.2441 L1898.78 47.2441 L1875 47.2441 L1851.23 47.2441 L1827.45 47.2441 L1803.68 47.2441 L1779.9 47.2441 L1756.13 47.2441 L1732.35 47.2441 \n",
       "  L1708.58 47.2441 L1684.8 47.2441 L1661.03 47.2441 L1637.25 47.2441 L1613.48 47.2441 L1589.7 47.2441 L1565.93 47.2441 L1542.15 47.2441 L1518.38 47.2441 L1494.6 47.2441 \n",
       "  L1470.83 47.2441 L1447.05 47.2441 L1423.28 47.2441 L1399.5 47.2441 L1375.73 47.2441 L1351.95 47.2441 L1328.18 47.2441 L1304.4 47.2441 L1280.63 47.2441 L1256.85 47.2441 \n",
       "  L1233.08 47.2441 L1209.3 47.2441 L1185.53 47.2441 L1161.75 47.2441 L1137.98 47.2441 L1114.2 47.2441 L1090.43 47.2441 L1066.65 47.2441 L1042.88 47.2441 L1019.1 47.2441 \n",
       "  L995.325 47.2441 L971.55 47.2441 L947.775 47.2441 L924 47.2441 L900.225 47.2441 L876.449 47.2441 L852.674 47.2441 L828.899 47.2441 L805.124 47.2441 L781.349 47.2441 \n",
       "  L757.574 47.2441 L733.799 47.2441 L710.024 47.2441 L686.248 47.2441 L662.473 47.2441 L638.698 47.2441 L614.923 47.2441 L591.148 47.2441 L567.373 47.2441 L543.598 47.2441 \n",
       "  L519.823 47.2441 L496.047 47.2441 L472.272 47.2441 L448.497 47.2441 L424.722 47.2441 L400.947 47.2441 L377.172 47.2441 L353.397 47.2441 L329.622 47.2441 L305.846 47.2441 \n",
       "  L282.071 47.2441 L258.296 47.2441 L234.521 47.2441 L210.746 47.2441 L210.746 47.2441 L210.746 47.2441 L210.746 47.2441 L210.746 81.6425 L210.746 116.041 L210.746 150.439 \n",
       "  L210.746 184.838 L210.746 219.236 L210.746 253.634 L210.746 288.033 L210.746 322.431 L210.746 356.83 L210.746 391.228 L210.746 425.626 L210.746 415.08 L234.521 402.582 \n",
       "  L254.163 391.228 L258.296 389.067 L282.071 375.631 L305.846 361.329 L312.965 356.83 L329.622 347.218 L353.397 332.973 L370.533 322.431 L377.172 318.674 L400.947 305.001 \n",
       "  L424.722 291.248 L430.303 288.033 L448.497 278.328 L472.272 265.826 L496.037 253.634 L496.047 253.63 L519.823 242.67 L543.598 232.218 L567.373 222.376 L575.548 219.236 \n",
       "  L591.148 213.631 L614.923 205.836 L638.698 198.869 L662.473 192.798 L686.248 187.684 L702.729 184.838 L710.024 183.654 L733.799 180.783 L757.574 178.926 L781.349 178.101 \n",
       "  L805.124 178.318 L828.899 179.573 L852.674 181.855 L874.256 184.838 L876.449 185.16 L900.225 189.691 L924 195.21 L947.775 201.662 L971.55 208.982 L995.325 217.098 \n",
       "  L1001.08 219.236 L1019.1 226.389 L1042.88 236.497 L1066.65 247.173 L1080.44 253.634 L1090.43 258.657 L1114.2 270.996 L1137.98 283.588 L1146.28 288.033 L1161.75 296.969 \n",
       "  L1185.53 310.706 L1206.03 322.431 L1209.3 324.468 L1233.08 338.952 L1256.85 352.996 L1263.62 356.83 L1280.63 367.374 L1304.4 381.333 L1322.45 391.228 L1328.18 394.698 \n",
       "  L1351.95 407.939 L1375.73 419.883 L1388.7 425.626 L1399.5 430.972 L1423.28 441.036 L1447.05 449.298 L1470.83 455.675 L1494.17 460.025 L1494.6 460.116  Z\n",
       "  \" fill=\"#f3f9c4\" fill-rule=\"evenodd\" fill-opacity=\"1\"/>\n",
       "<path clip-path=\"url(#clip272)\" d=\"\n",
       "M210.746 1423.18 L210.746 1423.18 L234.521 1423.18 L258.296 1423.18 L282.071 1423.18 L305.846 1423.18 L329.622 1423.18 L353.397 1423.18 L377.172 1423.18 L400.947 1423.18 \n",
       "  L424.722 1423.18 L448.497 1423.18 L472.272 1423.18 L496.047 1423.18 L519.823 1423.18 L543.598 1423.18 L567.373 1423.18 L591.148 1423.18 L614.923 1423.18 L638.698 1423.18 \n",
       "  L662.473 1423.18 L686.248 1423.18 L710.024 1423.18 L733.799 1423.18 L757.574 1423.18 L781.349 1423.18 L805.124 1423.18 L828.899 1423.18 L852.674 1423.18 L876.449 1423.18 \n",
       "  L900.225 1423.18 L924 1423.18 L947.775 1423.18 L971.55 1423.18 L995.325 1423.18 L1019.1 1423.18 L1042.88 1423.18 L1066.65 1423.18 L1090.43 1423.18 L1114.2 1423.18 \n",
       "  L1137.98 1423.18 L1161.75 1423.18 L1185.53 1423.18 L1209.3 1423.18 L1233.08 1423.18 L1256.85 1423.18 L1280.63 1423.18 L1304.4 1423.18 L1328.18 1423.18 L1351.95 1423.18 \n",
       "  L1375.73 1423.18 L1399.5 1423.18 L1423.28 1423.18 L1447.05 1423.18 L1470.83 1423.18 L1494.6 1423.18 L1518.38 1423.18 L1542.15 1423.18 L1565.93 1423.18 L1589.7 1423.18 \n",
       "  L1613.48 1423.18 L1637.25 1423.18 L1661.03 1423.18 L1684.8 1423.18 L1708.58 1423.18 L1732.35 1423.18 L1756.13 1423.18 L1779.9 1423.18 L1803.68 1423.18 L1827.45 1423.18 \n",
       "  L1851.23 1423.18 L1875 1423.18 L1898.78 1423.18 L1922.55 1423.18 L1946.33 1423.18 L1970.11 1423.18 L1993.88 1423.18 L2017.66 1423.18 L2041.43 1423.18 L2065.21 1423.18 \n",
       "  L2088.98 1423.18 L2112.76 1423.18 L2112.76 1423.18 L2112.76 1423.18 L2112.76 1423.18 L2112.76 1388.78 L2112.76 1354.38 L2112.76 1319.98 L2112.76 1319.98 L2112.76 1306.1 \n",
       "  L2088.98 1298.9 L2065.21 1290.99 L2050.17 1285.59 L2041.43 1282.24 L2017.66 1272.55 L1993.88 1262.37 L1970.11 1251.8 L1968.76 1251.19 L1946.33 1240.25 L1922.55 1228.46 \n",
       "  L1899.16 1216.79 L1898.78 1216.59 L1875 1203.91 L1851.23 1191.4 L1833.66 1182.39 L1827.45 1178.95 L1803.68 1166.24 L1779.9 1154.12 L1767.15 1147.99 L1756.13 1142.24 \n",
       "  L1732.35 1130.72 L1708.58 1120.22 L1691.81 1113.59 L1684.8 1110.56 L1661.03 1101.6 L1637.25 1094.05 L1613.48 1087.99 L1589.7 1083.48 L1565.93 1080.56 L1542.15 1079.27 \n",
       "  L1518.38 1079.61 L1494.6 1081.58 L1470.83 1085.17 L1447.05 1090.33 L1423.28 1097.02 L1399.5 1105.16 L1378.46 1113.59 L1375.73 1114.59 L1351.95 1124.46 L1328.18 1135.4 \n",
       "  L1304.4 1147.3 L1303.11 1147.99 L1280.63 1159.08 L1256.85 1171.46 L1236.74 1182.39 L1233.08 1184.24 L1209.3 1196.57 L1185.53 1209.17 L1171.28 1216.79 L1161.75 1221.53 \n",
       "  L1137.98 1233.38 L1114.2 1245.1 L1101.6 1251.19 L1090.43 1256.24 L1066.65 1266.66 L1042.88 1276.65 L1020.4 1285.59 L1019.1 1286.07 L995.325 1294.36 L971.55 1301.99 \n",
       "  L947.775 1308.87 L924 1314.93 L900.802 1319.98 L900.225 1320.1 L876.449 1324.12 L852.674 1327.21 L828.899 1329.37 L805.124 1330.55 L781.349 1330.75 L757.574 1329.98 \n",
       "  L733.799 1328.23 L710.024 1325.52 L686.248 1321.88 L676.294 1319.98 L662.473 1317.19 L638.698 1311.49 L614.923 1304.94 L591.148 1297.62 L567.373 1289.6 L556.349 1285.59 \n",
       "  L543.598 1280.65 L519.823 1270.87 L496.047 1260.62 L474.942 1251.19 L472.272 1249.91 L448.497 1238.27 L424.722 1226.47 L405.317 1216.79 L400.947 1214.45 L377.172 1201.79 \n",
       "  L353.397 1189.33 L339.802 1182.39 L329.622 1176.78 L305.846 1164.16 L282.071 1152.14 L273.328 1147.99 L258.296 1140.24 L234.521 1128.88 L210.746 1118.56 L210.746 1147.99 \n",
       "  L210.746 1147.99 L210.746 1182.39 L210.746 1216.79 L210.746 1251.19 L210.746 1285.59 L210.746 1319.98 L210.746 1354.38 L210.746 1388.78 L210.746 1423.18 L210.746 1423.18 \n",
       "  L210.746 1423.18 M1399.5 365.261 L1423.28 373.408 L1447.05 380.096 L1470.83 385.259 L1494.6 388.845 L1518.38 390.818 L1542.15 391.158 L1565.93 389.863 \n",
       "  L1589.7 386.944 L1613.48 382.432 L1637.25 376.371 L1661.03 368.821 L1684.8 359.859 L1691.81 356.83 L1708.58 350.205 L1732.35 339.7 L1756.13 328.185 L1767.15 322.431 \n",
       "  L1779.9 316.309 L1803.68 304.184 L1827.45 291.471 L1833.66 288.033 L1851.23 279.019 L1875 266.517 L1898.78 253.836 L1899.16 253.634 L1922.55 241.966 L1946.33 230.179 \n",
       "  L1968.76 219.236 L1970.11 218.621 L1993.88 208.053 L2017.66 197.874 L2041.43 188.185 L2050.17 184.838 L2065.21 179.432 L2088.98 171.52 L2112.76 164.323 L2112.76 184.838 \n",
       "  L2112.76 150.439 L2112.76 116.041 L2112.76 81.6425 L2112.76 47.2441 L2112.76 47.2441 L2112.76 47.2441 L2112.76 47.2441 L2088.98 47.2441 L2065.21 47.2441 L2041.43 47.2441 \n",
       "  L2017.66 47.2441 L1993.88 47.2441 L1970.11 47.2441 L1946.33 47.2441 L1922.55 47.2441 L1898.78 47.2441 L1875 47.2441 L1851.23 47.2441 L1827.45 47.2441 L1803.68 47.2441 \n",
       "  L1779.9 47.2441 L1756.13 47.2441 L1732.35 47.2441 L1708.58 47.2441 L1684.8 47.2441 L1661.03 47.2441 L1637.25 47.2441 L1613.48 47.2441 L1589.7 47.2441 L1565.93 47.2441 \n",
       "  L1542.15 47.2441 L1518.38 47.2441 L1494.6 47.2441 L1470.83 47.2441 L1447.05 47.2441 L1423.28 47.2441 L1399.5 47.2441 L1375.73 47.2441 L1351.95 47.2441 L1328.18 47.2441 \n",
       "  L1304.4 47.2441 L1280.63 47.2441 L1256.85 47.2441 L1233.08 47.2441 L1209.3 47.2441 L1185.53 47.2441 L1161.75 47.2441 L1137.98 47.2441 L1114.2 47.2441 L1090.43 47.2441 \n",
       "  L1066.65 47.2441 L1042.88 47.2441 L1019.1 47.2441 L995.325 47.2441 L971.55 47.2441 L947.775 47.2441 L924 47.2441 L900.225 47.2441 L876.449 47.2441 L852.674 47.2441 \n",
       "  L828.899 47.2441 L805.124 47.2441 L781.349 47.2441 L757.574 47.2441 L733.799 47.2441 L710.024 47.2441 L686.248 47.2441 L662.473 47.2441 L638.698 47.2441 L614.923 47.2441 \n",
       "  L591.148 47.2441 L567.373 47.2441 L543.598 47.2441 L519.823 47.2441 L496.047 47.2441 L472.272 47.2441 L448.497 47.2441 L424.722 47.2441 L400.947 47.2441 L377.172 47.2441 \n",
       "  L353.397 47.2441 L329.622 47.2441 L305.846 47.2441 L282.071 47.2441 L258.296 47.2441 L234.521 47.2441 L210.746 47.2441 L210.746 47.2441 L210.746 47.2441 L210.746 47.2441 \n",
       "  L210.746 81.6425 L210.746 116.041 L210.746 150.439 L210.746 184.838 L210.746 219.236 L210.746 253.634 L210.746 288.033 L210.746 322.431 L210.746 356.83 L210.746 351.865 \n",
       "  L234.521 341.54 L258.296 330.187 L273.328 322.431 L282.071 318.281 L305.846 306.267 L329.622 293.644 L339.802 288.033 L353.397 281.095 L377.172 268.635 L400.947 255.975 \n",
       "  L405.317 253.634 L424.722 243.958 L448.497 232.151 L472.272 220.511 L474.942 219.236 L496.047 209.806 L519.823 199.554 L543.598 189.775 L556.349 184.838 L567.373 180.827 \n",
       "  L591.148 172.802 L614.923 165.48 L638.698 158.935 L662.473 153.232 L676.294 150.439 L686.248 148.543 L710.024 144.906 L733.799 142.199 L757.574 140.448 L781.349 139.67 \n",
       "  L805.124 139.875 L828.899 141.058 L852.674 143.21 L876.449 146.308 L900.225 150.321 L900.802 150.439 L924 155.498 L947.775 161.559 L971.55 168.435 L995.325 176.059 \n",
       "  L1019.1 184.354 L1020.4 184.838 L1042.88 193.778 L1066.65 203.766 L1090.43 214.185 L1101.6 219.236 L1114.2 225.325 L1137.98 237.048 L1161.75 248.89 L1171.28 253.634 \n",
       "  L1185.53 261.257 L1209.3 273.849 L1233.08 286.188 L1236.74 288.033 L1256.85 298.96 L1280.63 311.345 L1303.11 322.431 L1304.4 323.126 L1328.18 335.027 L1351.95 345.965 \n",
       "  L1375.73 355.832 L1378.46 356.83 L1399.5 365.261  Z\n",
       "  \" fill=\"#fef4b2\" fill-rule=\"evenodd\" fill-opacity=\"1\"/>\n",
       "<path clip-path=\"url(#clip272)\" d=\"\n",
       "M210.746 1423.18 L210.746 1423.18 L234.521 1423.18 L258.296 1423.18 L282.071 1423.18 L305.846 1423.18 L329.622 1423.18 L353.397 1423.18 L377.172 1423.18 L400.947 1423.18 \n",
       "  L424.722 1423.18 L448.497 1423.18 L472.272 1423.18 L496.047 1423.18 L519.823 1423.18 L543.598 1423.18 L567.373 1423.18 L591.148 1423.18 L614.923 1423.18 L638.698 1423.18 \n",
       "  L662.473 1423.18 L686.248 1423.18 L710.024 1423.18 L733.799 1423.18 L757.574 1423.18 L781.349 1423.18 L805.124 1423.18 L828.899 1423.18 L852.674 1423.18 L876.449 1423.18 \n",
       "  L900.225 1423.18 L924 1423.18 L947.775 1423.18 L971.55 1423.18 L995.325 1423.18 L1019.1 1423.18 L1042.88 1423.18 L1066.65 1423.18 L1090.43 1423.18 L1114.2 1423.18 \n",
       "  L1137.98 1423.18 L1161.75 1423.18 L1185.53 1423.18 L1209.3 1423.18 L1233.08 1423.18 L1256.85 1423.18 L1280.63 1423.18 L1304.4 1423.18 L1328.18 1423.18 L1351.95 1423.18 \n",
       "  L1375.73 1423.18 L1399.5 1423.18 L1423.28 1423.18 L1447.05 1423.18 L1470.83 1423.18 L1494.6 1423.18 L1518.38 1423.18 L1542.15 1423.18 L1565.93 1423.18 L1589.7 1423.18 \n",
       "  L1613.48 1423.18 L1637.25 1423.18 L1661.03 1423.18 L1684.8 1423.18 L1708.58 1423.18 L1732.35 1423.18 L1756.13 1423.18 L1779.9 1423.18 L1803.68 1423.18 L1827.45 1423.18 \n",
       "  L1851.23 1423.18 L1875 1423.18 L1898.78 1423.18 L1922.55 1423.18 L1946.33 1423.18 L1970.11 1423.18 L1993.88 1423.18 L2017.66 1423.18 L2041.43 1423.18 L2065.21 1423.18 \n",
       "  L2088.98 1423.18 L2112.76 1423.18 L2112.76 1423.18 L2112.76 1423.18 L2112.76 1423.18 L2112.76 1388.78 L2112.76 1354.38 L2112.76 1354.38 L2112.76 1343.74 L2088.98 1336.96 \n",
       "  L2065.21 1329.5 L2041.43 1321.44 L2037.41 1319.98 L2017.66 1312.42 L1993.88 1302.86 L1970.11 1292.93 L1952.97 1285.59 L1946.33 1282.56 L1922.55 1271.53 L1898.78 1260.44 \n",
       "  L1878.87 1251.19 L1875 1249.27 L1851.23 1237.63 L1827.45 1226.27 L1806.88 1216.79 L1803.68 1215.21 L1779.9 1203.98 L1756.13 1193.41 L1732.35 1183.6 L1729.14 1182.39 \n",
       "  L1708.58 1174.03 L1684.8 1165.39 L1661.03 1157.86 L1637.25 1151.52 L1620.77 1147.99 L1613.48 1146.29 L1589.7 1142.17 L1565.93 1139.51 L1542.15 1138.33 L1518.38 1138.64 \n",
       "  L1494.6 1140.44 L1470.83 1143.71 L1449.25 1147.99 L1447.05 1148.39 L1423.28 1154.01 L1399.5 1160.85 L1375.73 1168.85 L1351.95 1177.93 L1341.42 1182.39 L1328.18 1187.58 \n",
       "  L1304.4 1197.72 L1280.63 1208.57 L1263.59 1216.79 L1256.85 1219.82 L1233.08 1230.96 L1209.3 1242.44 L1191.57 1251.19 L1185.53 1253.97 L1161.75 1265.05 L1137.98 1276.13 \n",
       "  L1117.48 1285.59 L1114.2 1287.01 L1090.43 1297.1 L1066.65 1306.89 L1042.88 1316.27 L1032.94 1319.98 L1019.1 1324.86 L995.325 1332.68 L971.55 1339.87 L947.775 1346.35 \n",
       "  L924 1352.07 L912.727 1354.38 L900.225 1356.81 L876.449 1360.61 L852.674 1363.54 L828.899 1365.58 L805.124 1366.7 L781.349 1366.89 L757.574 1366.15 L733.799 1364.5 \n",
       "  L710.024 1361.94 L686.248 1358.5 L663.425 1354.38 L662.473 1354.2 L638.698 1348.82 L614.923 1342.65 L591.148 1335.75 L567.373 1328.18 L543.598 1320.03 L543.477 1319.98 \n",
       "  L519.823 1310.85 L496.047 1301.22 L472.272 1291.24 L459.142 1285.59 L448.497 1280.71 L424.722 1269.67 L400.947 1258.57 L385.019 1251.19 L377.172 1247.3 L353.397 1235.7 \n",
       "  L329.622 1224.4 L312.993 1216.79 L305.846 1213.28 L282.071 1202.15 L258.296 1191.7 L235.404 1182.39 L234.521 1182 L210.746 1172.5 L210.746 1182.39 L210.746 1182.39 \n",
       "  L210.746 1216.79 L210.746 1251.19 L210.746 1285.59 L210.746 1319.98 L210.746 1354.38 L210.746 1388.78 L210.746 1423.18 L210.746 1423.18 L210.746 1423.18 M1470.83 326.71 L1494.6 329.984 L1518.38 331.786 L1542.15 332.097 L1565.93 330.914 L1589.7 328.249 L1613.48 324.129 L1620.77 322.431 L1637.25 318.902 L1661.03 312.561 \n",
       "  L1684.8 305.032 L1708.58 296.393 L1729.14 288.033 L1732.35 286.825 L1756.13 277.016 L1779.9 266.445 L1803.68 255.218 L1806.88 253.634 L1827.45 244.15 L1851.23 232.794 \n",
       "  L1875 221.154 L1878.87 219.236 L1898.78 209.986 L1922.55 198.894 L1946.33 187.868 L1952.97 184.838 L1970.11 177.49 L1993.88 167.562 L2017.66 158 L2037.41 150.439 \n",
       "  L2041.43 148.986 L2065.21 140.925 L2088.98 133.465 L2112.76 126.68 L2112.76 150.439 L2112.76 116.041 L2112.76 81.6425 L2112.76 47.2441 L2112.76 47.2441 L2112.76 47.2441 \n",
       "  L2112.76 47.2441 L2088.98 47.2441 L2065.21 47.2441 L2041.43 47.2441 L2017.66 47.2441 L1993.88 47.2441 L1970.11 47.2441 L1946.33 47.2441 L1922.55 47.2441 L1898.78 47.2441 \n",
       "  L1875 47.2441 L1851.23 47.2441 L1827.45 47.2441 L1803.68 47.2441 L1779.9 47.2441 L1756.13 47.2441 L1732.35 47.2441 L1708.58 47.2441 L1684.8 47.2441 L1661.03 47.2441 \n",
       "  L1637.25 47.2441 L1613.48 47.2441 L1589.7 47.2441 L1565.93 47.2441 L1542.15 47.2441 L1518.38 47.2441 L1494.6 47.2441 L1470.83 47.2441 L1447.05 47.2441 L1423.28 47.2441 \n",
       "  L1399.5 47.2441 L1375.73 47.2441 L1351.95 47.2441 L1328.18 47.2441 L1304.4 47.2441 L1280.63 47.2441 L1256.85 47.2441 L1233.08 47.2441 L1209.3 47.2441 L1185.53 47.2441 \n",
       "  L1161.75 47.2441 L1137.98 47.2441 L1114.2 47.2441 L1090.43 47.2441 L1066.65 47.2441 L1042.88 47.2441 L1019.1 47.2441 L995.325 47.2441 L971.55 47.2441 L947.775 47.2441 \n",
       "  L924 47.2441 L900.225 47.2441 L876.449 47.2441 L852.674 47.2441 L828.899 47.2441 L805.124 47.2441 L781.349 47.2441 L757.574 47.2441 L733.799 47.2441 L710.024 47.2441 \n",
       "  L686.248 47.2441 L662.473 47.2441 L638.698 47.2441 L614.923 47.2441 L591.148 47.2441 L567.373 47.2441 L543.598 47.2441 L519.823 47.2441 L496.047 47.2441 L472.272 47.2441 \n",
       "  L448.497 47.2441 L424.722 47.2441 L400.947 47.2441 L377.172 47.2441 L353.397 47.2441 L329.622 47.2441 L305.846 47.2441 L282.071 47.2441 L258.296 47.2441 L234.521 47.2441 \n",
       "  L210.746 47.2441 L210.746 47.2441 L210.746 47.2441 L210.746 47.2441 L210.746 81.6425 L210.746 116.041 L210.746 150.439 L210.746 184.838 L210.746 219.236 L210.746 253.634 \n",
       "  L210.746 288.033 L210.746 322.431 L210.746 297.92 L234.521 288.421 L235.404 288.033 L258.296 278.721 L282.071 268.272 L305.846 257.147 L312.993 253.634 L329.622 246.024 \n",
       "  L353.397 234.727 L377.172 223.127 L385.019 219.236 L400.947 211.849 L424.722 200.758 L448.497 189.713 L459.142 184.838 L472.272 179.188 L496.047 169.209 L519.823 159.578 \n",
       "  L543.477 150.439 L543.598 150.395 L567.373 142.241 L591.148 134.674 L614.923 127.771 L638.698 121.599 L662.473 116.222 L663.425 116.041 L686.248 111.928 L710.024 108.487 \n",
       "  L733.799 105.926 L757.574 104.27 L781.349 103.535 L805.124 103.728 L828.899 104.848 L852.674 106.883 L876.449 109.813 L900.225 113.609 L912.727 116.041 L924 118.359 \n",
       "  L947.775 124.073 L971.55 130.557 L995.325 137.745 L1019.1 145.566 L1032.94 150.439 L1042.88 154.153 L1066.65 163.535 L1090.43 173.323 L1114.2 183.418 L1117.48 184.838 \n",
       "  L1137.98 194.294 L1161.75 205.372 L1185.53 216.449 L1191.57 219.236 L1209.3 227.981 L1233.08 239.469 L1256.85 250.606 L1263.59 253.634 L1280.63 261.849 L1304.4 272.706 \n",
       "  L1328.18 282.844 L1341.42 288.033 L1351.95 292.492 L1375.73 301.569 L1399.5 309.57 L1423.28 316.413 L1447.05 322.031 L1449.25 322.431 L1470.83 326.71  Z\n",
       "  \" fill=\"#fede99\" fill-rule=\"evenodd\" fill-opacity=\"1\"/>\n",
       "<path clip-path=\"url(#clip272)\" d=\"\n",
       "M210.746 1423.18 L210.746 1423.18 L234.521 1423.18 L258.296 1423.18 L282.071 1423.18 L305.846 1423.18 L329.622 1423.18 L353.397 1423.18 L377.172 1423.18 L400.947 1423.18 \n",
       "  L424.722 1423.18 L448.497 1423.18 L472.272 1423.18 L496.047 1423.18 L519.823 1423.18 L543.598 1423.18 L567.373 1423.18 L591.148 1423.18 L614.923 1423.18 L638.698 1423.18 \n",
       "  L662.473 1423.18 L686.248 1423.18 L710.024 1423.18 L733.799 1423.18 L757.574 1423.18 L781.349 1423.18 L805.124 1423.18 L828.899 1423.18 L852.674 1423.18 L876.449 1423.18 \n",
       "  L900.225 1423.18 L924 1423.18 L947.775 1423.18 L971.55 1423.18 L995.325 1423.18 L1019.1 1423.18 L1042.88 1423.18 L1066.65 1423.18 L1090.43 1423.18 L1114.2 1423.18 \n",
       "  L1137.98 1423.18 L1161.75 1423.18 L1185.53 1423.18 L1209.3 1423.18 L1233.08 1423.18 L1256.85 1423.18 L1280.63 1423.18 L1304.4 1423.18 L1328.18 1423.18 L1351.95 1423.18 \n",
       "  L1375.73 1423.18 L1399.5 1423.18 L1423.28 1423.18 L1447.05 1423.18 L1470.83 1423.18 L1494.6 1423.18 L1518.38 1423.18 L1542.15 1423.18 L1565.93 1423.18 L1589.7 1423.18 \n",
       "  L1613.48 1423.18 L1637.25 1423.18 L1661.03 1423.18 L1684.8 1423.18 L1708.58 1423.18 L1732.35 1423.18 L1756.13 1423.18 L1779.9 1423.18 L1803.68 1423.18 L1827.45 1423.18 \n",
       "  L1851.23 1423.18 L1875 1423.18 L1898.78 1423.18 L1922.55 1423.18 L1946.33 1423.18 L1970.11 1423.18 L1993.88 1423.18 L2017.66 1423.18 L2041.43 1423.18 L2065.21 1423.18 \n",
       "  L2088.98 1423.18 L2112.76 1423.18 L2112.76 1423.18 L2112.76 1423.18 L2112.76 1423.18 L2112.76 1388.78 L2112.76 1388.78 L2112.76 1379.18 L2088.98 1372.76 L2065.21 1365.7 \n",
       "  L2041.43 1358.08 L2030.61 1354.38 L2017.66 1349.71 L1993.88 1340.69 L1970.11 1331.33 L1946.33 1321.72 L1942.11 1319.98 L1922.55 1311.47 L1898.78 1301.05 L1875 1290.67 \n",
       "  L1863.19 1285.59 L1851.23 1280.11 L1827.45 1269.49 L1803.68 1259.23 L1784.12 1251.19 L1779.9 1249.34 L1756.13 1239.49 L1732.35 1230.36 L1708.58 1222.03 L1691.85 1216.79 \n",
       "  L1684.8 1214.42 L1661.03 1207.45 L1637.25 1201.58 L1613.48 1196.86 L1589.7 1193.35 L1565.93 1191.08 L1542.15 1190.08 L1518.38 1190.34 L1494.6 1191.88 L1470.83 1194.66 \n",
       "  L1447.05 1198.68 L1423.28 1203.88 L1399.5 1210.22 L1378.41 1216.79 L1375.73 1217.57 L1351.95 1225.39 L1328.18 1234.07 L1304.4 1243.51 L1286.34 1251.19 L1280.63 1253.46 \n",
       "  L1256.85 1263.45 L1233.08 1273.87 L1209.3 1284.61 L1207.19 1285.59 L1185.53 1294.97 L1161.75 1305.38 L1137.98 1315.79 L1128.29 1319.98 L1114.2 1325.74 L1090.43 1335.26 \n",
       "  L1066.65 1344.49 L1042.88 1353.33 L1039.9 1354.38 L1019.1 1361.31 L995.325 1368.71 L971.55 1375.51 L947.775 1381.64 L924 1387.05 L915.091 1388.78 L900.225 1391.52 \n",
       "  L876.449 1395.13 L852.674 1397.91 L828.899 1399.84 L805.124 1400.9 L781.349 1401.08 L757.574 1400.39 L733.799 1398.81 L710.024 1396.38 L686.248 1393.12 L662.473 1389.06 \n",
       "  L661.125 1388.78 L638.698 1383.98 L614.923 1378.15 L591.148 1371.62 L567.373 1364.46 L543.598 1356.74 L536.746 1354.38 L519.823 1348.22 L496.047 1339.14 L472.272 1329.73 \n",
       "  L448.497 1320.08 L448.255 1319.98 L424.722 1309.71 L400.947 1299.3 L377.172 1288.94 L369.356 1285.59 L353.397 1278.3 L329.622 1267.73 L305.846 1257.55 L290.224 1251.19 \n",
       "  L282.071 1247.64 L258.296 1237.91 L234.521 1228.9 L210.746 1220.71 L210.746 1251.19 L210.746 1251.19 L210.746 1285.59 L210.746 1319.98 L210.746 1354.38 L210.746 1388.78 \n",
       "  L210.746 1423.18 L210.746 1423.18 L210.746 1423.18 M1399.5 260.206 L1423.28 266.542 L1447.05 271.744 L1470.83 275.76 L1494.6 278.549 L1518.38 280.083 \n",
       "  L1542.15 280.348 L1565.93 279.34 L1589.7 277.07 L1613.48 273.561 L1637.25 268.847 L1661.03 262.975 L1684.8 256.005 L1691.85 253.634 L1708.58 248.393 L1732.35 240.061 \n",
       "  L1756.13 230.929 L1779.9 221.087 L1784.12 219.236 L1803.68 211.19 L1827.45 200.938 L1851.23 190.314 L1863.19 184.838 L1875 179.754 L1898.78 169.378 L1922.55 158.959 \n",
       "  L1942.11 150.439 L1946.33 148.706 L1970.11 139.094 L1993.88 129.734 L2017.66 120.718 L2030.61 116.041 L2041.43 112.347 L2065.21 104.722 L2088.98 97.6647 L2112.76 91.2465 \n",
       "  L2112.76 116.041 L2112.76 81.6425 L2112.76 47.2441 L2112.76 47.2441 L2112.76 47.2441 L2112.76 47.2441 L2088.98 47.2441 L2065.21 47.2441 L2041.43 47.2441 L2017.66 47.2441 \n",
       "  L1993.88 47.2441 L1970.11 47.2441 L1946.33 47.2441 L1922.55 47.2441 L1898.78 47.2441 L1875 47.2441 L1851.23 47.2441 L1827.45 47.2441 L1803.68 47.2441 L1779.9 47.2441 \n",
       "  L1756.13 47.2441 L1732.35 47.2441 L1708.58 47.2441 L1684.8 47.2441 L1661.03 47.2441 L1637.25 47.2441 L1613.48 47.2441 L1589.7 47.2441 L1565.93 47.2441 L1542.15 47.2441 \n",
       "  L1518.38 47.2441 L1494.6 47.2441 L1470.83 47.2441 L1447.05 47.2441 L1423.28 47.2441 L1399.5 47.2441 L1375.73 47.2441 L1351.95 47.2441 L1328.18 47.2441 L1304.4 47.2441 \n",
       "  L1280.63 47.2441 L1256.85 47.2441 L1233.08 47.2441 L1209.3 47.2441 L1185.53 47.2441 L1161.75 47.2441 L1137.98 47.2441 L1114.2 47.2441 L1090.43 47.2441 L1066.65 47.2441 \n",
       "  L1042.88 47.2441 L1019.1 47.2441 L995.325 47.2441 L971.55 47.2441 L947.775 47.2441 L924 47.2441 L900.225 47.2441 L876.449 47.2441 L852.674 47.2441 L828.899 47.2441 \n",
       "  L805.124 47.2441 L781.349 47.2441 L757.574 47.2441 L733.799 47.2441 L710.024 47.2441 L686.248 47.2441 L662.473 47.2441 L638.698 47.2441 L614.923 47.2441 L591.148 47.2441 \n",
       "  L567.373 47.2441 L543.598 47.2441 L519.823 47.2441 L496.047 47.2441 L472.272 47.2441 L448.497 47.2441 L424.722 47.2441 L400.947 47.2441 L377.172 47.2441 L353.397 47.2441 \n",
       "  L329.622 47.2441 L305.846 47.2441 L282.071 47.2441 L258.296 47.2441 L234.521 47.2441 L210.746 47.2441 L210.746 47.2441 L210.746 47.2441 L210.746 47.2441 L210.746 81.6425 \n",
       "  L210.746 116.041 L210.746 150.439 L210.746 184.838 L210.746 219.236 L210.746 253.634 L210.746 249.709 L234.521 241.521 L258.296 232.517 L282.071 222.788 L290.224 219.236 \n",
       "  L305.846 212.87 L329.622 202.69 L353.397 192.122 L369.356 184.838 L377.172 181.487 L400.947 171.128 L424.722 160.709 L448.255 150.439 L448.497 150.34 L472.272 140.695 \n",
       "  L496.047 131.286 L519.823 122.206 L536.746 116.041 L543.598 113.68 L567.373 105.966 L591.148 98.8085 L614.923 92.2782 L638.698 86.4406 L661.125 81.6425 L662.473 81.3688 \n",
       "  L686.248 77.3038 L710.024 74.0401 L733.799 71.6104 L757.574 70.0389 L781.349 69.3414 L805.124 69.5247 L828.899 70.5871 L852.674 72.518 L876.449 75.298 L900.225 78.8994 \n",
       "  L915.091 81.6425 L924 83.375 L947.775 88.7806 L971.55 94.9138 L995.325 101.713 L1019.1 109.111 L1039.9 116.041 L1042.88 117.091 L1066.65 125.937 L1090.43 135.165 \n",
       "  L1114.2 144.684 L1128.29 150.439 L1137.98 154.637 L1161.75 165.044 L1185.53 175.45 L1207.19 184.838 L1209.3 185.811 L1233.08 196.558 L1256.85 206.977 L1280.63 216.965 \n",
       "  L1286.34 219.236 L1304.4 226.916 L1328.18 236.355 L1351.95 245.03 L1375.73 252.856 L1378.41 253.634 L1399.5 260.206  Z\n",
       "  \" fill=\"#fdc880\" fill-rule=\"evenodd\" fill-opacity=\"1\"/>\n",
       "<path clip-path=\"url(#clip272)\" d=\"\n",
       "M210.746 1423.18 L210.746 1423.18 L234.521 1423.18 L258.296 1423.18 L282.071 1423.18 L305.846 1423.18 L329.622 1423.18 L353.397 1423.18 L377.172 1423.18 L400.947 1423.18 \n",
       "  L424.722 1423.18 L448.497 1423.18 L472.272 1423.18 L496.047 1423.18 L519.823 1423.18 L543.598 1423.18 L567.373 1423.18 L591.148 1423.18 L614.923 1423.18 L638.698 1423.18 \n",
       "  L662.473 1423.18 L662.473 1423.18 L668.638 1423.18 L662.473 1422.13 L638.698 1417.3 L614.923 1411.76 L591.148 1405.57 L567.373 1398.78 L543.598 1391.46 L535.412 1388.78 \n",
       "  L519.823 1383.41 L496.047 1374.82 L472.272 1365.92 L448.497 1356.8 L442.297 1354.38 L424.722 1347.15 L400.947 1337.33 L377.172 1327.56 L358.429 1319.98 L353.397 1317.83 \n",
       "  L329.622 1307.9 L305.846 1298.34 L282.071 1289.23 L271.925 1285.59 L258.296 1280.37 L234.521 1271.95 L210.746 1264.29 L210.746 1285.59 L210.746 1285.59 L210.746 1319.98 \n",
       "  L210.746 1354.38 L210.746 1388.78 L210.746 1423.18 L210.746 1423.18 L210.746 1423.18 M924 1423.18 L947.775 1423.18 L971.55 1423.18 L995.325 1423.18 \n",
       "  L1019.1 1423.18 L1042.88 1423.18 L1066.65 1423.18 L1090.43 1423.18 L1114.2 1423.18 L1137.98 1423.18 L1161.75 1423.18 L1185.53 1423.18 L1209.3 1423.18 L1233.08 1423.18 \n",
       "  L1256.85 1423.18 L1280.63 1423.18 L1304.4 1423.18 L1328.18 1423.18 L1351.95 1423.18 L1375.73 1423.18 L1399.5 1423.18 L1423.28 1423.18 L1447.05 1423.18 L1470.83 1423.18 \n",
       "  L1494.6 1423.18 L1518.38 1423.18 L1542.15 1423.18 L1565.93 1423.18 L1589.7 1423.18 L1613.48 1423.18 L1637.25 1423.18 L1661.03 1423.18 L1684.8 1423.18 L1708.58 1423.18 \n",
       "  L1732.35 1423.18 L1756.13 1423.18 L1779.9 1423.18 L1803.68 1423.18 L1827.45 1423.18 L1851.23 1423.18 L1875 1423.18 L1898.78 1423.18 L1922.55 1423.18 L1946.33 1423.18 \n",
       "  L1970.11 1423.18 L1993.88 1423.18 L2017.66 1423.18 L2041.43 1423.18 L2065.21 1423.18 L2088.98 1423.18 L2112.76 1423.18 L2112.76 1423.18 L2112.76 1423.18 L2112.76 1423.18 \n",
       "  L2112.76 1423.18 L2112.76 1412.74 L2088.98 1406.65 L2065.21 1399.96 L2041.43 1392.72 L2029.27 1388.78 L2017.66 1384.82 L1993.88 1376.29 L1970.11 1367.43 L1946.33 1358.34 \n",
       "  L1936.14 1354.38 L1922.55 1348.8 L1898.78 1338.98 L1875 1329.2 L1852.3 1319.98 L1851.23 1319.53 L1827.45 1309.55 L1803.68 1299.91 L1779.9 1290.73 L1765.77 1285.59 \n",
       "  L1756.13 1281.85 L1732.35 1273.31 L1708.58 1265.52 L1684.8 1258.55 L1661.03 1252.48 L1655.03 1251.19 L1637.25 1247.1 L1613.48 1242.71 L1589.7 1239.44 L1565.93 1237.33 \n",
       "  L1542.15 1236.39 L1518.38 1236.64 L1494.6 1238.07 L1470.83 1240.66 L1447.05 1244.4 L1423.28 1249.25 L1415.45 1251.19 L1399.5 1254.89 L1375.73 1261.34 L1351.95 1268.66 \n",
       "  L1328.18 1276.78 L1304.46 1285.59 L1304.4 1285.61 L1280.63 1294.49 L1256.85 1303.87 L1233.08 1313.66 L1218.18 1319.98 L1209.3 1323.54 L1185.53 1333.25 L1161.75 1343.07 \n",
       "  L1137.98 1352.88 L1134.29 1354.38 L1114.2 1362.15 L1090.43 1371.15 L1066.65 1379.88 L1042.88 1388.25 L1041.28 1388.78 L1019.1 1395.79 L995.325 1402.81 L971.55 1409.26 \n",
       "  L947.775 1415.08 L924 1420.21 L907.896 1423.18 L900.225 1423.18 L924 1423.18 M1423.28 221.177 L1447.05 226.021 L1470.83 229.759 L1494.6 232.356 \n",
       "  L1518.38 233.785 L1542.15 234.031 L1565.93 233.093 L1589.7 230.98 L1613.48 227.712 L1637.25 223.323 L1655.03 219.236 L1661.03 217.945 L1684.8 211.874 L1708.58 204.907 \n",
       "  L1732.35 197.113 L1756.13 188.57 L1765.77 184.838 L1779.9 179.695 L1803.68 170.509 L1827.45 160.878 L1851.23 150.899 L1852.3 150.439 L1875 141.228 L1898.78 131.446 \n",
       "  L1922.55 121.622 L1936.14 116.041 L1946.33 112.082 L1970.11 102.99 L1993.88 94.1353 L2017.66 85.6066 L2029.27 81.6425 L2041.43 77.702 L2065.21 70.4676 L2088.98 63.7724 \n",
       "  L2112.76 57.6833 L2112.76 81.6425 L2112.76 47.2441 L2112.76 47.2441 L2112.76 47.2441 L2112.76 47.2441 L2088.98 47.2441 L2065.21 47.2441 L2041.43 47.2441 L2017.66 47.2441 \n",
       "  L1993.88 47.2441 L1970.11 47.2441 L1946.33 47.2441 L1922.55 47.2441 L1898.78 47.2441 L1875 47.2441 L1851.23 47.2441 L1827.45 47.2441 L1803.68 47.2441 L1779.9 47.2441 \n",
       "  L1756.13 47.2441 L1732.35 47.2441 L1708.58 47.2441 L1684.8 47.2441 L1661.03 47.2441 L1637.25 47.2441 L1613.48 47.2441 L1589.7 47.2441 L1565.93 47.2441 L1542.15 47.2441 \n",
       "  L1518.38 47.2441 L1494.6 47.2441 L1470.83 47.2441 L1447.05 47.2441 L1423.28 47.2441 L1399.5 47.2441 L1375.73 47.2441 L1351.95 47.2441 L1328.18 47.2441 L1304.4 47.2441 \n",
       "  L1280.63 47.2441 L1256.85 47.2441 L1233.08 47.2441 L1209.3 47.2441 L1185.53 47.2441 L1161.75 47.2441 L1137.98 47.2441 L1114.2 47.2441 L1090.43 47.2441 L1066.65 47.2441 \n",
       "  L1042.88 47.2441 L1019.1 47.2441 L995.325 47.2441 L971.55 47.2441 L947.775 47.2441 L924 47.2441 L900.225 47.2441 L907.896 47.2441 L924 50.2155 L947.775 55.3439 \n",
       "  L971.55 61.1625 L995.325 67.6134 L1019.1 74.632 L1041.28 81.6425 L1042.88 82.1756 L1066.65 90.5434 L1090.43 99.273 L1114.2 108.277 L1134.29 116.041 L1137.98 117.547 \n",
       "  L1161.75 127.359 L1185.53 137.171 L1209.3 146.884 L1218.18 150.439 L1233.08 156.764 L1256.85 166.552 L1280.63 175.934 L1304.4 184.817 L1304.46 184.838 L1328.18 193.646 \n",
       "  L1351.95 201.761 L1375.73 209.082 L1399.5 215.533 L1415.45 219.236 L1423.28 221.177 M210.746 219.236 L210.746 206.138 L234.521 198.478 L258.296 190.055 \n",
       "  L271.925 184.838 L282.071 181.189 L305.846 172.087 L329.622 162.525 L353.397 152.597 L358.429 150.439 L377.172 142.862 L400.947 133.096 L424.722 123.272 L442.297 116.041 \n",
       "  L448.497 113.627 L472.272 104.504 L496.047 95.6038 L519.823 87.0142 L535.412 81.6425 L543.598 78.9663 L567.373 71.6482 L591.148 64.8575 L614.923 58.6621 L638.698 53.1239 \n",
       "  L662.473 48.2981 L668.638 47.2441 L662.473 47.2441 L662.473 47.2441 L638.698 47.2441 L614.923 47.2441 L591.148 47.2441 L567.373 47.2441 L543.598 47.2441 L519.823 47.2441 \n",
       "  L496.047 47.2441 L472.272 47.2441 L448.497 47.2441 L424.722 47.2441 L400.947 47.2441 L377.172 47.2441 L353.397 47.2441 L329.622 47.2441 L305.846 47.2441 L282.071 47.2441 \n",
       "  L258.296 47.2441 L234.521 47.2441 L210.746 47.2441 L210.746 47.2441 L210.746 47.2441 L210.746 47.2441 L210.746 81.6425 L210.746 116.041 L210.746 150.439 L210.746 184.838 \n",
       "  L210.746 219.236  Z\n",
       "  \" fill=\"#fdb367\" fill-rule=\"evenodd\" fill-opacity=\"1\"/>\n",
       "<path clip-path=\"url(#clip272)\" d=\"\n",
       "M210.746 1423.18 L210.746 1423.18 L234.521 1423.18 L258.296 1423.18 L282.071 1423.18 L305.846 1423.18 L329.622 1423.18 L353.397 1423.18 L377.172 1423.18 L400.947 1423.18 \n",
       "  L424.722 1423.18 L448.497 1423.18 L472.272 1423.18 L496.047 1423.18 L519.823 1423.18 L519.823 1423.18 L539.473 1423.18 L519.823 1416.76 L496.047 1408.61 L472.272 1400.16 \n",
       "  L448.497 1391.51 L441.115 1388.78 L424.722 1382.4 L400.947 1373.11 L377.172 1363.87 L353.397 1354.78 L352.337 1354.38 L329.622 1345.44 L305.846 1336.42 L282.071 1327.84 \n",
       "  L258.897 1319.98 L258.296 1319.77 L234.521 1311.86 L210.746 1304.66 L210.746 1319.98 L210.746 1319.98 L210.746 1354.38 L210.746 1388.78 L210.746 1423.18 L210.746 1423.18 \n",
       "  L210.746 1423.18 M1042.88 1423.18 L1066.65 1423.18 L1090.43 1423.18 L1114.2 1423.18 L1137.98 1423.18 L1161.75 1423.18 L1185.53 1423.18 L1209.3 1423.18 \n",
       "  L1233.08 1423.18 L1256.85 1423.18 L1280.63 1423.18 L1304.4 1423.18 L1328.18 1423.18 L1351.95 1423.18 L1375.73 1423.18 L1399.5 1423.18 L1423.28 1423.18 L1447.05 1423.18 \n",
       "  L1470.83 1423.18 L1494.6 1423.18 L1518.38 1423.18 L1542.15 1423.18 L1565.93 1423.18 L1589.7 1423.18 L1613.48 1423.18 L1637.25 1423.18 L1661.03 1423.18 L1684.8 1423.18 \n",
       "  L1708.58 1423.18 L1732.35 1423.18 L1756.13 1423.18 L1779.9 1423.18 L1803.68 1423.18 L1827.45 1423.18 L1851.23 1423.18 L1875 1423.18 L1898.78 1423.18 L1922.55 1423.18 \n",
       "  L1946.33 1423.18 L1970.11 1423.18 L1993.88 1423.18 L2017.66 1423.18 L2017.66 1423.18 L2033.36 1423.18 L2017.66 1418.09 L1993.88 1410 L1970.11 1401.6 L1946.33 1392.97 \n",
       "  L1934.96 1388.78 L1922.55 1383.96 L1898.78 1374.67 L1875 1365.42 L1851.23 1356.29 L1846.13 1354.38 L1827.45 1346.99 L1803.68 1337.91 L1779.9 1329.25 L1756.13 1321.1 \n",
       "  L1752.64 1319.98 L1732.35 1313.14 L1708.58 1305.82 L1684.8 1299.27 L1661.03 1293.57 L1637.25 1288.76 L1617.66 1285.59 L1613.48 1284.86 L1589.7 1281.81 L1565.93 1279.83 \n",
       "  L1542.15 1278.95 L1518.38 1279.18 L1494.6 1280.52 L1470.83 1282.95 L1452.9 1285.59 L1447.05 1286.39 L1423.28 1290.65 L1399.5 1295.83 L1375.73 1301.9 L1351.95 1308.77 \n",
       "  L1328.18 1316.4 L1317.89 1319.98 L1304.4 1324.42 L1280.63 1332.8 L1256.85 1341.64 L1233.08 1350.87 L1224.3 1354.38 L1209.3 1360.07 L1185.53 1369.25 L1161.75 1378.54 \n",
       "  L1137.98 1387.82 L1135.48 1388.78 L1114.2 1396.58 L1090.43 1405.13 L1066.65 1413.41 L1042.88 1421.35 L1037.08 1423.18 L1019.1 1423.18 L1042.88 1423.18 M1470.83 187.475 L1494.6 189.905 L1518.38 191.241 L1542.15 191.472 L1565.93 190.594 L1589.7 188.617 L1613.48 185.56 L1617.66 184.838 L1637.25 181.66 L1661.03 176.855 \n",
       "  L1684.8 171.152 L1708.58 164.607 L1732.35 157.285 L1752.64 150.439 L1756.13 149.327 L1779.9 141.173 L1803.68 132.512 L1827.45 123.432 L1846.13 116.041 L1851.23 114.132 \n",
       "  L1875 105.009 L1898.78 95.7546 L1922.55 86.4619 L1934.96 81.6425 L1946.33 77.4501 L1970.11 68.8244 L1993.88 60.424 L2017.66 52.3327 L2033.36 47.2441 L2017.66 47.2441 \n",
       "  L2017.66 47.2441 L1993.88 47.2441 L1970.11 47.2441 L1946.33 47.2441 L1922.55 47.2441 L1898.78 47.2441 L1875 47.2441 L1851.23 47.2441 L1827.45 47.2441 L1803.68 47.2441 \n",
       "  L1779.9 47.2441 L1756.13 47.2441 L1732.35 47.2441 L1708.58 47.2441 L1684.8 47.2441 L1661.03 47.2441 L1637.25 47.2441 L1613.48 47.2441 L1589.7 47.2441 L1565.93 47.2441 \n",
       "  L1542.15 47.2441 L1518.38 47.2441 L1494.6 47.2441 L1470.83 47.2441 L1447.05 47.2441 L1423.28 47.2441 L1399.5 47.2441 L1375.73 47.2441 L1351.95 47.2441 L1328.18 47.2441 \n",
       "  L1304.4 47.2441 L1280.63 47.2441 L1256.85 47.2441 L1233.08 47.2441 L1209.3 47.2441 L1185.53 47.2441 L1161.75 47.2441 L1137.98 47.2441 L1114.2 47.2441 L1090.43 47.2441 \n",
       "  L1066.65 47.2441 L1042.88 47.2441 L1019.1 47.2441 L1037.08 47.2441 L1042.88 49.0776 L1066.65 57.0163 L1090.43 65.2982 L1114.2 73.8406 L1135.48 81.6425 L1137.98 82.6075 \n",
       "  L1161.75 91.8889 L1185.53 101.17 L1209.3 110.359 L1224.3 116.041 L1233.08 119.553 L1256.85 128.781 L1280.63 137.627 L1304.4 146.002 L1317.89 150.439 L1328.18 154.028 \n",
       "  L1351.95 161.652 L1375.73 168.529 L1399.5 174.589 L1423.28 179.774 L1447.05 184.03 L1452.9 184.838 L1470.83 187.475 M210.746 184.838 L210.746 165.764 \n",
       "  L234.521 158.568 L258.296 150.655 L258.897 150.439 L282.071 142.582 L305.846 134 L329.622 124.984 L352.337 116.041 L353.397 115.646 L377.172 106.554 L400.947 97.3158 \n",
       "  L424.722 88.0232 L441.115 81.6425 L448.497 78.9165 L472.272 70.2614 L496.047 61.8171 L519.823 53.6681 L539.473 47.2441 L519.823 47.2441 L519.823 47.2441 L496.047 47.2441 \n",
       "  L472.272 47.2441 L448.497 47.2441 L424.722 47.2441 L400.947 47.2441 L377.172 47.2441 L353.397 47.2441 L329.622 47.2441 L305.846 47.2441 L282.071 47.2441 L258.296 47.2441 \n",
       "  L234.521 47.2441 L210.746 47.2441 L210.746 47.2441 L210.746 47.2441 L210.746 47.2441 L210.746 81.6425 L210.746 116.041 L210.746 150.439 L210.746 184.838  Z\n",
       "  \" fill=\"#f59053\" fill-rule=\"evenodd\" fill-opacity=\"1\"/>\n",
       "<path clip-path=\"url(#clip272)\" d=\"\n",
       "M210.746 1423.18 L210.746 1423.18 L234.521 1423.18 L258.296 1423.18 L282.071 1423.18 L305.846 1423.18 L329.622 1423.18 L353.397 1423.18 L377.172 1423.18 L400.947 1423.18 \n",
       "  L424.722 1423.18 L424.722 1423.18 L444.711 1423.18 L424.722 1415.8 L400.947 1406.98 L377.172 1398.22 L353.397 1389.59 L351.102 1388.78 L329.622 1380.78 L305.846 1372.25 \n",
       "  L282.071 1364.14 L258.296 1356.51 L251.131 1354.38 L234.521 1349.17 L210.746 1342.39 L210.746 1354.38 L210.746 1354.38 L210.746 1388.78 L210.746 1423.18 L210.746 1423.18 \n",
       "  L210.746 1423.18 M1137.98 1423.18 L1161.75 1423.18 L1185.53 1423.18 L1209.3 1423.18 L1233.08 1423.18 L1256.85 1423.18 L1280.63 1423.18 L1304.4 1423.18 \n",
       "  L1328.18 1423.18 L1351.95 1423.18 L1375.73 1423.18 L1399.5 1423.18 L1423.28 1423.18 L1447.05 1423.18 L1470.83 1423.18 L1494.6 1423.18 L1518.38 1423.18 L1542.15 1423.18 \n",
       "  L1565.93 1423.18 L1589.7 1423.18 L1613.48 1423.18 L1637.25 1423.18 L1661.03 1423.18 L1684.8 1423.18 L1708.58 1423.18 L1732.35 1423.18 L1756.13 1423.18 L1779.9 1423.18 \n",
       "  L1803.68 1423.18 L1827.45 1423.18 L1851.23 1423.18 L1875 1423.18 L1898.78 1423.18 L1922.55 1423.18 L1922.55 1423.18 L1938.56 1423.18 L1922.55 1417.28 L1898.78 1408.46 \n",
       "  L1875 1399.68 L1851.23 1391.03 L1844.9 1388.78 L1827.45 1382.25 L1803.68 1373.66 L1779.9 1365.47 L1756.13 1357.75 L1744.93 1354.38 L1732.35 1350.38 L1708.58 1343.48 \n",
       "  L1684.8 1337.31 L1661.03 1331.93 L1637.25 1327.4 L1613.48 1323.76 L1589.7 1321.05 L1575.18 1319.98 L1565.93 1319.26 L1542.15 1318.44 L1518.38 1318.65 L1494.6 1319.91 \n",
       "  L1493.82 1319.98 L1470.83 1322.07 L1447.05 1325.16 L1423.28 1329.18 L1399.5 1334.06 L1375.73 1339.78 L1351.95 1346.26 L1328.18 1353.45 L1325.34 1354.38 L1304.4 1360.9 \n",
       "  L1280.63 1368.82 L1256.85 1377.19 L1233.08 1385.92 L1225.52 1388.78 L1209.3 1394.61 L1185.53 1403.33 L1161.75 1412.13 L1137.98 1420.94 L1131.86 1423.18 L1114.2 1423.18 \n",
       "  L1137.98 1423.18 M1494.6 150.514 L1518.38 151.77 L1542.15 151.986 L1565.93 151.162 L1575.18 150.439 L1589.7 149.369 L1613.48 146.662 L1637.25 143.025 \n",
       "  L1661.03 138.496 L1684.8 133.118 L1708.58 126.947 L1732.35 120.044 L1744.93 116.041 L1756.13 112.67 L1779.9 104.956 L1803.68 96.7635 L1827.45 88.174 L1844.9 81.6425 \n",
       "  L1851.23 79.3948 L1875 70.7397 L1898.78 61.9602 L1922.55 53.1441 L1938.56 47.2441 L1922.55 47.2441 L1922.55 47.2441 L1898.78 47.2441 L1875 47.2441 L1851.23 47.2441 \n",
       "  L1827.45 47.2441 L1803.68 47.2441 L1779.9 47.2441 L1756.13 47.2441 L1732.35 47.2441 L1708.58 47.2441 L1684.8 47.2441 L1661.03 47.2441 L1637.25 47.2441 L1613.48 47.2441 \n",
       "  L1589.7 47.2441 L1565.93 47.2441 L1542.15 47.2441 L1518.38 47.2441 L1494.6 47.2441 L1470.83 47.2441 L1447.05 47.2441 L1423.28 47.2441 L1399.5 47.2441 L1375.73 47.2441 \n",
       "  L1351.95 47.2441 L1328.18 47.2441 L1304.4 47.2441 L1280.63 47.2441 L1256.85 47.2441 L1233.08 47.2441 L1209.3 47.2441 L1185.53 47.2441 L1161.75 47.2441 L1137.98 47.2441 \n",
       "  L1114.2 47.2441 L1131.86 47.2441 L1137.98 49.4873 L1161.75 58.2927 L1185.53 67.0981 L1209.3 75.8156 L1225.52 81.6425 L1233.08 84.5047 L1256.85 93.2343 L1280.63 101.602 \n",
       "  L1304.4 109.525 L1325.34 116.041 L1328.18 116.973 L1351.95 124.161 L1375.73 130.645 L1399.5 136.359 L1423.28 141.247 L1447.05 145.26 L1470.83 148.358 L1493.82 150.439 \n",
       "  L1494.6 150.514 M210.746 150.439 L210.746 128.038 L234.521 121.253 L251.131 116.041 L258.296 113.914 L282.071 106.289 L305.846 98.1711 L329.622 89.6424 \n",
       "  L351.102 81.6425 L353.397 80.8317 L377.172 72.2061 L400.947 63.4414 L424.722 54.6253 L444.711 47.2441 L424.722 47.2441 L424.722 47.2441 L400.947 47.2441 L377.172 47.2441 \n",
       "  L353.397 47.2441 L329.622 47.2441 L305.846 47.2441 L282.071 47.2441 L258.296 47.2441 L234.521 47.2441 L210.746 47.2441 L210.746 47.2441 L210.746 47.2441 L210.746 47.2441 \n",
       "  L210.746 81.6425 L210.746 116.041 L210.746 150.439  Z\n",
       "  \" fill=\"#eb6840\" fill-rule=\"evenodd\" fill-opacity=\"1\"/>\n",
       "<path clip-path=\"url(#clip272)\" d=\"\n",
       "M210.746 1423.18 L210.746 1423.18 L234.521 1423.18 L258.296 1423.18 L282.071 1423.18 L305.846 1423.18 L329.622 1423.18 L353.397 1423.18 L353.397 1423.18 L354.822 1423.18 \n",
       "  L353.397 1422.66 L329.622 1414.26 L305.846 1406.17 L282.071 1398.47 L258.296 1391.24 L249.582 1388.78 L234.521 1384.31 L210.746 1377.89 L210.746 1388.78 L210.746 1388.78 \n",
       "  L210.746 1423.18 L210.746 1423.18 L210.746 1423.18 M1233.08 1423.18 L1256.85 1423.18 L1280.63 1423.18 L1304.4 1423.18 L1328.18 1423.18 L1351.95 1423.18 \n",
       "  L1375.73 1423.18 L1399.5 1423.18 L1423.28 1423.18 L1447.05 1423.18 L1470.83 1423.18 L1494.6 1423.18 L1518.38 1423.18 L1542.15 1423.18 L1565.93 1423.18 L1589.7 1423.18 \n",
       "  L1613.48 1423.18 L1637.25 1423.18 L1661.03 1423.18 L1684.8 1423.18 L1708.58 1423.18 L1732.35 1423.18 L1756.13 1423.18 L1779.9 1423.18 L1803.68 1423.18 L1827.45 1423.18 \n",
       "  L1827.45 1423.18 L1848.64 1423.18 L1827.45 1415.66 L1803.68 1407.51 L1779.9 1399.73 L1756.13 1392.42 L1743.4 1388.78 L1732.35 1385.45 L1708.58 1378.92 L1684.8 1373.09 \n",
       "  L1661.03 1368 L1637.25 1363.72 L1613.48 1360.28 L1589.7 1357.71 L1565.93 1356.06 L1542.15 1355.32 L1518.38 1355.52 L1494.6 1356.64 L1470.83 1358.67 L1447.05 1361.6 \n",
       "  L1423.28 1365.4 L1399.5 1370.02 L1375.73 1375.43 L1351.95 1381.56 L1328.18 1388.36 L1326.82 1388.78 L1304.4 1395.4 L1280.63 1402.92 L1256.85 1410.85 L1233.08 1419.14 \n",
       "  L1221.82 1423.18 L1209.3 1423.18 L1233.08 1423.18 M210.746 116.041 L210.746 92.5312 L234.521 86.113 L249.582 81.6425 L258.296 79.1885 L282.071 71.9541 \n",
       "  L305.846 64.2528 L329.622 56.1615 L353.397 47.761 L354.822 47.2441 L353.397 47.2441 L353.397 47.2441 L329.622 47.2441 L305.846 47.2441 L282.071 47.2441 L258.296 47.2441 \n",
       "  L234.521 47.2441 L210.746 47.2441 L210.746 47.2441 L210.746 47.2441 L210.746 47.2441 L210.746 81.6425 L210.746 116.041 M1328.18 82.0643 L1351.95 88.8639 \n",
       "  L1375.73 94.9971 L1399.5 100.403 L1423.28 105.027 L1447.05 108.823 L1470.83 111.753 L1494.6 113.788 L1518.38 114.908 L1542.15 115.101 L1565.93 114.366 L1589.7 112.71 \n",
       "  L1613.48 110.149 L1637.25 106.708 L1661.03 102.424 L1684.8 97.3371 L1708.58 91.4995 L1732.35 84.9692 L1743.4 81.6425 L1756.13 78.0079 L1779.9 70.6898 L1803.68 62.9174 \n",
       "  L1827.45 54.7683 L1848.64 47.2441 L1827.45 47.2441 L1827.45 47.2441 L1803.68 47.2441 L1779.9 47.2441 L1756.13 47.2441 L1732.35 47.2441 L1708.58 47.2441 L1684.8 47.2441 \n",
       "  L1661.03 47.2441 L1637.25 47.2441 L1613.48 47.2441 L1589.7 47.2441 L1565.93 47.2441 L1542.15 47.2441 L1518.38 47.2441 L1494.6 47.2441 L1470.83 47.2441 L1447.05 47.2441 \n",
       "  L1423.28 47.2441 L1399.5 47.2441 L1375.73 47.2441 L1351.95 47.2441 L1328.18 47.2441 L1304.4 47.2441 L1280.63 47.2441 L1256.85 47.2441 L1233.08 47.2441 L1209.3 47.2441 \n",
       "  L1221.82 47.2441 L1233.08 51.2872 L1256.85 59.5691 L1280.63 67.5079 L1304.4 75.0241 L1326.82 81.6425 L1328.18 82.0643  Z\n",
       "  \" fill=\"#e1402e\" fill-rule=\"evenodd\" fill-opacity=\"1\"/>\n",
       "<path clip-path=\"url(#clip272)\" d=\"\n",
       "M210.746 1423.18 L210.746 1423.18 L234.521 1423.18 L234.521 1423.18 L254.297 1423.18 L234.521 1417.61 L210.746 1411.52 L210.746 1423.18 L210.746 1423.18 L210.746 1423.18 \n",
       "  L210.746 1423.18 M1328.18 1423.18 L1351.95 1423.18 L1375.73 1423.18 L1399.5 1423.18 L1423.28 1423.18 L1447.05 1423.18 L1470.83 1423.18 L1494.6 1423.18 \n",
       "  L1518.38 1423.18 L1542.15 1423.18 L1565.93 1423.18 L1589.7 1423.18 L1613.48 1423.18 L1637.25 1423.18 L1661.03 1423.18 L1684.8 1423.18 L1708.58 1423.18 L1732.35 1423.18 \n",
       "  L1732.35 1423.18 L1748.05 1423.18 L1732.35 1418.7 L1708.58 1412.5 L1684.8 1406.96 L1661.03 1402.14 L1637.25 1398.07 L1613.48 1394.81 L1589.7 1392.38 L1565.93 1390.81 \n",
       "  L1542.15 1390.11 L1518.38 1390.29 L1494.6 1391.35 L1470.83 1393.29 L1447.05 1396.07 L1423.28 1399.67 L1399.5 1404.05 L1375.73 1409.18 L1351.95 1415 L1328.18 1421.45 \n",
       "  L1322.32 1423.18 L1304.4 1423.18 L1328.18 1423.18 M210.746 81.6425 L210.746 58.9021 L234.521 52.813 L254.297 47.2441 L234.521 47.2441 L234.521 47.2441 \n",
       "  L210.746 47.2441 L210.746 47.2441 L210.746 47.2441 L210.746 47.2441 L210.746 81.6425 M1328.18 48.972 L1351.95 55.4229 L1375.73 61.2416 L1399.5 66.37 \n",
       "  L1423.28 70.7568 L1447.05 74.3582 L1470.83 77.1382 L1494.6 79.069 L1518.38 80.1314 L1542.15 80.3148 L1565.93 79.6172 L1589.7 78.0457 L1613.48 75.616 L1637.25 72.3523 \n",
       "  L1661.03 68.2873 L1684.8 63.4616 L1708.58 57.9233 L1732.35 51.7279 L1748.05 47.2441 L1732.35 47.2441 L1732.35 47.2441 L1708.58 47.2441 L1684.8 47.2441 L1661.03 47.2441 \n",
       "  L1637.25 47.2441 L1613.48 47.2441 L1589.7 47.2441 L1565.93 47.2441 L1542.15 47.2441 L1518.38 47.2441 L1494.6 47.2441 L1470.83 47.2441 L1447.05 47.2441 L1423.28 47.2441 \n",
       "  L1399.5 47.2441 L1375.73 47.2441 L1351.95 47.2441 L1328.18 47.2441 L1304.4 47.2441 L1322.32 47.2441 L1328.18 48.972  Z\n",
       "  \" fill=\"#d6181c\" fill-rule=\"evenodd\" fill-opacity=\"1\"/>\n",
       "<polyline clip-path=\"url(#clip272)\" style=\"stroke:#2c7ab6; stroke-linecap:round; stroke-linejoin:round; stroke-width:4; stroke-opacity:1; fill:none\" points=\"\n",
       "  210.746,1423.18 210.746,1423.18 234.521,1423.18 258.296,1423.18 282.071,1423.18 305.846,1423.18 329.622,1423.18 353.397,1423.18 377.172,1423.18 400.947,1423.18 \n",
       "  424.722,1423.18 448.497,1423.18 472.272,1423.18 496.047,1423.18 519.823,1423.18 543.598,1423.18 567.373,1423.18 591.148,1423.18 614.923,1423.18 638.698,1423.18 \n",
       "  662.473,1423.18 686.248,1423.18 710.024,1423.18 733.799,1423.18 757.574,1423.18 781.349,1423.18 805.124,1423.18 828.899,1423.18 852.674,1423.18 876.449,1423.18 \n",
       "  900.225,1423.18 924,1423.18 947.775,1423.18 971.55,1423.18 995.325,1423.18 1019.1,1423.18 1042.88,1423.18 1066.65,1423.18 1090.43,1423.18 1114.2,1423.18 \n",
       "  1137.98,1423.18 1161.75,1423.18 1185.53,1423.18 1209.3,1423.18 1233.08,1423.18 1256.85,1423.18 1280.63,1423.18 1304.4,1423.18 1328.18,1423.18 1351.95,1423.18 \n",
       "  1375.73,1423.18 1399.5,1423.18 1423.28,1423.18 1447.05,1423.18 1470.83,1423.18 1494.6,1423.18 1518.38,1423.18 1542.15,1423.18 1565.93,1423.18 1589.7,1423.18 \n",
       "  1613.48,1423.18 1637.25,1423.18 1661.03,1423.18 1684.8,1423.18 1708.58,1423.18 1732.35,1423.18 1756.13,1423.18 1779.9,1423.18 1803.68,1423.18 1827.45,1423.18 \n",
       "  1851.23,1423.18 1875,1423.18 1898.78,1423.18 1922.55,1423.18 1946.33,1423.18 1970.11,1423.18 1993.88,1423.18 2017.66,1423.18 2041.43,1423.18 2065.21,1423.18 \n",
       "  2088.98,1423.18 2112.76,1423.18 2112.76,1388.78 2112.76,1354.38 2112.76,1319.98 2112.76,1285.59 2112.76,1251.19 \n",
       "  2112.76,1216.79 2112.76,1182.39 2112.76,1147.99 2112.76,1113.59 2112.76,1079.2 2112.76,1044.8 2112.76,1010.4 2112.76,976.001 2112.76,941.602 2112.76,907.204 \n",
       "  2112.76,872.806 2112.76,838.407 2112.76,804.009 2112.76,769.61 2112.76,735.212 2112.76,700.814 2112.76,666.415 2112.76,632.017 2112.76,597.618 2112.76,563.22 \n",
       "  2112.76,528.822 2112.76,494.423 2112.76,460.025 2112.76,425.626 2112.76,391.228 2112.76,356.83 2112.76,322.431 2112.76,288.033 2112.76,253.634 2112.76,219.236 \n",
       "  2112.76,184.838 2112.76,150.439 2112.76,116.041 2112.76,81.6425 2112.76,47.2441 2088.98,47.2441 2065.21,47.2441 \n",
       "  2041.43,47.2441 2017.66,47.2441 1993.88,47.2441 1970.11,47.2441 1946.33,47.2441 1922.55,47.2441 1898.78,47.2441 1875,47.2441 1851.23,47.2441 1827.45,47.2441 \n",
       "  1803.68,47.2441 1779.9,47.2441 1756.13,47.2441 1732.35,47.2441 1708.58,47.2441 1684.8,47.2441 1661.03,47.2441 1637.25,47.2441 1613.48,47.2441 1589.7,47.2441 \n",
       "  1565.93,47.2441 1542.15,47.2441 1518.38,47.2441 1494.6,47.2441 1470.83,47.2441 1447.05,47.2441 1423.28,47.2441 1399.5,47.2441 1375.73,47.2441 1351.95,47.2441 \n",
       "  1328.18,47.2441 1304.4,47.2441 1280.63,47.2441 1256.85,47.2441 1233.08,47.2441 1209.3,47.2441 1185.53,47.2441 1161.75,47.2441 1137.98,47.2441 1114.2,47.2441 \n",
       "  1090.43,47.2441 1066.65,47.2441 1042.88,47.2441 1019.1,47.2441 995.325,47.2441 971.55,47.2441 947.775,47.2441 924,47.2441 900.225,47.2441 876.449,47.2441 \n",
       "  852.674,47.2441 828.899,47.2441 805.124,47.2441 781.349,47.2441 757.574,47.2441 733.799,47.2441 710.024,47.2441 686.248,47.2441 662.473,47.2441 638.698,47.2441 \n",
       "  614.923,47.2441 591.148,47.2441 567.373,47.2441 543.598,47.2441 519.823,47.2441 496.047,47.2441 472.272,47.2441 448.497,47.2441 424.722,47.2441 400.947,47.2441 \n",
       "  377.172,47.2441 353.397,47.2441 329.622,47.2441 305.846,47.2441 282.071,47.2441 258.296,47.2441 234.521,47.2441 210.746,47.2441 \n",
       "  210.746,81.6425 210.746,116.041 210.746,150.439 210.746,184.838 210.746,219.236 210.746,253.634 210.746,288.033 210.746,322.431 210.746,356.83 \n",
       "  210.746,391.228 210.746,425.626 210.746,460.025 210.746,494.423 210.746,528.822 210.746,563.22 210.746,597.618 210.746,632.017 210.746,666.415 210.746,700.814 \n",
       "  210.746,735.212 210.746,769.61 210.746,804.009 210.746,838.407 210.746,872.806 210.746,907.204 210.746,941.602 210.746,976.001 210.746,1010.4 210.746,1044.8 \n",
       "  210.746,1079.2 210.746,1113.59 210.746,1147.99 210.746,1182.39 210.746,1216.79 210.746,1251.19 210.746,1285.59 210.746,1319.98 210.746,1354.38 210.746,1388.78 \n",
       "  210.746,1423.18 \n",
       "  \"/>\n",
       "<polyline clip-path=\"url(#clip272)\" style=\"stroke:#2c7ab6; stroke-linecap:round; stroke-linejoin:round; stroke-width:4; stroke-opacity:1; fill:none\" points=\"\n",
       "  210.746,1423.18 210.746,1423.18 234.521,1423.18 258.296,1423.18 282.071,1423.18 305.846,1423.18 329.622,1423.18 353.397,1423.18 377.172,1423.18 400.947,1423.18 \n",
       "  424.722,1423.18 448.497,1423.18 472.272,1423.18 496.047,1423.18 519.823,1423.18 543.598,1423.18 567.373,1423.18 591.148,1423.18 614.923,1423.18 638.698,1423.18 \n",
       "  662.473,1423.18 686.248,1423.18 710.024,1423.18 733.799,1423.18 757.574,1423.18 781.349,1423.18 805.124,1423.18 828.899,1423.18 852.674,1423.18 876.449,1423.18 \n",
       "  900.225,1423.18 924,1423.18 947.775,1423.18 971.55,1423.18 995.325,1423.18 1019.1,1423.18 1042.88,1423.18 1066.65,1423.18 1090.43,1423.18 1114.2,1423.18 \n",
       "  1137.98,1423.18 1161.75,1423.18 1185.53,1423.18 1209.3,1423.18 1233.08,1423.18 1256.85,1423.18 1280.63,1423.18 1304.4,1423.18 1328.18,1423.18 1351.95,1423.18 \n",
       "  1375.73,1423.18 1399.5,1423.18 1423.28,1423.18 1447.05,1423.18 1470.83,1423.18 1494.6,1423.18 1518.38,1423.18 1542.15,1423.18 1565.93,1423.18 1589.7,1423.18 \n",
       "  1613.48,1423.18 1637.25,1423.18 1661.03,1423.18 1684.8,1423.18 1708.58,1423.18 1732.35,1423.18 1756.13,1423.18 1779.9,1423.18 1803.68,1423.18 1827.45,1423.18 \n",
       "  1851.23,1423.18 1875,1423.18 1898.78,1423.18 1922.55,1423.18 1946.33,1423.18 1970.11,1423.18 1993.88,1423.18 2017.66,1423.18 2041.43,1423.18 2065.21,1423.18 \n",
       "  2088.98,1423.18 2112.76,1423.18 2112.76,1388.78 2112.76,1354.38 2112.76,1319.98 2112.76,1285.59 2112.76,1251.19 \n",
       "  2112.76,1216.79 2112.76,1182.39 2112.76,1147.99 2112.76,1113.59 2112.76,1079.2 2112.76,1044.8 2112.76,1010.4 2112.76,976.001 2112.76,941.602 2112.76,907.204 \n",
       "  2112.76,872.806 2112.76,859.132 2098.23,838.407 2088.98,819.928 2081.73,804.009 2072.34,769.61 2069.21,735.212 2072.34,700.814 2081.73,666.415 \n",
       "  2088.98,650.496 2098.23,632.017 2112.76,611.291 2112.76,632.017 2112.76,597.618 2112.76,563.22 2112.76,528.822 2112.76,494.423 2112.76,460.025 2112.76,425.626 \n",
       "  2112.76,391.228 2112.76,356.83 2112.76,322.431 2112.76,288.033 2112.76,253.634 2112.76,219.236 2112.76,184.838 2112.76,150.439 2112.76,116.041 2112.76,81.6425 \n",
       "  2112.76,47.2441 2088.98,47.2441 2065.21,47.2441 2041.43,47.2441 2017.66,47.2441 1993.88,47.2441 1970.11,47.2441 \n",
       "  1946.33,47.2441 1922.55,47.2441 1898.78,47.2441 1875,47.2441 1851.23,47.2441 1827.45,47.2441 1803.68,47.2441 1779.9,47.2441 1756.13,47.2441 1732.35,47.2441 \n",
       "  1708.58,47.2441 1684.8,47.2441 1661.03,47.2441 1637.25,47.2441 1613.48,47.2441 1589.7,47.2441 1565.93,47.2441 1542.15,47.2441 1518.38,47.2441 1494.6,47.2441 \n",
       "  1470.83,47.2441 1447.05,47.2441 1423.28,47.2441 1399.5,47.2441 1375.73,47.2441 1351.95,47.2441 1328.18,47.2441 1304.4,47.2441 1280.63,47.2441 1256.85,47.2441 \n",
       "  1233.08,47.2441 1209.3,47.2441 1185.53,47.2441 1161.75,47.2441 1137.98,47.2441 1114.2,47.2441 1090.43,47.2441 1066.65,47.2441 1042.88,47.2441 1019.1,47.2441 \n",
       "  995.325,47.2441 971.55,47.2441 947.775,47.2441 924,47.2441 900.225,47.2441 876.449,47.2441 852.674,47.2441 828.899,47.2441 805.124,47.2441 781.349,47.2441 \n",
       "  757.574,47.2441 733.799,47.2441 710.024,47.2441 686.248,47.2441 662.473,47.2441 638.698,47.2441 614.923,47.2441 591.148,47.2441 567.373,47.2441 543.598,47.2441 \n",
       "  519.823,47.2441 496.047,47.2441 472.272,47.2441 448.497,47.2441 424.722,47.2441 400.947,47.2441 377.172,47.2441 353.397,47.2441 329.622,47.2441 305.846,47.2441 \n",
       "  282.071,47.2441 258.296,47.2441 234.521,47.2441 210.746,47.2441 210.746,81.6425 210.746,116.041 210.746,150.439 \n",
       "  210.746,184.838 210.746,219.236 210.746,253.634 210.746,288.033 210.746,322.431 210.746,356.83 210.746,391.228 210.746,425.626 210.746,460.025 210.746,494.423 \n",
       "  210.746,528.822 210.746,563.22 210.746,597.618 210.746,632.017 210.746,666.415 210.746,700.814 210.746,735.212 210.746,769.61 210.746,804.009 210.746,838.407 \n",
       "  210.746,872.806 210.746,907.204 210.746,941.602 210.746,976.001 210.746,1010.4 210.746,1044.8 210.746,1079.2 210.746,1113.59 210.746,1147.99 210.746,1182.39 \n",
       "  210.746,1216.79 210.746,1251.19 210.746,1285.59 210.746,1319.98 210.746,1354.38 210.746,1388.78 210.746,1423.18 \n",
       "  \"/>\n",
       "<polyline clip-path=\"url(#clip272)\" style=\"stroke:#2c7ab6; stroke-linecap:round; stroke-linejoin:round; stroke-width:4; stroke-opacity:1; fill:none\" points=\"\n",
       "  757.574,943.465 781.349,945.557 805.124,945.007 828.899,941.82 829.793,941.602 852.674,935.014 876.449,925.157 900.225,912.389 908.15,907.204 924,894.532 \n",
       "  947.243,872.806 947.775,872.167 971.55,839.748 972.437,838.407 988.691,804.009 995.325,780.607 998.191,769.61 1001.18,735.212 998.191,700.814 995.325,689.817 \n",
       "  988.691,666.415 972.437,632.017 971.55,630.676 947.775,598.257 947.243,597.618 924,575.892 908.15,563.22 900.225,558.035 876.449,545.266 852.674,535.41 \n",
       "  829.793,528.822 828.899,528.604 805.124,525.417 781.349,524.867 757.574,526.959 748.182,528.822 733.799,532.192 710.024,540.807 686.248,552.378 668.363,563.22 \n",
       "  662.473,567.584 638.698,588.495 629.66,597.618 614.923,616.745 604.404,632.017 591.148,658.96 587.802,666.415 578.538,700.814 575.45,735.212 578.538,769.61 \n",
       "  587.802,804.009 591.148,811.464 604.404,838.407 614.923,853.679 629.66,872.806 638.698,881.929 662.473,902.84 668.363,907.204 686.248,918.046 710.024,929.617 \n",
       "  733.799,938.232 748.182,941.602 757.574,943.465 \n",
       "  \"/>\n",
       "<polyline clip-path=\"url(#clip272)\" style=\"stroke:#2c7ab6; stroke-linecap:round; stroke-linejoin:round; stroke-width:4; stroke-opacity:1; fill:none\" points=\"\n",
       "  210.746,1423.18 210.746,1423.18 234.521,1423.18 258.296,1423.18 282.071,1423.18 305.846,1423.18 329.622,1423.18 353.397,1423.18 377.172,1423.18 400.947,1423.18 \n",
       "  424.722,1423.18 448.497,1423.18 472.272,1423.18 496.047,1423.18 519.823,1423.18 543.598,1423.18 567.373,1423.18 591.148,1423.18 614.923,1423.18 638.698,1423.18 \n",
       "  662.473,1423.18 686.248,1423.18 710.024,1423.18 733.799,1423.18 757.574,1423.18 781.349,1423.18 805.124,1423.18 828.899,1423.18 852.674,1423.18 876.449,1423.18 \n",
       "  900.225,1423.18 924,1423.18 947.775,1423.18 971.55,1423.18 995.325,1423.18 1019.1,1423.18 1042.88,1423.18 1066.65,1423.18 1090.43,1423.18 1114.2,1423.18 \n",
       "  1137.98,1423.18 1161.75,1423.18 1185.53,1423.18 1209.3,1423.18 1233.08,1423.18 1256.85,1423.18 1280.63,1423.18 1304.4,1423.18 1328.18,1423.18 1351.95,1423.18 \n",
       "  1375.73,1423.18 1399.5,1423.18 1423.28,1423.18 1447.05,1423.18 1470.83,1423.18 1494.6,1423.18 1518.38,1423.18 1542.15,1423.18 1565.93,1423.18 1589.7,1423.18 \n",
       "  1613.48,1423.18 1637.25,1423.18 1661.03,1423.18 1684.8,1423.18 1708.58,1423.18 1732.35,1423.18 1756.13,1423.18 1779.9,1423.18 1803.68,1423.18 1827.45,1423.18 \n",
       "  1851.23,1423.18 1875,1423.18 1898.78,1423.18 1922.55,1423.18 1946.33,1423.18 1970.11,1423.18 1993.88,1423.18 2017.66,1423.18 2041.43,1423.18 2065.21,1423.18 \n",
       "  2088.98,1423.18 2112.76,1423.18 2112.76,1388.78 2112.76,1354.38 2112.76,1319.98 2112.76,1285.59 2112.76,1251.19 \n",
       "  2112.76,1216.79 2112.76,1182.39 2112.76,1147.99 2112.76,1113.59 2112.76,1079.2 2112.76,1044.8 2112.76,1010.4 2112.76,979.927 2106.86,976.001 \n",
       "  2088.98,962.264 2065.21,942.179 2064.57,941.602 2041.43,916.634 2033.22,907.204 2017.66,885.357 2009.14,872.806 1993.88,843.863 1991.11,838.407 1978.63,804.009 \n",
       "  1971.14,769.61 1970.11,755.373 1968.68,735.212 1970.11,715.051 1971.14,700.814 1978.63,666.415 1991.11,632.017 1993.88,626.561 2009.14,597.618 2017.66,585.067 \n",
       "  2033.22,563.22 2041.43,553.79 2064.57,528.822 2065.21,528.245 2088.98,508.16 2106.86,494.423 2112.76,490.497 2112.76,494.423 2112.76,460.025 2112.76,425.626 \n",
       "  2112.76,391.228 2112.76,356.83 2112.76,322.431 2112.76,288.033 2112.76,253.634 2112.76,219.236 2112.76,184.838 2112.76,150.439 2112.76,116.041 2112.76,81.6425 \n",
       "  2112.76,47.2441 2088.98,47.2441 2065.21,47.2441 2041.43,47.2441 2017.66,47.2441 1993.88,47.2441 1970.11,47.2441 \n",
       "  1946.33,47.2441 1922.55,47.2441 1898.78,47.2441 1875,47.2441 1851.23,47.2441 1827.45,47.2441 1803.68,47.2441 1779.9,47.2441 1756.13,47.2441 1732.35,47.2441 \n",
       "  1708.58,47.2441 1684.8,47.2441 1661.03,47.2441 1637.25,47.2441 1613.48,47.2441 1589.7,47.2441 1565.93,47.2441 1542.15,47.2441 1518.38,47.2441 1494.6,47.2441 \n",
       "  1470.83,47.2441 1447.05,47.2441 1423.28,47.2441 1399.5,47.2441 1375.73,47.2441 1351.95,47.2441 1328.18,47.2441 1304.4,47.2441 1280.63,47.2441 1256.85,47.2441 \n",
       "  1233.08,47.2441 1209.3,47.2441 1185.53,47.2441 1161.75,47.2441 1137.98,47.2441 1114.2,47.2441 1090.43,47.2441 1066.65,47.2441 1042.88,47.2441 1019.1,47.2441 \n",
       "  995.325,47.2441 971.55,47.2441 947.775,47.2441 924,47.2441 900.225,47.2441 876.449,47.2441 852.674,47.2441 828.899,47.2441 805.124,47.2441 781.349,47.2441 \n",
       "  757.574,47.2441 733.799,47.2441 710.024,47.2441 686.248,47.2441 662.473,47.2441 638.698,47.2441 614.923,47.2441 591.148,47.2441 567.373,47.2441 543.598,47.2441 \n",
       "  519.823,47.2441 496.047,47.2441 472.272,47.2441 448.497,47.2441 424.722,47.2441 400.947,47.2441 377.172,47.2441 353.397,47.2441 329.622,47.2441 305.846,47.2441 \n",
       "  282.071,47.2441 258.296,47.2441 234.521,47.2441 210.746,47.2441 210.746,81.6425 210.746,116.041 210.746,150.439 \n",
       "  210.746,184.838 210.746,219.236 210.746,253.634 210.746,288.033 210.746,322.431 210.746,356.83 210.746,391.228 210.746,425.626 210.746,460.025 210.746,494.423 \n",
       "  210.746,528.822 210.746,563.22 210.746,597.618 210.746,632.017 210.746,666.415 210.746,700.814 210.746,735.212 210.746,769.61 210.746,804.009 210.746,838.407 \n",
       "  210.746,872.806 210.746,907.204 210.746,941.602 210.746,976.001 210.746,1010.4 210.746,1044.8 210.746,1079.2 210.746,1113.59 210.746,1147.99 210.746,1182.39 \n",
       "  210.746,1216.79 210.746,1251.19 210.746,1285.59 210.746,1319.98 210.746,1354.38 210.746,1388.78 210.746,1423.18 \n",
       "  \"/>\n",
       "<polyline clip-path=\"url(#clip272)\" style=\"stroke:#2c7ab6; stroke-linecap:round; stroke-linejoin:round; stroke-width:4; stroke-opacity:1; fill:none\" points=\"\n",
       "  686.248,1014.37 710.024,1021.86 733.799,1027.43 757.574,1031.04 781.349,1032.64 805.124,1032.21 828.899,1029.78 852.674,1025.35 876.449,1018.97 900.225,1010.71 \n",
       "  900.955,1010.4 924,999.344 947.775,986.01 963.505,976.001 971.55,970.094 995.325,950.741 1005.64,941.602 1019.1,927.518 1037.22,907.204 1042.88,899.463 \n",
       "  1061.3,872.806 1066.65,862.849 1079.24,838.407 1090.43,808.026 1091.86,804.009 1099.22,769.61 1101.68,735.212 1099.22,700.814 1091.86,666.415 1090.43,662.397 \n",
       "  1079.24,632.017 1066.65,607.575 1061.3,597.618 1042.88,570.961 1037.22,563.22 1019.1,542.905 1005.64,528.822 995.325,519.683 971.55,500.33 963.505,494.423 \n",
       "  947.775,484.414 924,471.08 900.955,460.025 900.225,459.716 876.449,451.454 852.674,445.076 828.899,440.646 805.124,438.209 781.349,437.789 757.574,439.389 \n",
       "  733.799,442.994 710.024,448.568 686.248,456.055 676.129,460.025 662.473,466.095 638.698,478.642 614.923,493.042 612.884,494.423 591.148,511.415 570.834,528.822 \n",
       "  567.373,532.327 543.598,558.273 539.329,563.22 519.823,590.853 515.268,597.618 497.255,632.017 496.047,635.245 484.796,666.415 477.346,700.814 474.863,735.212 \n",
       "  477.346,769.61 484.796,804.009 496.047,835.179 497.255,838.407 515.268,872.806 519.823,879.57 539.329,907.204 543.598,912.151 567.373,938.097 570.834,941.602 \n",
       "  591.148,959.009 612.884,976.001 614.923,977.382 638.698,991.782 662.473,1004.33 676.129,1010.4 686.248,1014.37 \n",
       "  \"/>\n",
       "<polyline clip-path=\"url(#clip272)\" style=\"stroke:#2c7ab6; stroke-linecap:round; stroke-linejoin:round; stroke-width:4; stroke-opacity:1; fill:none\" points=\"\n",
       "  210.746,1423.18 210.746,1423.18 234.521,1423.18 258.296,1423.18 282.071,1423.18 305.846,1423.18 329.622,1423.18 353.397,1423.18 377.172,1423.18 400.947,1423.18 \n",
       "  424.722,1423.18 448.497,1423.18 472.272,1423.18 496.047,1423.18 519.823,1423.18 543.598,1423.18 567.373,1423.18 591.148,1423.18 614.923,1423.18 638.698,1423.18 \n",
       "  662.473,1423.18 686.248,1423.18 710.024,1423.18 733.799,1423.18 757.574,1423.18 781.349,1423.18 805.124,1423.18 828.899,1423.18 852.674,1423.18 876.449,1423.18 \n",
       "  900.225,1423.18 924,1423.18 947.775,1423.18 971.55,1423.18 995.325,1423.18 1019.1,1423.18 1042.88,1423.18 1066.65,1423.18 1090.43,1423.18 1114.2,1423.18 \n",
       "  1137.98,1423.18 1161.75,1423.18 1185.53,1423.18 1209.3,1423.18 1233.08,1423.18 1256.85,1423.18 1280.63,1423.18 1304.4,1423.18 1328.18,1423.18 1351.95,1423.18 \n",
       "  1375.73,1423.18 1399.5,1423.18 1423.28,1423.18 1447.05,1423.18 1470.83,1423.18 1494.6,1423.18 1518.38,1423.18 1542.15,1423.18 1565.93,1423.18 1589.7,1423.18 \n",
       "  1613.48,1423.18 1637.25,1423.18 1661.03,1423.18 1684.8,1423.18 1708.58,1423.18 1732.35,1423.18 1756.13,1423.18 1779.9,1423.18 1803.68,1423.18 1827.45,1423.18 \n",
       "  1851.23,1423.18 1875,1423.18 1898.78,1423.18 1922.55,1423.18 1946.33,1423.18 1970.11,1423.18 1993.88,1423.18 2017.66,1423.18 2041.43,1423.18 2065.21,1423.18 \n",
       "  2088.98,1423.18 2112.76,1423.18 2112.76,1388.78 2112.76,1354.38 2112.76,1319.98 2112.76,1285.59 2112.76,1251.19 \n",
       "  2112.76,1216.79 2112.76,1182.39 2112.76,1147.99 2112.76,1113.59 2112.76,1079.2 2112.76,1057.85 2088.98,1045.35 2088.03,1044.8 2065.21,1030.05 \n",
       "  2041.43,1013.46 2037.32,1010.4 2017.66,993.839 1997.5,976.001 1993.88,972.309 1970.11,947.108 1965.05,941.602 1946.33,917.527 1938.43,907.204 1922.55,881.841 \n",
       "  1916.93,872.806 1900.28,838.407 1898.78,834.063 1888.35,804.009 1881.18,769.61 1878.79,735.212 1881.18,700.814 1888.35,666.415 1898.78,636.361 1900.28,632.017 \n",
       "  1916.93,597.618 1922.55,588.583 1938.43,563.22 1946.33,552.897 1965.05,528.822 1970.11,523.316 1993.88,498.114 1997.5,494.423 2017.66,476.585 2037.32,460.025 \n",
       "  2041.43,456.969 2065.21,440.372 2088.03,425.626 2088.98,425.077 2112.76,412.579 2112.76,425.626 2112.76,391.228 2112.76,356.83 2112.76,322.431 2112.76,288.033 \n",
       "  2112.76,253.634 2112.76,219.236 2112.76,184.838 2112.76,150.439 2112.76,116.041 2112.76,81.6425 2112.76,47.2441 \n",
       "  2088.98,47.2441 2065.21,47.2441 2041.43,47.2441 2017.66,47.2441 1993.88,47.2441 1970.11,47.2441 1946.33,47.2441 1922.55,47.2441 1898.78,47.2441 1875,47.2441 \n",
       "  1851.23,47.2441 1827.45,47.2441 1803.68,47.2441 1779.9,47.2441 1756.13,47.2441 1732.35,47.2441 1708.58,47.2441 1684.8,47.2441 1661.03,47.2441 1637.25,47.2441 \n",
       "  1613.48,47.2441 1589.7,47.2441 1565.93,47.2441 1542.15,47.2441 1518.38,47.2441 1494.6,47.2441 1470.83,47.2441 1447.05,47.2441 1423.28,47.2441 1399.5,47.2441 \n",
       "  1375.73,47.2441 1351.95,47.2441 1328.18,47.2441 1304.4,47.2441 1280.63,47.2441 1256.85,47.2441 1233.08,47.2441 1209.3,47.2441 1185.53,47.2441 1161.75,47.2441 \n",
       "  1137.98,47.2441 1114.2,47.2441 1090.43,47.2441 1066.65,47.2441 1042.88,47.2441 1019.1,47.2441 995.325,47.2441 971.55,47.2441 947.775,47.2441 924,47.2441 \n",
       "  900.225,47.2441 876.449,47.2441 852.674,47.2441 828.899,47.2441 805.124,47.2441 781.349,47.2441 757.574,47.2441 733.799,47.2441 710.024,47.2441 686.248,47.2441 \n",
       "  662.473,47.2441 638.698,47.2441 614.923,47.2441 591.148,47.2441 567.373,47.2441 543.598,47.2441 519.823,47.2441 496.047,47.2441 472.272,47.2441 448.497,47.2441 \n",
       "  424.722,47.2441 400.947,47.2441 377.172,47.2441 353.397,47.2441 329.622,47.2441 305.846,47.2441 282.071,47.2441 258.296,47.2441 234.521,47.2441 210.746,47.2441 \n",
       "  210.746,81.6425 210.746,116.041 210.746,150.439 210.746,184.838 210.746,219.236 210.746,253.634 210.746,288.033 \n",
       "  210.746,322.431 210.746,356.83 210.746,391.228 210.746,425.626 210.746,460.025 210.746,494.423 210.746,528.822 210.746,563.22 210.746,597.618 210.746,632.017 \n",
       "  210.746,666.415 210.746,700.814 210.746,735.212 210.746,769.61 210.746,804.009 210.746,838.407 210.746,872.806 210.746,907.204 210.746,941.602 210.746,976.001 \n",
       "  210.746,1010.4 210.746,1044.8 210.746,1079.2 210.746,1113.59 210.746,1147.99 210.746,1182.39 210.746,1216.79 210.746,1251.19 210.746,1285.59 210.746,1319.98 \n",
       "  210.746,1354.38 210.746,1388.78 210.746,1423.18 \n",
       "  \"/>\n",
       "<polyline clip-path=\"url(#clip272)\" style=\"stroke:#2c7ab6; stroke-linecap:round; stroke-linejoin:round; stroke-width:4; stroke-opacity:1; fill:none\" points=\"\n",
       "  686.248,1084.86 710.024,1090.92 733.799,1095.43 757.574,1098.35 781.349,1099.64 805.124,1099.3 828.899,1097.33 852.674,1093.75 876.449,1088.58 900.225,1081.89 \n",
       "  908.099,1079.2 924,1073.17 947.775,1062.65 971.55,1050.7 982.155,1044.8 995.325,1036.6 1019.1,1020.5 1033.02,1010.4 1042.88,1002.3 1066.65,981.662 \n",
       "  1072.9,976.001 1090.43,957.687 1105.35,941.602 1114.2,930.325 1131.99,907.204 1137.98,897.687 1153.48,872.806 1161.75,855.737 1170.15,838.407 1182.06,804.009 \n",
       "  1185.53,787.306 1189.24,769.61 1191.64,735.212 1189.24,700.814 1185.53,683.118 1182.06,666.415 1170.15,632.017 1161.75,614.687 1153.48,597.618 1137.98,572.737 \n",
       "  1131.99,563.22 1114.2,540.099 1105.35,528.822 1090.43,512.737 1072.9,494.423 1066.65,488.762 1042.88,468.122 1033.02,460.025 1019.1,449.926 995.325,433.825 \n",
       "  982.155,425.626 971.55,419.72 947.775,407.777 924,397.25 908.099,391.228 900.225,388.53 876.449,381.841 852.674,376.678 828.899,373.093 805.124,371.119 \n",
       "  781.349,370.779 757.574,372.074 733.799,374.993 710.024,379.505 686.248,385.566 668.418,391.228 662.473,393.314 638.698,403.22 614.923,414.588 594.286,425.626 \n",
       "  591.148,427.502 567.373,443.081 543.598,459.869 543.391,460.025 519.823,480.057 503.702,494.423 496.047,502.294 472.272,527.627 471.178,528.822 448.497,558.096 \n",
       "  444.583,563.22 424.722,595.001 423.093,597.618 406.443,632.017 400.947,647.914 394.513,666.415 387.335,700.814 384.943,735.212 387.335,769.61 394.513,804.009 \n",
       "  400.947,822.51 406.443,838.407 423.093,872.806 424.722,875.423 444.583,907.204 448.497,912.328 471.178,941.602 472.272,942.797 496.047,968.13 503.702,976.001 \n",
       "  519.823,990.367 543.391,1010.4 543.598,1010.55 567.373,1027.34 591.148,1042.92 594.286,1044.8 614.923,1055.84 638.698,1067.2 662.473,1077.11 668.418,1079.2 \n",
       "  686.248,1084.86 \n",
       "  \"/>\n",
       "<polyline clip-path=\"url(#clip272)\" style=\"stroke:#2c7ab6; stroke-linecap:round; stroke-linejoin:round; stroke-width:4; stroke-opacity:1; fill:none\" points=\"\n",
       "  210.746,1423.18 210.746,1423.18 234.521,1423.18 258.296,1423.18 282.071,1423.18 305.846,1423.18 329.622,1423.18 353.397,1423.18 377.172,1423.18 400.947,1423.18 \n",
       "  424.722,1423.18 448.497,1423.18 472.272,1423.18 496.047,1423.18 519.823,1423.18 543.598,1423.18 567.373,1423.18 591.148,1423.18 614.923,1423.18 638.698,1423.18 \n",
       "  662.473,1423.18 686.248,1423.18 710.024,1423.18 733.799,1423.18 757.574,1423.18 781.349,1423.18 805.124,1423.18 828.899,1423.18 852.674,1423.18 876.449,1423.18 \n",
       "  900.225,1423.18 924,1423.18 947.775,1423.18 971.55,1423.18 995.325,1423.18 1019.1,1423.18 1042.88,1423.18 1066.65,1423.18 1090.43,1423.18 1114.2,1423.18 \n",
       "  1137.98,1423.18 1161.75,1423.18 1185.53,1423.18 1209.3,1423.18 1233.08,1423.18 1256.85,1423.18 1280.63,1423.18 1304.4,1423.18 1328.18,1423.18 1351.95,1423.18 \n",
       "  1375.73,1423.18 1399.5,1423.18 1423.28,1423.18 1447.05,1423.18 1470.83,1423.18 1494.6,1423.18 1518.38,1423.18 1542.15,1423.18 1565.93,1423.18 1589.7,1423.18 \n",
       "  1613.48,1423.18 1637.25,1423.18 1661.03,1423.18 1684.8,1423.18 1708.58,1423.18 1732.35,1423.18 1756.13,1423.18 1779.9,1423.18 1803.68,1423.18 1827.45,1423.18 \n",
       "  1851.23,1423.18 1875,1423.18 1898.78,1423.18 1922.55,1423.18 1946.33,1423.18 1970.11,1423.18 1993.88,1423.18 2017.66,1423.18 2041.43,1423.18 2065.21,1423.18 \n",
       "  2088.98,1423.18 2112.76,1423.18 2112.76,1388.78 2112.76,1354.38 2112.76,1319.98 2112.76,1285.59 2112.76,1251.19 \n",
       "  2112.76,1216.79 2112.76,1182.39 2112.76,1147.99 2112.76,1120.63 2096.56,1113.59 2088.98,1109.99 2065.21,1097.55 2041.43,1084.12 2033.25,1079.2 \n",
       "  2017.66,1068.83 1993.88,1052.22 1983.65,1044.8 1970.11,1033.82 1946.33,1014.03 1942.03,1010.4 1922.55,991.729 1906.24,976.001 1898.78,967.701 1875.22,941.602 \n",
       "  1875,941.319 1851.23,910.632 1848.51,907.204 1827.45,874.803 1826.11,872.806 1808.1,838.407 1803.68,826.597 1794.82,804.009 1786.73,769.61 1784.03,735.212 \n",
       "  1786.73,700.814 1794.82,666.415 1803.68,643.827 1808.1,632.017 1826.11,597.618 1827.45,595.621 1848.51,563.22 1851.23,559.791 1875,529.105 1875.22,528.822 \n",
       "  1898.78,502.723 1906.24,494.423 1922.55,478.695 1942.03,460.025 1946.33,456.391 1970.11,436.603 1983.65,425.626 1993.88,418.204 2017.66,401.596 2033.25,391.228 \n",
       "  2041.43,386.306 2065.21,372.871 2088.98,360.437 2096.56,356.83 2112.76,349.798 2112.76,356.83 2112.76,322.431 2112.76,288.033 2112.76,253.634 2112.76,219.236 \n",
       "  2112.76,184.838 2112.76,150.439 2112.76,116.041 2112.76,81.6425 2112.76,47.2441 2088.98,47.2441 2065.21,47.2441 \n",
       "  2041.43,47.2441 2017.66,47.2441 1993.88,47.2441 1970.11,47.2441 1946.33,47.2441 1922.55,47.2441 1898.78,47.2441 1875,47.2441 1851.23,47.2441 1827.45,47.2441 \n",
       "  1803.68,47.2441 1779.9,47.2441 1756.13,47.2441 1732.35,47.2441 1708.58,47.2441 1684.8,47.2441 1661.03,47.2441 1637.25,47.2441 1613.48,47.2441 1589.7,47.2441 \n",
       "  1565.93,47.2441 1542.15,47.2441 1518.38,47.2441 1494.6,47.2441 1470.83,47.2441 1447.05,47.2441 1423.28,47.2441 1399.5,47.2441 1375.73,47.2441 1351.95,47.2441 \n",
       "  1328.18,47.2441 1304.4,47.2441 1280.63,47.2441 1256.85,47.2441 1233.08,47.2441 1209.3,47.2441 1185.53,47.2441 1161.75,47.2441 1137.98,47.2441 1114.2,47.2441 \n",
       "  1090.43,47.2441 1066.65,47.2441 1042.88,47.2441 1019.1,47.2441 995.325,47.2441 971.55,47.2441 947.775,47.2441 924,47.2441 900.225,47.2441 876.449,47.2441 \n",
       "  852.674,47.2441 828.899,47.2441 805.124,47.2441 781.349,47.2441 757.574,47.2441 733.799,47.2441 710.024,47.2441 686.248,47.2441 662.473,47.2441 638.698,47.2441 \n",
       "  614.923,47.2441 591.148,47.2441 567.373,47.2441 543.598,47.2441 519.823,47.2441 496.047,47.2441 472.272,47.2441 448.497,47.2441 424.722,47.2441 400.947,47.2441 \n",
       "  377.172,47.2441 353.397,47.2441 329.622,47.2441 305.846,47.2441 282.071,47.2441 258.296,47.2441 234.521,47.2441 210.746,47.2441 \n",
       "  210.746,81.6425 210.746,116.041 210.746,150.439 210.746,184.838 210.746,219.236 210.746,253.634 210.746,288.033 210.746,322.431 210.746,356.83 \n",
       "  210.746,391.228 210.746,425.626 210.746,460.025 210.746,494.423 210.746,528.822 210.746,563.22 210.746,597.618 210.746,632.017 210.746,666.415 210.746,700.814 \n",
       "  210.746,735.212 210.746,769.61 210.746,804.009 210.746,838.407 210.746,872.806 210.746,907.204 210.746,941.602 210.746,976.001 210.746,1010.4 210.746,1044.8 \n",
       "  210.746,1079.2 210.746,1113.59 210.746,1147.99 210.746,1182.39 210.746,1216.79 210.746,1251.19 210.746,1285.59 210.746,1319.98 210.746,1354.38 210.746,1388.78 \n",
       "  210.746,1423.18 \n",
       "  \"/>\n",
       "<polyline clip-path=\"url(#clip272)\" style=\"stroke:#2c7ab6; stroke-linecap:round; stroke-linejoin:round; stroke-width:4; stroke-opacity:1; fill:none\" points=\"\n",
       "  710.024,1148.89 733.799,1152.68 757.574,1155.13 781.349,1156.22 805.124,1155.93 828.899,1154.28 852.674,1151.26 870.605,1147.99 876.449,1146.83 900.225,1140.73 \n",
       "  924,1133.29 947.775,1124.59 971.55,1114.73 974.01,1113.59 995.325,1102.85 1019.1,1089.82 1037.19,1079.2 1042.88,1075.51 1066.65,1059.21 1086.81,1044.8 \n",
       "  1090.43,1041.91 1114.2,1022.31 1128.36,1010.4 1137.98,1001.24 1161.75,978.343 1164.18,976.001 1185.53,952.287 1195.24,941.602 1209.3,923.322 1221.95,907.204 \n",
       "  1233.08,889.887 1244.39,872.806 1256.85,848.626 1262.34,838.407 1275.55,804.009 1280.63,781.98 1283.64,769.61 1286.43,735.212 1283.64,700.814 1280.63,688.444 \n",
       "  1275.55,666.415 1262.34,632.017 1256.85,621.798 1244.39,597.618 1233.08,580.537 1221.95,563.22 1209.3,547.102 1195.24,528.822 1185.53,518.137 1164.18,494.423 \n",
       "  1161.75,492.081 1137.98,469.187 1128.36,460.025 1114.2,448.11 1090.43,428.513 1086.81,425.626 1066.65,411.21 1042.88,394.914 1037.19,391.228 1019.1,380.605 \n",
       "  995.325,367.57 974.01,356.83 971.55,355.698 947.775,345.831 924,337.135 900.225,329.697 876.449,323.59 870.605,322.431 852.674,319.16 828.899,316.148 \n",
       "  805.124,314.491 781.349,314.205 757.574,315.293 733.799,317.745 710.024,321.535 705.839,322.431 686.248,326.991 662.473,333.884 638.698,342.067 614.923,351.458 \n",
       "  602.766,356.83 591.148,362.452 567.373,375.063 543.598,388.654 539.358,391.228 519.823,404.337 496.047,421.064 489.789,425.626 472.272,439.899 448.497,459.755 \n",
       "  448.179,460.025 424.722,482.546 412.402,494.423 400.947,507.167 381.367,528.822 377.172,534.304 354.692,563.22 353.397,565.256 332.26,597.618 329.622,602.813 \n",
       "  314.219,632.017 305.846,654.243 301.029,666.415 292.86,700.814 290.137,735.212 292.86,769.61 301.029,804.009 305.846,816.181 314.219,838.407 329.622,867.611 \n",
       "  332.26,872.806 353.397,905.168 354.692,907.204 377.172,936.12 381.367,941.602 400.947,963.257 412.402,976.001 424.722,987.878 448.179,1010.4 448.497,1010.67 \n",
       "  472.272,1030.52 489.789,1044.8 496.047,1049.36 519.823,1066.09 539.358,1079.2 543.598,1081.77 567.373,1095.36 591.148,1107.97 602.766,1113.59 614.923,1118.97 \n",
       "  638.698,1128.36 662.473,1136.54 686.248,1143.43 705.839,1147.99 710.024,1148.89 \n",
       "  \"/>\n",
       "<polyline clip-path=\"url(#clip272)\" style=\"stroke:#2c7ab6; stroke-linecap:round; stroke-linejoin:round; stroke-width:4; stroke-opacity:1; fill:none\" points=\"\n",
       "  210.746,1423.18 210.746,1423.18 234.521,1423.18 258.296,1423.18 282.071,1423.18 305.846,1423.18 329.622,1423.18 353.397,1423.18 377.172,1423.18 400.947,1423.18 \n",
       "  424.722,1423.18 448.497,1423.18 472.272,1423.18 496.047,1423.18 519.823,1423.18 543.598,1423.18 567.373,1423.18 591.148,1423.18 614.923,1423.18 638.698,1423.18 \n",
       "  662.473,1423.18 686.248,1423.18 710.024,1423.18 733.799,1423.18 757.574,1423.18 781.349,1423.18 805.124,1423.18 828.899,1423.18 852.674,1423.18 876.449,1423.18 \n",
       "  900.225,1423.18 924,1423.18 947.775,1423.18 971.55,1423.18 995.325,1423.18 1019.1,1423.18 1042.88,1423.18 1066.65,1423.18 1090.43,1423.18 1114.2,1423.18 \n",
       "  1137.98,1423.18 1161.75,1423.18 1185.53,1423.18 1209.3,1423.18 1233.08,1423.18 1256.85,1423.18 1280.63,1423.18 1304.4,1423.18 1328.18,1423.18 1351.95,1423.18 \n",
       "  1375.73,1423.18 1399.5,1423.18 1423.28,1423.18 1447.05,1423.18 1470.83,1423.18 1494.6,1423.18 1518.38,1423.18 1542.15,1423.18 1565.93,1423.18 1589.7,1423.18 \n",
       "  1613.48,1423.18 1637.25,1423.18 1661.03,1423.18 1684.8,1423.18 1708.58,1423.18 1732.35,1423.18 1756.13,1423.18 1779.9,1423.18 1803.68,1423.18 1827.45,1423.18 \n",
       "  1851.23,1423.18 1875,1423.18 1898.78,1423.18 1922.55,1423.18 1946.33,1423.18 1970.11,1423.18 1993.88,1423.18 2017.66,1423.18 2041.43,1423.18 2065.21,1423.18 \n",
       "  2088.98,1423.18 2112.76,1423.18 2112.76,1388.78 2112.76,1354.38 2112.76,1319.98 2112.76,1285.59 2112.76,1251.19 \n",
       "  2112.76,1216.79 2112.76,1182.39 2112.76,1174.41 2088.98,1164.91 2065.21,1154.46 2051.58,1147.99 2041.43,1142.76 2017.66,1129.7 1993.88,1115.98 \n",
       "  1989.9,1113.59 1970.11,1100.6 1946.33,1084.59 1938.46,1079.2 1922.55,1067.16 1898.78,1049.07 1893.15,1044.8 1875,1029.43 1852.22,1010.4 1851.23,1009.46 \n",
       "  1827.45,987.506 1814.54,976.001 1803.68,964.829 1780,941.602 1779.9,941.496 1756.13,915.55 1747.89,907.204 1732.35,887.978 1718.92,872.806 1708.58,857.795 \n",
       "  1693.64,838.407 1684.8,822.352 1673.22,804.009 1661.03,771.847 1660.02,769.61 1654.86,735.212 1660.02,700.814 1661.03,698.577 1673.22,666.415 1684.8,648.072 \n",
       "  1693.64,632.017 1708.58,612.629 1718.92,597.618 1732.35,582.446 1747.89,563.22 1756.13,554.874 1779.9,528.928 1780,528.822 1803.68,505.595 1814.54,494.423 \n",
       "  1827.45,482.918 1851.23,460.963 1852.22,460.025 1875,440.996 1893.15,425.626 1898.78,421.358 1922.55,403.261 1938.46,391.228 1946.33,385.838 1970.11,369.819 \n",
       "  1989.9,356.83 1993.88,354.445 2017.66,340.725 2041.43,327.666 2051.58,322.431 2065.21,315.962 2088.98,305.517 2112.76,296.018 2112.76,322.431 2112.76,288.033 \n",
       "  2112.76,253.634 2112.76,219.236 2112.76,184.838 2112.76,150.439 2112.76,116.041 2112.76,81.6425 2112.76,47.2441 \n",
       "  2088.98,47.2441 2065.21,47.2441 2041.43,47.2441 2017.66,47.2441 1993.88,47.2441 1970.11,47.2441 1946.33,47.2441 1922.55,47.2441 1898.78,47.2441 1875,47.2441 \n",
       "  1851.23,47.2441 1827.45,47.2441 1803.68,47.2441 1779.9,47.2441 1756.13,47.2441 1732.35,47.2441 1708.58,47.2441 1684.8,47.2441 1661.03,47.2441 1637.25,47.2441 \n",
       "  1613.48,47.2441 1589.7,47.2441 1565.93,47.2441 1542.15,47.2441 1518.38,47.2441 1494.6,47.2441 1470.83,47.2441 1447.05,47.2441 1423.28,47.2441 1399.5,47.2441 \n",
       "  1375.73,47.2441 1351.95,47.2441 1328.18,47.2441 1304.4,47.2441 1280.63,47.2441 1256.85,47.2441 1233.08,47.2441 1209.3,47.2441 1185.53,47.2441 1161.75,47.2441 \n",
       "  1137.98,47.2441 1114.2,47.2441 1090.43,47.2441 1066.65,47.2441 1042.88,47.2441 1019.1,47.2441 995.325,47.2441 971.55,47.2441 947.775,47.2441 924,47.2441 \n",
       "  900.225,47.2441 876.449,47.2441 852.674,47.2441 828.899,47.2441 805.124,47.2441 781.349,47.2441 757.574,47.2441 733.799,47.2441 710.024,47.2441 686.248,47.2441 \n",
       "  662.473,47.2441 638.698,47.2441 614.923,47.2441 591.148,47.2441 567.373,47.2441 543.598,47.2441 519.823,47.2441 496.047,47.2441 472.272,47.2441 448.497,47.2441 \n",
       "  424.722,47.2441 400.947,47.2441 377.172,47.2441 353.397,47.2441 329.622,47.2441 305.846,47.2441 282.071,47.2441 258.296,47.2441 234.521,47.2441 210.746,47.2441 \n",
       "  210.746,81.6425 210.746,116.041 210.746,150.439 210.746,184.838 210.746,219.236 210.746,253.634 210.746,288.033 \n",
       "  210.746,322.431 210.746,356.83 210.746,391.228 210.746,425.626 210.746,460.025 210.746,494.423 210.746,528.822 210.746,563.22 210.746,597.618 210.746,632.017 \n",
       "  210.746,618.082 225.087,597.618 234.521,587.148 254.13,563.22 258.296,559.06 282.071,533.411 286.068,528.822 305.846,509.601 320.712,494.423 329.622,486.54 \n",
       "  353.397,464.699 358.352,460.025 377.172,444.361 399.323,425.626 400.947,424.398 424.722,406.302 444.609,391.228 448.497,388.561 472.272,372.488 496.011,356.83 \n",
       "  496.047,356.807 519.823,342.99 543.598,329.81 557.736,322.431 567.373,317.804 591.148,307.21 614.923,297.545 638.698,288.906 641.455,288.033 662.473,281.871 \n",
       "  686.248,275.999 710.024,271.285 733.799,267.775 757.574,265.505 781.349,264.498 805.124,264.762 828.899,266.297 852.674,269.086 876.449,273.102 900.225,278.304 \n",
       "  924,284.64 934.889,288.033 947.775,292.369 971.55,301.446 995.325,311.509 1019.04,322.431 1019.1,322.461 1042.88,335.206 1066.65,348.667 1080.47,356.83 \n",
       "  1090.43,363.27 1114.2,379.135 1131.96,391.228 1137.98,395.755 1161.75,413.83 1177.27,425.626 1185.53,432.642 1209.3,452.641 1218.26,460.025 1233.08,473.867 \n",
       "  1255.77,494.423 1256.85,495.55 1280.63,519.366 1290.6,528.822 1304.4,544.295 1322.48,563.22 1328.18,570.504 1351.24,597.618 1351.95,598.698 1375.73,631.116 \n",
       "  1376.48,632.017 1396.92,666.415 1399.5,673.652 1410.83,700.814 1415.61,735.212 1410.83,769.61 1399.5,796.772 1396.92,804.009 1376.48,838.407 1375.73,839.308 \n",
       "  1351.95,871.726 1351.24,872.806 1328.18,899.92 1322.48,907.204 1304.4,926.129 1290.6,941.602 1280.63,951.058 1256.85,974.874 1255.77,976.001 1233.08,996.557 \n",
       "  1218.26,1010.4 1209.3,1017.78 1185.53,1037.78 1177.27,1044.8 1161.75,1056.59 1137.98,1074.67 1131.96,1079.2 1114.2,1091.29 1090.43,1107.15 1080.47,1113.59 \n",
       "  1066.65,1121.76 1042.88,1135.22 1019.1,1147.96 1019.04,1147.99 995.325,1158.91 971.55,1168.98 947.775,1178.06 934.889,1182.39 924,1185.78 900.225,1192.12 \n",
       "  876.449,1197.32 852.674,1201.34 828.899,1204.13 805.124,1205.66 781.349,1205.93 757.574,1204.92 733.799,1202.65 710.024,1199.14 686.248,1194.43 662.473,1188.55 \n",
       "  641.455,1182.39 638.698,1181.52 614.923,1172.88 591.148,1163.21 567.373,1152.62 557.736,1147.99 543.598,1140.61 519.823,1127.43 496.047,1113.62 496.011,1113.59 \n",
       "  472.272,1097.94 448.497,1081.86 444.609,1079.2 424.722,1064.12 400.947,1046.03 399.323,1044.8 377.172,1026.06 358.352,1010.4 353.397,1005.73 329.622,983.884 \n",
       "  320.712,976.001 305.846,960.823 286.068,941.602 282.071,937.013 258.296,911.364 254.13,907.204 234.521,883.276 225.087,872.806 210.746,852.342 210.746,872.806 \n",
       "  210.746,907.204 210.746,941.602 210.746,976.001 210.746,1010.4 210.746,1044.8 210.746,1079.2 210.746,1113.59 210.746,1147.99 210.746,1182.39 \n",
       "  210.746,1216.79 210.746,1251.19 210.746,1285.59 210.746,1319.98 210.746,1354.38 210.746,1388.78 210.746,1423.18 \n",
       "  \"/>\n",
       "<polyline clip-path=\"url(#clip272)\" style=\"stroke:#2c7ab6; stroke-linecap:round; stroke-linejoin:round; stroke-width:4; stroke-opacity:1; fill:none\" points=\"\n",
       "  210.746,1423.18 210.746,1423.18 234.521,1423.18 258.296,1423.18 282.071,1423.18 305.846,1423.18 329.622,1423.18 353.397,1423.18 377.172,1423.18 400.947,1423.18 \n",
       "  424.722,1423.18 448.497,1423.18 472.272,1423.18 496.047,1423.18 519.823,1423.18 543.598,1423.18 567.373,1423.18 591.148,1423.18 614.923,1423.18 638.698,1423.18 \n",
       "  662.473,1423.18 686.248,1423.18 710.024,1423.18 733.799,1423.18 757.574,1423.18 781.349,1423.18 805.124,1423.18 828.899,1423.18 852.674,1423.18 876.449,1423.18 \n",
       "  900.225,1423.18 924,1423.18 947.775,1423.18 971.55,1423.18 995.325,1423.18 1019.1,1423.18 1042.88,1423.18 1066.65,1423.18 1090.43,1423.18 1114.2,1423.18 \n",
       "  1137.98,1423.18 1161.75,1423.18 1185.53,1423.18 1209.3,1423.18 1233.08,1423.18 1256.85,1423.18 1280.63,1423.18 1304.4,1423.18 1328.18,1423.18 1351.95,1423.18 \n",
       "  1375.73,1423.18 1399.5,1423.18 1423.28,1423.18 1447.05,1423.18 1470.83,1423.18 1494.6,1423.18 1518.38,1423.18 1542.15,1423.18 1565.93,1423.18 1589.7,1423.18 \n",
       "  1613.48,1423.18 1637.25,1423.18 1661.03,1423.18 1684.8,1423.18 1708.58,1423.18 1732.35,1423.18 1756.13,1423.18 1779.9,1423.18 1803.68,1423.18 1827.45,1423.18 \n",
       "  1851.23,1423.18 1875,1423.18 1898.78,1423.18 1922.55,1423.18 1946.33,1423.18 1970.11,1423.18 1993.88,1423.18 2017.66,1423.18 2041.43,1423.18 2065.21,1423.18 \n",
       "  2088.98,1423.18 2112.76,1423.18 2112.76,1388.78 2112.76,1354.38 2112.76,1319.98 2112.76,1285.59 2112.76,1251.19 \n",
       "  2112.76,1222.35 2096.6,1216.79 2088.98,1213.97 2065.21,1204.3 2041.43,1193.85 2017.66,1182.73 2016.97,1182.39 1993.88,1170.13 1970.11,1157.03 \n",
       "  1954.15,1147.99 1946.33,1143.18 1922.55,1128.32 1899.13,1113.59 1898.78,1113.35 1875,1097.05 1851.23,1080.97 1848.53,1079.2 1827.45,1063.83 1803.68,1047.1 \n",
       "  1800.25,1044.8 1779.9,1029.54 1756.13,1012.75 1752.54,1010.4 1732.35,995.411 1708.58,979.303 1703.13,976.001 1684.8,963.197 1661.03,948.719 1647.15,941.602 \n",
       "  1637.25,935.601 1613.48,924.03 1589.7,915.415 1565.93,909.844 1542.15,907.371 1518.38,908.021 1494.6,911.787 1470.83,918.633 1447.05,928.49 1423.28,941.258 \n",
       "  1422.75,941.602 1399.5,954.471 1375.73,969.857 1367.36,976.001 1351.95,985.804 1328.18,1002.58 1317.99,1010.4 1304.4,1019.6 1280.63,1036.84 1270.24,1044.8 \n",
       "  1256.85,1053.97 1233.08,1070.97 1221.93,1079.2 1209.3,1087.62 1185.53,1103.81 1171.3,1113.59 1161.75,1119.59 1137.98,1134.52 1116.31,1147.99 1114.2,1149.2 \n",
       "  1090.43,1162.53 1066.65,1175.45 1053.32,1182.39 1042.88,1187.43 1019.1,1198.28 995.325,1208.42 973.976,1216.79 971.55,1217.67 947.775,1225.5 924,1232.4 \n",
       "  900.225,1238.3 876.449,1243.14 852.674,1246.88 828.899,1249.47 805.124,1250.9 781.349,1251.15 757.574,1250.21 733.799,1248.1 710.024,1244.83 686.248,1240.44 \n",
       "  662.473,1234.98 638.698,1228.49 614.923,1221.04 602.802,1216.79 591.148,1212.4 567.373,1202.59 543.598,1192.02 523.199,1182.39 519.823,1180.67 496.047,1167.96 \n",
       "  472.272,1154.78 460.314,1147.99 448.497,1140.7 424.722,1125.81 405.292,1113.59 400.947,1110.6 377.172,1094.32 354.718,1079.2 353.397,1078.21 329.622,1060.97 \n",
       "  306.472,1044.8 305.846,1044.31 282.071,1026.64 258.804,1010.4 258.296,1010 234.521,992.59 210.746,976.758 210.746,1010.4 210.746,1044.8 \n",
       "  210.746,1079.2 210.746,1113.59 210.746,1147.99 210.746,1182.39 210.746,1216.79 210.746,1251.19 210.746,1285.59 210.746,1319.98 210.746,1354.38 210.746,1388.78 \n",
       "  210.746,1423.18 \n",
       "  \"/>\n",
       "<polyline clip-path=\"url(#clip272)\" style=\"stroke:#2c7ab6; stroke-linecap:round; stroke-linejoin:round; stroke-width:4; stroke-opacity:1; fill:none\" points=\"\n",
       "  1423.28,529.166 1447.05,541.934 1470.83,551.791 1494.6,558.637 1518.38,562.403 1542.15,563.053 1565.93,560.58 1589.7,555.008 1613.48,546.394 1637.25,534.823 \n",
       "  1647.15,528.822 1661.03,521.705 1684.8,507.227 1703.13,494.423 1708.58,491.121 1732.35,475.013 1752.54,460.025 1756.13,457.671 1779.9,440.882 1800.25,425.626 \n",
       "  1803.68,423.322 1827.45,406.595 1848.53,391.228 1851.23,389.45 1875,373.376 1898.78,357.071 1899.13,356.83 1922.55,342.101 1946.33,327.239 1954.15,322.431 \n",
       "  1970.11,313.399 1993.88,300.294 2016.97,288.033 2017.66,287.698 2041.43,276.574 2065.21,266.124 2088.98,256.453 2096.6,253.634 2112.76,248.07 2112.76,253.634 \n",
       "  2112.76,219.236 2112.76,184.838 2112.76,150.439 2112.76,116.041 2112.76,81.6425 2112.76,47.2441 2088.98,47.2441 \n",
       "  2065.21,47.2441 2041.43,47.2441 2017.66,47.2441 1993.88,47.2441 1970.11,47.2441 1946.33,47.2441 1922.55,47.2441 1898.78,47.2441 1875,47.2441 1851.23,47.2441 \n",
       "  1827.45,47.2441 1803.68,47.2441 1779.9,47.2441 1756.13,47.2441 1732.35,47.2441 1708.58,47.2441 1684.8,47.2441 1661.03,47.2441 1637.25,47.2441 1613.48,47.2441 \n",
       "  1589.7,47.2441 1565.93,47.2441 1542.15,47.2441 1518.38,47.2441 1494.6,47.2441 1470.83,47.2441 1447.05,47.2441 1423.28,47.2441 1399.5,47.2441 1375.73,47.2441 \n",
       "  1351.95,47.2441 1328.18,47.2441 1304.4,47.2441 1280.63,47.2441 1256.85,47.2441 1233.08,47.2441 1209.3,47.2441 1185.53,47.2441 1161.75,47.2441 1137.98,47.2441 \n",
       "  1114.2,47.2441 1090.43,47.2441 1066.65,47.2441 1042.88,47.2441 1019.1,47.2441 995.325,47.2441 971.55,47.2441 947.775,47.2441 924,47.2441 900.225,47.2441 \n",
       "  876.449,47.2441 852.674,47.2441 828.899,47.2441 805.124,47.2441 781.349,47.2441 757.574,47.2441 733.799,47.2441 710.024,47.2441 686.248,47.2441 662.473,47.2441 \n",
       "  638.698,47.2441 614.923,47.2441 591.148,47.2441 567.373,47.2441 543.598,47.2441 519.823,47.2441 496.047,47.2441 472.272,47.2441 448.497,47.2441 424.722,47.2441 \n",
       "  400.947,47.2441 377.172,47.2441 353.397,47.2441 329.622,47.2441 305.846,47.2441 282.071,47.2441 258.296,47.2441 234.521,47.2441 210.746,47.2441 \n",
       "  210.746,81.6425 210.746,116.041 210.746,150.439 210.746,184.838 210.746,219.236 210.746,253.634 210.746,288.033 210.746,322.431 \n",
       "  210.746,356.83 210.746,391.228 210.746,425.626 210.746,460.025 210.746,494.423 210.746,493.666 234.521,477.834 258.296,460.426 258.804,460.025 282.071,443.783 \n",
       "  305.846,426.115 306.472,425.626 329.622,409.455 353.397,392.212 354.718,391.228 377.172,376.099 400.947,359.822 405.292,356.83 424.722,344.613 448.497,329.726 \n",
       "  460.314,322.431 472.272,315.64 496.047,302.467 519.823,289.755 523.199,288.033 543.598,278.4 567.373,267.83 591.148,258.021 602.802,253.634 614.923,249.387 \n",
       "  638.698,241.939 662.473,235.449 686.248,229.982 710.024,225.593 733.799,222.325 757.574,220.212 781.349,219.274 805.124,219.521 828.899,220.949 852.674,223.546 \n",
       "  876.449,227.285 900.225,232.128 924,238.027 947.775,244.924 971.55,252.749 973.976,253.634 995.325,262.002 1019.1,272.14 1042.88,282.996 1053.32,288.033 \n",
       "  1066.65,294.978 1090.43,307.898 1114.2,321.224 1116.31,322.431 1137.98,335.9 1161.75,350.831 1171.3,356.83 1185.53,366.613 1209.3,382.803 1221.93,391.228 \n",
       "  1233.08,399.45 1256.85,416.45 1270.24,425.626 1280.63,433.582 1304.4,450.825 1317.99,460.025 1328.18,467.847 1351.95,484.62 1367.36,494.423 1375.73,500.567 \n",
       "  1399.5,515.952 1422.75,528.822 1423.28,529.166 \n",
       "  \"/>\n",
       "<polyline clip-path=\"url(#clip272)\" style=\"stroke:#2c7ab6; stroke-linecap:round; stroke-linejoin:round; stroke-width:4; stroke-opacity:1; fill:none\" points=\"\n",
       "  210.746,1423.18 210.746,1423.18 234.521,1423.18 258.296,1423.18 282.071,1423.18 305.846,1423.18 329.622,1423.18 353.397,1423.18 377.172,1423.18 400.947,1423.18 \n",
       "  424.722,1423.18 448.497,1423.18 472.272,1423.18 496.047,1423.18 519.823,1423.18 543.598,1423.18 567.373,1423.18 591.148,1423.18 614.923,1423.18 638.698,1423.18 \n",
       "  662.473,1423.18 686.248,1423.18 710.024,1423.18 733.799,1423.18 757.574,1423.18 781.349,1423.18 805.124,1423.18 828.899,1423.18 852.674,1423.18 876.449,1423.18 \n",
       "  900.225,1423.18 924,1423.18 947.775,1423.18 971.55,1423.18 995.325,1423.18 1019.1,1423.18 1042.88,1423.18 1066.65,1423.18 1090.43,1423.18 1114.2,1423.18 \n",
       "  1137.98,1423.18 1161.75,1423.18 1185.53,1423.18 1209.3,1423.18 1233.08,1423.18 1256.85,1423.18 1280.63,1423.18 1304.4,1423.18 1328.18,1423.18 1351.95,1423.18 \n",
       "  1375.73,1423.18 1399.5,1423.18 1423.28,1423.18 1447.05,1423.18 1470.83,1423.18 1494.6,1423.18 1518.38,1423.18 1542.15,1423.18 1565.93,1423.18 1589.7,1423.18 \n",
       "  1613.48,1423.18 1637.25,1423.18 1661.03,1423.18 1684.8,1423.18 1708.58,1423.18 1732.35,1423.18 1756.13,1423.18 1779.9,1423.18 1803.68,1423.18 1827.45,1423.18 \n",
       "  1851.23,1423.18 1875,1423.18 1898.78,1423.18 1922.55,1423.18 1946.33,1423.18 1970.11,1423.18 1993.88,1423.18 2017.66,1423.18 2041.43,1423.18 2065.21,1423.18 \n",
       "  2088.98,1423.18 2112.76,1423.18 2112.76,1388.78 2112.76,1354.38 2112.76,1319.98 2112.76,1285.59 \n",
       "  2112.76,1265.82 2088.98,1258.16 2069.31,1251.19 2065.21,1249.64 2041.43,1239.91 2017.66,1229.55 1993.88,1218.67 1989.93,1216.79 1970.11,1206.67 1946.33,1194.21 \n",
       "  1924.13,1182.39 1922.55,1181.49 1898.78,1167.73 1875,1154.04 1864.36,1147.99 1851.23,1139.89 1827.45,1125.57 1806.85,1113.59 1803.68,1111.58 1779.9,1097.14 \n",
       "  1756.13,1083.55 1747.92,1079.2 1732.35,1070.07 1708.58,1057.35 1684.8,1045.98 1681.95,1044.8 1661.03,1035.05 1637.25,1025.73 1613.48,1018.24 1589.7,1012.67 \n",
       "  1574.75,1010.4 1565.93,1008.88 1542.15,1007.07 1518.38,1007.55 1494.6,1010.31 1494.17,1010.4 1470.83,1014.75 1447.05,1021.13 1423.28,1029.39 1399.5,1039.45 \n",
       "  1388.7,1044.8 1375.73,1050.54 1351.95,1062.49 1328.18,1075.73 1322.45,1079.2 1304.4,1089.09 1280.63,1103.05 1263.62,1113.59 1256.85,1117.43 1233.08,1131.47 \n",
       "  1209.3,1145.96 1206.03,1147.99 1185.53,1159.72 1161.75,1173.45 1146.28,1182.39 1137.98,1186.84 1114.2,1199.43 1090.43,1211.77 1080.44,1216.79 1066.65,1223.25 \n",
       "  1042.88,1233.93 1019.1,1244.03 1001.08,1251.19 995.325,1253.33 971.55,1261.44 947.775,1268.76 924,1275.21 900.225,1280.73 876.449,1285.26 874.256,1285.59 \n",
       "  852.674,1288.57 828.899,1290.85 805.124,1292.11 781.349,1292.32 757.574,1291.5 733.799,1289.64 710.024,1286.77 702.729,1285.59 686.248,1282.74 662.473,1277.63 \n",
       "  638.698,1271.56 614.923,1264.59 591.148,1256.79 575.548,1251.19 567.373,1248.05 543.598,1238.21 519.823,1227.75 496.047,1216.79 496.037,1216.79 472.272,1204.6 \n",
       "  448.497,1192.1 430.303,1182.39 424.722,1179.18 400.947,1165.42 377.172,1151.75 370.533,1147.99 353.397,1137.45 329.622,1123.21 312.965,1113.59 305.846,1109.1 \n",
       "  282.071,1094.79 258.296,1081.36 254.163,1079.2 234.521,1067.84 210.746,1055.34 210.746,1079.2 210.746,1113.59 210.746,1147.99 210.746,1182.39 \n",
       "  210.746,1216.79 210.746,1251.19 210.746,1285.59 210.746,1319.98 210.746,1354.38 210.746,1388.78 210.746,1423.18 \n",
       "  \"/>\n",
       "<polyline clip-path=\"url(#clip272)\" style=\"stroke:#2c7ab6; stroke-linecap:round; stroke-linejoin:round; stroke-width:4; stroke-opacity:1; fill:none\" points=\"\n",
       "  1494.6,460.116 1518.38,462.878 1542.15,463.355 1565.93,461.541 1574.75,460.025 1589.7,457.757 1613.48,452.183 1637.25,444.696 1661.03,435.37 1681.95,425.626 \n",
       "  1684.8,424.439 1708.58,413.071 1732.35,400.354 1747.92,391.228 1756.13,386.874 1779.9,373.283 1803.68,358.849 1806.85,356.83 1827.45,344.855 1851.23,330.537 \n",
       "  1864.36,322.431 1875,316.386 1898.78,302.69 1922.55,288.937 1924.13,288.033 1946.33,276.21 1970.11,263.751 1989.93,253.634 1993.88,251.756 2017.66,240.875 \n",
       "  2041.43,230.518 2065.21,220.789 2069.31,219.236 2088.98,212.265 2112.76,204.605 2112.76,219.236 2112.76,184.838 2112.76,150.439 2112.76,116.041 2112.76,81.6425 \n",
       "  2112.76,47.2441 2088.98,47.2441 2065.21,47.2441 2041.43,47.2441 2017.66,47.2441 1993.88,47.2441 1970.11,47.2441 \n",
       "  1946.33,47.2441 1922.55,47.2441 1898.78,47.2441 1875,47.2441 1851.23,47.2441 1827.45,47.2441 1803.68,47.2441 1779.9,47.2441 1756.13,47.2441 1732.35,47.2441 \n",
       "  1708.58,47.2441 1684.8,47.2441 1661.03,47.2441 1637.25,47.2441 1613.48,47.2441 1589.7,47.2441 1565.93,47.2441 1542.15,47.2441 1518.38,47.2441 1494.6,47.2441 \n",
       "  1470.83,47.2441 1447.05,47.2441 1423.28,47.2441 1399.5,47.2441 1375.73,47.2441 1351.95,47.2441 1328.18,47.2441 1304.4,47.2441 1280.63,47.2441 1256.85,47.2441 \n",
       "  1233.08,47.2441 1209.3,47.2441 1185.53,47.2441 1161.75,47.2441 1137.98,47.2441 1114.2,47.2441 1090.43,47.2441 1066.65,47.2441 1042.88,47.2441 1019.1,47.2441 \n",
       "  995.325,47.2441 971.55,47.2441 947.775,47.2441 924,47.2441 900.225,47.2441 876.449,47.2441 852.674,47.2441 828.899,47.2441 805.124,47.2441 781.349,47.2441 \n",
       "  757.574,47.2441 733.799,47.2441 710.024,47.2441 686.248,47.2441 662.473,47.2441 638.698,47.2441 614.923,47.2441 591.148,47.2441 567.373,47.2441 543.598,47.2441 \n",
       "  519.823,47.2441 496.047,47.2441 472.272,47.2441 448.497,47.2441 424.722,47.2441 400.947,47.2441 377.172,47.2441 353.397,47.2441 329.622,47.2441 305.846,47.2441 \n",
       "  282.071,47.2441 258.296,47.2441 234.521,47.2441 210.746,47.2441 210.746,81.6425 210.746,116.041 210.746,150.439 \n",
       "  210.746,184.838 210.746,219.236 210.746,253.634 210.746,288.033 210.746,322.431 210.746,356.83 210.746,391.228 210.746,425.626 210.746,415.08 234.521,402.582 \n",
       "  254.163,391.228 258.296,389.067 282.071,375.631 305.846,361.329 312.965,356.83 329.622,347.218 353.397,332.973 370.533,322.431 377.172,318.674 400.947,305.001 \n",
       "  424.722,291.248 430.303,288.033 448.497,278.328 472.272,265.826 496.037,253.634 496.047,253.63 519.823,242.67 543.598,232.218 567.373,222.376 575.548,219.236 \n",
       "  591.148,213.631 614.923,205.836 638.698,198.869 662.473,192.798 686.248,187.684 702.729,184.838 710.024,183.654 733.799,180.783 757.574,178.926 781.349,178.101 \n",
       "  805.124,178.318 828.899,179.573 852.674,181.855 874.256,184.838 876.449,185.16 900.225,189.691 924,195.21 947.775,201.662 971.55,208.982 995.325,217.098 \n",
       "  1001.08,219.236 1019.1,226.389 1042.88,236.497 1066.65,247.173 1080.44,253.634 1090.43,258.657 1114.2,270.996 1137.98,283.588 1146.28,288.033 1161.75,296.969 \n",
       "  1185.53,310.706 1206.03,322.431 1209.3,324.468 1233.08,338.952 1256.85,352.996 1263.62,356.83 1280.63,367.374 1304.4,381.333 1322.45,391.228 1328.18,394.698 \n",
       "  1351.95,407.939 1375.73,419.883 1388.7,425.626 1399.5,430.972 1423.28,441.036 1447.05,449.298 1470.83,455.675 1494.17,460.025 1494.6,460.116 \n",
       "  \"/>\n",
       "<polyline clip-path=\"url(#clip272)\" style=\"stroke:#2c7ab6; stroke-linecap:round; stroke-linejoin:round; stroke-width:4; stroke-opacity:1; fill:none\" points=\"\n",
       "  210.746,1423.18 210.746,1423.18 234.521,1423.18 258.296,1423.18 282.071,1423.18 305.846,1423.18 329.622,1423.18 353.397,1423.18 377.172,1423.18 400.947,1423.18 \n",
       "  424.722,1423.18 448.497,1423.18 472.272,1423.18 496.047,1423.18 519.823,1423.18 543.598,1423.18 567.373,1423.18 591.148,1423.18 614.923,1423.18 638.698,1423.18 \n",
       "  662.473,1423.18 686.248,1423.18 710.024,1423.18 733.799,1423.18 757.574,1423.18 781.349,1423.18 805.124,1423.18 828.899,1423.18 852.674,1423.18 876.449,1423.18 \n",
       "  900.225,1423.18 924,1423.18 947.775,1423.18 971.55,1423.18 995.325,1423.18 1019.1,1423.18 1042.88,1423.18 1066.65,1423.18 1090.43,1423.18 1114.2,1423.18 \n",
       "  1137.98,1423.18 1161.75,1423.18 1185.53,1423.18 1209.3,1423.18 1233.08,1423.18 1256.85,1423.18 1280.63,1423.18 1304.4,1423.18 1328.18,1423.18 1351.95,1423.18 \n",
       "  1375.73,1423.18 1399.5,1423.18 1423.28,1423.18 1447.05,1423.18 1470.83,1423.18 1494.6,1423.18 1518.38,1423.18 1542.15,1423.18 1565.93,1423.18 1589.7,1423.18 \n",
       "  1613.48,1423.18 1637.25,1423.18 1661.03,1423.18 1684.8,1423.18 1708.58,1423.18 1732.35,1423.18 1756.13,1423.18 1779.9,1423.18 1803.68,1423.18 1827.45,1423.18 \n",
       "  1851.23,1423.18 1875,1423.18 1898.78,1423.18 1922.55,1423.18 1946.33,1423.18 1970.11,1423.18 1993.88,1423.18 2017.66,1423.18 2041.43,1423.18 2065.21,1423.18 \n",
       "  2088.98,1423.18 2112.76,1423.18 2112.76,1388.78 2112.76,1354.38 2112.76,1319.98 2112.76,1306.1 \n",
       "  2088.98,1298.9 2065.21,1290.99 2050.17,1285.59 2041.43,1282.24 2017.66,1272.55 1993.88,1262.37 1970.11,1251.8 1968.76,1251.19 1946.33,1240.25 1922.55,1228.46 \n",
       "  1899.16,1216.79 1898.78,1216.59 1875,1203.91 1851.23,1191.4 1833.66,1182.39 1827.45,1178.95 1803.68,1166.24 1779.9,1154.12 1767.15,1147.99 1756.13,1142.24 \n",
       "  1732.35,1130.72 1708.58,1120.22 1691.81,1113.59 1684.8,1110.56 1661.03,1101.6 1637.25,1094.05 1613.48,1087.99 1589.7,1083.48 1565.93,1080.56 1542.15,1079.27 \n",
       "  1518.38,1079.61 1494.6,1081.58 1470.83,1085.17 1447.05,1090.33 1423.28,1097.02 1399.5,1105.16 1378.46,1113.59 1375.73,1114.59 1351.95,1124.46 1328.18,1135.4 \n",
       "  1304.4,1147.3 1303.11,1147.99 1280.63,1159.08 1256.85,1171.46 1236.74,1182.39 1233.08,1184.24 1209.3,1196.57 1185.53,1209.17 1171.28,1216.79 1161.75,1221.53 \n",
       "  1137.98,1233.38 1114.2,1245.1 1101.6,1251.19 1090.43,1256.24 1066.65,1266.66 1042.88,1276.65 1020.4,1285.59 1019.1,1286.07 995.325,1294.36 971.55,1301.99 \n",
       "  947.775,1308.87 924,1314.93 900.802,1319.98 900.225,1320.1 876.449,1324.12 852.674,1327.21 828.899,1329.37 805.124,1330.55 781.349,1330.75 757.574,1329.98 \n",
       "  733.799,1328.23 710.024,1325.52 686.248,1321.88 676.294,1319.98 662.473,1317.19 638.698,1311.49 614.923,1304.94 591.148,1297.62 567.373,1289.6 556.349,1285.59 \n",
       "  543.598,1280.65 519.823,1270.87 496.047,1260.62 474.942,1251.19 472.272,1249.91 448.497,1238.27 424.722,1226.47 405.317,1216.79 400.947,1214.45 377.172,1201.79 \n",
       "  353.397,1189.33 339.802,1182.39 329.622,1176.78 305.846,1164.16 282.071,1152.14 273.328,1147.99 258.296,1140.24 234.521,1128.88 210.746,1118.56 210.746,1147.99 \n",
       "  210.746,1182.39 210.746,1216.79 210.746,1251.19 210.746,1285.59 210.746,1319.98 210.746,1354.38 210.746,1388.78 210.746,1423.18 \n",
       "  \n",
       "  \"/>\n",
       "<polyline clip-path=\"url(#clip272)\" style=\"stroke:#2c7ab6; stroke-linecap:round; stroke-linejoin:round; stroke-width:4; stroke-opacity:1; fill:none\" points=\"\n",
       "  1399.5,365.261 1423.28,373.408 1447.05,380.096 1470.83,385.259 1494.6,388.845 1518.38,390.818 1542.15,391.158 1565.93,389.863 1589.7,386.944 1613.48,382.432 \n",
       "  1637.25,376.371 1661.03,368.821 1684.8,359.859 1691.81,356.83 1708.58,350.205 1732.35,339.7 1756.13,328.185 1767.15,322.431 1779.9,316.309 1803.68,304.184 \n",
       "  1827.45,291.471 1833.66,288.033 1851.23,279.019 1875,266.517 1898.78,253.836 1899.16,253.634 1922.55,241.966 1946.33,230.179 1968.76,219.236 1970.11,218.621 \n",
       "  1993.88,208.053 2017.66,197.874 2041.43,188.185 2050.17,184.838 2065.21,179.432 2088.98,171.52 2112.76,164.323 2112.76,184.838 2112.76,150.439 2112.76,116.041 \n",
       "  2112.76,81.6425 2112.76,47.2441 2088.98,47.2441 2065.21,47.2441 2041.43,47.2441 2017.66,47.2441 1993.88,47.2441 \n",
       "  1970.11,47.2441 1946.33,47.2441 1922.55,47.2441 1898.78,47.2441 1875,47.2441 1851.23,47.2441 1827.45,47.2441 1803.68,47.2441 1779.9,47.2441 1756.13,47.2441 \n",
       "  1732.35,47.2441 1708.58,47.2441 1684.8,47.2441 1661.03,47.2441 1637.25,47.2441 1613.48,47.2441 1589.7,47.2441 1565.93,47.2441 1542.15,47.2441 1518.38,47.2441 \n",
       "  1494.6,47.2441 1470.83,47.2441 1447.05,47.2441 1423.28,47.2441 1399.5,47.2441 1375.73,47.2441 1351.95,47.2441 1328.18,47.2441 1304.4,47.2441 1280.63,47.2441 \n",
       "  1256.85,47.2441 1233.08,47.2441 1209.3,47.2441 1185.53,47.2441 1161.75,47.2441 1137.98,47.2441 1114.2,47.2441 1090.43,47.2441 1066.65,47.2441 1042.88,47.2441 \n",
       "  1019.1,47.2441 995.325,47.2441 971.55,47.2441 947.775,47.2441 924,47.2441 900.225,47.2441 876.449,47.2441 852.674,47.2441 828.899,47.2441 805.124,47.2441 \n",
       "  781.349,47.2441 757.574,47.2441 733.799,47.2441 710.024,47.2441 686.248,47.2441 662.473,47.2441 638.698,47.2441 614.923,47.2441 591.148,47.2441 567.373,47.2441 \n",
       "  543.598,47.2441 519.823,47.2441 496.047,47.2441 472.272,47.2441 448.497,47.2441 424.722,47.2441 400.947,47.2441 377.172,47.2441 353.397,47.2441 329.622,47.2441 \n",
       "  305.846,47.2441 282.071,47.2441 258.296,47.2441 234.521,47.2441 210.746,47.2441 210.746,81.6425 210.746,116.041 \n",
       "  210.746,150.439 210.746,184.838 210.746,219.236 210.746,253.634 210.746,288.033 210.746,322.431 210.746,356.83 210.746,351.865 234.521,341.54 258.296,330.187 \n",
       "  273.328,322.431 282.071,318.281 305.846,306.267 329.622,293.644 339.802,288.033 353.397,281.095 377.172,268.635 400.947,255.975 405.317,253.634 424.722,243.958 \n",
       "  448.497,232.151 472.272,220.511 474.942,219.236 496.047,209.806 519.823,199.554 543.598,189.775 556.349,184.838 567.373,180.827 591.148,172.802 614.923,165.48 \n",
       "  638.698,158.935 662.473,153.232 676.294,150.439 686.248,148.543 710.024,144.906 733.799,142.199 757.574,140.448 781.349,139.67 805.124,139.875 828.899,141.058 \n",
       "  852.674,143.21 876.449,146.308 900.225,150.321 900.802,150.439 924,155.498 947.775,161.559 971.55,168.435 995.325,176.059 1019.1,184.354 1020.4,184.838 \n",
       "  1042.88,193.778 1066.65,203.766 1090.43,214.185 1101.6,219.236 1114.2,225.325 1137.98,237.048 1161.75,248.89 1171.28,253.634 1185.53,261.257 1209.3,273.849 \n",
       "  1233.08,286.188 1236.74,288.033 1256.85,298.96 1280.63,311.345 1303.11,322.431 1304.4,323.126 1328.18,335.027 1351.95,345.965 1375.73,355.832 1378.46,356.83 \n",
       "  1399.5,365.261 \n",
       "  \"/>\n",
       "<polyline clip-path=\"url(#clip272)\" style=\"stroke:#2c7ab6; stroke-linecap:round; stroke-linejoin:round; stroke-width:4; stroke-opacity:1; fill:none\" points=\"\n",
       "  210.746,1423.18 210.746,1423.18 234.521,1423.18 258.296,1423.18 282.071,1423.18 305.846,1423.18 329.622,1423.18 353.397,1423.18 377.172,1423.18 400.947,1423.18 \n",
       "  424.722,1423.18 448.497,1423.18 472.272,1423.18 496.047,1423.18 519.823,1423.18 543.598,1423.18 567.373,1423.18 591.148,1423.18 614.923,1423.18 638.698,1423.18 \n",
       "  662.473,1423.18 686.248,1423.18 710.024,1423.18 733.799,1423.18 757.574,1423.18 781.349,1423.18 805.124,1423.18 828.899,1423.18 852.674,1423.18 876.449,1423.18 \n",
       "  900.225,1423.18 924,1423.18 947.775,1423.18 971.55,1423.18 995.325,1423.18 1019.1,1423.18 1042.88,1423.18 1066.65,1423.18 1090.43,1423.18 1114.2,1423.18 \n",
       "  1137.98,1423.18 1161.75,1423.18 1185.53,1423.18 1209.3,1423.18 1233.08,1423.18 1256.85,1423.18 1280.63,1423.18 1304.4,1423.18 1328.18,1423.18 1351.95,1423.18 \n",
       "  1375.73,1423.18 1399.5,1423.18 1423.28,1423.18 1447.05,1423.18 1470.83,1423.18 1494.6,1423.18 1518.38,1423.18 1542.15,1423.18 1565.93,1423.18 1589.7,1423.18 \n",
       "  1613.48,1423.18 1637.25,1423.18 1661.03,1423.18 1684.8,1423.18 1708.58,1423.18 1732.35,1423.18 1756.13,1423.18 1779.9,1423.18 1803.68,1423.18 1827.45,1423.18 \n",
       "  1851.23,1423.18 1875,1423.18 1898.78,1423.18 1922.55,1423.18 1946.33,1423.18 1970.11,1423.18 1993.88,1423.18 2017.66,1423.18 2041.43,1423.18 2065.21,1423.18 \n",
       "  2088.98,1423.18 2112.76,1423.18 2112.76,1388.78 2112.76,1354.38 2112.76,1343.74 2088.98,1336.96 \n",
       "  2065.21,1329.5 2041.43,1321.44 2037.41,1319.98 2017.66,1312.42 1993.88,1302.86 1970.11,1292.93 1952.97,1285.59 1946.33,1282.56 1922.55,1271.53 1898.78,1260.44 \n",
       "  1878.87,1251.19 1875,1249.27 1851.23,1237.63 1827.45,1226.27 1806.88,1216.79 1803.68,1215.21 1779.9,1203.98 1756.13,1193.41 1732.35,1183.6 1729.14,1182.39 \n",
       "  1708.58,1174.03 1684.8,1165.39 1661.03,1157.86 1637.25,1151.52 1620.77,1147.99 1613.48,1146.29 1589.7,1142.17 1565.93,1139.51 1542.15,1138.33 1518.38,1138.64 \n",
       "  1494.6,1140.44 1470.83,1143.71 1449.25,1147.99 1447.05,1148.39 1423.28,1154.01 1399.5,1160.85 1375.73,1168.85 1351.95,1177.93 1341.42,1182.39 1328.18,1187.58 \n",
       "  1304.4,1197.72 1280.63,1208.57 1263.59,1216.79 1256.85,1219.82 1233.08,1230.96 1209.3,1242.44 1191.57,1251.19 1185.53,1253.97 1161.75,1265.05 1137.98,1276.13 \n",
       "  1117.48,1285.59 1114.2,1287.01 1090.43,1297.1 1066.65,1306.89 1042.88,1316.27 1032.94,1319.98 1019.1,1324.86 995.325,1332.68 971.55,1339.87 947.775,1346.35 \n",
       "  924,1352.07 912.727,1354.38 900.225,1356.81 876.449,1360.61 852.674,1363.54 828.899,1365.58 805.124,1366.7 781.349,1366.89 757.574,1366.15 733.799,1364.5 \n",
       "  710.024,1361.94 686.248,1358.5 663.425,1354.38 662.473,1354.2 638.698,1348.82 614.923,1342.65 591.148,1335.75 567.373,1328.18 543.598,1320.03 543.477,1319.98 \n",
       "  519.823,1310.85 496.047,1301.22 472.272,1291.24 459.142,1285.59 448.497,1280.71 424.722,1269.67 400.947,1258.57 385.019,1251.19 377.172,1247.3 353.397,1235.7 \n",
       "  329.622,1224.4 312.993,1216.79 305.846,1213.28 282.071,1202.15 258.296,1191.7 235.404,1182.39 234.521,1182 210.746,1172.5 210.746,1182.39 \n",
       "  210.746,1216.79 210.746,1251.19 210.746,1285.59 210.746,1319.98 210.746,1354.38 210.746,1388.78 210.746,1423.18 \n",
       "  \"/>\n",
       "<polyline clip-path=\"url(#clip272)\" style=\"stroke:#2c7ab6; stroke-linecap:round; stroke-linejoin:round; stroke-width:4; stroke-opacity:1; fill:none\" points=\"\n",
       "  1470.83,326.71 1494.6,329.984 1518.38,331.786 1542.15,332.097 1565.93,330.914 1589.7,328.249 1613.48,324.129 1620.77,322.431 1637.25,318.902 1661.03,312.561 \n",
       "  1684.8,305.032 1708.58,296.393 1729.14,288.033 1732.35,286.825 1756.13,277.016 1779.9,266.445 1803.68,255.218 1806.88,253.634 1827.45,244.15 1851.23,232.794 \n",
       "  1875,221.154 1878.87,219.236 1898.78,209.986 1922.55,198.894 1946.33,187.868 1952.97,184.838 1970.11,177.49 1993.88,167.562 2017.66,158 2037.41,150.439 \n",
       "  2041.43,148.986 2065.21,140.925 2088.98,133.465 2112.76,126.68 2112.76,150.439 2112.76,116.041 2112.76,81.6425 2112.76,47.2441 \n",
       "  2088.98,47.2441 2065.21,47.2441 2041.43,47.2441 2017.66,47.2441 1993.88,47.2441 1970.11,47.2441 1946.33,47.2441 1922.55,47.2441 1898.78,47.2441 \n",
       "  1875,47.2441 1851.23,47.2441 1827.45,47.2441 1803.68,47.2441 1779.9,47.2441 1756.13,47.2441 1732.35,47.2441 1708.58,47.2441 1684.8,47.2441 1661.03,47.2441 \n",
       "  1637.25,47.2441 1613.48,47.2441 1589.7,47.2441 1565.93,47.2441 1542.15,47.2441 1518.38,47.2441 1494.6,47.2441 1470.83,47.2441 1447.05,47.2441 1423.28,47.2441 \n",
       "  1399.5,47.2441 1375.73,47.2441 1351.95,47.2441 1328.18,47.2441 1304.4,47.2441 1280.63,47.2441 1256.85,47.2441 1233.08,47.2441 1209.3,47.2441 1185.53,47.2441 \n",
       "  1161.75,47.2441 1137.98,47.2441 1114.2,47.2441 1090.43,47.2441 1066.65,47.2441 1042.88,47.2441 1019.1,47.2441 995.325,47.2441 971.55,47.2441 947.775,47.2441 \n",
       "  924,47.2441 900.225,47.2441 876.449,47.2441 852.674,47.2441 828.899,47.2441 805.124,47.2441 781.349,47.2441 757.574,47.2441 733.799,47.2441 710.024,47.2441 \n",
       "  686.248,47.2441 662.473,47.2441 638.698,47.2441 614.923,47.2441 591.148,47.2441 567.373,47.2441 543.598,47.2441 519.823,47.2441 496.047,47.2441 472.272,47.2441 \n",
       "  448.497,47.2441 424.722,47.2441 400.947,47.2441 377.172,47.2441 353.397,47.2441 329.622,47.2441 305.846,47.2441 282.071,47.2441 258.296,47.2441 234.521,47.2441 \n",
       "  210.746,47.2441 210.746,81.6425 210.746,116.041 210.746,150.439 210.746,184.838 210.746,219.236 210.746,253.634 \n",
       "  210.746,288.033 210.746,322.431 210.746,297.92 234.521,288.421 235.404,288.033 258.296,278.721 282.071,268.272 305.846,257.147 312.993,253.634 329.622,246.024 \n",
       "  353.397,234.727 377.172,223.127 385.019,219.236 400.947,211.849 424.722,200.758 448.497,189.713 459.142,184.838 472.272,179.188 496.047,169.209 519.823,159.578 \n",
       "  543.477,150.439 543.598,150.395 567.373,142.241 591.148,134.674 614.923,127.771 638.698,121.599 662.473,116.222 663.425,116.041 686.248,111.928 710.024,108.487 \n",
       "  733.799,105.926 757.574,104.27 781.349,103.535 805.124,103.728 828.899,104.848 852.674,106.883 876.449,109.813 900.225,113.609 912.727,116.041 924,118.359 \n",
       "  947.775,124.073 971.55,130.557 995.325,137.745 1019.1,145.566 1032.94,150.439 1042.88,154.153 1066.65,163.535 1090.43,173.323 1114.2,183.418 1117.48,184.838 \n",
       "  1137.98,194.294 1161.75,205.372 1185.53,216.449 1191.57,219.236 1209.3,227.981 1233.08,239.469 1256.85,250.606 1263.59,253.634 1280.63,261.849 1304.4,272.706 \n",
       "  1328.18,282.844 1341.42,288.033 1351.95,292.492 1375.73,301.569 1399.5,309.57 1423.28,316.413 1447.05,322.031 1449.25,322.431 1470.83,326.71 \n",
       "  \"/>\n",
       "<polyline clip-path=\"url(#clip272)\" style=\"stroke:#2c7ab6; stroke-linecap:round; stroke-linejoin:round; stroke-width:4; stroke-opacity:1; fill:none\" points=\"\n",
       "  210.746,1423.18 210.746,1423.18 234.521,1423.18 258.296,1423.18 282.071,1423.18 305.846,1423.18 329.622,1423.18 353.397,1423.18 377.172,1423.18 400.947,1423.18 \n",
       "  424.722,1423.18 448.497,1423.18 472.272,1423.18 496.047,1423.18 519.823,1423.18 543.598,1423.18 567.373,1423.18 591.148,1423.18 614.923,1423.18 638.698,1423.18 \n",
       "  662.473,1423.18 686.248,1423.18 710.024,1423.18 733.799,1423.18 757.574,1423.18 781.349,1423.18 805.124,1423.18 828.899,1423.18 852.674,1423.18 876.449,1423.18 \n",
       "  900.225,1423.18 924,1423.18 947.775,1423.18 971.55,1423.18 995.325,1423.18 1019.1,1423.18 1042.88,1423.18 1066.65,1423.18 1090.43,1423.18 1114.2,1423.18 \n",
       "  1137.98,1423.18 1161.75,1423.18 1185.53,1423.18 1209.3,1423.18 1233.08,1423.18 1256.85,1423.18 1280.63,1423.18 1304.4,1423.18 1328.18,1423.18 1351.95,1423.18 \n",
       "  1375.73,1423.18 1399.5,1423.18 1423.28,1423.18 1447.05,1423.18 1470.83,1423.18 1494.6,1423.18 1518.38,1423.18 1542.15,1423.18 1565.93,1423.18 1589.7,1423.18 \n",
       "  1613.48,1423.18 1637.25,1423.18 1661.03,1423.18 1684.8,1423.18 1708.58,1423.18 1732.35,1423.18 1756.13,1423.18 1779.9,1423.18 1803.68,1423.18 1827.45,1423.18 \n",
       "  1851.23,1423.18 1875,1423.18 1898.78,1423.18 1922.55,1423.18 1946.33,1423.18 1970.11,1423.18 1993.88,1423.18 2017.66,1423.18 2041.43,1423.18 2065.21,1423.18 \n",
       "  2088.98,1423.18 2112.76,1423.18 2112.76,1388.78 2112.76,1379.18 2088.98,1372.76 2065.21,1365.7 \n",
       "  2041.43,1358.08 2030.61,1354.38 2017.66,1349.71 1993.88,1340.69 1970.11,1331.33 1946.33,1321.72 1942.11,1319.98 1922.55,1311.47 1898.78,1301.05 1875,1290.67 \n",
       "  1863.19,1285.59 1851.23,1280.11 1827.45,1269.49 1803.68,1259.23 1784.12,1251.19 1779.9,1249.34 1756.13,1239.49 1732.35,1230.36 1708.58,1222.03 1691.85,1216.79 \n",
       "  1684.8,1214.42 1661.03,1207.45 1637.25,1201.58 1613.48,1196.86 1589.7,1193.35 1565.93,1191.08 1542.15,1190.08 1518.38,1190.34 1494.6,1191.88 1470.83,1194.66 \n",
       "  1447.05,1198.68 1423.28,1203.88 1399.5,1210.22 1378.41,1216.79 1375.73,1217.57 1351.95,1225.39 1328.18,1234.07 1304.4,1243.51 1286.34,1251.19 1280.63,1253.46 \n",
       "  1256.85,1263.45 1233.08,1273.87 1209.3,1284.61 1207.19,1285.59 1185.53,1294.97 1161.75,1305.38 1137.98,1315.79 1128.29,1319.98 1114.2,1325.74 1090.43,1335.26 \n",
       "  1066.65,1344.49 1042.88,1353.33 1039.9,1354.38 1019.1,1361.31 995.325,1368.71 971.55,1375.51 947.775,1381.64 924,1387.05 915.091,1388.78 900.225,1391.52 \n",
       "  876.449,1395.13 852.674,1397.91 828.899,1399.84 805.124,1400.9 781.349,1401.08 757.574,1400.39 733.799,1398.81 710.024,1396.38 686.248,1393.12 662.473,1389.06 \n",
       "  661.125,1388.78 638.698,1383.98 614.923,1378.15 591.148,1371.62 567.373,1364.46 543.598,1356.74 536.746,1354.38 519.823,1348.22 496.047,1339.14 472.272,1329.73 \n",
       "  448.497,1320.08 448.255,1319.98 424.722,1309.71 400.947,1299.3 377.172,1288.94 369.356,1285.59 353.397,1278.3 329.622,1267.73 305.846,1257.55 290.224,1251.19 \n",
       "  282.071,1247.64 258.296,1237.91 234.521,1228.9 210.746,1220.71 210.746,1251.19 210.746,1285.59 210.746,1319.98 210.746,1354.38 210.746,1388.78 \n",
       "  210.746,1423.18 \n",
       "  \"/>\n",
       "<polyline clip-path=\"url(#clip272)\" style=\"stroke:#2c7ab6; stroke-linecap:round; stroke-linejoin:round; stroke-width:4; stroke-opacity:1; fill:none\" points=\"\n",
       "  1399.5,260.206 1423.28,266.542 1447.05,271.744 1470.83,275.76 1494.6,278.549 1518.38,280.083 1542.15,280.348 1565.93,279.34 1589.7,277.07 1613.48,273.561 \n",
       "  1637.25,268.847 1661.03,262.975 1684.8,256.005 1691.85,253.634 1708.58,248.393 1732.35,240.061 1756.13,230.929 1779.9,221.087 1784.12,219.236 1803.68,211.19 \n",
       "  1827.45,200.938 1851.23,190.314 1863.19,184.838 1875,179.754 1898.78,169.378 1922.55,158.959 1942.11,150.439 1946.33,148.706 1970.11,139.094 1993.88,129.734 \n",
       "  2017.66,120.718 2030.61,116.041 2041.43,112.347 2065.21,104.722 2088.98,97.6647 2112.76,91.2465 2112.76,116.041 2112.76,81.6425 2112.76,47.2441 \n",
       "  2088.98,47.2441 2065.21,47.2441 2041.43,47.2441 2017.66,47.2441 1993.88,47.2441 1970.11,47.2441 1946.33,47.2441 1922.55,47.2441 \n",
       "  1898.78,47.2441 1875,47.2441 1851.23,47.2441 1827.45,47.2441 1803.68,47.2441 1779.9,47.2441 1756.13,47.2441 1732.35,47.2441 1708.58,47.2441 1684.8,47.2441 \n",
       "  1661.03,47.2441 1637.25,47.2441 1613.48,47.2441 1589.7,47.2441 1565.93,47.2441 1542.15,47.2441 1518.38,47.2441 1494.6,47.2441 1470.83,47.2441 1447.05,47.2441 \n",
       "  1423.28,47.2441 1399.5,47.2441 1375.73,47.2441 1351.95,47.2441 1328.18,47.2441 1304.4,47.2441 1280.63,47.2441 1256.85,47.2441 1233.08,47.2441 1209.3,47.2441 \n",
       "  1185.53,47.2441 1161.75,47.2441 1137.98,47.2441 1114.2,47.2441 1090.43,47.2441 1066.65,47.2441 1042.88,47.2441 1019.1,47.2441 995.325,47.2441 971.55,47.2441 \n",
       "  947.775,47.2441 924,47.2441 900.225,47.2441 876.449,47.2441 852.674,47.2441 828.899,47.2441 805.124,47.2441 781.349,47.2441 757.574,47.2441 733.799,47.2441 \n",
       "  710.024,47.2441 686.248,47.2441 662.473,47.2441 638.698,47.2441 614.923,47.2441 591.148,47.2441 567.373,47.2441 543.598,47.2441 519.823,47.2441 496.047,47.2441 \n",
       "  472.272,47.2441 448.497,47.2441 424.722,47.2441 400.947,47.2441 377.172,47.2441 353.397,47.2441 329.622,47.2441 305.846,47.2441 282.071,47.2441 258.296,47.2441 \n",
       "  234.521,47.2441 210.746,47.2441 210.746,81.6425 210.746,116.041 210.746,150.439 210.746,184.838 210.746,219.236 \n",
       "  210.746,253.634 210.746,249.709 234.521,241.521 258.296,232.517 282.071,222.788 290.224,219.236 305.846,212.87 329.622,202.69 353.397,192.122 369.356,184.838 \n",
       "  377.172,181.487 400.947,171.128 424.722,160.709 448.255,150.439 448.497,150.34 472.272,140.695 496.047,131.286 519.823,122.206 536.746,116.041 543.598,113.68 \n",
       "  567.373,105.966 591.148,98.8085 614.923,92.2782 638.698,86.4406 661.125,81.6425 662.473,81.3688 686.248,77.3038 710.024,74.0401 733.799,71.6104 757.574,70.0389 \n",
       "  781.349,69.3414 805.124,69.5247 828.899,70.5871 852.674,72.518 876.449,75.298 900.225,78.8994 915.091,81.6425 924,83.375 947.775,88.7806 971.55,94.9138 \n",
       "  995.325,101.713 1019.1,109.111 1039.9,116.041 1042.88,117.091 1066.65,125.937 1090.43,135.165 1114.2,144.684 1128.29,150.439 1137.98,154.637 1161.75,165.044 \n",
       "  1185.53,175.45 1207.19,184.838 1209.3,185.811 1233.08,196.558 1256.85,206.977 1280.63,216.965 1286.34,219.236 1304.4,226.916 1328.18,236.355 1351.95,245.03 \n",
       "  1375.73,252.856 1378.41,253.634 1399.5,260.206 \n",
       "  \"/>\n",
       "<polyline clip-path=\"url(#clip272)\" style=\"stroke:#2c7ab6; stroke-linecap:round; stroke-linejoin:round; stroke-width:4; stroke-opacity:1; fill:none\" points=\"\n",
       "  210.746,1423.18 210.746,1423.18 234.521,1423.18 258.296,1423.18 282.071,1423.18 305.846,1423.18 329.622,1423.18 353.397,1423.18 377.172,1423.18 400.947,1423.18 \n",
       "  424.722,1423.18 448.497,1423.18 472.272,1423.18 496.047,1423.18 519.823,1423.18 543.598,1423.18 567.373,1423.18 591.148,1423.18 614.923,1423.18 638.698,1423.18 \n",
       "  662.473,1423.18 668.638,1423.18 662.473,1422.13 638.698,1417.3 614.923,1411.76 591.148,1405.57 567.373,1398.78 543.598,1391.46 535.412,1388.78 \n",
       "  519.823,1383.41 496.047,1374.82 472.272,1365.92 448.497,1356.8 442.297,1354.38 424.722,1347.15 400.947,1337.33 377.172,1327.56 358.429,1319.98 353.397,1317.83 \n",
       "  329.622,1307.9 305.846,1298.34 282.071,1289.23 271.925,1285.59 258.296,1280.37 234.521,1271.95 210.746,1264.29 210.746,1285.59 210.746,1319.98 \n",
       "  210.746,1354.38 210.746,1388.78 210.746,1423.18 \n",
       "  \"/>\n",
       "<polyline clip-path=\"url(#clip272)\" style=\"stroke:#2c7ab6; stroke-linecap:round; stroke-linejoin:round; stroke-width:4; stroke-opacity:1; fill:none\" points=\"\n",
       "  924,1423.18 947.775,1423.18 971.55,1423.18 995.325,1423.18 1019.1,1423.18 1042.88,1423.18 1066.65,1423.18 1090.43,1423.18 1114.2,1423.18 1137.98,1423.18 \n",
       "  1161.75,1423.18 1185.53,1423.18 1209.3,1423.18 1233.08,1423.18 1256.85,1423.18 1280.63,1423.18 1304.4,1423.18 1328.18,1423.18 1351.95,1423.18 1375.73,1423.18 \n",
       "  1399.5,1423.18 1423.28,1423.18 1447.05,1423.18 1470.83,1423.18 1494.6,1423.18 1518.38,1423.18 1542.15,1423.18 1565.93,1423.18 1589.7,1423.18 1613.48,1423.18 \n",
       "  1637.25,1423.18 1661.03,1423.18 1684.8,1423.18 1708.58,1423.18 1732.35,1423.18 1756.13,1423.18 1779.9,1423.18 1803.68,1423.18 1827.45,1423.18 1851.23,1423.18 \n",
       "  1875,1423.18 1898.78,1423.18 1922.55,1423.18 1946.33,1423.18 1970.11,1423.18 1993.88,1423.18 2017.66,1423.18 2041.43,1423.18 2065.21,1423.18 2088.98,1423.18 \n",
       "  2112.76,1423.18 2112.76,1412.74 2088.98,1406.65 2065.21,1399.96 2041.43,1392.72 2029.27,1388.78 \n",
       "  2017.66,1384.82 1993.88,1376.29 1970.11,1367.43 1946.33,1358.34 1936.14,1354.38 1922.55,1348.8 1898.78,1338.98 1875,1329.2 1852.3,1319.98 1851.23,1319.53 \n",
       "  1827.45,1309.55 1803.68,1299.91 1779.9,1290.73 1765.77,1285.59 1756.13,1281.85 1732.35,1273.31 1708.58,1265.52 1684.8,1258.55 1661.03,1252.48 1655.03,1251.19 \n",
       "  1637.25,1247.1 1613.48,1242.71 1589.7,1239.44 1565.93,1237.33 1542.15,1236.39 1518.38,1236.64 1494.6,1238.07 1470.83,1240.66 1447.05,1244.4 1423.28,1249.25 \n",
       "  1415.45,1251.19 1399.5,1254.89 1375.73,1261.34 1351.95,1268.66 1328.18,1276.78 1304.46,1285.59 1304.4,1285.61 1280.63,1294.49 1256.85,1303.87 1233.08,1313.66 \n",
       "  1218.18,1319.98 1209.3,1323.54 1185.53,1333.25 1161.75,1343.07 1137.98,1352.88 1134.29,1354.38 1114.2,1362.15 1090.43,1371.15 1066.65,1379.88 1042.88,1388.25 \n",
       "  1041.28,1388.78 1019.1,1395.79 995.325,1402.81 971.55,1409.26 947.775,1415.08 924,1420.21 907.896,1423.18 900.225,1423.18 924,1423.18 \n",
       "  \"/>\n",
       "<polyline clip-path=\"url(#clip272)\" style=\"stroke:#2c7ab6; stroke-linecap:round; stroke-linejoin:round; stroke-width:4; stroke-opacity:1; fill:none\" points=\"\n",
       "  1423.28,221.177 1447.05,226.021 1470.83,229.759 1494.6,232.356 1518.38,233.785 1542.15,234.031 1565.93,233.093 1589.7,230.98 1613.48,227.712 1637.25,223.323 \n",
       "  1655.03,219.236 1661.03,217.945 1684.8,211.874 1708.58,204.907 1732.35,197.113 1756.13,188.57 1765.77,184.838 1779.9,179.695 1803.68,170.509 1827.45,160.878 \n",
       "  1851.23,150.899 1852.3,150.439 1875,141.228 1898.78,131.446 1922.55,121.622 1936.14,116.041 1946.33,112.082 1970.11,102.99 1993.88,94.1353 2017.66,85.6066 \n",
       "  2029.27,81.6425 2041.43,77.702 2065.21,70.4676 2088.98,63.7724 2112.76,57.6833 2112.76,81.6425 2112.76,47.2441 \n",
       "  2088.98,47.2441 2065.21,47.2441 2041.43,47.2441 2017.66,47.2441 1993.88,47.2441 1970.11,47.2441 1946.33,47.2441 1922.55,47.2441 1898.78,47.2441 1875,47.2441 \n",
       "  1851.23,47.2441 1827.45,47.2441 1803.68,47.2441 1779.9,47.2441 1756.13,47.2441 1732.35,47.2441 1708.58,47.2441 1684.8,47.2441 1661.03,47.2441 1637.25,47.2441 \n",
       "  1613.48,47.2441 1589.7,47.2441 1565.93,47.2441 1542.15,47.2441 1518.38,47.2441 1494.6,47.2441 1470.83,47.2441 1447.05,47.2441 1423.28,47.2441 1399.5,47.2441 \n",
       "  1375.73,47.2441 1351.95,47.2441 1328.18,47.2441 1304.4,47.2441 1280.63,47.2441 1256.85,47.2441 1233.08,47.2441 1209.3,47.2441 1185.53,47.2441 1161.75,47.2441 \n",
       "  1137.98,47.2441 1114.2,47.2441 1090.43,47.2441 1066.65,47.2441 1042.88,47.2441 1019.1,47.2441 995.325,47.2441 971.55,47.2441 947.775,47.2441 924,47.2441 \n",
       "  900.225,47.2441 907.896,47.2441 924,50.2155 947.775,55.3439 971.55,61.1625 995.325,67.6134 1019.1,74.632 1041.28,81.6425 1042.88,82.1756 1066.65,90.5434 \n",
       "  1090.43,99.273 1114.2,108.277 1134.29,116.041 1137.98,117.547 1161.75,127.359 1185.53,137.171 1209.3,146.884 1218.18,150.439 1233.08,156.764 1256.85,166.552 \n",
       "  1280.63,175.934 1304.4,184.817 1304.46,184.838 1328.18,193.646 1351.95,201.761 1375.73,209.082 1399.5,215.533 1415.45,219.236 1423.28,221.177 \n",
       "  \"/>\n",
       "<polyline clip-path=\"url(#clip272)\" style=\"stroke:#2c7ab6; stroke-linecap:round; stroke-linejoin:round; stroke-width:4; stroke-opacity:1; fill:none\" points=\"\n",
       "  210.746,219.236 210.746,206.138 234.521,198.478 258.296,190.055 271.925,184.838 282.071,181.189 305.846,172.087 329.622,162.525 353.397,152.597 358.429,150.439 \n",
       "  377.172,142.862 400.947,133.096 424.722,123.272 442.297,116.041 448.497,113.627 472.272,104.504 496.047,95.6038 519.823,87.0142 535.412,81.6425 543.598,78.9663 \n",
       "  567.373,71.6482 591.148,64.8575 614.923,58.6621 638.698,53.1239 662.473,48.2981 668.638,47.2441 662.473,47.2441 638.698,47.2441 614.923,47.2441 \n",
       "  591.148,47.2441 567.373,47.2441 543.598,47.2441 519.823,47.2441 496.047,47.2441 472.272,47.2441 448.497,47.2441 424.722,47.2441 400.947,47.2441 377.172,47.2441 \n",
       "  353.397,47.2441 329.622,47.2441 305.846,47.2441 282.071,47.2441 258.296,47.2441 234.521,47.2441 210.746,47.2441 \n",
       "  210.746,81.6425 210.746,116.041 210.746,150.439 210.746,184.838 210.746,219.236 \n",
       "  \"/>\n",
       "<polyline clip-path=\"url(#clip272)\" style=\"stroke:#2c7ab6; stroke-linecap:round; stroke-linejoin:round; stroke-width:4; stroke-opacity:1; fill:none\" points=\"\n",
       "  210.746,1423.18 210.746,1423.18 234.521,1423.18 258.296,1423.18 282.071,1423.18 305.846,1423.18 329.622,1423.18 353.397,1423.18 377.172,1423.18 400.947,1423.18 \n",
       "  424.722,1423.18 448.497,1423.18 472.272,1423.18 496.047,1423.18 519.823,1423.18 539.473,1423.18 519.823,1416.76 496.047,1408.61 472.272,1400.16 \n",
       "  448.497,1391.51 441.115,1388.78 424.722,1382.4 400.947,1373.11 377.172,1363.87 353.397,1354.78 352.337,1354.38 329.622,1345.44 305.846,1336.42 282.071,1327.84 \n",
       "  258.897,1319.98 258.296,1319.77 234.521,1311.86 210.746,1304.66 210.746,1319.98 210.746,1354.38 210.746,1388.78 210.746,1423.18 \n",
       "  \n",
       "  \"/>\n",
       "<polyline clip-path=\"url(#clip272)\" style=\"stroke:#2c7ab6; stroke-linecap:round; stroke-linejoin:round; stroke-width:4; stroke-opacity:1; fill:none\" points=\"\n",
       "  1042.88,1423.18 1066.65,1423.18 1090.43,1423.18 1114.2,1423.18 1137.98,1423.18 1161.75,1423.18 1185.53,1423.18 1209.3,1423.18 1233.08,1423.18 1256.85,1423.18 \n",
       "  1280.63,1423.18 1304.4,1423.18 1328.18,1423.18 1351.95,1423.18 1375.73,1423.18 1399.5,1423.18 1423.28,1423.18 1447.05,1423.18 1470.83,1423.18 1494.6,1423.18 \n",
       "  1518.38,1423.18 1542.15,1423.18 1565.93,1423.18 1589.7,1423.18 1613.48,1423.18 1637.25,1423.18 1661.03,1423.18 1684.8,1423.18 1708.58,1423.18 1732.35,1423.18 \n",
       "  1756.13,1423.18 1779.9,1423.18 1803.68,1423.18 1827.45,1423.18 1851.23,1423.18 1875,1423.18 1898.78,1423.18 1922.55,1423.18 1946.33,1423.18 1970.11,1423.18 \n",
       "  1993.88,1423.18 2017.66,1423.18 2033.36,1423.18 2017.66,1418.09 1993.88,1410 1970.11,1401.6 1946.33,1392.97 1934.96,1388.78 1922.55,1383.96 \n",
       "  1898.78,1374.67 1875,1365.42 1851.23,1356.29 1846.13,1354.38 1827.45,1346.99 1803.68,1337.91 1779.9,1329.25 1756.13,1321.1 1752.64,1319.98 1732.35,1313.14 \n",
       "  1708.58,1305.82 1684.8,1299.27 1661.03,1293.57 1637.25,1288.76 1617.66,1285.59 1613.48,1284.86 1589.7,1281.81 1565.93,1279.83 1542.15,1278.95 1518.38,1279.18 \n",
       "  1494.6,1280.52 1470.83,1282.95 1452.9,1285.59 1447.05,1286.39 1423.28,1290.65 1399.5,1295.83 1375.73,1301.9 1351.95,1308.77 1328.18,1316.4 1317.89,1319.98 \n",
       "  1304.4,1324.42 1280.63,1332.8 1256.85,1341.64 1233.08,1350.87 1224.3,1354.38 1209.3,1360.07 1185.53,1369.25 1161.75,1378.54 1137.98,1387.82 1135.48,1388.78 \n",
       "  1114.2,1396.58 1090.43,1405.13 1066.65,1413.41 1042.88,1421.35 1037.08,1423.18 1019.1,1423.18 1042.88,1423.18 \n",
       "  \"/>\n",
       "<polyline clip-path=\"url(#clip272)\" style=\"stroke:#2c7ab6; stroke-linecap:round; stroke-linejoin:round; stroke-width:4; stroke-opacity:1; fill:none\" points=\"\n",
       "  1470.83,187.475 1494.6,189.905 1518.38,191.241 1542.15,191.472 1565.93,190.594 1589.7,188.617 1613.48,185.56 1617.66,184.838 1637.25,181.66 1661.03,176.855 \n",
       "  1684.8,171.152 1708.58,164.607 1732.35,157.285 1752.64,150.439 1756.13,149.327 1779.9,141.173 1803.68,132.512 1827.45,123.432 1846.13,116.041 1851.23,114.132 \n",
       "  1875,105.009 1898.78,95.7546 1922.55,86.4619 1934.96,81.6425 1946.33,77.4501 1970.11,68.8244 1993.88,60.424 2017.66,52.3327 2033.36,47.2441 2017.66,47.2441 \n",
       "  1993.88,47.2441 1970.11,47.2441 1946.33,47.2441 1922.55,47.2441 1898.78,47.2441 1875,47.2441 1851.23,47.2441 1827.45,47.2441 1803.68,47.2441 \n",
       "  1779.9,47.2441 1756.13,47.2441 1732.35,47.2441 1708.58,47.2441 1684.8,47.2441 1661.03,47.2441 1637.25,47.2441 1613.48,47.2441 1589.7,47.2441 1565.93,47.2441 \n",
       "  1542.15,47.2441 1518.38,47.2441 1494.6,47.2441 1470.83,47.2441 1447.05,47.2441 1423.28,47.2441 1399.5,47.2441 1375.73,47.2441 1351.95,47.2441 1328.18,47.2441 \n",
       "  1304.4,47.2441 1280.63,47.2441 1256.85,47.2441 1233.08,47.2441 1209.3,47.2441 1185.53,47.2441 1161.75,47.2441 1137.98,47.2441 1114.2,47.2441 1090.43,47.2441 \n",
       "  1066.65,47.2441 1042.88,47.2441 1019.1,47.2441 1037.08,47.2441 1042.88,49.0776 1066.65,57.0163 1090.43,65.2982 1114.2,73.8406 1135.48,81.6425 1137.98,82.6075 \n",
       "  1161.75,91.8889 1185.53,101.17 1209.3,110.359 1224.3,116.041 1233.08,119.553 1256.85,128.781 1280.63,137.627 1304.4,146.002 1317.89,150.439 1328.18,154.028 \n",
       "  1351.95,161.652 1375.73,168.529 1399.5,174.589 1423.28,179.774 1447.05,184.03 1452.9,184.838 1470.83,187.475 \n",
       "  \"/>\n",
       "<polyline clip-path=\"url(#clip272)\" style=\"stroke:#2c7ab6; stroke-linecap:round; stroke-linejoin:round; stroke-width:4; stroke-opacity:1; fill:none\" points=\"\n",
       "  210.746,184.838 210.746,165.764 234.521,158.568 258.296,150.655 258.897,150.439 282.071,142.582 305.846,134 329.622,124.984 352.337,116.041 353.397,115.646 \n",
       "  377.172,106.554 400.947,97.3158 424.722,88.0232 441.115,81.6425 448.497,78.9165 472.272,70.2614 496.047,61.8171 519.823,53.6681 539.473,47.2441 519.823,47.2441 \n",
       "  496.047,47.2441 472.272,47.2441 448.497,47.2441 424.722,47.2441 400.947,47.2441 377.172,47.2441 353.397,47.2441 329.622,47.2441 305.846,47.2441 \n",
       "  282.071,47.2441 258.296,47.2441 234.521,47.2441 210.746,47.2441 210.746,81.6425 210.746,116.041 210.746,150.439 \n",
       "  210.746,184.838 \n",
       "  \"/>\n",
       "<polyline clip-path=\"url(#clip272)\" style=\"stroke:#2c7ab6; stroke-linecap:round; stroke-linejoin:round; stroke-width:4; stroke-opacity:1; fill:none\" points=\"\n",
       "  210.746,1423.18 210.746,1423.18 234.521,1423.18 258.296,1423.18 282.071,1423.18 305.846,1423.18 329.622,1423.18 353.397,1423.18 377.172,1423.18 400.947,1423.18 \n",
       "  424.722,1423.18 444.711,1423.18 424.722,1415.8 400.947,1406.98 377.172,1398.22 353.397,1389.59 351.102,1388.78 329.622,1380.78 305.846,1372.25 \n",
       "  282.071,1364.14 258.296,1356.51 251.131,1354.38 234.521,1349.17 210.746,1342.39 210.746,1354.38 210.746,1388.78 210.746,1423.18 \n",
       "  \n",
       "  \"/>\n",
       "<polyline clip-path=\"url(#clip272)\" style=\"stroke:#2c7ab6; stroke-linecap:round; stroke-linejoin:round; stroke-width:4; stroke-opacity:1; fill:none\" points=\"\n",
       "  1137.98,1423.18 1161.75,1423.18 1185.53,1423.18 1209.3,1423.18 1233.08,1423.18 1256.85,1423.18 1280.63,1423.18 1304.4,1423.18 1328.18,1423.18 1351.95,1423.18 \n",
       "  1375.73,1423.18 1399.5,1423.18 1423.28,1423.18 1447.05,1423.18 1470.83,1423.18 1494.6,1423.18 1518.38,1423.18 1542.15,1423.18 1565.93,1423.18 1589.7,1423.18 \n",
       "  1613.48,1423.18 1637.25,1423.18 1661.03,1423.18 1684.8,1423.18 1708.58,1423.18 1732.35,1423.18 1756.13,1423.18 1779.9,1423.18 1803.68,1423.18 1827.45,1423.18 \n",
       "  1851.23,1423.18 1875,1423.18 1898.78,1423.18 1922.55,1423.18 1938.56,1423.18 1922.55,1417.28 1898.78,1408.46 1875,1399.68 1851.23,1391.03 \n",
       "  1844.9,1388.78 1827.45,1382.25 1803.68,1373.66 1779.9,1365.47 1756.13,1357.75 1744.93,1354.38 1732.35,1350.38 1708.58,1343.48 1684.8,1337.31 1661.03,1331.93 \n",
       "  1637.25,1327.4 1613.48,1323.76 1589.7,1321.05 1575.18,1319.98 1565.93,1319.26 1542.15,1318.44 1518.38,1318.65 1494.6,1319.91 1493.82,1319.98 1470.83,1322.07 \n",
       "  1447.05,1325.16 1423.28,1329.18 1399.5,1334.06 1375.73,1339.78 1351.95,1346.26 1328.18,1353.45 1325.34,1354.38 1304.4,1360.9 1280.63,1368.82 1256.85,1377.19 \n",
       "  1233.08,1385.92 1225.52,1388.78 1209.3,1394.61 1185.53,1403.33 1161.75,1412.13 1137.98,1420.94 1131.86,1423.18 1114.2,1423.18 1137.98,1423.18 \n",
       "  \"/>\n",
       "<polyline clip-path=\"url(#clip272)\" style=\"stroke:#2c7ab6; stroke-linecap:round; stroke-linejoin:round; stroke-width:4; stroke-opacity:1; fill:none\" points=\"\n",
       "  1494.6,150.514 1518.38,151.77 1542.15,151.986 1565.93,151.162 1575.18,150.439 1589.7,149.369 1613.48,146.662 1637.25,143.025 1661.03,138.496 1684.8,133.118 \n",
       "  1708.58,126.947 1732.35,120.044 1744.93,116.041 1756.13,112.67 1779.9,104.956 1803.68,96.7635 1827.45,88.174 1844.9,81.6425 1851.23,79.3948 1875,70.7397 \n",
       "  1898.78,61.9602 1922.55,53.1441 1938.56,47.2441 1922.55,47.2441 1898.78,47.2441 1875,47.2441 1851.23,47.2441 1827.45,47.2441 1803.68,47.2441 \n",
       "  1779.9,47.2441 1756.13,47.2441 1732.35,47.2441 1708.58,47.2441 1684.8,47.2441 1661.03,47.2441 1637.25,47.2441 1613.48,47.2441 1589.7,47.2441 1565.93,47.2441 \n",
       "  1542.15,47.2441 1518.38,47.2441 1494.6,47.2441 1470.83,47.2441 1447.05,47.2441 1423.28,47.2441 1399.5,47.2441 1375.73,47.2441 1351.95,47.2441 1328.18,47.2441 \n",
       "  1304.4,47.2441 1280.63,47.2441 1256.85,47.2441 1233.08,47.2441 1209.3,47.2441 1185.53,47.2441 1161.75,47.2441 1137.98,47.2441 1114.2,47.2441 1131.86,47.2441 \n",
       "  1137.98,49.4873 1161.75,58.2927 1185.53,67.0981 1209.3,75.8156 1225.52,81.6425 1233.08,84.5047 1256.85,93.2343 1280.63,101.602 1304.4,109.525 1325.34,116.041 \n",
       "  1328.18,116.973 1351.95,124.161 1375.73,130.645 1399.5,136.359 1423.28,141.247 1447.05,145.26 1470.83,148.358 1493.82,150.439 1494.6,150.514 \n",
       "  \"/>\n",
       "<polyline clip-path=\"url(#clip272)\" style=\"stroke:#2c7ab6; stroke-linecap:round; stroke-linejoin:round; stroke-width:4; stroke-opacity:1; fill:none\" points=\"\n",
       "  210.746,150.439 210.746,128.038 234.521,121.253 251.131,116.041 258.296,113.914 282.071,106.289 305.846,98.1711 329.622,89.6424 351.102,81.6425 353.397,80.8317 \n",
       "  377.172,72.2061 400.947,63.4414 424.722,54.6253 444.711,47.2441 424.722,47.2441 400.947,47.2441 377.172,47.2441 353.397,47.2441 329.622,47.2441 \n",
       "  305.846,47.2441 282.071,47.2441 258.296,47.2441 234.521,47.2441 210.746,47.2441 210.746,81.6425 210.746,116.041 \n",
       "  210.746,150.439 \n",
       "  \"/>\n",
       "<polyline clip-path=\"url(#clip272)\" style=\"stroke:#2c7ab6; stroke-linecap:round; stroke-linejoin:round; stroke-width:4; stroke-opacity:1; fill:none\" points=\"\n",
       "  210.746,1423.18 210.746,1423.18 234.521,1423.18 258.296,1423.18 282.071,1423.18 305.846,1423.18 329.622,1423.18 353.397,1423.18 354.822,1423.18 \n",
       "  353.397,1422.66 329.622,1414.26 305.846,1406.17 282.071,1398.47 258.296,1391.24 249.582,1388.78 234.521,1384.31 210.746,1377.89 210.746,1388.78 \n",
       "  210.746,1423.18 \n",
       "  \"/>\n",
       "<polyline clip-path=\"url(#clip272)\" style=\"stroke:#2c7ab6; stroke-linecap:round; stroke-linejoin:round; stroke-width:4; stroke-opacity:1; fill:none\" points=\"\n",
       "  1233.08,1423.18 1256.85,1423.18 1280.63,1423.18 1304.4,1423.18 1328.18,1423.18 1351.95,1423.18 1375.73,1423.18 1399.5,1423.18 1423.28,1423.18 1447.05,1423.18 \n",
       "  1470.83,1423.18 1494.6,1423.18 1518.38,1423.18 1542.15,1423.18 1565.93,1423.18 1589.7,1423.18 1613.48,1423.18 1637.25,1423.18 1661.03,1423.18 1684.8,1423.18 \n",
       "  1708.58,1423.18 1732.35,1423.18 1756.13,1423.18 1779.9,1423.18 1803.68,1423.18 1827.45,1423.18 1848.64,1423.18 1827.45,1415.66 1803.68,1407.51 \n",
       "  1779.9,1399.73 1756.13,1392.42 1743.4,1388.78 1732.35,1385.45 1708.58,1378.92 1684.8,1373.09 1661.03,1368 1637.25,1363.72 1613.48,1360.28 1589.7,1357.71 \n",
       "  1565.93,1356.06 1542.15,1355.32 1518.38,1355.52 1494.6,1356.64 1470.83,1358.67 1447.05,1361.6 1423.28,1365.4 1399.5,1370.02 1375.73,1375.43 1351.95,1381.56 \n",
       "  1328.18,1388.36 1326.82,1388.78 1304.4,1395.4 1280.63,1402.92 1256.85,1410.85 1233.08,1419.14 1221.82,1423.18 1209.3,1423.18 1233.08,1423.18 \n",
       "  \"/>\n",
       "<polyline clip-path=\"url(#clip272)\" style=\"stroke:#2c7ab6; stroke-linecap:round; stroke-linejoin:round; stroke-width:4; stroke-opacity:1; fill:none\" points=\"\n",
       "  210.746,116.041 210.746,92.5312 234.521,86.113 249.582,81.6425 258.296,79.1885 282.071,71.9541 305.846,64.2528 329.622,56.1615 353.397,47.761 354.822,47.2441 \n",
       "  353.397,47.2441 329.622,47.2441 305.846,47.2441 282.071,47.2441 258.296,47.2441 234.521,47.2441 210.746,47.2441 \n",
       "  210.746,81.6425 210.746,116.041 \n",
       "  \"/>\n",
       "<polyline clip-path=\"url(#clip272)\" style=\"stroke:#2c7ab6; stroke-linecap:round; stroke-linejoin:round; stroke-width:4; stroke-opacity:1; fill:none\" points=\"\n",
       "  1328.18,82.0643 1351.95,88.8639 1375.73,94.9971 1399.5,100.403 1423.28,105.027 1447.05,108.823 1470.83,111.753 1494.6,113.788 1518.38,114.908 1542.15,115.101 \n",
       "  1565.93,114.366 1589.7,112.71 1613.48,110.149 1637.25,106.708 1661.03,102.424 1684.8,97.3371 1708.58,91.4995 1732.35,84.9692 1743.4,81.6425 1756.13,78.0079 \n",
       "  1779.9,70.6898 1803.68,62.9174 1827.45,54.7683 1848.64,47.2441 1827.45,47.2441 1803.68,47.2441 1779.9,47.2441 1756.13,47.2441 1732.35,47.2441 \n",
       "  1708.58,47.2441 1684.8,47.2441 1661.03,47.2441 1637.25,47.2441 1613.48,47.2441 1589.7,47.2441 1565.93,47.2441 1542.15,47.2441 1518.38,47.2441 1494.6,47.2441 \n",
       "  1470.83,47.2441 1447.05,47.2441 1423.28,47.2441 1399.5,47.2441 1375.73,47.2441 1351.95,47.2441 1328.18,47.2441 1304.4,47.2441 1280.63,47.2441 1256.85,47.2441 \n",
       "  1233.08,47.2441 1209.3,47.2441 1221.82,47.2441 1233.08,51.2872 1256.85,59.5691 1280.63,67.5079 1304.4,75.0241 1326.82,81.6425 1328.18,82.0643 \n",
       "  \"/>\n",
       "<polyline clip-path=\"url(#clip272)\" style=\"stroke:#2c7ab6; stroke-linecap:round; stroke-linejoin:round; stroke-width:4; stroke-opacity:1; fill:none\" points=\"\n",
       "  210.746,1423.18 210.746,1423.18 234.521,1423.18 254.297,1423.18 234.521,1417.61 210.746,1411.52 210.746,1423.18 \n",
       "  \n",
       "  \"/>\n",
       "<polyline clip-path=\"url(#clip272)\" style=\"stroke:#2c7ab6; stroke-linecap:round; stroke-linejoin:round; stroke-width:4; stroke-opacity:1; fill:none\" points=\"\n",
       "  1328.18,1423.18 1351.95,1423.18 1375.73,1423.18 1399.5,1423.18 1423.28,1423.18 1447.05,1423.18 1470.83,1423.18 1494.6,1423.18 1518.38,1423.18 1542.15,1423.18 \n",
       "  1565.93,1423.18 1589.7,1423.18 1613.48,1423.18 1637.25,1423.18 1661.03,1423.18 1684.8,1423.18 1708.58,1423.18 1732.35,1423.18 1748.05,1423.18 \n",
       "  1732.35,1418.7 1708.58,1412.5 1684.8,1406.96 1661.03,1402.14 1637.25,1398.07 1613.48,1394.81 1589.7,1392.38 1565.93,1390.81 1542.15,1390.11 1518.38,1390.29 \n",
       "  1494.6,1391.35 1470.83,1393.29 1447.05,1396.07 1423.28,1399.67 1399.5,1404.05 1375.73,1409.18 1351.95,1415 1328.18,1421.45 1322.32,1423.18 1304.4,1423.18 \n",
       "  1328.18,1423.18 \n",
       "  \"/>\n",
       "<polyline clip-path=\"url(#clip272)\" style=\"stroke:#2c7ab6; stroke-linecap:round; stroke-linejoin:round; stroke-width:4; stroke-opacity:1; fill:none\" points=\"\n",
       "  210.746,81.6425 210.746,58.9021 234.521,52.813 254.297,47.2441 234.521,47.2441 210.746,47.2441 \n",
       "  210.746,81.6425 \n",
       "  \"/>\n",
       "<polyline clip-path=\"url(#clip272)\" style=\"stroke:#2c7ab6; stroke-linecap:round; stroke-linejoin:round; stroke-width:4; stroke-opacity:1; fill:none\" points=\"\n",
       "  1328.18,48.972 1351.95,55.4229 1375.73,61.2416 1399.5,66.37 1423.28,70.7568 1447.05,74.3582 1470.83,77.1382 1494.6,79.069 1518.38,80.1314 1542.15,80.3148 \n",
       "  1565.93,79.6172 1589.7,78.0457 1613.48,75.616 1637.25,72.3523 1661.03,68.2873 1684.8,63.4616 1708.58,57.9233 1732.35,51.7279 1748.05,47.2441 1732.35,47.2441 \n",
       "  1708.58,47.2441 1684.8,47.2441 1661.03,47.2441 1637.25,47.2441 1613.48,47.2441 1589.7,47.2441 1565.93,47.2441 1542.15,47.2441 1518.38,47.2441 \n",
       "  1494.6,47.2441 1470.83,47.2441 1447.05,47.2441 1423.28,47.2441 1399.5,47.2441 1375.73,47.2441 1351.95,47.2441 1328.18,47.2441 1304.4,47.2441 1322.32,47.2441 \n",
       "  1328.18,48.972 \n",
       "  \"/>\n",
       "<defs>\n",
       "  <clipPath id=\"clip273\">\n",
       "    <rect x=\"2160\" y=\"47\" width=\"73\" height=\"1377\"/>\n",
       "  </clipPath>\n",
       "</defs>\n",
       "<path clip-path=\"url(#clip273)\" d=\"\n",
       "M2160.76 1423.18 L2232.76 1423.18 L2232.76 1337.18 L2160.76 1337.18  Z\n",
       "  \" fill=\"#2c7ab6\" fill-rule=\"evenodd\" fill-opacity=\"1\"/>\n",
       "<path clip-path=\"url(#clip273)\" d=\"\n",
       "M2160.76 1337.18 L2232.76 1337.18 L2232.76 1251.19 L2160.76 1251.19  Z\n",
       "  \" fill=\"#4d94c3\" fill-rule=\"evenodd\" fill-opacity=\"1\"/>\n",
       "<path clip-path=\"url(#clip273)\" d=\"\n",
       "M2160.76 1251.19 L2232.76 1251.19 L2232.76 1165.19 L2160.76 1165.19  Z\n",
       "  \" fill=\"#6fadd1\" fill-rule=\"evenodd\" fill-opacity=\"1\"/>\n",
       "<path clip-path=\"url(#clip273)\" d=\"\n",
       "M2160.76 1165.19 L2232.76 1165.19 L2232.76 1079.2 L2160.76 1079.2  Z\n",
       "  \" fill=\"#91c6de\" fill-rule=\"evenodd\" fill-opacity=\"1\"/>\n",
       "<path clip-path=\"url(#clip273)\" d=\"\n",
       "M2160.76 1079.2 L2232.76 1079.2 L2232.76 993.2 L2160.76 993.2  Z\n",
       "  \" fill=\"#b0dbe6\" fill-rule=\"evenodd\" fill-opacity=\"1\"/>\n",
       "<path clip-path=\"url(#clip273)\" d=\"\n",
       "M2160.76 993.2 L2232.76 993.2 L2232.76 907.204 L2160.76 907.204  Z\n",
       "  \" fill=\"#c7e5db\" fill-rule=\"evenodd\" fill-opacity=\"1\"/>\n",
       "<path clip-path=\"url(#clip273)\" d=\"\n",
       "M2160.76 907.204 L2232.76 907.204 L2232.76 821.208 L2160.76 821.208  Z\n",
       "  \" fill=\"#ddefcf\" fill-rule=\"evenodd\" fill-opacity=\"1\"/>\n",
       "<path clip-path=\"url(#clip273)\" d=\"\n",
       "M2160.76 821.208 L2232.76 821.208 L2232.76 735.212 L2160.76 735.212  Z\n",
       "  \" fill=\"#f3f9c4\" fill-rule=\"evenodd\" fill-opacity=\"1\"/>\n",
       "<path clip-path=\"url(#clip273)\" d=\"\n",
       "M2160.76 735.212 L2232.76 735.212 L2232.76 649.216 L2160.76 649.216  Z\n",
       "  \" fill=\"#fef4b2\" fill-rule=\"evenodd\" fill-opacity=\"1\"/>\n",
       "<path clip-path=\"url(#clip273)\" d=\"\n",
       "M2160.76 649.216 L2232.76 649.216 L2232.76 563.22 L2160.76 563.22  Z\n",
       "  \" fill=\"#fede99\" fill-rule=\"evenodd\" fill-opacity=\"1\"/>\n",
       "<path clip-path=\"url(#clip273)\" d=\"\n",
       "M2160.76 563.22 L2232.76 563.22 L2232.76 477.224 L2160.76 477.224  Z\n",
       "  \" fill=\"#fdc880\" fill-rule=\"evenodd\" fill-opacity=\"1\"/>\n",
       "<path clip-path=\"url(#clip273)\" d=\"\n",
       "M2160.76 477.224 L2232.76 477.224 L2232.76 391.228 L2160.76 391.228  Z\n",
       "  \" fill=\"#fdb367\" fill-rule=\"evenodd\" fill-opacity=\"1\"/>\n",
       "<path clip-path=\"url(#clip273)\" d=\"\n",
       "M2160.76 391.228 L2232.76 391.228 L2232.76 305.232 L2160.76 305.232  Z\n",
       "  \" fill=\"#f59053\" fill-rule=\"evenodd\" fill-opacity=\"1\"/>\n",
       "<path clip-path=\"url(#clip273)\" d=\"\n",
       "M2160.76 305.232 L2232.76 305.232 L2232.76 219.236 L2160.76 219.236  Z\n",
       "  \" fill=\"#eb6840\" fill-rule=\"evenodd\" fill-opacity=\"1\"/>\n",
       "<path clip-path=\"url(#clip273)\" d=\"\n",
       "M2160.76 219.236 L2232.76 219.236 L2232.76 133.24 L2160.76 133.24  Z\n",
       "  \" fill=\"#e1402e\" fill-rule=\"evenodd\" fill-opacity=\"1\"/>\n",
       "<path clip-path=\"url(#clip273)\" d=\"\n",
       "M2160.76 133.24 L2232.76 133.24 L2232.76 47.2441 L2160.76 47.2441  Z\n",
       "  \" fill=\"#d6181c\" fill-rule=\"evenodd\" fill-opacity=\"1\"/>\n",
       "<path clip-path=\"url(#clip270)\" d=\"M2280.7 1176.09 Q2277.09 1176.09 2275.26 1179.66 Q2273.45 1183.2 2273.45 1190.33 Q2273.45 1197.43 2275.26 1201 Q2277.09 1204.54 2280.7 1204.54 Q2284.33 1204.54 2286.14 1201 Q2287.97 1197.43 2287.97 1190.33 Q2287.97 1183.2 2286.14 1179.66 Q2284.33 1176.09 2280.7 1176.09 M2280.7 1172.39 Q2286.51 1172.39 2289.57 1177 Q2292.64 1181.58 2292.64 1190.33 Q2292.64 1199.06 2289.57 1203.66 Q2286.51 1208.24 2280.7 1208.24 Q2274.89 1208.24 2271.81 1203.66 Q2268.76 1199.06 2268.76 1190.33 Q2268.76 1181.58 2271.81 1177 Q2274.89 1172.39 2280.7 1172.39 Z\" fill=\"#000000\" fill-rule=\"evenodd\" fill-opacity=\"1\" /><path clip-path=\"url(#clip270)\" d=\"M2269.43 974.283 L2277.07 974.283 L2277.07 947.918 L2268.76 949.584 L2268.76 945.325 L2277.02 943.658 L2281.7 943.658 L2281.7 974.283 L2289.33 974.283 L2289.33 978.218 L2269.43 978.218 L2269.43 974.283 Z\" fill=\"#000000\" fill-rule=\"evenodd\" fill-opacity=\"1\" /><path clip-path=\"url(#clip270)\" d=\"M2274.38 744.928 L2290.7 744.928 L2290.7 748.863 L2268.76 748.863 L2268.76 744.928 Q2271.42 742.173 2276 737.544 Q2280.61 732.891 2281.79 731.548 Q2284.03 729.025 2284.91 727.289 Q2285.82 725.53 2285.82 723.84 Q2285.82 721.086 2283.87 719.349 Q2281.95 717.613 2278.85 717.613 Q2276.65 717.613 2274.2 718.377 Q2271.77 719.141 2268.99 720.692 L2268.99 715.97 Q2271.81 714.836 2274.27 714.257 Q2276.72 713.678 2278.76 713.678 Q2284.13 713.678 2287.32 716.363 Q2290.52 719.049 2290.52 723.539 Q2290.52 725.669 2289.7 727.59 Q2288.92 729.488 2286.81 732.081 Q2286.23 732.752 2283.13 735.97 Q2280.03 739.164 2274.38 744.928 Z\" fill=\"#000000\" fill-rule=\"evenodd\" fill-opacity=\"1\" /><path clip-path=\"url(#clip270)\" d=\"M2284.38 500.874 Q2287.74 501.591 2289.61 503.86 Q2291.51 506.128 2291.51 509.462 Q2291.51 514.577 2287.99 517.378 Q2284.47 520.179 2277.99 520.179 Q2275.82 520.179 2273.5 519.739 Q2271.21 519.323 2268.76 518.466 L2268.76 513.952 Q2270.7 515.087 2273.02 515.665 Q2275.33 516.244 2277.85 516.244 Q2282.25 516.244 2284.54 514.508 Q2286.86 512.772 2286.86 509.462 Q2286.86 506.406 2284.7 504.693 Q2282.58 502.957 2278.76 502.957 L2274.73 502.957 L2274.73 499.115 L2278.94 499.115 Q2282.39 499.115 2284.22 497.749 Q2286.05 496.36 2286.05 493.767 Q2286.05 491.105 2284.15 489.693 Q2282.27 488.258 2278.76 488.258 Q2276.83 488.258 2274.64 488.675 Q2272.44 489.091 2269.8 489.971 L2269.8 485.804 Q2272.46 485.064 2274.77 484.693 Q2277.11 484.323 2279.17 484.323 Q2284.5 484.323 2287.6 486.753 Q2290.7 489.161 2290.7 493.281 Q2290.7 496.152 2289.06 498.142 Q2287.41 500.11 2284.38 500.874 Z\" fill=\"#000000\" fill-rule=\"evenodd\" fill-opacity=\"1\" /><path clip-path=\"url(#clip270)\" d=\"M2284.36 259.667 L2272.55 278.116 L2284.36 278.116 L2284.36 259.667 M2283.13 255.593 L2289.01 255.593 L2289.01 278.116 L2293.94 278.116 L2293.94 282.005 L2289.01 282.005 L2289.01 290.153 L2284.36 290.153 L2284.36 282.005 L2268.76 282.005 L2268.76 277.491 L2283.13 255.593 Z\" fill=\"#000000\" fill-rule=\"evenodd\" fill-opacity=\"1\" /><polyline clip-path=\"url(#clip270)\" style=\"stroke:#000000; stroke-linecap:round; stroke-linejoin:round; stroke-width:4; stroke-opacity:1; fill:none\" points=\"\n",
       "  2232.76,1423.18 2232.76,1193.92 2256.76,1193.92 2232.76,1193.92 2232.76,964.567 2256.76,964.567 2232.76,964.567 2232.76,735.212 2256.76,735.212 2232.76,735.212 \n",
       "  2232.76,505.857 2256.76,505.857 2232.76,505.857 2232.76,276.502 2256.76,276.502 2232.76,276.502 2232.76,47.2441 \n",
       "  \"/>\n",
       "</svg>\n"
      ]
     },
     "execution_count": 43,
     "metadata": {},
     "output_type": "execute_result"
    }
   ],
   "source": [
    "g(x,y) = y*y + sin(x)\n",
    "\n",
    "color_scheme = cgrad(:RdYlBu_5, rev=true)\n",
    "contour(-4:0.1:4, -2:0.1:2, g, fill=true, c=color_scheme, xlabel=\"x\", ylabel=\"y\")"
   ]
  },
  {
   "cell_type": "markdown",
   "id": "50f70cd8-0c01-48fb-98f2-d29e76e25014",
   "metadata": {},
   "source": [
    "We can find a local minimum of $g$ by starting at an initial point $(x_0,y_0)$\n",
    "and taking small steps in the opposite direction of the gradient\n",
    "\n",
    "\\begin{align}\n",
    "x_{i+1} &= x_i - \\lambda \\frac{\\partial f}{\\partial x_i} \\\\\n",
    "y_{i+1} &= y_i - \\lambda \\frac{\\partial f}{\\partial y_i},\n",
    "\\end{align}\n",
    "\n",
    "where $\\lambda$ is the learning rate that has to be tuned manually.\n",
    "\n",
    "### Exercise 3\n",
    "Implement a function `descend` performs one step of Gradient Descent (GD) on a\n",
    "function `f` with an arbitrary number of inputs. For GD you also have to\n",
    "specify the learning rate $\\lambda$ so the function signature should look like\n",
    "this \n",
    "```julia\n",
    "descend(f::Function, λ::Real, args::Real...)\n",
    "```"
   ]
  },
  {
   "cell_type": "code",
   "execution_count": 45,
   "id": "da624fda-3ca2-46d9-913b-9490640622a6",
   "metadata": {},
   "outputs": [
    {
     "data": {
      "text/plain": [
       "descend (generic function with 1 method)"
      ]
     },
     "execution_count": 45,
     "metadata": {},
     "output_type": "execute_result"
    }
   ],
   "source": [
    "function descend(f::Function, λ::Real, args::Real...)\n",
    "    Δargs = gradient(f, args...)\n",
    "    args .- λ .* Δargs\n",
    "end"
   ]
  },
  {
   "cell_type": "markdown",
   "id": "ceec801b-525c-4a24-a02d-06ee873c0448",
   "metadata": {
    "jp-MarkdownHeadingCollapsed": true,
    "tags": []
   },
   "source": [
    "#### Solution"
   ]
  },
  {
   "cell_type": "code",
   "execution_count": null,
   "id": "1f2d364c-f8f7-4696-8124-11ad265f9cbd",
   "metadata": {},
   "outputs": [],
   "source": [
    "function descend(f::Function, λ::Real, args::Real...)\n",
    "    Δargs = gradient(f, args...)\n",
    "    args .- λ .* Δargs\n",
    "end"
   ]
  },
  {
   "cell_type": "markdown",
   "id": "4c65a260-3126-4664-ba22-08078e683754",
   "metadata": {},
   "source": [
    "#\n",
    "Running one `descend` step should result in two new inputs with a smaller output\n"
   ]
  },
  {
   "cell_type": "code",
   "execution_count": 46,
   "id": "3cb01089-1171-4365-85ac-41cffed1fed3",
   "metadata": {},
   "outputs": [
    {
     "data": {
      "text/plain": [
       "1.8414709848078965"
      ]
     },
     "execution_count": 46,
     "metadata": {},
     "output_type": "execute_result"
    }
   ],
   "source": [
    "g(1.0,1.0)"
   ]
  },
  {
   "cell_type": "code",
   "execution_count": 47,
   "id": "edb2a417-3824-46d8-a2f9-c6b3228f663a",
   "metadata": {},
   "outputs": [
    {
     "data": {
      "text/plain": [
       "(0.891939538826372, 0.8)"
      ]
     },
     "execution_count": 47,
     "metadata": {},
     "output_type": "execute_result"
    }
   ],
   "source": [
    "(x,y) = descend(g, 0.2, 1.0, 1.0)"
   ]
  },
  {
   "cell_type": "code",
   "execution_count": 48,
   "id": "ea229bca-c8aa-4c84-8b36-e83d64f677e0",
   "metadata": {},
   "outputs": [
    {
     "data": {
      "text/plain": [
       "1.4182910542267546"
      ]
     },
     "execution_count": 48,
     "metadata": {},
     "output_type": "execute_result"
    }
   ],
   "source": [
    "g(x,y)"
   ]
  },
  {
   "cell_type": "markdown",
   "id": "d44b8d28-7927-4d9c-9a1c-aa54b0ec3885",
   "metadata": {},
   "source": [
    "You can `minimize` a `g` starting from an initial value. Below is a code\n",
    "snippet that performs a number of `descend` steps on two different initial\n",
    "points and creates an animation of each step of the GD algorithm."
   ]
  },
  {
   "cell_type": "code",
   "execution_count": 53,
   "id": "a01c2e1b-3066-46f7-963f-ea1290fffe35",
   "metadata": {},
   "outputs": [
    {
     "name": "stderr",
     "output_type": "stream",
     "text": [
      "┌ Info: Saved animation to /Users/ghosty/AI_Center/Scientific-Programing-in-Julia/lab8/tmp.gif\n",
      "└ @ Plots /Users/ghosty/.julia/packages/Plots/YbrTT/src/animation.jl:149\n"
     ]
    },
    {
     "data": {
      "text/html": [
       "<img src=\"data:image/gif;base64,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\" />"
      ],
      "text/plain": [
       "Plots.AnimatedGif(\"/Users/ghosty/AI_Center/Scientific-Programing-in-Julia/lab8/tmp.gif\")"
      ]
     },
     "execution_count": 53,
     "metadata": {},
     "output_type": "execute_result"
    }
   ],
   "source": [
    "function minimize(f::Function, args::T...; niters=20, λ=0.01) where T<:Real\n",
    "    paths = ntuple(_->Vector{T}(undef,niters), length(args))\n",
    "    for i in 1:niters\n",
    "        args = descend(f, λ, args...)\n",
    "        #@info f(args...)\n",
    "        for j in 1:length(args)\n",
    "            paths[j][i] = args[j]\n",
    "        end\n",
    "    end\n",
    "    paths\n",
    "end\n",
    "\n",
    "xs1, ys1 = minimize(g, 1.5, -2.4, λ=0.2, niters=34)#1.5\n",
    "xs2, ys2 = minimize(g, 1.8, -2.4, λ=0.2, niters=16)\n",
    "\n",
    "p1 = contour(-4:0.1:4, -2:0.1:2, g, fill=true, c=color_scheme, xlabel=\"x\", ylabel=\"y\")\n",
    "scatter!(p1, [xs1[1]], [ys1[1]], mc=:red, marker=:star, ms=7, label=\"Minimum\")\n",
    "scatter!(p1, [xs2[1]], [ys2[1]], mc=:red, marker=:star, ms=7, label=false)\n",
    "scatter!(p1, [-π/2], [0], mc=:black, marker=:star, ms=7, label=\"Initial Point\")\n",
    "scatter!(p1, xs1[1:1], ys1[1:1], mc=:black, label=\"GD Path\", xlims=(-4,4), ylims=(-2,2))\n",
    "\n",
    "@gif for i in 1:max(length(xs1), length(xs2))\n",
    "    if i <= length(xs1)\n",
    "        scatter!(p1, xs1[1:i], ys1[1:i], mc=:black, lw=3, xlims=(-4,4), ylims=(-2,2), label=false)\n",
    "    end\n",
    "    if i <= length(xs2)\n",
    "        scatter!(p1, xs2[1:i], ys2[1:i], mc=:black, lw=3, label=false)\n",
    "    end\n",
    "    p1\n",
    "end"
   ]
  },
  {
   "cell_type": "markdown",
   "id": "8a835d18-9944-421e-9dc7-f80e2fbf869b",
   "metadata": {},
   "source": [
    "At this point you can move to the [homework](@ref hw08) of this lab.  If you want to\n",
    "know how to generalize this simple reverse AD to work with functions that\n",
    "operate on `Array`s, feel free to continue with the remaining **volutary part\n",
    "of the lab**."
   ]
  },
  {
   "cell_type": "markdown",
   "id": "c2346120-7816-45d4-a71c-5839705fe70d",
   "metadata": {},
   "source": [
    "## Naively Vectorized Reverse AD\n",
    "\n",
    "A naive solution to use our `TrackedReal` number type to differentiate\n",
    "functions that operate on vectors is to just use `Array{<:TrackedReal}`.\n",
    "Unfortunately, this means that we have to replace the fast BLAS matrix\n",
    "operations with our own matrix multiplication methods that know how to deal\n",
    "with `TrackedReal`s.  This results in large performance hits and your task\n",
    "during the rest of the lab is to implement a smarter solution to this problem."
   ]
  },
  {
   "cell_type": "code",
   "execution_count": null,
   "id": "a3677451-7c6e-4dc9-ba50-eb299fc52d76",
   "metadata": {},
   "outputs": [],
   "source": [
    "using LinearAlgebra\n",
    "\n",
    "Base.zero(::TrackedReal{T}) where T = TrackedReal(zero(T))\n",
    "LinearAlgebra.adjoint(x::TrackedReal) = x\n",
    "track(x::Array) = track.(x)\n",
    "accum!(xs::Array{<:TrackedReal}) = accum!.(xs)\n",
    "\n",
    "const VecTracked = AbstractVector{<:TrackedReal}\n",
    "const MatTracked = AbstractMatrix{<:TrackedReal}\n",
    "\n",
    "LinearAlgebra.dot(xs::VecTracked, ys::VecTracked) = mapreduce(*, +, xs, ys)\n",
    "Base.:*(X::MatTracked, y::VecTracked) = map(x->dot(x,y), eachrow(X))\n",
    "Base.:*(X::MatTracked, Y::MatTracked) = mapreduce(y->X*y, hcat, eachcol(Y))\n",
    "Base.sum(xs::AbstractArray{<:TrackedReal}) = reduce(+,xs)\n",
    "\n",
    "function reset!(x::TrackedReal)\n",
    "    x.grad = nothing\n",
    "    reset!.(keys(x.children))\n",
    "    x.children = Dict()\n",
    "end\n",
    "\n",
    "X = rand(2,3)\n",
    "Y = rand(3,2)\n",
    "\n",
    "function run()\n",
    "    Xv = track(X)\n",
    "    Yv = track(Y)\n",
    "    z = sum(Xv * Yv)\n",
    "    z.grad = 1.0\n",
    "    accum!(Yv)\n",
    "end"
   ]
  },
  {
   "cell_type": "code",
   "execution_count": null,
   "id": "61bf3651-d657-422c-8582-f7de5d6c4ee6",
   "metadata": {},
   "outputs": [],
   "source": [
    "using BenchmarkTools\n",
    "@benchmark run()"
   ]
  },
  {
   "cell_type": "markdown",
   "id": "2f5295d2-4dd1-47ac-9afd-66faa60d7bf1",
   "metadata": {},
   "source": [
    "## Reverse AD with `TrackedArray`s\n",
    "\n",
    "To make use of the much faster BLAS methods we have to implement a custom array\n",
    "type which will offload the heavy matrix multiplications to the normal matrix\n",
    "methods.  Start with a **fresh REPL** and possibly a **new file** that only\n",
    "contains the definition of our `TrackedReal`:"
   ]
  },
  {
   "cell_type": "markdown",
   "id": "e49c7f14-6651-4047-8cff-884192b86af4",
   "metadata": {},
   "source": [
    "```julia\n",
    "mutable struct TrackedReal{T<:Real}\n",
    "    data::T\n",
    "    grad::Union{Nothing,T}\n",
    "    children::Dict\n",
    "end\n",
    "\n",
    "track(x::Real) = TrackedReal(x, nothing, Dict())\n",
    "```"
   ]
  },
  {
   "cell_type": "markdown",
   "id": "0940aa19-2273-4429-98e3-ee4429b551d4",
   "metadata": {},
   "source": [
    "### Exercise 4\n",
    "Define a new `TrackedArray` type which subtypes and `AbstractArray{T,N}` and contains\n",
    "the three fields: `data`, `grad`, and `children`. Which type should `grad` have?\n",
    "\n",
    "Additionally define `track(x::Array)`, and forward `size`, `length`, and `eltype`\n",
    "to `x.data` (maybe via metaprogrammming? ;)."
   ]
  },
  {
   "cell_type": "code",
   "execution_count": null,
   "id": "cc117c8d-9259-4cbf-b793-bd8807c58693",
   "metadata": {},
   "outputs": [],
   "source": []
  },
  {
   "cell_type": "markdown",
   "id": "b2e7b358-dede-49b7-8fb1-56077122ed6f",
   "metadata": {
    "jp-MarkdownHeadingCollapsed": true,
    "tags": []
   },
   "source": [
    "#### Solution"
   ]
  },
  {
   "cell_type": "code",
   "execution_count": null,
   "id": "ad4d6108-b6a5-43fe-b705-1eb4480c1961",
   "metadata": {},
   "outputs": [],
   "source": [
    "mutable struct TrackedArray{T,N,A<:AbstractArray{T,N}} <: AbstractArray{T,N}\n",
    "    data::A\n",
    "    grad::Union{Nothing,A}\n",
    "    children::Dict\n",
    "end\n",
    "\n",
    "track(x::Array) = TrackedArray(x, nothing, Dict())\n",
    "track(x::Union{TrackedArray,TrackedReal}) = x\n",
    "\n",
    "for f in [:size, :length, :eltype]\n",
    "\teval(:(Base.$(f)(x::TrackedArray, args...) = $(f)(x.data, args...)))\n",
    "end\n",
    "\n",
    "# only needed for hashing in the children dict...\n",
    "Base.getindex(x::TrackedArray, args...) = getindex(x.data,args...)\n",
    "\n",
    "# pretty print TrackedArray\n",
    "Base.show(io::IO, x::TrackedArray) = print(io, \"Tracked $(x.data)\")\n",
    "Base.print_array(io::IO, x::TrackedArray) = Base.print_array(io, x.data)"
   ]
  },
  {
   "cell_type": "markdown",
   "id": "cc096077-6b09-44be-b341-67b3dc7327df",
   "metadata": {},
   "source": [
    "# \n",
    "Creating a `TrackedArray` should work like this:"
   ]
  },
  {
   "cell_type": "code",
   "execution_count": null,
   "id": "269912ce-378b-48e4-8097-fadcf1e45d91",
   "metadata": {},
   "outputs": [],
   "source": [
    "track(rand(2,2))"
   ]
  },
  {
   "cell_type": "code",
   "execution_count": null,
   "id": "6b49f66f-a3f7-4f24-bc2c-af0fae46b25d",
   "metadata": {},
   "outputs": [],
   "source": [
    "function accum!(x::Union{TrackedReal,TrackedArray})\n",
    "    if isnothing(x.grad)\n",
    "        x.grad = sum(λ(accum!(Δ)) for (Δ,λ) in x.children)\n",
    "    end\n",
    "    x.grad\n",
    "end"
   ]
  },
  {
   "cell_type": "code",
   "execution_count": null,
   "id": "eecd9d73-4449-4b60-9213-a1b6d1421ddd",
   "metadata": {},
   "outputs": [],
   "source": [
    "methods(accum!)"
   ]
  },
  {
   "cell_type": "markdown",
   "id": "f3729532-f16c-4b62-8e43-9f265fce737b",
   "metadata": {},
   "source": [
    "To implement the first rule for `*` i.e. matrix multiplication we would first\n",
    "have to derive it. In the case of general matrix multiplication (which is a function\n",
    "$(R^{N\\times M}, R^{M\\times L}) \\rightarrow R^{N\\times L}$) we are not dealing\n",
    "with simple derivatives anymore, but with a so-called *pullback* which takes a\n",
    "*wobble* in the output space $R^{N\\times L}$  and returns a *wiggle* in the input space\n",
    "(either $R^{N\\times M}$ or $R^{M\\times L}$).\n",
    "\n",
    "Luckily\n",
    "[`ChainRules.jl`](https://juliadiff.org/ChainRulesCore.jl/dev/arrays.html) has\n",
    "a nice guide on how to derive array rules, so we will only state the solution\n",
    "for the reverse rule such that you can implement it. They read:\n",
    "\n",
    "\\begin{equation}\n",
    "\\bar A = \\bar\\Omega B^T, \\qquad \\bar B = A^T\\bar\\Omega\n",
    "\\end{equation}\n",
    "\n",
    "Where $\\bar\\Omega$ is the given output *wobble*, which in the simplest case can\n",
    "be the seeded value of the final node. The crucial problem to note here is that\n",
    "the two rules rely in $\\bar\\Omega$ being multiplied *from different sides*.\n",
    "This information would be lost if would just store $B^T$ as the pullback for\n",
    "$A$.  Hence we will store our pullbacks as closures:\n",
    "\n",
    "```julia\n",
    "Ω̄ -> Ω̄  * B'\n",
    "Ω̄ -> A' * Ω̄\n",
    "```\n",
    "\n",
    "### Exercise 5\n",
    "Define the pullback for matrix multiplication i.e. `Base.:*(A::TrackedArray,B::TrackedArray)`\n",
    "by computing the primal and storing the partials as closures."
   ]
  },
  {
   "cell_type": "code",
   "execution_count": null,
   "id": "e13b2357-062b-49cd-809a-df07dcf37723",
   "metadata": {},
   "outputs": [],
   "source": []
  },
  {
   "cell_type": "markdown",
   "id": "c68085cb-2eee-4e30-9cb1-df705cde82bf",
   "metadata": {
    "jp-MarkdownHeadingCollapsed": true,
    "tags": []
   },
   "source": [
    "#### Solution"
   ]
  },
  {
   "cell_type": "code",
   "execution_count": null,
   "id": "54c17d20-f023-4e5d-bf3a-43b21aba9d72",
   "metadata": {},
   "outputs": [],
   "source": [
    "function Base.:*(X::TrackedArray, Y::TrackedArray)\n",
    "    Z = track(X.data * Y.data)\n",
    "    X.children[Z] = Δ -> Δ * Y.data'\n",
    "    Y.children[Z] = Δ -> X.data' * Δ\n",
    "    Z\n",
    "end"
   ]
  },
  {
   "cell_type": "code",
   "execution_count": null,
   "id": "f82e3d89-8c37-44d3-96cf-fa00a7b6c186",
   "metadata": {},
   "outputs": [],
   "source": [
    "X = track(rand(2,3))"
   ]
  },
  {
   "cell_type": "markdown",
   "id": "864cf2f9-e6e5-4374-87d3-0409825a63d9",
   "metadata": {},
   "source": [
    "#\n"
   ]
  },
  {
   "cell_type": "code",
   "execution_count": null,
   "id": "de0c242e-139e-4764-b666-21026e02a658",
   "metadata": {},
   "outputs": [],
   "source": [
    "X = rand(2,3) |> track"
   ]
  },
  {
   "cell_type": "code",
   "execution_count": null,
   "id": "0f3bb66b-3e42-4796-8bcc-cbd6e471a97c",
   "metadata": {},
   "outputs": [],
   "source": [
    "Y = rand(3,2) |> track"
   ]
  },
  {
   "cell_type": "code",
   "execution_count": null,
   "id": "e82c2b7f-2ef5-478a-bd31-44fb5c84ee52",
   "metadata": {},
   "outputs": [],
   "source": [
    "Z = X*Y"
   ]
  },
  {
   "cell_type": "code",
   "execution_count": null,
   "id": "5298d715-678c-4497-9dcb-9348f1de232f",
   "metadata": {},
   "outputs": [],
   "source": [
    "X.children[Z]"
   ]
  },
  {
   "cell_type": "code",
   "execution_count": null,
   "id": "34e2fd59-de08-43fa-8b64-1a3e9db4c781",
   "metadata": {},
   "outputs": [],
   "source": [
    "f_ = X.children[Z]"
   ]
  },
  {
   "cell_type": "code",
   "execution_count": null,
   "id": "d3623c89-8da6-46ea-87f0-b34c14584b86",
   "metadata": {},
   "outputs": [],
   "source": [
    "Ω̄ = ones(size(Z)...)"
   ]
  },
  {
   "cell_type": "code",
   "execution_count": null,
   "id": "926b8360-d197-4ff1-abec-ce2b6ab6214a",
   "metadata": {},
   "outputs": [],
   "source": [
    "f_(Ω̄)"
   ]
  },
  {
   "cell_type": "code",
   "execution_count": null,
   "id": "06896d22-b3af-4e8e-867a-6c9a0d98c571",
   "metadata": {},
   "outputs": [],
   "source": [
    "Ω̄*Y.data'"
   ]
  },
  {
   "cell_type": "markdown",
   "id": "19b638b8-64e3-4285-b4d2-f17d0ee8c380",
   "metadata": {},
   "source": [
    "### Exercise 6\n",
    "Implement rules for `sum`, `+`, `-`, and  `abs2`."
   ]
  },
  {
   "cell_type": "code",
   "execution_count": null,
   "id": "5695c1e7-0605-497d-9beb-c51b7cc60c56",
   "metadata": {},
   "outputs": [],
   "source": []
  },
  {
   "cell_type": "markdown",
   "id": "145f8fd6-d49d-41ac-ab62-64cd46a8852e",
   "metadata": {
    "jp-MarkdownHeadingCollapsed": true,
    "tags": []
   },
   "source": [
    "#### Solution"
   ]
  },
  {
   "cell_type": "code",
   "execution_count": null,
   "id": "6bcdb0b5-8f25-4cff-ae3f-429e6c73b59a",
   "metadata": {},
   "outputs": [],
   "source": [
    "function Base.sum(x::TrackedArray)\n",
    "    z = track(sum(x.data))\n",
    "    x.children[z] = Δ -> Δ*ones(eltype(x), size(x)...)\n",
    "    z\n",
    "end\n",
    "\n",
    "function Base.:+(X::TrackedArray, Y::TrackedArray)\n",
    "    Z = track(X.data + Y.data)\n",
    "    X.children[Z] = Δ -> Δ\n",
    "    Y.children[Z] = Δ -> Δ\n",
    "    Z\n",
    "end\n",
    "\n",
    "function Base.:-(X::TrackedArray, Y::TrackedArray)\n",
    "    Z = track(X.data - Y.data)\n",
    "    X.children[Z] = Δ -> Δ\n",
    "    Y.children[Z] = Δ -> -Δ\n",
    "    Z\n",
    "end\n",
    "\n",
    "function Base.abs2(x::TrackedArray)\n",
    "    y = track(abs2.(x.data))\n",
    "    x.children[y] = Δ -> Δ .* 2x.data\n",
    "    y\n",
    "end\n"
   ]
  },
  {
   "cell_type": "markdown",
   "id": "9afb7602-2e56-492c-9937-7bbb74a81d16",
   "metadata": {},
   "source": [
    "# \n"
   ]
  },
  {
   "cell_type": "code",
   "execution_count": null,
   "id": "d2e7c18f-5528-4246-a41d-388d2e0c6689",
   "metadata": {},
   "outputs": [],
   "source": [
    "X = rand(2,3)\n",
    "Y = rand(3,2)\n",
    "function run()\n",
    "    Xv = track(X)\n",
    "    Yv = track(Y)\n",
    "    z = sum(Xv * Yv)\n",
    "    z.grad = 1.0\n",
    "    accum!(Yv)\n",
    "end"
   ]
  },
  {
   "cell_type": "code",
   "execution_count": null,
   "id": "22809b4c-81b9-4c04-b31b-0fc225cf313e",
   "metadata": {},
   "outputs": [],
   "source": [
    "@benchmark run()"
   ]
  },
  {
   "cell_type": "markdown",
   "id": "aff0c56f-0b2f-4114-9cb9-dd0683d4edec",
   "metadata": {},
   "source": [
    "####\n",
    "\n",
    "Even for this tiny example we are already 10 times faster than with the naively\n",
    "vectorized approach!\n",
    "\n",
    "In order to implement a full neural network we need two more rules. One for\n",
    "the non-linearity and one for concatentation of individual training points to\n",
    "a batch."
   ]
  },
  {
   "cell_type": "code",
   "execution_count": null,
   "id": "b79d3795-3e02-4b66-b399-790668480ef7",
   "metadata": {},
   "outputs": [],
   "source": [
    "σ(x::Real) = 1/(1+exp(-x))\n",
    "σ(x::AbstractArray) = σ.(x)\n",
    "function σ(x::TrackedArray)\n",
    "    z = track(σ(x.data))\n",
    "    d = z.data\n",
    "    x.children[z] = Δ -> Δ .* d .* (1 .- d)\n",
    "    z\n",
    "end\n",
    "\n",
    "function Base.hcat(xs::TrackedArray...)\n",
    "    y  = track(hcat(data.(xs)...))\n",
    "    stops  = cumsum([size(x,2) for x in xs])\n",
    "    starts = vcat([1], stops[1:end-1] .+ 1)\n",
    "    for (start,stop,x) in zip(starts,stops,xs)\n",
    "        x.children[y] = function (Δ)\n",
    "            δ = if ndims(x) == 1\n",
    "                Δ[:,start]\n",
    "            else\n",
    "                ds = map(_ -> :, size(x)) |> Base.tail |> Base.tail\n",
    "                Δ[:, start:stop, ds...]\n",
    "            end\n",
    "            δ\n",
    "        end\n",
    "    end\n",
    "    y\n",
    "end"
   ]
  },
  {
   "cell_type": "markdown",
   "id": "8334c965-45fd-413f-b3e6-9562dd16044f",
   "metadata": {},
   "source": [
    "You can see a full implementation of our tracing based AD [here](https://github.com/JuliaTeachingCTU/Scientific-Programming-in-Julia/blob/master/src/ReverseDiff.jl)\n",
    "and a simple implementation of a Neural Network that can learn an approximation\n",
    "to the function `g` [here](https://github.com/JuliaTeachingCTU/Scientific-Programming-in-Julia/blob/master/docs/src/lecture_08/reverse-nn.jl). Running the latter script will produce an animation\n",
    "that shows how the network is learning."
   ]
  },
  {
   "cell_type": "markdown",
   "id": "eb73326a-95d8-4314-9f5a-55811d49d407",
   "metadata": {},
   "source": [
    "<img src=\"anim.gif\" width=\"1300\" align=\"center\">"
   ]
  },
  {
   "cell_type": "code",
   "execution_count": null,
   "id": "7b3774f7-0ec9-4ae1-9be3-3e01f2c9d854",
   "metadata": {},
   "outputs": [],
   "source": []
  }
 ],
 "metadata": {
  "kernelspec": {
   "display_name": "Julia 1.7.3",
   "language": "julia",
   "name": "julia-1.7"
  },
  "language_info": {
   "file_extension": ".jl",
   "mimetype": "application/julia",
   "name": "julia",
   "version": "1.7.3"
  }
 },
 "nbformat": 4,
 "nbformat_minor": 5
}
