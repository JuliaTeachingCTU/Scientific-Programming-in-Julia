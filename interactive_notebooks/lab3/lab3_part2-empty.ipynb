{
 "cells": [
  {
   "cell_type": "markdown",
   "id": "3d97697f-2118-4565-adc7-d8e55b83c9fd",
   "metadata": {},
   "source": [
    "# Part II: A new, parametric type hierarchy\n",
    "\n",
    "First, let us note that there are two fundamentally different types of agents in\n",
    "our world: animals and plants. All species such as grass, sheep, wolves, etc.\n",
    "can be categorized as one of those two.  We can use Julia's powerful,\n",
    "*parametric* type system to define one large abstract type for all agents\n",
    "`Agent{S}`. The `Agent` will either be an `Animal` or a `Plant` with a type\n",
    "parameter `S` which will represent the specific animal/plant\n",
    "species we are dealing with.\n",
    "\n",
    "This new type hiearchy can then look like this:\n"
   ]
  },
  {
   "cell_type": "code",
   "execution_count": 1,
   "id": "b954e8d9-78df-4652-9d82-b134ef9d65c5",
   "metadata": {},
   "outputs": [],
   "source": [
    "abstract type Species end\n",
    "\n",
    "abstract type PlantSpecies <: Species end\n",
    "abstract type Grass <: PlantSpecies end\n",
    "\n",
    "abstract type AnimalSpecies <: Species end\n",
    "abstract type Sheep <: AnimalSpecies end\n",
    "abstract type Wolf <: AnimalSpecies end\n",
    "\n",
    "abstract type Agent{S<:Species} end\n",
    "\n",
    "# instead of Symbols we can use an Enum for the sex field\n",
    "# using an Enum here makes things easier to extend in case you\n",
    "# need more than just binary sexes and is also more explicit than\n",
    "# just a boolean\n",
    "@enum Sex female male"
   ]
  },
  {
   "cell_type": "code",
   "execution_count": 27,
   "id": "0bed5109-88b3-4a72-b740-9026225bcdc9",
   "metadata": {},
   "outputs": [],
   "source": [
    "mutable struct World{A<:Agent}\n",
    "    agents::Dict{Int,A}\n",
    "    max_id::Int\n",
    "end\n",
    "\n",
    "function World(agents::Vector{<:Agent})\n",
    "    max_id = maximum(a.id for a in agents)\n",
    "    World(Dict(a.id=>a for a in agents), max_id)\n",
    "end\n",
    "\n",
    "# optional: overload Base.show\n",
    "function Base.show(io::IO, w::World)\n",
    "    println(io, typeof(w))\n",
    "    for (_,a) in w.agents\n",
    "        println(io,\"  $a\")\n",
    "    end\n",
    "end"
   ]
  },
  {
   "cell_type": "markdown",
   "id": "a45ccd82-7cb2-467f-aa61-04c1a232c031",
   "metadata": {},
   "source": [
    "Now we can create a concrete type Animal with the two parametric types and the fields that we already know from lab 2."
   ]
  },
  {
   "cell_type": "code",
   "execution_count": 2,
   "id": "0e9b3a75-3b95-4683-a8f2-b1f30969f00d",
   "metadata": {},
   "outputs": [],
   "source": [
    "mutable struct Animal{A<:AnimalSpecies} <: Agent{A}\n",
    "    const id::Int\n",
    "    energy::Float64\n",
    "    const Δenergy::Float64\n",
    "    const reprprob::Float64\n",
    "    const foodprob::Float64\n",
    "    const sex::Sex\n",
    "end"
   ]
  },
  {
   "cell_type": "markdown",
   "id": "d56e6d6c-3fd3-49f2-9996-affbbd2a7ebc",
   "metadata": {},
   "source": [
    "To create an instance of Animal we have to specify the parametric type while constructing it"
   ]
  },
  {
   "cell_type": "code",
   "execution_count": 3,
   "id": "d8184994-28fa-4bf0-a2b6-732c3c706dc7",
   "metadata": {},
   "outputs": [
    {
     "data": {
      "text/plain": [
       "Animal{Wolf}(1, 5.0, 5.0, 1.0, 1.0, female)"
      ]
     },
     "execution_count": 3,
     "metadata": {},
     "output_type": "execute_result"
    }
   ],
   "source": [
    "Animal{Wolf}(1,5,5,1,1,female)\n",
    "Main.Animal{Main.Wolf}(1, 5.0, 5.0, 1.0, 1.0, Main.female)"
   ]
  },
  {
   "cell_type": "markdown",
   "id": "3c326485-6bf8-4ead-982d-2047352fb868",
   "metadata": {},
   "source": [
    "Note that we now automatically have animals of any species without additional work. Starting with the overload of the show method we can already see that we can abstract away a lot of repetitive work into the type system. We can implement one single show method for all animal species!"
   ]
  },
  {
   "cell_type": "markdown",
   "id": "86958526-d701-445b-8f29-deac2d3cc0b4",
   "metadata": {},
   "source": [
    "<div class=\"alert alert-block alert-success\">\n",
    "<b>Exercise:</b> \n",
    "\n",
    "Implement `Base.show(io::IO, a::Animal)` with a single method for all `Animal`s.\n",
    "You can get the pretty (unicode) printing of the `Species` types with\n",
    "another overload like this: `Base.show(io::IO, ::Type{Sheep}) = print(io,\"🐑\")`\n",
    "\n",
    "    \n",
    "</div>\n",
    "\n",
    "####"
   ]
  },
  {
   "cell_type": "markdown",
   "id": "a4294b38-0c3b-41b5-a93e-9668bdf42afc",
   "metadata": {},
   "source": [
    "<div class=\"alert alert-block alert-info\">\n",
    "<b>Solution</b>: </div>"
   ]
  },
  {
   "cell_type": "markdown",
   "id": "3694f02d-fc59-461d-9700-271612f6af62",
   "metadata": {
    "tags": []
   },
   "source": [
    "####"
   ]
  },
  {
   "cell_type": "code",
   "execution_count": 4,
   "id": "1b7732c1-0c57-4ccb-9188-178edd15b42d",
   "metadata": {},
   "outputs": [],
   "source": []
  },
  {
   "cell_type": "code",
   "execution_count": null,
   "id": "80b89fbb-bc3d-4467-a12b-67706bd39508",
   "metadata": {},
   "outputs": [],
   "source": []
  },
  {
   "cell_type": "markdown",
   "id": "dc0170fc-8da4-4d55-be7e-182e0d83279c",
   "metadata": {},
   "source": [
    "####"
   ]
  },
  {
   "cell_type": "markdown",
   "id": "16df29c9-c023-41e0-a6a4-aafa4dfd4b46",
   "metadata": {},
   "source": [
    "Unfortunately we have lost the convenience of creating plants and animals by simply calling their species constructor. For example, Sheep is just an abstract type that we cannot instantiate. However, we can manually define a new constructor that will give us this convenience back. This is done in exactly the same way as defining a constructor for a concrete type:"
   ]
  },
  {
   "cell_type": "code",
   "execution_count": 5,
   "id": "52f6d9af-8886-4662-9952-3dd20c35f2da",
   "metadata": {},
   "outputs": [],
   "source": [
    "#Sheep(id,E,ΔE,pr,pf,s=rand(Sex)) = Animal{Sheep}(id,E,ΔE,pr,pf,s)"
   ]
  },
  {
   "cell_type": "markdown",
   "id": "b453d50b-859c-4681-8167-0d41d115db0a",
   "metadata": {},
   "source": [
    "Ok, so we have a constructor for Sheep now. But what about all the other billions of species that you want to define in your huge master thesis project of ecosystem simulations? Do you have to write them all by hand? Do not despair! Julia has you covered."
   ]
  },
  {
   "cell_type": "markdown",
   "id": "ee68aa1b-a1c5-4887-9ed6-b0789c28034a",
   "metadata": {},
   "source": [
    "<div class=\"alert alert-block alert-success\">\n",
    "<b>Exercise:</b> \n",
    "\n",
    "Overload all `AnimalSpecies` types with a constructor.\n",
    "You already know how to write constructors for specific types such as `Sheep`.\n",
    "Can you manage to sneak in a type variable? Maybe with `Type`?\n",
    "    \n",
    "</div>\n",
    "\n",
    "####"
   ]
  },
  {
   "cell_type": "markdown",
   "id": "3e239f9c-a458-4896-bac3-86846ed0a786",
   "metadata": {},
   "source": [
    "<div class=\"alert alert-block alert-info\">\n",
    "<b>Solution</b>: </div>"
   ]
  },
  {
   "cell_type": "markdown",
   "id": "9d28f053-63cd-4f89-8797-2f8d74d35137",
   "metadata": {
    "tags": []
   },
   "source": [
    "####"
   ]
  },
  {
   "cell_type": "code",
   "execution_count": 6,
   "id": "751e08e1-d382-4af2-b8bb-f9c7e7bf2afc",
   "metadata": {},
   "outputs": [],
   "source": []
  },
  {
   "cell_type": "code",
   "execution_count": 1,
   "id": "cca0b6d7-5429-4b56-ac5b-ccd246f78759",
   "metadata": {},
   "outputs": [],
   "source": [
    "# get the per species defaults back\n"
   ]
  },
  {
   "cell_type": "code",
   "execution_count": 8,
   "id": "2c2fcd7b-a2d7-4ff4-904a-d9af2b51f5d6",
   "metadata": {},
   "outputs": [
    {
     "data": {
      "text/plain": [
       "🐑"
      ]
     },
     "execution_count": 8,
     "metadata": {},
     "output_type": "execute_result"
    }
   ],
   "source": []
  },
  {
   "cell_type": "code",
   "execution_count": 9,
   "id": "729e6fc2-b283-49d9-93a1-0d9188237ea8",
   "metadata": {},
   "outputs": [
    {
     "data": {
      "text/plain": [
       "🐺"
      ]
     },
     "execution_count": 9,
     "metadata": {},
     "output_type": "execute_result"
    }
   ],
   "source": []
  },
  {
   "cell_type": "markdown",
   "id": "b037e637-1d84-4dc5-88ed-759eac0032e8",
   "metadata": {},
   "source": [
    "####"
   ]
  },
  {
   "cell_type": "markdown",
   "id": "9e7be2ef-3be6-46c7-9d1e-52e77d12f967",
   "metadata": {},
   "source": [
    "We have our convenient, high-level behaviour back!"
   ]
  },
  {
   "cell_type": "code",
   "execution_count": 15,
   "id": "e16b6a86-4b20-4ee2-b1db-42a2b957b890",
   "metadata": {},
   "outputs": [
    {
     "data": {
      "text/plain": [
       "female::Sex = 0"
      ]
     },
     "execution_count": 15,
     "metadata": {},
     "output_type": "execute_result"
    }
   ],
   "source": [
    "randsex()"
   ]
  },
  {
   "cell_type": "code",
   "execution_count": 17,
   "id": "6be151ca-8c50-41c0-bcfa-748a67490e2b",
   "metadata": {},
   "outputs": [
    {
     "data": {
      "text/plain": [
       "🐑♂ #1 E=4.0 ΔE=0.2 pr=0.8 pf=0.6"
      ]
     },
     "execution_count": 17,
     "metadata": {},
     "output_type": "execute_result"
    }
   ],
   "source": [
    "Sheep(1)"
   ]
  },
  {
   "cell_type": "code",
   "execution_count": 18,
   "id": "be776909-d343-407f-b2b8-4dd2c7a8c5e8",
   "metadata": {},
   "outputs": [
    {
     "data": {
      "text/plain": [
       "🐺♂ #2 E=10.0 ΔE=8.0 pr=0.1 pf=0.2"
      ]
     },
     "execution_count": 18,
     "metadata": {},
     "output_type": "execute_result"
    }
   ],
   "source": [
    "Wolf(2)"
   ]
  },
  {
   "cell_type": "markdown",
   "id": "da97ce8d-fe74-48bb-b04b-7ae5015d3168",
   "metadata": {},
   "source": [
    "<div class=\"alert alert-block alert-success\">\n",
    "<b>Exercise:</b> \n",
    "\n",
    "Check the methods for `eat!` and `kill_agent!` which involve `Animal`s and update\n",
    "their type signatures such that they work for the new type hiearchy.\n",
    "    \n",
    "</div>\n",
    "\n",
    "####"
   ]
  },
  {
   "cell_type": "markdown",
   "id": "ba19ac34-1c7b-4e4a-94c4-a6f2dcadcd1e",
   "metadata": {},
   "source": [
    "<div class=\"alert alert-block alert-info\">\n",
    "<b>Solution</b>: </div>"
   ]
  },
  {
   "cell_type": "markdown",
   "id": "f9334355-9f09-4904-b8ca-a67fd2fcc6de",
   "metadata": {
    "tags": []
   },
   "source": [
    "####"
   ]
  },
  {
   "cell_type": "code",
   "execution_count": null,
   "id": "04d9ceaf-9f64-4055-90cb-27aba912151e",
   "metadata": {},
   "outputs": [],
   "source": []
  },
  {
   "cell_type": "code",
   "execution_count": null,
   "id": "c20571bb-3889-4e70-9b71-1f00ab101391",
   "metadata": {},
   "outputs": [],
   "source": []
  },
  {
   "cell_type": "code",
   "execution_count": null,
   "id": "381a6a4e-dbb0-4c37-9ec6-318058cdc7ca",
   "metadata": {},
   "outputs": [],
   "source": []
  },
  {
   "cell_type": "markdown",
   "id": "b4761422-df57-45e6-9fd4-a67ec2705b6d",
   "metadata": {},
   "source": [
    "####"
   ]
  },
  {
   "cell_type": "markdown",
   "id": "18dcf7b5-ed5d-404f-9fa9-1783ec2bef88",
   "metadata": {},
   "source": [
    "<div class=\"alert alert-block alert-success\">\n",
    "<b>Exercise:</b> \n",
    "\n",
    "Finally, we can implement the new behaviour for `reproduce!` which we wanted.\n",
    "Build a function which first finds an animal species of opposite sex and then\n",
    "lets the two reproduce (same behaviour as before).\n",
    "\n",
    "    \n",
    "</div>\n",
    "\n",
    "####"
   ]
  },
  {
   "cell_type": "markdown",
   "id": "5c3d0795-5070-40a3-bd85-f3939e518069",
   "metadata": {},
   "source": [
    "<div class=\"alert alert-block alert-info\">\n",
    "<b>Solution</b>: </div>"
   ]
  },
  {
   "cell_type": "markdown",
   "id": "502f08e1-8bc0-450e-8185-4ece01f2e75c",
   "metadata": {
    "tags": []
   },
   "source": [
    "####"
   ]
  },
  {
   "cell_type": "code",
   "execution_count": null,
   "id": "bda1c7ef-4b1b-427c-86dc-f10cd3ab6710",
   "metadata": {},
   "outputs": [],
   "source": []
  },
  {
   "cell_type": "code",
   "execution_count": null,
   "id": "4029221a-b55b-4d33-87b2-981f158f9e02",
   "metadata": {},
   "outputs": [],
   "source": []
  },
  {
   "cell_type": "code",
   "execution_count": null,
   "id": "06ab1503-8ff3-4527-adcc-b1e2d9a353a9",
   "metadata": {},
   "outputs": [],
   "source": []
  },
  {
   "cell_type": "markdown",
   "id": "2bf7ecbd-936d-498c-8e5b-e17bc9e9dfd1",
   "metadata": {},
   "source": [
    "####"
   ]
  },
  {
   "cell_type": "code",
   "execution_count": 23,
   "id": "c4608c22-6977-4b1d-b958-703be8a203e1",
   "metadata": {},
   "outputs": [
    {
     "data": {
      "text/plain": [
       "🐑♀ #1 E=4.0 ΔE=0.2 pr=0.8 pf=0.6"
      ]
     },
     "execution_count": 23,
     "metadata": {},
     "output_type": "execute_result"
    }
   ],
   "source": [
    "s1 = Sheep(1, s=female)"
   ]
  },
  {
   "cell_type": "code",
   "execution_count": 24,
   "id": "211868d6-3b7c-4bf4-a225-ba906025cddf",
   "metadata": {},
   "outputs": [
    {
     "data": {
      "text/plain": [
       "🐑♂ #2 E=4.0 ΔE=0.2 pr=0.8 pf=0.6"
      ]
     },
     "execution_count": 24,
     "metadata": {},
     "output_type": "execute_result"
    }
   ],
   "source": [
    "s2 = Sheep(2, s=male)"
   ]
  },
  {
   "cell_type": "code",
   "execution_count": 30,
   "id": "7caf490d-3671-420d-be23-a54e13d29856",
   "metadata": {},
   "outputs": [
    {
     "data": {
      "text/plain": [
       "World{Animal{🐑}}\n",
       "  🐑♂ #2 E=4.0 ΔE=0.2 pr=0.8 pf=0.6\n",
       "  🐑♀ #1 E=4.0 ΔE=0.2 pr=0.8 pf=0.6\n"
      ]
     },
     "execution_count": 30,
     "metadata": {},
     "output_type": "execute_result"
    }
   ],
   "source": [
    "w  = World([s1, s2])"
   ]
  },
  {
   "cell_type": "code",
   "execution_count": 31,
   "id": "ae333e17-c312-479a-b30d-c71c3bf67c2f",
   "metadata": {},
   "outputs": [
    {
     "data": {
      "text/plain": [
       "World{Animal{🐑}}\n",
       "  🐑♂ #2 E=4.0 ΔE=0.2 pr=0.8 pf=0.6\n",
       "  🐑♀ #3 E=2.0 ΔE=0.2 pr=0.8 pf=0.6\n",
       "  🐑♀ #1 E=2.0 ΔE=0.2 pr=0.8 pf=0.6\n"
      ]
     },
     "execution_count": 31,
     "metadata": {},
     "output_type": "execute_result"
    }
   ],
   "source": [
    "reproduce!(s1, w); w"
   ]
  },
  {
   "cell_type": "markdown",
   "id": "8dea199c-155b-4e21-87c5-6c05c69bb02c",
   "metadata": {},
   "source": [
    "<div class=\"alert alert-block alert-success\">\n",
    "<b>Exercise:</b> \n",
    "\n",
    "Implement the type hiearchy we designed for `Plant`s as well.\n",
    "\n",
    "</div>\n",
    "\n",
    "####"
   ]
  },
  {
   "cell_type": "markdown",
   "id": "018a27ef-3df2-4a07-9da4-37d1417e6669",
   "metadata": {},
   "source": [
    "<div class=\"alert alert-block alert-info\">\n",
    "<b>Solution</b>: </div>"
   ]
  },
  {
   "cell_type": "markdown",
   "id": "61e3a73e-3587-4088-bcdd-4620d62e0050",
   "metadata": {},
   "source": [
    "####"
   ]
  },
  {
   "cell_type": "code",
   "execution_count": 32,
   "id": "5c2caa86-ddda-4bd5-9fe5-c302e8b5d912",
   "metadata": {},
   "outputs": [],
   "source": []
  },
  {
   "cell_type": "code",
   "execution_count": 2,
   "id": "586d2e8c-f426-4a38-af20-af5ba4f15c30",
   "metadata": {},
   "outputs": [],
   "source": [
    "# constructor for all Plant{<:PlantSpecies} callable as PlantSpecies(...)\n"
   ]
  },
  {
   "cell_type": "code",
   "execution_count": 3,
   "id": "be5877a3-98d9-4451-b566-2eb31deea993",
   "metadata": {},
   "outputs": [],
   "source": [
    "# default specific for Grass\n"
   ]
  },
  {
   "cell_type": "code",
   "execution_count": 35,
   "id": "dd339fb5-2634-42e5-8c7e-eedfcf2a34b3",
   "metadata": {},
   "outputs": [],
   "source": []
  },
  {
   "cell_type": "code",
   "execution_count": 36,
   "id": "6f1277b5-5104-4520-a06e-c139dca127a2",
   "metadata": {},
   "outputs": [],
   "source": []
  },
  {
   "cell_type": "code",
   "execution_count": null,
   "id": "671b0f7d-b933-449a-9285-839204754bbe",
   "metadata": {},
   "outputs": [],
   "source": []
  },
  {
   "cell_type": "code",
   "execution_count": null,
   "id": "6531c56a-fadd-4d2a-a93b-ab9e4bc7345a",
   "metadata": {},
   "outputs": [],
   "source": []
  },
  {
   "cell_type": "markdown",
   "id": "c63ca2b8-bf15-4995-b4af-171327f63b97",
   "metadata": {},
   "source": [
    "####"
   ]
  },
  {
   "cell_type": "code",
   "execution_count": 39,
   "id": "e2c50c67-c93e-4e68-8e61-4c988d03c055",
   "metadata": {},
   "outputs": [
    {
     "data": {
      "text/plain": [
       "🌿  #2 10% grown"
      ]
     },
     "execution_count": 39,
     "metadata": {},
     "output_type": "execute_result"
    }
   ],
   "source": [
    "g = Grass(2)"
   ]
  },
  {
   "cell_type": "code",
   "execution_count": 40,
   "id": "1610b5ab-6810-4245-80b5-ad7c6de5def8",
   "metadata": {},
   "outputs": [
    {
     "data": {
      "text/plain": [
       "🐑♀ #3 E=4.0 ΔE=0.2 pr=0.8 pf=0.6"
      ]
     },
     "execution_count": 40,
     "metadata": {},
     "output_type": "execute_result"
    }
   ],
   "source": [
    "s = Sheep(3)"
   ]
  },
  {
   "cell_type": "code",
   "execution_count": 41,
   "id": "260b96ab-6f9d-4367-ba82-e9c51ef164e2",
   "metadata": {},
   "outputs": [
    {
     "data": {
      "text/plain": [
       "World{Agent}\n",
       "  🌿  #2 10% grown\n",
       "  🐑♀ #3 E=4.0 ΔE=0.2 pr=0.8 pf=0.6\n"
      ]
     },
     "execution_count": 41,
     "metadata": {},
     "output_type": "execute_result"
    }
   ],
   "source": [
    "w = World([g,s])"
   ]
  },
  {
   "cell_type": "code",
   "execution_count": 42,
   "id": "68459611-16c2-4423-a414-2d3ca71a9d67",
   "metadata": {},
   "outputs": [
    {
     "data": {
      "text/plain": [
       "World{Agent}\n",
       "  🌿  #2 0% grown\n",
       "  🐑♀ #3 E=4.2 ΔE=0.2 pr=0.8 pf=0.6\n"
      ]
     },
     "execution_count": 42,
     "metadata": {},
     "output_type": "execute_result"
    }
   ],
   "source": [
    "eat!(s,g,w); w"
   ]
  },
  {
   "cell_type": "code",
   "execution_count": null,
   "id": "52ecb917-3377-423e-9f46-d86ab3c0d643",
   "metadata": {},
   "outputs": [],
   "source": []
  },
  {
   "cell_type": "code",
   "execution_count": null,
   "id": "73102df5-6ad6-4f7b-be33-29d73dc36514",
   "metadata": {},
   "outputs": [],
   "source": []
  }
 ],
 "metadata": {
  "kernelspec": {
   "display_name": "Julia 1.10.0",
   "language": "julia",
   "name": "julia-1.10"
  },
  "language_info": {
   "file_extension": ".jl",
   "mimetype": "application/julia",
   "name": "julia",
   "version": "1.10.0"
  }
 },
 "nbformat": 4,
 "nbformat_minor": 5
}
