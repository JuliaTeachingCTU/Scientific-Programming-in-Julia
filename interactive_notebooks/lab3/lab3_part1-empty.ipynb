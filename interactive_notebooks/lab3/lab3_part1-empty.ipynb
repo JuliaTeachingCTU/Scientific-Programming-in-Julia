{
 "cells": [
  {
   "cell_type": "markdown",
   "id": "4de33273-942a-418c-b8e9-d3d50c1d9342",
   "metadata": {
    "tags": []
   },
   "source": [
    "# Lab 2: Predator-Prey Agents\n",
    "\n",
    "In this lab we will look at two different ways of extending our agent simulation to take into account that animals can have two different sexes: female and male.\n",
    "\n",
    "In the first part of the lab you will re-use the code from [lab 2](@ref lab02) and create a new type of sheep (⚥Sheep) which has an additional field sex. In the second part you will redesign the type hierarchy from scratch using parametric types to make this agent system much more flexible and julian.\n",
    "\n",
    "## Part I: Female & Male Sheep\n",
    "\n",
    "The code from lab 2 that you will need in the first part of this lab can be\n",
    "found [here](https://github.com/JuliaTeachingCTU/Scientific-Programming-in-Julia/blob/master/docs/src/lecture_02/Lab02Ecosystem.jl).\n",
    "\n",
    "The goal of the first part of the lab is to demonstrate the *forwarding method*\n",
    "(which is close to how things are done in OOP) by implementing a sheep that can\n",
    "have two different sexes and can only reproduce with another sheep of opposite sex.\n",
    "\n",
    "This new type of sheep needs an additonal field `sex::Symbol` which can be either\n",
    "`:male` or `:female`.\n",
    "In OOP we would simply inherit from `Sheep` and create a `⚥Sheep`\n",
    "with an additional field. In Julia there is no inheritance - only subtyping of\n",
    "abstract types.\n",
    "As you cannot inherit from a concrete type in Julia, we will have to create a\n",
    "wrapper type and forward all necessary methods. This is typically a sign of\n",
    "unfortunate type tree design and should be avoided, but if you want to extend a\n",
    "code base by an unforeseen type this forwarding of methods is a nice\n",
    "work-around.  Our `⚥Sheep` type will simply contain a classic `sheep` and a\n",
    "`sex` field"
   ]
  },
  {
   "cell_type": "code",
   "execution_count": 10,
   "id": "b2007bb3-05bf-4c62-a7b6-32ce4310d6eb",
   "metadata": {},
   "outputs": [
    {
     "data": {
      "text/plain": [
       "reproduce! (generic function with 1 method)"
      ]
     },
     "execution_count": 10,
     "metadata": {},
     "output_type": "execute_result"
    }
   ],
   "source": [
    "include(joinpath(\"/Users/ghosty/AI_Center/Scientific-Programming-in-Julia/docs/\",\"src\",\"lecture_02\",\"Lab02Ecosystem.jl\"))"
   ]
  },
  {
   "cell_type": "code",
   "execution_count": 14,
   "id": "dfac81a1-e041-48d4-a4d2-f293e152f89a",
   "metadata": {},
   "outputs": [
    {
     "data": {
      "text/plain": [
       "⚥Sheep"
      ]
     },
     "execution_count": 14,
     "metadata": {},
     "output_type": "execute_result"
    }
   ],
   "source": [
    "struct ⚥Sheep <: Animal\n",
    "    sheep::Sheep\n",
    "    sex::Symbol\n",
    "end\n",
    "\n",
    "⚥Sheep(id, e=4.0, Δe=0.2, pr=0.8, pf=0.6, sex=rand(Bool) ? :female : :male) = ⚥Sheep(Sheep(id,e,Δe,pr,pf),sex)"
   ]
  },
  {
   "cell_type": "code",
   "execution_count": 15,
   "id": "59b95a6e-3d41-421e-96a8-5546c517a9d8",
   "metadata": {},
   "outputs": [
    {
     "data": {
      "text/plain": [
       "⚥Sheep(🐑 #1 E=4.0 ΔE=0.2 pr=0.8 pf=0.6, :female)"
      ]
     },
     "execution_count": 15,
     "metadata": {},
     "output_type": "execute_result"
    }
   ],
   "source": [
    "sheep = ⚥Sheep(1)"
   ]
  },
  {
   "cell_type": "code",
   "execution_count": 16,
   "id": "7b84ff3f-702a-46a4-b720-5637494381bb",
   "metadata": {},
   "outputs": [
    {
     "data": {
      "text/plain": [
       "🐑 #1 E=4.0 ΔE=0.2 pr=0.8 pf=0.6"
      ]
     },
     "execution_count": 16,
     "metadata": {},
     "output_type": "execute_result"
    }
   ],
   "source": [
    "sheep.sheep"
   ]
  },
  {
   "cell_type": "code",
   "execution_count": 17,
   "id": "fca63308-132a-44a6-93a8-69e98821de3f",
   "metadata": {},
   "outputs": [
    {
     "data": {
      "text/plain": [
       ":female"
      ]
     },
     "execution_count": 17,
     "metadata": {},
     "output_type": "execute_result"
    }
   ],
   "source": [
    "sheep.sex"
   ]
  },
  {
   "cell_type": "markdown",
   "id": "e74882cd-c2f5-4585-a876-21540ce8aa42",
   "metadata": {},
   "source": [
    "Instead of littering the whole code with custom getters/setters Julia allows us\n",
    "to overload the `sheep.field` behaviour by implementing custom\n",
    "`getproperty`/`setproperty!` methods."
   ]
  },
  {
   "cell_type": "markdown",
   "id": "8edfec6a-79c3-4d22-9626-89de1f28e619",
   "metadata": {},
   "source": [
    "<div class=\"alert alert-block alert-success\">\n",
    "<b>Exercise:</b> \n",
    "\n",
    "Implement custom `getproperty`/`setproperty!` methods which allow to access the\n",
    "`Sheep` inside the `⚥Sheep` as if we would not be wrapping it.\n",
    "    \n",
    "</div>\n",
    "\n",
    "####"
   ]
  },
  {
   "cell_type": "markdown",
   "id": "30de7207-e287-4f87-a43b-2945aa6d5151",
   "metadata": {},
   "source": [
    "<div class=\"alert alert-block alert-info\">\n",
    "<b>Solution</b>: </div>"
   ]
  },
  {
   "cell_type": "markdown",
   "id": "df9b5ed0-1f95-4742-a701-ddf74242da47",
   "metadata": {
    "tags": []
   },
   "source": [
    "####"
   ]
  },
  {
   "cell_type": "code",
   "execution_count": 20,
   "id": "743004f3-4ab4-441c-9f80-add35a88087a",
   "metadata": {},
   "outputs": [],
   "source": []
  },
  {
   "cell_type": "code",
   "execution_count": 21,
   "id": "646248be-9acd-429a-83f7-f49864fd7d7f",
   "metadata": {},
   "outputs": [],
   "source": []
  },
  {
   "cell_type": "markdown",
   "id": "f1129bd6-ae71-4403-8a09-018b5f0cff9b",
   "metadata": {},
   "source": [
    "####"
   ]
  },
  {
   "cell_type": "markdown",
   "id": "4135b956-5ba4-4917-a5d1-e618715f2faf",
   "metadata": {},
   "source": [
    "You should be able to do the following with your overloads now"
   ]
  },
  {
   "cell_type": "code",
   "execution_count": 22,
   "id": "a5b49bb2-424f-4264-b0b2-af5eff76d6f9",
   "metadata": {},
   "outputs": [
    {
     "data": {
      "text/plain": [
       "⚥Sheep(🐑 #1 E=4.0 ΔE=0.2 pr=0.8 pf=0.6, :female)"
      ]
     },
     "execution_count": 22,
     "metadata": {},
     "output_type": "execute_result"
    }
   ],
   "source": [
    "sheep = ⚥Sheep(1)"
   ]
  },
  {
   "cell_type": "code",
   "execution_count": 23,
   "id": "575b83b0-eb80-444b-ab81-4f66ada43cc5",
   "metadata": {},
   "outputs": [
    {
     "data": {
      "text/plain": [
       "1"
      ]
     },
     "execution_count": 23,
     "metadata": {},
     "output_type": "execute_result"
    }
   ],
   "source": [
    "sheep.id"
   ]
  },
  {
   "cell_type": "code",
   "execution_count": 24,
   "id": "900b5afe-713e-4885-90a7-680037ac3daa",
   "metadata": {},
   "outputs": [
    {
     "data": {
      "text/plain": [
       ":female"
      ]
     },
     "execution_count": 24,
     "metadata": {},
     "output_type": "execute_result"
    }
   ],
   "source": [
    "sheep.sex"
   ]
  },
  {
   "cell_type": "code",
   "execution_count": 25,
   "id": "1da3261d-178d-4738-bdf9-0548570885d6",
   "metadata": {},
   "outputs": [
    {
     "data": {
      "text/plain": [
       "5.0"
      ]
     },
     "execution_count": 25,
     "metadata": {},
     "output_type": "execute_result"
    }
   ],
   "source": [
    "sheep.energy += 1"
   ]
  },
  {
   "cell_type": "code",
   "execution_count": 26,
   "id": "dcf4e545-e250-4c0c-95b4-3f52f72d0f20",
   "metadata": {},
   "outputs": [
    {
     "data": {
      "text/plain": [
       "⚥Sheep(🐑 #1 E=5.0 ΔE=0.2 pr=0.8 pf=0.6, :female)"
      ]
     },
     "execution_count": 26,
     "metadata": {},
     "output_type": "execute_result"
    }
   ],
   "source": [
    "sheep"
   ]
  },
  {
   "cell_type": "markdown",
   "id": "e6326d8d-5084-44be-81cb-d30fc122a6cf",
   "metadata": {},
   "source": [
    "In order to make the `⚥Sheep` work with the rest of the code we only have\n",
    "to forward the `eat!` method"
   ]
  },
  {
   "cell_type": "code",
   "execution_count": 27,
   "id": "cf1ef77a-3757-4eab-b507-efa8587c3900",
   "metadata": {},
   "outputs": [],
   "source": [
    "eat!(s::⚥Sheep, food, world) = eat!(s.sheep, food, world);"
   ]
  },
  {
   "cell_type": "code",
   "execution_count": 28,
   "id": "6cd68138-51ff-49cb-bbd2-f8c0f078f54b",
   "metadata": {},
   "outputs": [],
   "source": [
    "sheep = ⚥Sheep(1);\n",
    "grass = Grass(2);"
   ]
  },
  {
   "cell_type": "code",
   "execution_count": 29,
   "id": "ec8e7928-5842-4472-9dc8-44904e929eab",
   "metadata": {},
   "outputs": [
    {
     "data": {
      "text/plain": [
       "World{Agent}\n",
       "  🌿 #2 80% grown\n",
       "  ⚥Sheep(🐑 #1 E=4.0 ΔE=0.2 pr=0.8 pf=0.6, :female)\n"
      ]
     },
     "execution_count": 29,
     "metadata": {},
     "output_type": "execute_result"
    }
   ],
   "source": [
    "world = World([sheep,grass])"
   ]
  },
  {
   "cell_type": "code",
   "execution_count": 30,
   "id": "e1f76109-bbda-4c2b-b693-899d742c63a1",
   "metadata": {},
   "outputs": [
    {
     "data": {
      "text/plain": [
       "0"
      ]
     },
     "execution_count": 30,
     "metadata": {},
     "output_type": "execute_result"
    }
   ],
   "source": [
    "eat!(sheep, grass, world)"
   ]
  },
  {
   "cell_type": "markdown",
   "id": "9f94e508-cbf7-4326-a194-7bf33e015432",
   "metadata": {},
   "source": [
    "and implement a custom `reproduce!` method with the behaviour that we want.\n",
    "\n",
    "However, the extension of `Sheep` to `⚥Sheep` is a very object-oriented approach.\n",
    "With a little bit of rethinking, we can build a much more elegant solution that\n",
    "makes use of Julia's powerful parametric types."
   ]
  }
 ],
 "metadata": {
  "kernelspec": {
   "display_name": "Julia 1.10.0",
   "language": "julia",
   "name": "julia-1.10"
  },
  "language_info": {
   "file_extension": ".jl",
   "mimetype": "application/julia",
   "name": "julia",
   "version": "1.10.0"
  }
 },
 "nbformat": 4,
 "nbformat_minor": 5
}
