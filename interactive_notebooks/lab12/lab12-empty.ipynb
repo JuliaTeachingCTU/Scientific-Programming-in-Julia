{
 "cells": [
  {
   "cell_type": "markdown",
   "id": "5e8b8e92-08be-42e3-b11b-8ad8576c367d",
   "metadata": {},
   "source": [
    "Install all needed libraries"
   ]
  },
  {
   "cell_type": "code",
   "execution_count": null,
   "id": "72975c2f-a5bd-450e-8ae2-42475a48f2cf",
   "metadata": {},
   "outputs": [],
   "source": [
    "using Pkg\n",
    "Pkg.add(\"Zygote\")\n",
    "Pkg.add(\"Plots\")\n",
    "Pkg.add(\"JLD2\")"
   ]
  },
  {
   "cell_type": "markdown",
   "id": "f2ce1711-b878-44e4-af90-272ae12501d7",
   "metadata": {},
   "source": [
    "# Lab 12 - Differential Equations\n",
    "\n",
    "In this lab you will implement a simple solver for *ordinary differential\n",
    "equations* (ODE) as well as a less verbose version of the `GaussNum`s that were\n",
    "introduced in the lecture.\n",
    "\n",
    "## Euler ODE Solver\n",
    "\n",
    "In this first part you will implement your own, simple, ODE framwork (feel free\n",
    "to make it a package;) in which you can easily specify different ODE solvers.\n",
    "The API is heavily inspired by [`DifferentialEquations.jl`](https://diffeq.sciml.ai/stable/),\n",
    "so if you ever need to use it, you will already have a feeling for how it works.\n",
    "\n",
    "Like in the lecture, we want to be able to specify an ODE like below."
   ]
  },
  {
   "cell_type": "code",
   "execution_count": null,
   "id": "854f0011-5df3-486a-bca6-a9921164553f",
   "metadata": {},
   "outputs": [],
   "source": [
    "function lotkavolterra(x,θ)\n",
    "    α, β, γ, δ = θ\n",
    "    x₁, x₂ = x\n",
    "\n",
    "    dx₁ = α*x₁ - β*x₁*x₂\n",
    "    dx₂ = δ*x₁*x₂ - γ*x₂\n",
    "\n",
    "    [dx₁, dx₂]\n",
    "end"
   ]
  },
  {
   "cell_type": "markdown",
   "id": "fee90cf3-cc71-441e-b21f-56d0df8b93cc",
   "metadata": {},
   "source": [
    "In the lecture we then solved it with a `solve` function that received all necessary\n",
    "arguments to fully specify how the ODE should be solved. The number of necessary arguments\n",
    "to `solve` can quickly become very large, so we will introduce a new API for `solve`\n",
    "which will always take only two arguments: `solve(::ODEProblem, ::ODESolver)`.\n",
    "The `solve` function will only do some book-keeping and call the solver until\n",
    "the ODE is solved for the full `tspan`.\n",
    "\n",
    "The `ODEProblem` will contain all necessary parameters to fully specify the ODE\n",
    "that should be solved. In our case that is the function `f` that defines the\n",
    "ODE itself, initial conditions `u0`, ODE parameters `θ`, and the time domain of\n",
    "the ODE `tspan`:"
   ]
  },
  {
   "cell_type": "code",
   "execution_count": null,
   "id": "042e6b7a-55c3-4536-8616-9160a67adaf1",
   "metadata": {},
   "outputs": [],
   "source": [
    "struct ODEProblem{F,T<:Tuple{Number,Number},U<:AbstractVector,P<:AbstractVector}\n",
    "    f::F\n",
    "    tspan::T\n",
    "    u0::U\n",
    "    θ::P\n",
    "end"
   ]
  },
  {
   "cell_type": "markdown",
   "id": "b7fd1a23-dad8-4928-9c13-5688c90be33a",
   "metadata": {},
   "source": [
    "The solvers will all be subtyping the abstract type `ODESolver`. The `Euler` solver\n",
    "from the lecture will need one field `dt` which specifies its time step:"
   ]
  },
  {
   "cell_type": "code",
   "execution_count": null,
   "id": "f88b097e-acce-45d3-916f-61137bf2d01a",
   "metadata": {},
   "outputs": [],
   "source": [
    "abstract type ODESolver end\n",
    "\n",
    "struct Euler{T} <: ODESolver\n",
    "    dt::T\n",
    "end"
   ]
  },
  {
   "cell_type": "markdown",
   "id": "015482be-e152-4002-9023-2059b73ac4a2",
   "metadata": {},
   "source": [
    "<div class=\"alert alert-block alert-success\">\n",
    "<b>Exercise:</b> \n",
    "    \n",
    "Overload the call-method of `Euler`\n",
    "```julia\n",
    "(solver::Euler)(prob::ODEProblem, u, t)\n",
    "```\n",
    "such that calling the solver with an `ODEProblem` will perform one step of the\n",
    "Euler solver and return updated ODE varialbes `u1` and the corresponding\n",
    "timestep `t1`.\n",
    "</div>\n"
   ]
  },
  {
   "cell_type": "markdown",
   "id": "6fc9ce41-b1b6-4a75-a231-84d364cd048f",
   "metadata": {},
   "source": [
    "<div class=\"alert alert-block alert-info\">\n",
    "<b>Solution</b>: </div>"
   ]
  },
  {
   "cell_type": "code",
   "execution_count": null,
   "id": "55903446-ad1e-4029-9bcb-cb7ca9d0fda3",
   "metadata": {},
   "outputs": [],
   "source": []
  },
  {
   "cell_type": "code",
   "execution_count": null,
   "id": "adf45f68-a390-4e99-8b26-475a084c3f26",
   "metadata": {},
   "outputs": [],
   "source": [
    "# define ODEProblem\n",
    "θ = [0.1,0.2,0.3,0.2]\n",
    "u0 = [1.0,1.0]\n",
    "tspan = (0.,100.)\n",
    "prob = ODEProblem(lotkavolterra,tspan,u0,θ)\n",
    "\n",
    "# run one solver step\n",
    "solver = Euler(0.2)\n",
    "(u1,t1) = solver(prob,u0,0.)\n"
   ]
  },
  {
   "cell_type": "markdown",
   "id": "ee5560f8-5a62-49b9-9c92-6333f52e4107",
   "metadata": {},
   "source": [
    "<div class=\"alert alert-block alert-success\">\n",
    "<b>Exercise:</b> \n",
    "    \n",
    "Implement the function `solve(::ODEProblem,::ODESolver)` which calls the solver\n",
    "as many times as are necessary to solve the ODE for the full time domain.\n",
    "`solve` should return a vector of timesteps and a corresponding matrix of\n",
    "variables.\n",
    "</div>"
   ]
  },
  {
   "cell_type": "markdown",
   "id": "cd37fabc-3619-4003-b3e8-53b4cf7e95d4",
   "metadata": {},
   "source": [
    "<div class=\"alert alert-block alert-info\">\n",
    "<b>Solution</b>: </div>"
   ]
  },
  {
   "cell_type": "code",
   "execution_count": null,
   "id": "1b4be482-e3ba-495e-b69d-c430d7853e49",
   "metadata": {},
   "outputs": [],
   "source": []
  },
  {
   "cell_type": "markdown",
   "id": "23f53c90-14e3-45c7-8700-84f30c70f500",
   "metadata": {},
   "source": [
    "You can load the true solution and compare it in a plot like below.  The file\n",
    "that contains the correct solution is located here:\n",
    "[`lotkadata.jld2`](https://github.com/JuliaTeachingCTU/Scientific-Programming-in-Julia/blob/master/docs/src/lecture_12/lotkadata.jld2).\n"
   ]
  },
  {
   "cell_type": "code",
   "execution_count": null,
   "id": "2d5dea30-f7bc-4634-a03e-a7a27e0e29d9",
   "metadata": {},
   "outputs": [],
   "source": [
    "using JLD2\n",
    "using Plots\n",
    "\n",
    "true_data = load(\"lotkadata.jld2\")\n",
    "\n",
    "p1 = plot(true_data[\"t\"], true_data[\"u\"][1,:], lw=4, ls=:dash, alpha=0.7, color=:gray, label=\"x Truth\")\n",
    "plot!(p1, true_data[\"t\"], true_data[\"u\"][2,:], lw=4, ls=:dash, alpha=0.7, color=:gray, label=\"y Truth\")\n",
    "\n",
    "(t,X) = solve(prob, Euler(0.2))\n",
    "\n",
    "plot!(p1,t,X[1,:], color=1, lw=3, alpha=0.8, label=\"x Euler\")\n",
    "plot!(p1,t,X[2,:], color=2, lw=3, alpha=0.8, label=\"y Euler\")"
   ]
  },
  {
   "cell_type": "markdown",
   "id": "b2bf1ca4-856d-4a67-9a9a-118e6f9d7c75",
   "metadata": {},
   "source": [
    "As you can see in the plot above, the Euler method quickly becomes quite\n",
    "inaccurate because we make a step in the direction of the tangent which inevitably\n",
    "leads us away from the perfect solution as shown in the plot below.\n",
    "<img src=\"euler.jpeg\" align=\"center\">\n",
    "\n",
    "In the [homework] you will implement a Runge-Kutta solver to get a\n",
    "much better accuracy with the same step size.\n",
    "\n",
    "\n",
    "## Automating `GaussNum`s\n",
    "\n",
    "Next you will implement your own uncertainty propagation. In the lecture you\n",
    "have already seen the new number type that we need for this:\n"
   ]
  },
  {
   "cell_type": "code",
   "execution_count": null,
   "id": "f4bd946b-71bb-496b-94ce-73cf92be2081",
   "metadata": {},
   "outputs": [],
   "source": [
    "struct GaussNum{T<:Real} <: Real\n",
    "    μ::T\n",
    "    σ::T\n",
    "end"
   ]
  },
  {
   "cell_type": "markdown",
   "id": "1d15fd7c-48e1-4d13-b2bc-40f019c87d7f",
   "metadata": {},
   "source": [
    "<div class=\"alert alert-block alert-success\">\n",
    "<b>Exercise:</b> \n",
    "\n",
    "Overload the `±` (type: `\\pm<tab>`) symbol to define `GaussNum`s like this: `2.0 ± 1.0`.\n",
    "Additionally, overload the `show` function such that `GaussNum`s are printed\n",
    "with the `±` as well."
   ]
  },
  {
   "cell_type": "markdown",
   "id": "8dc71b44-8dc5-4b6f-ba56-8972b9bfe9f0",
   "metadata": {},
   "source": [
    "<div class=\"alert alert-block alert-info\">\n",
    "<b>Solution</b>: </div>"
   ]
  },
  {
   "cell_type": "code",
   "execution_count": null,
   "id": "45d50dd6-4629-49ef-af39-70ffa20bb241",
   "metadata": {},
   "outputs": [],
   "source": []
  },
  {
   "cell_type": "markdown",
   "id": "b06dd414-d211-41ab-9c83-d8c73c444e62",
   "metadata": {
    "tags": []
   },
   "source": [
    "Recall, that for a function $f(x)$ with $N$ inputs, the uncertainty $\\sigma_f$\n",
    "is defined by\n",
    "\\begin{equation}\n",
    "\\sigma_f = \\sqrt{\\sum_{i=1}^N \\left( \\frac{df}{dx_i}\\sigma_i \\right)^2}\n",
    "\\end{equation}\n",
    "To make `GaussNum`s work for arithmetic operations we could\n",
    "manually implement all desired functions as we started doing in the lecture.\n",
    "With the autodiff package `Zygote` we can automate the generation of these\n",
    "functions. In the next two exercises you will implement a macro `@register`\n",
    "that takes a function and defines the corresponding uncertainty propagation\n",
    "rule according to the equation above.\n",
    "\n"
   ]
  },
  {
   "cell_type": "markdown",
   "id": "aeef0d86-d2f5-4a53-b625-cb7214c59aac",
   "metadata": {},
   "source": [
    "<div class=\"alert alert-block alert-success\">\n",
    "<b>Exercise:</b> \n",
    "    \n",
    "Implement a helper function `uncertain(f, args::GaussNum...)` which takes a\n",
    "function `f` and its `args` and returns the resulting `GaussNum` with an\n",
    "uncertainty defined by the equation above.\n",
    "\n",
    "**Hint**:\n",
    "You can compute the gradient of a function with Zygote, for example:\n",
    "```julia\n",
    "using Zygote;\n",
    "f(x,y) = x*y;\n",
    "Zygote.gradient(f, 2., 3.)\n",
    "```\n",
    "</div>"
   ]
  },
  {
   "cell_type": "markdown",
   "id": "1b677ac9-8113-42cc-a152-97a7966b2b2d",
   "metadata": {},
   "source": [
    "<div class=\"alert alert-block alert-info\">\n",
    "<b>Solution</b>: </div>"
   ]
  },
  {
   "cell_type": "markdown",
   "id": "59fa1a95-559a-43d9-99ac-8cf14de74140",
   "metadata": {},
   "source": [
    "Now you can propagate uncertainties through any function like this:"
   ]
  },
  {
   "cell_type": "code",
   "execution_count": null,
   "id": "18015a79-30dd-4b6a-85de-4931a384ae81",
   "metadata": {},
   "outputs": [],
   "source": [
    "x1 = 2.0 ± 2.0\n",
    "x2 = 2.0 ± 2.0\n",
    "uncertain(*, x1, x2)"
   ]
  },
  {
   "cell_type": "markdown",
   "id": "c1224f9c-70bd-4654-aea8-3be6da81801d",
   "metadata": {},
   "source": [
    "You can verify the correctness of your implementation by comparing to the manual\n",
    "implementation from the lecture."
   ]
  },
  {
   "cell_type": "markdown",
   "id": "e3149e2d-0dbb-4cc9-8715-35142cb6d4c9",
   "metadata": {},
   "source": [
    "<div class=\"alert alert-block alert-success\">\n",
    "<b>Exercise:</b> \n",
    "    \n",
    "For convenience, implement the macro `@register` which will define the\n",
    "uncertainty propagation rule for a given function. E.g. for the function `*`\n",
    "the macro should generate code like below\n",
    "    \n",
    "```julia\n",
    "Base.:*(args::GaussNum...) = uncertain(*, args...)\n",
    "```\n",
    "    \n",
    "**Hint**:\n",
    "If you run into trouble with module names of functions you can make use of\n",
    "    \n",
    "```julia\n",
    "getmodule(f) = first(methods(f)).module\n",
    "getmodule(*)\n",
    "\n",
    "```\n",
    "</div>"
   ]
  },
  {
   "cell_type": "markdown",
   "id": "b043a4f9-e132-4fbe-b4e6-a8771476e12a",
   "metadata": {},
   "source": [
    "<div class=\"alert alert-block alert-info\">\n",
    "<b>Solution</b>: </div>"
   ]
  },
  {
   "cell_type": "code",
   "execution_count": null,
   "id": "4fce302d-69ba-47ae-adff-ce5c5f5907a5",
   "metadata": {},
   "outputs": [],
   "source": []
  },
  {
   "cell_type": "markdown",
   "id": "a52e5cc1-177d-4024-a732-ce2c2513974f",
   "metadata": {
    "tags": []
   },
   "source": [
    "Lets register some arithmetic functions and see if they work"
   ]
  },
  {
   "cell_type": "code",
   "execution_count": null,
   "id": "5c8facc6-7490-4d6a-8580-03a1cc0febed",
   "metadata": {},
   "outputs": [],
   "source": [
    "@register *\n",
    "x1 * x2"
   ]
  },
  {
   "cell_type": "code",
   "execution_count": null,
   "id": "dc1ce633-1320-4397-9abe-bcd51099af6c",
   "metadata": {},
   "outputs": [],
   "source": [
    "@register - +\n",
    "x1 + x2"
   ]
  },
  {
   "cell_type": "code",
   "execution_count": null,
   "id": "7a5c9468-9115-43a7-afe2-30af77b6bba3",
   "metadata": {},
   "outputs": [],
   "source": [
    "x1 - x2"
   ]
  },
  {
   "cell_type": "markdown",
   "id": "3a62f108-de37-4c85-acc0-abdf4074b68e",
   "metadata": {},
   "source": [
    "To finalize the definition of our new `GaussNum` we can define conversion and\n",
    "promotion rules such that we do not have to define things like\n",
    "```julia\n",
    "+(x::GaussNum, y::Real) = ...\n",
    "+(x::Real, y::GaussNum) = ...\n",
    "```"
   ]
  },
  {
   "cell_type": "markdown",
   "id": "7df602fa-3ec1-4947-b85f-cd14e375438f",
   "metadata": {},
   "source": [
    "<div class=\"alert alert-block alert-success\">\n",
    "<b>Exercise:</b> \n",
    "    \n",
    "Define `convert` and `promote_rule`s such that you can perform arithmetic operations\n",
    "on `GaussNum`s and other `Real`s.\n",
    "\n",
    "**Hint**:\n",
    "When converting a normal number to a `GaussNum` you can set the standard deviation\n",
    "to zero.\n",
    "</div>"
   ]
  },
  {
   "cell_type": "markdown",
   "id": "f463cb8c-a1e7-4651-9da0-8a3b7e5c8643",
   "metadata": {},
   "source": [
    "<div class=\"alert alert-block alert-info\">\n",
    "<b>Solution</b>: </div>"
   ]
  },
  {
   "cell_type": "code",
   "execution_count": null,
   "id": "752f8700-913a-4570-b163-284af7cf6089",
   "metadata": {},
   "outputs": [],
   "source": []
  },
  {
   "cell_type": "markdown",
   "id": "1ae9becf-e6af-4012-bdc7-45b2036ecaed",
   "metadata": {},
   "source": [
    "You can test if everything works by adding/multiplying floats to `GuassNum`s."
   ]
  },
  {
   "cell_type": "code",
   "execution_count": null,
   "id": "6c8c2371-9c60-46f9-81cc-5340eba98005",
   "metadata": {},
   "outputs": [],
   "source": [
    "1.0±1.0 + 2.0"
   ]
  },
  {
   "cell_type": "markdown",
   "id": "fbffc997-f94f-45f6-b488-758bad66bc9d",
   "metadata": {},
   "source": [
    "### Propagating Uncertainties through ODEs"
   ]
  },
  {
   "cell_type": "markdown",
   "id": "82245c6b-6487-47ec-87a8-cef25d8eeeb2",
   "metadata": {},
   "source": [
    "<div class=\"alert alert-block alert-success\">\n",
    "<b>Exercise:</b> \n",
    "    \n",
    "With our newly defined `GaussNum` we can easily propagate uncertainties through\n",
    "our ODE solvers without changing a single line of their code. Try it!\n",
    "</div>"
   ]
  },
  {
   "cell_type": "markdown",
   "id": "deba24dc-4ccd-474b-97bd-c9bbb29b5373",
   "metadata": {},
   "source": [
    "<div class=\"alert alert-block alert-info\">\n",
    "<b>Solution</b>: </div>"
   ]
  },
  {
   "cell_type": "code",
   "execution_count": null,
   "id": "12b673a5-dbe8-44eb-beb2-831eb09a1861",
   "metadata": {},
   "outputs": [],
   "source": []
  },
  {
   "cell_type": "markdown",
   "id": "72e73f86-287c-47b0-bcd9-2ebdd475ed73",
   "metadata": {},
   "source": [
    "<div class=\"alert alert-block alert-success\">\n",
    "<b>Exercise:</b> \n",
    "    \n",
    "Create a plot that takes a `Vector{<:GaussNum}` and plots the mean surrounded\n",
    "by the uncertainty. \n",
    "    \n",
    "Hint: `function uncertainplot(t, x::Vector{<:GaussNum})`\n",
    "\n",
    "</div>"
   ]
  },
  {
   "cell_type": "markdown",
   "id": "739772a2-7d20-4726-b7a4-7f6761eac69d",
   "metadata": {},
   "source": [
    "<div class=\"alert alert-block alert-info\">\n",
    "<b>Solution</b>: </div>"
   ]
  },
  {
   "cell_type": "code",
   "execution_count": null,
   "id": "7bf338ce-b72b-4f9e-b1d7-94c8db3b2dac",
   "metadata": {},
   "outputs": [],
   "source": []
  },
  {
   "cell_type": "code",
   "execution_count": null,
   "id": "9805a567-c0f4-4abe-8fcb-6971c2919a0e",
   "metadata": {},
   "outputs": [],
   "source": [
    "uncertainplot(t, X[1,:])"
   ]
  },
  {
   "cell_type": "markdown",
   "id": "62b8f23e-4973-4fa7-b81c-8d30f23adf8c",
   "metadata": {},
   "source": [
    "###\n",
    "Unfortunately, with this approach, we would have to define things like `uncertainplot!`\n",
    "by hand.\n",
    "To make plotting `GaussNum`s more pleasant we can make use of the `@recipe`\n",
    "macro from `Plots.jl`. It allows to define plot recipes for custom types\n",
    "(without having to depend on Plots.jl). Additionally, it makes it easiert to\n",
    "support all the different ways of creating plots (e.g. via `plot` or `plot!`,\n",
    "and with support for all keyword args) without having to overload tons of\n",
    "functions manually. If you want to read more about plot recipies in the docs\n",
    "of [`RecipesBase.jl`](http://juliaplots.org/RecipesBase.jl/stable/).\n",
    "An example of a recipe for vectors of `GaussNum`s could look like this:"
   ]
  },
  {
   "cell_type": "code",
   "execution_count": null,
   "id": "dd5047fd-819b-485d-ae42-541ae8807ca8",
   "metadata": {},
   "outputs": [],
   "source": [
    "@recipe function plot(ts::AbstractVector, xs::AbstractVector{<:GaussNum})\n",
    "    # you can set a default value for an attribute with `-->`\n",
    "    # and force an argument with `:=`\n",
    "    μs = [x.μ for x in xs]\n",
    "    σs = [x.σ for x in xs]\n",
    "    @series begin\n",
    "        :seriestype := :path\n",
    "        # ignore series in legend and color cycling\n",
    "        primary := false\n",
    "        linecolor := nothing\n",
    "        fillcolor := :lightgray\n",
    "        fillalpha := 0.5\n",
    "        fillrange := μs .- σs\n",
    "        # ensure no markers are shown for the error band\n",
    "        markershape := :none\n",
    "        # return series data\n",
    "        ts, μs .+ σs\n",
    "    end\n",
    "    ts, μs\n",
    "end"
   ]
  },
  {
   "cell_type": "code",
   "execution_count": null,
   "id": "949f7f2f-516b-475a-9e6d-714b3edef4cb",
   "metadata": {},
   "outputs": [],
   "source": [
    "# now we can easily plot multiple things on to of each other\n",
    "p1 = plot(t, X[1,:], label=\"x\", lw=3)\n",
    "plot!(p1, t, X[2,:], label=\"y\", lw=3)"
   ]
  },
  {
   "cell_type": "code",
   "execution_count": null,
   "id": "463267de-0497-48fb-89b3-98f1b6e1e20d",
   "metadata": {},
   "outputs": [],
   "source": []
  }
 ],
 "metadata": {
  "kernelspec": {
   "display_name": "Julia 1.7.3",
   "language": "julia",
   "name": "julia-1.7"
  },
  "language_info": {
   "file_extension": ".jl",
   "mimetype": "application/julia",
   "name": "julia",
   "version": "1.7.3"
  }
 },
 "nbformat": 4,
 "nbformat_minor": 5
}
