{
 "cells": [
  {
   "cell_type": "markdown",
   "id": "54bb6e79",
   "metadata": {},
   "source": [
    "# [Lab 11: GPU programming](@id gpu_lab)\n",
    "In this lab we are going to delve into the topic of using GPU hardware in order to accelerate scientific computation. We will focus mainly on NVidia graphics hardware and it's [CUDA](https://developer.nvidia.com/cuda-zone) framework[^1], however we will no go into as much detail and thus what you learn today should be aplicable to alternative HW/frameworks such as AMD's [HIP/ROCM](https://www.amd.com/en/graphics/servers-solutions-rocm) or Intel's [oneAPI](https://www.intel.com/content/www/us/en/developer/tools/oneapi/overview.html#gs.lfd9th). We have chosen to use primarily NVidia CUDA for demonstration due to it's maturity and the availability of HW on our side.\n",
    "\n",
    "<div class=\"alert alert-block alert-warning\">\n",
    "<b>Warning:</b> \"Disclaimer\"\n",
    "    With the increasing complexity of GPU HW some statements may become outdated. Moreover we won't cover as many tips that you may encounter on a GPU parallel programming specific course.\n",
    "</div>\n",
    "\n",
    "## We DON'T want to get our hands dirty\n",
    "We can do quite a lot without even knowing that we are using GPU instead of CPU. This marvel is the combination of Julia's multiple dispatch and array abstractions. Based on the size of the problem and intricacy of the computation we may be achieve both incredible speedups as well as slowdowns. \n",
    "\n",
    "The gateway to working with CUDA in Julia is the `CUDA.jl` library, which offers the following user facing functionalities\n",
    "- device management `versioninfo`, `device!`\n",
    "- definition of arrays on gpu `CuArray`\n",
    "- data copying from host(CPU) to device(GPU) and the other way around\n",
    "- wrapping already existing library code in `CuBLAS`, `CuRAND`, `CuDNN`, `CuSparse` and others\n",
    "- kernel based programming (more on this in the second half of the lab)\n",
    "\n",
    "Let's use this to inspect our GPU hardware."
   ]
  },
  {
   "cell_type": "code",
   "execution_count": null,
   "id": "29035d1b",
   "metadata": {},
   "outputs": [],
   "source": [
    "using CUDA"
   ]
  },
  {
   "cell_type": "code",
   "execution_count": null,
   "id": "26060a9f",
   "metadata": {},
   "outputs": [],
   "source": [
    "CUDA.versioninfo()"
   ]
  },
  {
   "cell_type": "markdown",
   "id": "6cf57f2f",
   "metadata": {},
   "source": [
    "<div class=\"alert alert-block alert-warning\">\n",
    "<b>Warning:</b> \"CUDA.jl compatibility\": The latest development version of CUDA.jl requires Julia 1.6 or higher. `CUDA.jl` currently also requires a CUDA-capable GPU with compute capability 3.5 (Kepler) or higher, and an accompanying NVIDIA driver with support for CUDA 10.1 or newer. These requirements are not enforced by the Julia package manager when installing CUDA.jl. Depending on your system and GPU, you may need to install an older version of the package. [^1][]\n",
    "</div>\n",
    "\t\n",
    "\n",
    "[^1]: https://github.com/JuliaGPU/CUDA.jl \"Disclaimer on `CUDA.jl`'s\"\n",
    "\n",
    "As we have already seen in the [lecture](@ref gpu_lecture_no_kernel), we can simply import `CUDA.jl` define some arrays, move them to the GPU and do some computation. In the following code we define two matrices `1000x1000` filled with random numbers and multiply them using usual `x * y` syntax."
   ]
  },
  {
   "cell_type": "code",
   "execution_count": null,
   "id": "f1842236",
   "metadata": {},
   "outputs": [],
   "source": [
    "x = randn(Float32, 60, 60)\n",
    "y = randn(Float32, 60, 60)\n",
    "x * y \n",
    "cx = CuArray(x)\n",
    "cy = CuArray(y)\n",
    "cx * cy\n",
    "x * y ≈ Matrix(cx * cy)"
   ]
  },
  {
   "cell_type": "markdown",
   "id": "b064e178",
   "metadata": {},
   "source": [
    "This may not be anything remarkable, as such functionality is available in many other languages albeit usually with a less mathematical notation like `x.dot(y)`. With Julia's multiple dispatch, we can simply dispatch the multiplication operator/function `*` to a specific method that works on `CuArray` type. Check with `@code_typed` shows the call to CUBLAS library under the hood."
   ]
  },
  {
   "cell_type": "code",
   "execution_count": null,
   "id": "b12aa280",
   "metadata": {},
   "outputs": [],
   "source": [
    "@code_typed cx * cy"
   ]
  },
  {
   "cell_type": "markdown",
   "id": "e944eeb0",
   "metadata": {},
   "source": [
    "Let's now explore what the we can do with this array programming paradigm on few practical examples\n",
    "\n",
    "<div class=\"alert alert-block alert-success\">\n",
    "<b>Exercise:</b> \n",
    "Load a sufficiently large image to the GPU such as the one provided in the lab (anything >1Mpx should be enough) and manipulate it in the following ways:\n",
    "- create a negative\n",
    "- half the pixel brightness\n",
    "- find the brightest pixels\n",
    "- get it's FFT image\n",
    "\n",
    "Measure the runtime difference with `BenchmarkTools`. Load the image with the following code, which adds all the necessary dependencies and loads the image into Floa32 matrix.\n",
    "\n",
    "```julia\n",
    "using Pkg; \n",
    "Pkg.add([\"FileIO\", \"ImageMagick\", \"ImageShow\", \"ColorTypes\", \"FFTW\"])\n",
    "\n",
    "using FileIO, ImageMagick, ImageShow, ColorTypes\n",
    "rgb_img = FileIO.load(\"image.jpg\");\n",
    "gray_img = Float32.(Gray.(rgb_img));\n",
    "cgray_img = CuArray(gray_img);\n",
    "```\n",
    "\n",
    "**HINTS**:\n",
    "- use `Float32` everywhere for better performance\n",
    "- use `CUDA.@sync` during benchmarking in order to ensure that the computation has completed\n",
    "\n",
    "**BONUS**: Remove high frequency signal by means of modifying Fourier image.\n",
    "    \n",
    "<div class=\"alert alert-block alert-warning\">\n",
    "<b>Warning:</b>\"Scalar indexing\"\n",
    "    \n",
    "Some operations such as showing an image calls fallback implementation which requires `getindex!` called from the CPU. As such it is incredibly slow and should be avoided. In order to show the image use `Array(cimg)` to move it as a whole. Another option is to suppress the output with semicolon\n",
    "    \n",
    "```julia\n",
    "julia> cimg\n",
    "┌ Warning: Performing scalar indexing on task Task (runnable) @0x00007f25931b6380.\n",
    "│ Invocation of getindex resulted in scalar indexing of a GPU array.\n",
    "│ This is typically caused by calling an iterating implementation of a method.\n",
    "│ Such implementations *do not* execute on the GPU, but very slowly on the CPU,\n",
    "│ and therefore are only permitted from the REPL for prototyping purposes.\n",
    "│ If you did intend to index this array, annotate the caller with @allowscalar.\n",
    "└ @ GPUArrays ~/.julia/packages/GPUArrays/gkF6S/src/host/indexing.jl:56\n",
    "julia> Array(cimg)\n",
    "Voila!\n",
    "julia> cimg;\n",
    "```\n",
    "</div> \n",
    "    \n",
    "</div>"
   ]
  },
  {
   "cell_type": "code",
   "execution_count": null,
   "id": "7bfe2d86",
   "metadata": {},
   "outputs": [],
   "source": [
    "using Pkg; \n",
    "Pkg.add([\"FileIO\", \"ImageMagick\", \"ImageShow\", \"ColorTypes\", \"FFTW\"])\n",
    "\n",
    "using FileIO, ImageMagick, ImageShow, ColorTypes\n",
    "rgb_img = FileIO.load(\"out.png\");# image.jpg\n",
    "gray_img = Float32.(Gray.(rgb_img));\n",
    "cgray_img = CuArray(gray_img);"
   ]
  },
  {
   "cell_type": "markdown",
   "id": "7336499e",
   "metadata": {},
   "source": [
    "StableDiffusion generated image\n",
    "\n",
    "<img src=\"./out.png\" align=\"center\" width=\"70%\"> [^2][]\n",
    "\n",
    "[^2]: https://replicate.com/api/models/cjwbw/stable-diffusion-high-resolution/files/e1b194af-e903-4efb-8bb2-8016b0863507/out.png \"StableDiffusion generated image\""
   ]
  },
  {
   "cell_type": "markdown",
   "id": "947f3490",
   "metadata": {},
   "source": [
    "<div class=\"alert alert-block alert-info\">\n",
    "<b>Solution</b>: </div>\n",
    "\n",
    "#### "
   ]
  },
  {
   "cell_type": "code",
   "execution_count": null,
   "id": "863eba1b",
   "metadata": {},
   "outputs": [],
   "source": [
    "using BenchmarkTools"
   ]
  },
  {
   "cell_type": "code",
   "execution_count": null,
   "id": "c304a063",
   "metadata": {},
   "outputs": [],
   "source": [
    "@btime CUDA.@sync negative($cgray_img);"
   ]
  },
  {
   "cell_type": "code",
   "execution_count": null,
   "id": "55f3ea70",
   "metadata": {},
   "outputs": [],
   "source": [
    "@btime negative($gray_img);"
   ]
  },
  {
   "cell_type": "code",
   "execution_count": null,
   "id": "36122002",
   "metadata": {},
   "outputs": [],
   "source": [
    "@btime CUDA.@sync darken($cgray_img);"
   ]
  },
  {
   "cell_type": "code",
   "execution_count": null,
   "id": "e41ea676",
   "metadata": {},
   "outputs": [],
   "source": [
    "@btime darken($gray_img);"
   ]
  },
  {
   "cell_type": "code",
   "execution_count": null,
   "id": "5859f857",
   "metadata": {},
   "outputs": [],
   "source": [
    "@btime CUDA.@sync fourier($cgray_img);"
   ]
  },
  {
   "cell_type": "code",
   "execution_count": null,
   "id": "34403dad",
   "metadata": {},
   "outputs": [],
   "source": [
    "@btime fourier($gray_img);"
   ]
  },
  {
   "cell_type": "code",
   "execution_count": null,
   "id": "7700f71b",
   "metadata": {},
   "outputs": [],
   "source": [
    "@btime CUDA.@sync brightest($cgray_img);"
   ]
  },
  {
   "cell_type": "code",
   "execution_count": null,
   "id": "4dd6fda9",
   "metadata": {},
   "outputs": [],
   "source": [
    "@btime brightest($gray_img);"
   ]
  },
  {
   "cell_type": "markdown",
   "id": "d9dfde67",
   "metadata": {},
   "source": [
    "In the next example we will try to solve a system of linear equations $Ax=b$, where A is a large (possibly sparse) matrix.\n",
    "\n",
    "<div class=\"alert alert-block alert-success\">\n",
    "<b>Exercise:</b> \n",
    "    \n",
    "Benchmark the solving of the following linear system with `N` equations and `N` unknowns. Experiment with increasing `N` to find a value , from which the advantage of sending the matrix to GPU is significant (include the time of sending the data to and from the device). For the sake of this example significant means 2x speedup. At what point the memory requirements are incompatible with your hardware, i.e. exceeding the memory of a GPU?\n",
    "\n",
    "```julia\n",
    "α = 10.0f0\n",
    "β = 10.0f0\n",
    "\n",
    "function init(N, α, β, r = (0.f0, π/2.0f0))\n",
    "    dx = (r[2] - r[1]) / N\n",
    "    A = zeros(Float32, N+2, N+2)\n",
    "    A[1,1] = 1.0f0\n",
    "    A[end,end] = 1.0f0\n",
    "    for i in 2:N+1\n",
    "        A[i,i-1] = 1.0f0/(dx*dx)\n",
    "        A[i,i] = -2.0f0/(dx*dx) - 16.0f0\n",
    "        A[i,i+1] = 1.0f0/(dx*dx)\n",
    "    end\n",
    "\n",
    "    b = fill(-8.0f0, N+2)\n",
    "    b[1] = α\n",
    "    b[end] = β\n",
    "    A, b\n",
    "end\n",
    "\n",
    "N = 30\n",
    "A, b = init(N, α, β)\n",
    "```\n",
    "\n",
    "**HINTS**:\n",
    "- use backslash operator `\\` to solve the system\n",
    "- use `CuArray` and `Array` for moving the date to and from device respectively\n",
    "- use `CUDA.@sync` during benchmarking in order to ensure that the computation has completed\n",
    "\n",
    "**BONUS 1**: Visualize the solution `x`. What may be the origin of our linear system of equations?\n",
    "**BONUS 2**: Use sparse matrix `A` to achieve the same thing. Can we exploit the structure of the matrix for more effective solution?\n",
    "</div>"
   ]
  },
  {
   "cell_type": "code",
   "execution_count": null,
   "id": "08372b65",
   "metadata": {},
   "outputs": [],
   "source": [
    "α = 10.0f0\n",
    "β = 10.0f0\n",
    "\n",
    "function init(N, α, β, r = (0.f0, π/2.0f0))\n",
    "    dx = (r[2] - r[1]) / N\n",
    "    A = zeros(Float32, N+2, N+2)\n",
    "    A[1,1] = 1.0f0\n",
    "    A[end,end] = 1.0f0\n",
    "    for i in 2:N+1\n",
    "        A[i,i-1] = 1.0f0/(dx*dx)\n",
    "        A[i,i] = -2.0f0/(dx*dx) - 16.0f0\n",
    "        A[i,i+1] = 1.0f0/(dx*dx)\n",
    "    end\n",
    "\n",
    "    b = fill(-8.0f0, N+2)\n",
    "    b[1] = α\n",
    "    b[end] = β\n",
    "    A, b\n",
    "end"
   ]
  },
  {
   "cell_type": "markdown",
   "id": "8c3d2058",
   "metadata": {},
   "source": [
    "<div class=\"alert alert-block alert-info\">\n",
    "<b>Solution</b>: </div>\n",
    "\n",
    "#### "
   ]
  },
  {
   "cell_type": "markdown",
   "id": "3f1d8fb4",
   "metadata": {},
   "source": [
    "## N=30"
   ]
  },
  {
   "cell_type": "code",
   "execution_count": null,
   "id": "19d8304c",
   "metadata": {},
   "outputs": [],
   "source": []
  },
  {
   "cell_type": "code",
   "execution_count": null,
   "id": "3bc05047",
   "metadata": {},
   "outputs": [],
   "source": []
  },
  {
   "cell_type": "code",
   "execution_count": null,
   "id": "51b1f533",
   "metadata": {},
   "outputs": [],
   "source": []
  },
  {
   "cell_type": "markdown",
   "id": "2a484b2a",
   "metadata": {},
   "source": [
    "## N=3000"
   ]
  },
  {
   "cell_type": "code",
   "execution_count": null,
   "id": "64d8374c",
   "metadata": {},
   "outputs": [],
   "source": []
  },
  {
   "cell_type": "code",
   "execution_count": null,
   "id": "a67fb11f",
   "metadata": {},
   "outputs": [],
   "source": []
  },
  {
   "cell_type": "code",
   "execution_count": null,
   "id": "a17d55f5",
   "metadata": {},
   "outputs": [],
   "source": []
  },
  {
   "cell_type": "markdown",
   "id": "3937bfa7",
   "metadata": {},
   "source": [
    "**BONUS 1**:\n",
    "The system comes from a solution of second order ODR with *boundary conditions*.\n",
    "\n",
    "**BONUS 2**:\n",
    "The matrix is tridiagonal, therefore we don't have to store all the entries."
   ]
  },
  {
   "cell_type": "code",
   "execution_count": null,
   "id": "32aa1dbb",
   "metadata": {},
   "outputs": [],
   "source": []
  },
  {
   "cell_type": "markdown",
   "id": "81a6f7be",
   "metadata": {},
   "source": [
    "Programming GPUs in this way is akin to using NumPy, MATLAB and other array based toolkits, which force users not to use for loops. There are attempts to make GPU programming in Julia more powerful without delving deeper into writing of GPU kernels. One of the attempts is [`Tulio.jl`](https://github.com/mcabbott/Tullio.jl), which uses macros to annotate parallel for loops, similar to [`OpenMP`](https://www.openmp.org/)'s `pragma` intrinsics, which can be compiled to GPU as well.\n",
    "\n",
    "Note also that Julia's `CUDA.jl` is not a tensor compiler. With the exception of broadcast fusion, which is easily transferable to GPUs, there is no optimization between different kernels from the compiler point of view. Furthermore, memory allocations on GPU are handled by Julia's GC, which is single threaded and often not as aggressive, therefore similar application code can have different memory footprints on the GPU.\n",
    "\n",
    "Nowadays there is a big push towards simplifying programming of GPUs, mainly in the machine learning community, which often requires switching between running on GPU/CPU to be a one click deal. However this may not always yield the required results, because the GPU's computation model is different from the CPU, see [lecture](@ref gpu_lecture). This being said Julia's `Flux.jl` framework does offer such capabilities [^2][]\n",
    "\n",
    "```julia\n",
    "using Flux, CUDA\n",
    "m = Dense(10,5) |> gpu\n",
    "x = rand(10) |> gpu\n",
    "y = m(x)\n",
    "y |> cpu\n",
    "```\n",
    "\n",
    "[^2]: https://fluxml.ai/Flux.jl/stable/gpu/#GPU-Support \"Taken from `Flux.jl`\"\n",
    "\n",
    "## We DO want to get our hands dirty\n",
    "There are two paths that lead to the necessity of programming GPUs more directly via kernels\n",
    "1. We cannot express our algorithm in terms of array operations.\n",
    "2. We want to get more out of the code,\n",
    "\n",
    "Note that the ability to write kernels in the language of your choice is not granted, as this club includes a limited amount of members - C, C++, Fortran and Julia. Consider then the following comparison between `CUDA C` and `CUDA.jl` implementation of a simple vector addition kernels as seen in the [lecture](@ref gpu_lecture_yes_kernel). Which one would you choose?"
   ]
  },
  {
   "cell_type": "markdown",
   "id": "e0a77ad5",
   "metadata": {},
   "source": [
    "```c\n",
    "#define cudaCall(err) // check return code for error\n",
    "#define frand() (float)rand() / (float)(RAND_MAX)\n",
    "\n",
    "__global__ void vadd(const float *a, const float *b, float *c) {\n",
    "\tint i = blockIdx.x * blockDim.x + threadIdx.x;\n",
    "\tc[i] = a[i] + b[i];\n",
    "}\n",
    "\n",
    "const int len = 100;\n",
    "int main() {\n",
    "\tfloat *a, *b;\n",
    "\ta = new float[len];\n",
    "\tb = new float[len];\n",
    "\tfor (int i = 0; i < len; i++) {\n",
    "\t\ta[i] = frand(); b[i] = frand();\n",
    "\t}\n",
    "\tfloat *d_a, *d_b, *d_c;\n",
    "\tcudaCall(cudaMalloc(&d_a, len * sizeof(float)));\n",
    "\tcudaCall(cudaMemcpy(d_a, a, len * sizeof(float), cudaMemcpyHostToDevice));\n",
    "\tcudaCall(cudaMalloc(&d_b, len * sizeof(float)));\n",
    "\n",
    "\tcudaCall(cudaMemcpy(d_b, b, len * sizeof(float), cudaMemcpyHostToDevice));\n",
    "\tcudaCall(cudaMalloc(&d_c, len * sizeof(float)));\n",
    "\n",
    "\tvadd<<<1, len>>>(d_a, d_b, d_c);\n",
    "\n",
    "\tfloat *c = new float[len];\n",
    "\tcudaCall(cudaMemcpy(c, d_c, len * sizeof(float), cudaMemcpyDeviceToHost));\n",
    "\tcudaCall(cudaFree(d_c));\n",
    "\tcudaCall(cudaFree(d_b));\n",
    "\tcudaCall(cudaFree(d_a));\n",
    "\n",
    "\treturn 0;\n",
    "}\n",
    "```\n",
    "Compared to CUDA C the code is less bloated, while having the same functionality.[^4]"
   ]
  },
  {
   "cell_type": "code",
   "execution_count": null,
   "id": "76c09c3d",
   "metadata": {},
   "outputs": [],
   "source": [
    "function vadd(a, b, c)\n",
    "\ti = (blockIdx().x-1) * blockDim().x + threadIdx().x\n",
    "\tc[i] = a[i] + b[i]\n",
    "\treturn\n",
    "end\n",
    "\n",
    "len = 100\n",
    "a = rand(Float32, len);\n",
    "b = rand(Float32, len);\n",
    "d_a = CuArray(a);\n",
    "d_b = CuArray(b);\n",
    "d_c = similar(d_a);\n",
    "@cuda threads = (1, len) vadd(d_a, d_b, d_c);\n",
    "c = Array(d_c);"
   ]
  },
  {
   "cell_type": "markdown",
   "id": "93f6a339",
   "metadata": {},
   "source": [
    "\n",
    "\n",
    "[^4]: This comparison is not fair to `CUDA C`, where memory management is left to the user and all the types have to be specified. However at the end of the day the choice of a high level language makes more sense as it offers the same functionality and is far more approachable.\n",
    "\n",
    "### CUDA programming model\n",
    "Recalling from the lecture, in CUDA programming model, you usually write kernels, which represent the body of some parallel for loop. \n",
    "- A kernel is executed on multiple threads, which are grouped into thread blocks. \n",
    "- All threads in a block are executed in the same Streaming Multi-processor (SM), having access to some shared pool of memory. \n",
    "- The number of threads launched is always a multiple of 32 (32 threads = 1 warp, therefore length of a thread block should be divisible by 32). \n",
    "- All threads in a single warps are executed simultaneously. \n",
    "- We have to take care of how many threads will be launched in order to complete the task at hand, i.e. if there are insufficiently many threads/blocks spawned we may end up doing only part of the task. \n",
    "- We can spawn threads/thread blocks in both in 1D, 2D or 3D blocks, which may ease the indexing inside the kernel when dealing with higher dimensional data.\n",
    "\n",
    "\n",
    "#### Thread indexing\n",
    "Stopping for a moment here to illustrate the last point with a visual aid[^5]\n",
    "<img src=\"./grid_block_thread.png\" align=\"center\" width=\"80%\">\n",
    "\n",
    "[^5]: The number of blocks to be run are given by the grid dimension. Image taken from http://tdesell.cs.und.edu/lectures/cuda_2.pdf\n",
    "\n",
    "This explains the indexing into a linear array from above\n",
    "```julia\n",
    "i = (blockIdx().x-1) * blockDim().x + threadIdx().x\n",
    "```\n",
    "which is similar to the computation a linear index of multidimensional (in our case 2D array row ~ `blockIdx` and column `threadIdx`). Again let's use a visual help for this 1D vector[^6]\n",
    "<img src=\"./thread_index.png\" align=\"center\" width=\"80%\">\n",
    "\n",
    "[^6]: https://developer-blogs.nvidia.com/wp-content/uploads/2017/01/cuda_indexing-1024x463.png \"Taken from\"\n",
    "\n",
    "#### Launching a kernel\n",
    "\n",
    "Let's now dig into what is happening during execution of the line `@cuda threads = (1, len) vadd(d_a, d_b, d_c)`:\n",
    "1. Compile the `vadd` kernel to GPU code (via LLVM and it's [NVPTX backend](https://www.llvm.org/docs/NVPTXUsage.html))\n",
    "2. Parse and construct launch configuration of the kernel. Here we are creating `1` thread block with `1x100` threads (in reality 128 threads may be launched).\n",
    "3. Schedule to run `vadd` kernel with constructed launch configuration and arguments.\n",
    "4. Return the task status.\n",
    "\n",
    "It's important to stress that we only schedule the kernel to run, however in order to get the result we have to first wait for the completion. This can be done either via\n",
    "- `CUDA.@sync`, which we have already seen earlier\n",
    "- or a command to copy result to host (`Array(c)`), which always synchronizes kernels beforehand\n",
    "\n",
    "\n"
   ]
  },
  {
   "cell_type": "markdown",
   "id": "665a0699",
   "metadata": {},
   "source": [
    "<div class=\"alert alert-block alert-success\">\n",
    "<b>Exercise:</b> \n",
    "    \n",
    "Fix the `vadd` kernel such that it can work with different launch configurations, such as\n",
    "```julia\n",
    "@cuda threads=64 blocks=2 vadd(d_a, d_b, d_c)\n",
    "@cuda threads=32 blocks=4 vadd(d_a, d_b, d_c)\n",
    "```\n",
    "Is there some performance difference? Try increasing the size and corresponding number of blocks to cover the larger arrays.\n",
    "\n",
    "What happens if we launch the kernel in the following way?\n",
    "```julia\n",
    "@cuda threads=32 blocks=2 vadd(d_a, d_b, d_c)\n",
    "```\n",
    "\n",
    "Write a wrapper function `vadd_wrap(a::CuArray, b::CuArray)` for `vadd` kernel, such that it spawns the right amount of threads and returns only when the kernels has finished.\n",
    "\n",
    "<div class=\"alert alert-block alert-warning\">\n",
    "<b>Warning:</b>  \"Wrapping kernels\"\n",
    "A usual patter that you will see in GPU related code is that the kernel is written inside a function\n",
    "    \n",
    "```julia\n",
    "function do_something(a,b)\n",
    "    function do_something_kernel!(c,a,b)\n",
    "        ...\n",
    "    end\n",
    "\n",
    "    # handle allocation\n",
    "    # handle launch configuration\n",
    "    @cuda ... do_something_kernel!(c,a,b)\n",
    "end\n",
    "```\n",
    "Note that there are hardware limitations as to how many threads can be scheduled on a GPU. You can check it with the following code\n",
    "    \n",
    "```julia\n",
    "k = @cuda vadd(d_a, d_b, d_c)\n",
    "CUDA.maxthreads(k)\n",
    "```\n",
    "</div>\n",
    "\n",
    "**HINTS**:\n",
    "- if you don't know what is wrong with the current implementation just try it, but be warned that you might need to restart Julia after that\n",
    "- don't forget to use `CUDA.@sync` when benchmarking\n",
    "- you can inspect the kernel with analogs of `@code_warntype` ~ `@device_code_warntype @cuda vadd(d_a, d_b, d_c)`\n",
    "- lookup `cld` function for computing the number of blocks when launching kernels on variable sized input\n",
    "\n",
    "\n",
    "</div>"
   ]
  },
  {
   "cell_type": "code",
   "execution_count": null,
   "id": "6928fc83",
   "metadata": {},
   "outputs": [],
   "source": [
    "k = @cuda vadd(d_a, d_b, d_c)\n",
    "CUDA.maxthreads(k)"
   ]
  },
  {
   "cell_type": "code",
   "execution_count": null,
   "id": "b51925d0",
   "metadata": {},
   "outputs": [],
   "source": [
    "#@cuda threads=64 blocks=2 vadd(d_a, d_b, d_c);\n",
    "#@cuda threads=32 blocks=4 vadd(d_a, d_b, d_c);\n",
    "#@cuda threads=32 blocks=2 vadd(d_a, d_b, d_c);"
   ]
  },
  {
   "cell_type": "markdown",
   "id": "5c9841b0",
   "metadata": {},
   "source": [
    "<div class=\"alert alert-block alert-info\">\n",
    "<b>Solution</b>: </div>\n",
    "\n",
    "\n",
    "#### "
   ]
  },
  {
   "cell_type": "markdown",
   "id": "a09a2ac7",
   "metadata": {},
   "source": [
    "In order to fix the out of bounds accesses we need to add manual bounds check, otherwise we may run into some nice Julia crashes.\n",
    "\n"
   ]
  },
  {
   "cell_type": "code",
   "execution_count": null,
   "id": "72d2ad14",
   "metadata": {},
   "outputs": [],
   "source": [
    "# solution to function vadd here\n"
   ]
  },
  {
   "cell_type": "markdown",
   "id": "7fcbf05a",
   "metadata": {},
   "source": [
    "Launching kernel with insufficient number of threads leads to only partial results."
   ]
  },
  {
   "cell_type": "code",
   "execution_count": null,
   "id": "bc5b0430",
   "metadata": {},
   "outputs": [],
   "source": [
    "d_c = similar(d_a)\n",
    "@cuda threads=32 blocks=2 vadd(d_a, d_b, d_c) # insufficient number of threads\n",
    "Array(d_c)"
   ]
  },
  {
   "cell_type": "markdown",
   "id": "dc7e4b7f",
   "metadata": {},
   "source": [
    "Benchmarking different implementation shows that in this case running more threads per block may be beneficial, however only up to some point.\n",
    "\n"
   ]
  },
  {
   "cell_type": "code",
   "execution_count": null,
   "id": "f3f3355c",
   "metadata": {},
   "outputs": [],
   "source": [
    "len = 10_000\n",
    "a = rand(Float32, len)\n",
    "b = rand(Float32, len)\n",
    "d_a = CuArray(a)\n",
    "d_b = CuArray(b)\n",
    "d_c = similar(d_a);"
   ]
  },
  {
   "cell_type": "code",
   "execution_count": null,
   "id": "6c89c4ae",
   "metadata": {},
   "outputs": [],
   "source": [
    "@btime CUDA.@sync @cuda threads=256 blocks=cld(len, 256) vadd($d_a, $d_b, $d_c);"
   ]
  },
  {
   "cell_type": "code",
   "execution_count": null,
   "id": "415d94e1",
   "metadata": {},
   "outputs": [],
   "source": [
    "@btime CUDA.@sync @cuda threads=128 blocks=cld(len, 128) vadd($d_a, $d_b, $d_c);"
   ]
  },
  {
   "cell_type": "code",
   "execution_count": null,
   "id": "262ed9cc",
   "metadata": {},
   "outputs": [],
   "source": [
    "@btime CUDA.@sync @cuda threads=64 blocks=cld(len, 64) vadd($d_a, $d_b, $d_c);"
   ]
  },
  {
   "cell_type": "code",
   "execution_count": null,
   "id": "c31ac9b0",
   "metadata": {},
   "outputs": [],
   "source": [
    "@btime CUDA.@sync @cuda threads=32 blocks=cld(len, 32) vadd($d_a, $d_b, $d_c);"
   ]
  },
  {
   "cell_type": "markdown",
   "id": "2c6f12a1",
   "metadata": {},
   "source": [
    "The launch configuration depends heavily on user's hardware and the actual computation in the kernel, where in some cases having more threads in a block is better (up to some point).\n",
    "\n",
    "\n",
    "### Image processing with kernels\n",
    "Following up on exercise with image processing let's use kernels for some functions that cannot be easily expressed as array operations.\n",
    "\n",
    "<div class=\"alert alert-block alert-success\">\n",
    "<b>Exercise:</b> \n",
    "\n",
    "implement `translate_kernel!(output, input, translation)` , which translates an image `input` in the direction of `translation` tuple (values given in pixels). The resulting image should be stored in `output`. Fill in the empty space with zeros.\n",
    "\n",
    "**HINTS**:\n",
    "- use 2D grid of threads and blocks to simplify indexing\n",
    "- check all sides of an image for out of bounds accesses\n",
    "\n",
    "**BONUS**: In a similar fashion you can create `scale_kernel!`, `rotate_kernel!` for scaling and rotation of an image.\n",
    "\n",
    "</div>\n"
   ]
  },
  {
   "cell_type": "markdown",
   "id": "27432c91",
   "metadata": {},
   "source": [
    "<div class=\"alert alert-block alert-info\">\n",
    "<b>Solution</b>: </div>"
   ]
  },
  {
   "cell_type": "code",
   "execution_count": null,
   "id": "0e42f5db",
   "metadata": {},
   "outputs": [],
   "source": [
    "using CUDA\n",
    "function translate_kernel!(output, input, translation)\n",
    "    #solution here\n",
    "    \n",
    "end"
   ]
  },
  {
   "cell_type": "code",
   "execution_count": null,
   "id": "d7dd55e6",
   "metadata": {},
   "outputs": [],
   "source": [
    "using FileIO, ImageMagick, ImageShow, ColorTypes\n",
    "rgb_img = FileIO.load(\"out.png\");\n",
    "gray_img = Float32.(Gray.(rgb_img));\n",
    "cgray_img = CuArray(gray_img);\n",
    "cgray_img_moved = CUDA.fill(0.0f0, size(cgray_img));"
   ]
  },
  {
   "cell_type": "code",
   "execution_count": null,
   "id": "8b84d47c",
   "metadata": {},
   "outputs": [],
   "source": [
    "blocks = cld.((size(cgray_img,1), size(cgray_img,2)), 32)\n",
    "@cuda threads=(32, 32) blocks=blocks translate_kernel!(cgray_img_moved, cgray_img, (100, -100))\n",
    "Gray.(Array(cgray_img_moved))"
   ]
  },
  {
   "cell_type": "code",
   "execution_count": null,
   "id": "17302a76",
   "metadata": {},
   "outputs": [],
   "source": [
    "# too many threads per block (fails on some weird exception) - CUDA error: invalid argument (code 1, ERROR_INVALID_VALUE)\n",
    "#@cuda threads=(64, 64) blocks=(1,1) translate_kernel!(cgray_img_moved, cgray_img, (-500, 500)) "
   ]
  },
  {
   "cell_type": "code",
   "execution_count": null,
   "id": "5ebb15a7",
   "metadata": {},
   "outputs": [],
   "source": []
  },
  {
   "cell_type": "markdown",
   "id": "0e62884d",
   "metadata": {},
   "source": [
    "### Profiling\n",
    "CUDA framework offers a wide variety of developer tooling for debugging and profiling our own kernels. In this section we will focus profiling using the Nsight Systems software that you can download after registering [here](https://developer.nvidia.com/nsight-systems). It contains both `nsys` profiler as well as `nsys-ui`GUI application for viewing the results. First we have to run `julia` using `nsys` application.\n",
    "- on Windows with PowerShell (available on the lab computers)\n",
    "```ps\n",
    "& \"C:\\Program Files\\NVIDIA Corporation\\Nsight Systems 2021.2.4\\target-windows-x64\\nsys.exe\" launch --trace=cuda,nvtx H:/Downloads/julia-1.6.3/bin/julia.exe --color=yes --color=yes --project=$((Get-Item .).FullName)\n",
    "```\n",
    "- on Linux\n",
    "```bash\n",
    "/full/path/to/nsys launch --trace=cuda,nvtx /home/honza/Apps/julia-1.6.5/bin/julia --color=yes --project=.\n",
    "```\n",
    "Once `julia` starts we have to additionally (on the lab computers, where we cannot modify env path) instruct `CUDA.jl`, where `nsys.exe` is located.\n",
    "```julia\n",
    "ENV[\"JULIA_CUDA_NSYS\"] = \"C:\\\\Program Files\\\\NVIDIA Corporation\\\\Nsight Systems 2021.2.4\\\\target-windows-x64\\\\nsys.exe\"\n",
    "```\n",
    "Now we should be ready to start profiling our kernels.\n",
    "\n",
    "<div class=\"alert alert-block alert-success\">\n",
    "<b>Exercise:</b> \n",
    "\n",
    "Choose a function/kernel out of previous exercises, in order to profile it. Use the `CUDA.@profile` macro the following patter to launch profiling of a block of code with `CUDA.jl`\n",
    "```julia\n",
    "CUDA.@profile CUDA.@sync begin \n",
    "    NVTX.@range \"something\" begin\n",
    "    \t\t# run some kernel\n",
    "    end \n",
    "\n",
    "    NVTX.@range \"something\" begin\n",
    "    \t\t# run some kernel\n",
    "    end \n",
    "end\n",
    "```\n",
    "where `NVTX.@range \"something\"` is part of `CUDA.jl` as well and serves us to mark a piece of execution for better readability later. Inspect the result in `NSight Systems`.\n",
    "\n",
    "<div class=\"alert alert-block alert-warning\">\n",
    "<b>Warning:</b> \"Profiling overhead\"\n",
    "\tIt is recommended to run the code twice as shown above, because the first execution with profiler almost always takes longer, even after compilation of the kernel itself. \n",
    "</div>\n",
    "</div>\n",
    "\n",
    "\n"
   ]
  },
  {
   "cell_type": "markdown",
   "id": "0f03a90b",
   "metadata": {},
   "source": [
    "<div class=\"alert alert-block alert-info\">\n",
    "<b>Solution</b>: </div>"
   ]
  },
  {
   "cell_type": "markdown",
   "id": "ceb83a82",
   "metadata": {},
   "source": [
    "In order to show multiple kernels running let's demonstrate profiling of the first image processing exercise"
   ]
  },
  {
   "cell_type": "code",
   "execution_count": null,
   "id": "8ec86cf7",
   "metadata": {},
   "outputs": [],
   "source": [
    "# solution here"
   ]
  },
  {
   "cell_type": "markdown",
   "id": "2e16a255",
   "metadata": {},
   "source": [
    "Running this code should create a report in the current directory with the name `report-**.***`, which we can examine in `NSight Systems`."
   ]
  },
  {
   "cell_type": "markdown",
   "id": "c5e2476b",
   "metadata": {},
   "source": [
    "### Matrix multiplication\n",
    "\n",
    "<div class=\"alert alert-block alert-success\">\n",
    "<b>Exercise:</b> \n",
    "    \n",
    "Write a generic matrix multiplication `generic_matmatmul!(C, A, B)`, which wraps a GPU kernel inside. For simplicity assume that both `A` and `B` input matrices have only `Float32` elements. Benchmark your implementation against `CuBLAS`'s `mul!(C,A,B)`.\n",
    "\n",
    "**HINTS**:\n",
    "- use 2D blocks for easier indexing\n",
    "- import `LinearAlgebra` to be able to directly call `mul!`\n",
    "- in order to avoid a headache with the choice of launch config use the following code\n",
    "```julia\n",
    "max_threads = 256\n",
    "threads_x = min(max_threads, size(C,1))\n",
    "threads_y = min(max_threads ÷ threads_x, size(C,2))\n",
    "threads = (threads_x, threads_y)\n",
    "blocks = ceil.(Int, (size(C,1), size(C,2)) ./ threads)\n",
    "```\n",
    "</div>\n"
   ]
  },
  {
   "cell_type": "markdown",
   "id": "9e44e0fe",
   "metadata": {},
   "source": [
    "<div class=\"alert alert-block alert-info\">\n",
    "<b>Solution</b>: </div>"
   ]
  },
  {
   "cell_type": "code",
   "execution_count": null,
   "id": "e9961336",
   "metadata": {},
   "outputs": [],
   "source": [
    "function generic_matmatmul!(C, A, B)\n",
    "    function kernel(C, A, B)\n",
    "        # solution here\n",
    "    end\n",
    "\n",
    "    # solution here\n",
    "end\n"
   ]
  },
  {
   "cell_type": "code",
   "execution_count": null,
   "id": "194ede4b",
   "metadata": {},
   "outputs": [],
   "source": [
    "K, L, M = 10 .* (200, 100, 50)\n",
    "A = CuArray(randn(K, L));\n",
    "B = CuArray(randn(L, M));\n",
    "C = similar(A, K, M);\n",
    "\n",
    "generic_matmatmul!(C, A, B);"
   ]
  },
  {
   "cell_type": "code",
   "execution_count": null,
   "id": "9d9b87ad",
   "metadata": {},
   "outputs": [],
   "source": [
    "using LinearAlgebra\n",
    "CC = similar(A, K, M)\n",
    "mul!(CC, A, B);"
   ]
  },
  {
   "cell_type": "code",
   "execution_count": null,
   "id": "0334af9a",
   "metadata": {},
   "outputs": [],
   "source": [
    "@btime CUDA.@sync generic_matmatmul!(C, A, B);\n",
    "@btime CUDA.@sync mul!(CC, A, B);"
   ]
  },
  {
   "cell_type": "markdown",
   "id": "ff2a3c30",
   "metadata": {},
   "source": [
    "\n",
    "## GPU vendor agnostic code\n",
    "There is an interesting direction that is allowed with the high level abstraction of Julia - [`KernelAbstractions.jl`](https://github.com/JuliaGPU/KernelAbstractions.jl), which offer an overarching API over CUDA, AMD ROCM and Intel oneAPI frameworks."
   ]
  },
  {
   "cell_type": "code",
   "execution_count": null,
   "id": "08e6159b",
   "metadata": {},
   "outputs": [],
   "source": []
  }
 ],
 "metadata": {
  "kernelspec": {
   "display_name": "Julia 1.7.2",
   "language": "julia",
   "name": "julia-1.7"
  },
  "language_info": {
   "file_extension": ".jl",
   "mimetype": "application/julia",
   "name": "julia",
   "version": "1.7.2"
  }
 },
 "nbformat": 4,
 "nbformat_minor": 5
}
