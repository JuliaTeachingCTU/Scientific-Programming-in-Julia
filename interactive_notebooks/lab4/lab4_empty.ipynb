{
 "cells": [
  {
   "cell_type": "markdown",
   "metadata": {},
   "source": [
    "# Lab 04: Packaging"
   ]
  },
  {
   "cell_type": "code",
   "execution_count": null,
   "metadata": {},
   "outputs": [],
   "source": [
    "using StatsBase\n",
    "include(joinpath(\"/Users/ghosty/AI_Center/Scientific-Programming-in-Julia/docs/\",\"src\",\"lecture_03\",\"Lab03Ecosystem.jl\"))\n",
    "\n",
    "function find_food(a::Animal, w::World)\n",
    "    as = filter(x -> eats(a,x), w.agents |> values |> collect)\n",
    "    isempty(as) ? nothing : sample(as)\n",
    "end\n",
    "eats(::Animal{Sheep},g::Plant{Grass}) = g.size > 0\n",
    "eats(::Animal{Wolf},::Animal{Sheep}) = true\n",
    "eats(::Agent,::Agent) = false"
   ]
  },
  {
   "cell_type": "markdown",
   "metadata": {
    "vscode": {
     "languageId": "julia"
    }
   },
   "source": [
    "\n",
    "## Warmup - Stepping through time\n",
    "\n",
    "We now have all necessary functions in place to make agents perform one step\n",
    "of our simulation.  At the beginning of each step an animal looses energy.\n",
    "Afterwards it tries to find some food, which it will subsequently eat. If the\n",
    "animal then has less than zero energy it dies and is removed from the world. If\n",
    "it has positive energy it will try to reproduce.\n",
    "\n",
    "Plants have a simpler life. They simply grow if they have not reached their maximal size.\n"
   ]
  },
  {
   "cell_type": "markdown",
   "metadata": {
    "vscode": {
     "languageId": "julia"
    }
   },
   "source": [
    "<div class=\"alert alert-block alert-success\">\n",
    "<b>Exercise:</b> \n",
    "\n",
    "1. Implement a method `agent_step!(::Animal,::World)` which performs the following steps:\n",
    "    - Decrement $E$ of agent by `1.0`.\n",
    "    - With $p_f$, try to find some food and eat it.\n",
    "    - If $E<0$, the animal dies.\n",
    "    - With $p_r$, try to reproduce.\n",
    "2. Implement a method `agent_step!(::Plant,::World)` which performs the following steps:\n",
    "    - If the size of the plant is smaller than `max_size`, increment the plant's size by one.\n",
    "</div>"
   ]
  },
  {
   "cell_type": "markdown",
   "metadata": {
    "vscode": {
     "languageId": "julia"
    }
   },
   "source": [
    "<div class=\"alert alert-block alert-info\">\n",
    "<b>Solution</b>: </div>\n",
    "\n",
    "####"
   ]
  },
  {
   "cell_type": "code",
   "execution_count": null,
   "metadata": {},
   "outputs": [],
   "source": []
  },
  {
   "cell_type": "markdown",
   "metadata": {},
   "source": [
    "####\n",
    "\n",
    "An `agent_step!` of a sheep in a world with a single grass should make it consume the grass,\n",
    "let it reproduce, and eventually die if there is no more food and its energy is at zero:"
   ]
  },
  {
   "cell_type": "code",
   "execution_count": null,
   "metadata": {},
   "outputs": [],
   "source": [
    "sheep = Sheep(1,2.0,2.0,1.0,1.0,male);"
   ]
  },
  {
   "cell_type": "code",
   "execution_count": null,
   "metadata": {},
   "outputs": [],
   "source": [
    "grass = Grass(2,2,2);"
   ]
  },
  {
   "cell_type": "code",
   "execution_count": null,
   "metadata": {},
   "outputs": [],
   "source": [
    "world = World([sheep, grass])"
   ]
  },
  {
   "cell_type": "code",
   "execution_count": null,
   "metadata": {},
   "outputs": [],
   "source": [
    "agent_step!(sheep, world); world"
   ]
  },
  {
   "cell_type": "code",
   "execution_count": null,
   "metadata": {},
   "outputs": [],
   "source": [
    "# NOTE: The second agent step leads to an error.\n",
    "# Can you figure out what is the problem here?\n",
    "agent_step!(sheep, world); world"
   ]
  },
  {
   "cell_type": "markdown",
   "metadata": {},
   "source": [
    "<div class=\"alert alert-block alert-success\">\n",
    "<b>Exercise:</b> \n",
    "\n",
    "Finally, lets implement a function `world_step!` which performs one\n",
    "`agent_step!` for each agent.  Note that simply iterating over all agents could\n",
    "lead to problems because we are mutating the agent dictionary.  One solution for\n",
    "this is to iterate over a copy of all agent IDs that are present when starting\n",
    "to iterate over agents.  Additionally, it could happen that an agent is killed\n",
    "by another one before we apply `agent_step!` to it. To solve this you can check\n",
    "if a given ID is currently present in the `World`.\n",
    "</div>"
   ]
  },
  {
   "cell_type": "markdown",
   "metadata": {},
   "source": [
    "<div class=\"alert alert-block alert-info\">\n",
    "<b>Solution</b>: </div>\n",
    "\n",
    "####"
   ]
  },
  {
   "cell_type": "code",
   "execution_count": null,
   "metadata": {},
   "outputs": [],
   "source": []
  },
  {
   "cell_type": "markdown",
   "metadata": {},
   "source": [
    "#### "
   ]
  },
  {
   "cell_type": "code",
   "execution_count": null,
   "metadata": {},
   "outputs": [],
   "source": [
    "w = World([Sheep(1), Sheep(2), Wolf(3)])"
   ]
  },
  {
   "cell_type": "code",
   "execution_count": null,
   "metadata": {},
   "outputs": [],
   "source": [
    "world_step!(w); w"
   ]
  },
  {
   "cell_type": "code",
   "execution_count": null,
   "metadata": {},
   "outputs": [],
   "source": [
    "world_step!(w); w"
   ]
  },
  {
   "cell_type": "code",
   "execution_count": null,
   "metadata": {},
   "outputs": [],
   "source": [
    "world_step!(w); w"
   ]
  },
  {
   "cell_type": "markdown",
   "metadata": {},
   "source": [
    "Finally, lets run a few simulation steps and plot the solution"
   ]
  },
  {
   "cell_type": "code",
   "execution_count": null,
   "metadata": {},
   "outputs": [],
   "source": [
    "n_grass  = 1_000\n",
    "n_sheep  = 40\n",
    "n_wolves = 4\n",
    "\n",
    "gs = [Grass(id) for id in 1:n_grass]\n",
    "ss = [Sheep(id) for id in (n_grass+1):(n_grass+n_sheep)]\n",
    "ws = [Wolf(id) for id in (n_grass+n_sheep+1):(n_grass+n_sheep+n_wolves)]\n",
    "w  = World(vcat(gs,ss,ws))"
   ]
  },
  {
   "cell_type": "code",
   "execution_count": null,
   "metadata": {},
   "outputs": [],
   "source": [
    "counts = Dict(n=>[c] for (n,c) in agent_count(w))\n",
    "for _ in 1:100\n",
    "    world_step!(w)\n",
    "    for (n,c) in agent_count(w)\n",
    "        push!(counts[n],c)\n",
    "    end\n",
    "end"
   ]
  },
  {
   "cell_type": "code",
   "execution_count": null,
   "metadata": {},
   "outputs": [],
   "source": [
    "using Plots\n",
    "plt = plot()\n",
    "for (n,c) in counts\n",
    "    plot!(plt, c, label=string(n), lw=2)\n",
    "end\n",
    "plt"
   ]
  },
  {
   "cell_type": "markdown",
   "metadata": {},
   "source": [
    "## Package: `Ecosystem.jl`\n",
    "\n",
    "In the main section of this lab you will create your own `Ecosystem.jl` package\n",
    "to organize *and test (!)* the code that we have written so far.\n",
    "\n",
    "### `PkgTemplates.jl`"
   ]
  },
  {
   "cell_type": "markdown",
   "metadata": {},
   "source": [
    "<div class=\"alert alert-block alert-success\">\n",
    "<b>Exercise:</b> \n",
    "\n",
    "The simplest way to create a new package in Julia is to use `PkgTemplates.jl`.\n",
    "`]add PkgTemplates` to your global julia env and create a new package by running:\n",
    "```julia\n",
    "using PkgTemplates\n",
    "Template(interactive=true)(\"Ecosystem\")\n",
    "```\n",
    "to interactively specify various options for your new package or use the following\n",
    "snippet to generate it programmatically:\n",
    "```julia\n",
    "using PkgTemplates\n",
    "\n",
    "# define the package template\n",
    "template = Template(;\n",
    "    user = \"GithubUserName\",            # github user name\n",
    "    authors = [\"Author1\", \"Author2\"],   # list of authors\n",
    "    dir = \"/path/to/folder/\",           # dir in which the package will be created\n",
    "    julia = v\"1.8\",                     # compat version of Julia\n",
    "    plugins = [\n",
    "        !CompatHelper,                  # disable CompatHelper\n",
    "        !TagBot,                        # disable TagBot\n",
    "        Readme(; inline_badges = true), # added readme file with badges\n",
    "        Tests(; project = true),        # added Project.toml file for unit tests\n",
    "        Git(; manifest = false),        # add manifest.toml to .gitignore\n",
    "        License(; name = \"MIT\")         # addedMIT licence\n",
    "    ],\n",
    ")\n",
    "\n",
    "# execute the package template (this creates all files/folders)\n",
    "template(\"Ecosystem\")\n",
    "\n",
    "</div>"
   ]
  },
  {
   "cell_type": "markdown",
   "metadata": {},
   "source": [
    "<div class=\"alert alert-block alert-info\">\n",
    "<b>Solution</b>: </div>\n",
    "\n",
    "####"
   ]
  },
  {
   "cell_type": "markdown",
   "metadata": {},
   "source": [
    "This should have created a new folder `Ecosystem` which looks like below.\n",
    "\n",
    "```julia\n",
    ".\n",
    "├── LICENSE\n",
    "├── Project.toml\n",
    "├── README.md\n",
    "├── src\n",
    "│   └── Ecosystem.jl\n",
    "└── test\n",
    "    ├── Manifest.toml\n",
    "    ├── Project.toml\n",
    "    └── runtests.jl\n",
    "```\n",
    "\n",
    "If you `]activate /path/to/Ecosystem` you should be able to run `]test` to run the autogenerated test (which is not doing anything)\n",
    "and get the following output:\n",
    "\n",
    "```julia\n",
    "(Ecosystem) pkg> test\n",
    "     Testing Ecosystem\n",
    "      Status `/private/var/folders/6h/l9_skfms2v3dt8z3zfnd2jr00000gn/T/jl_zd5Uai/Project.toml`\n",
    "  [e77cd98c] Ecosystem v0.1.0 `~/repos/Ecosystem`\n",
    "  [8dfed614] Test `@stdlib/Test`\n",
    "      Status `/private/var/folders/6h/l9_skfms2v3dt8z3zfnd2jr00000gn/T/jl_zd5Uai/Manifest.toml`\n",
    "  [e77cd98c] Ecosystem v0.1.0 `~/repos/Ecosystem`\n",
    "  [2a0f44e3] Base64 `@stdlib/Base64`\n",
    "  [b77e0a4c] InteractiveUtils `@stdlib/InteractiveUtils`\n",
    "  [56ddb016] Logging `@stdlib/Logging`\n",
    "  [d6f4376e] Markdown `@stdlib/Markdown`\n",
    "  [9a3f8284] Random `@stdlib/Random`\n",
    "  [ea8e919c] SHA v0.7.0 `@stdlib/SHA`\n",
    "  [9e88b42a] Serialization `@stdlib/Serialization`\n",
    "  [8dfed614] Test `@stdlib/Test`\n",
    "     Testing Running tests...\n",
    "Test Summary: |Time\n",
    "Ecosystem.jl  | None  0.0s\n",
    "     Testing Ecosystem tests passed \n",
    "```"
   ]
  },
  {
   "cell_type": "markdown",
   "metadata": {},
   "source": [
    "####\n",
    "!!! WARNING: \n",
    "    From now on make sure that you **always** have the `Ecosystem` enviroment\n",
    "    enabled. Otherwise you will not end up with the correct dependencies in your\n",
    "    packages"
   ]
  },
  {
   "cell_type": "markdown",
   "metadata": {},
   "source": [
    "### Adding content to `Ecosystem.jl`"
   ]
  },
  {
   "cell_type": "markdown",
   "metadata": {},
   "source": [
    "<div class=\"alert alert-block alert-success\">\n",
    "<b>Exercise:</b> \n",
    "\n",
    "Next, let's add the types and functions we have defined so\n",
    "far. You can use `include(\"path/to/file.jl\")` in the main module file at\n",
    "`src/Ecosystem.jl` to bring some structure in your code. An exemplary\n",
    "file structure could look like below.\n",
    "```julia\n",
    ".\n",
    "├── LICENSE\n",
    "├── Manifest.toml\n",
    "├── Project.toml\n",
    "├── README.md\n",
    "├── src\n",
    "│   ├── Ecosystem.jl\n",
    "│   ├── animal.jl\n",
    "│   ├── plant.jl\n",
    "│   └── world.jl\n",
    "└── test\n",
    "    └── runtests.jl\n",
    "```\n",
    "While you are adding functionality to your package you can make great use of\n",
    "`Revise.jl`.  Loading `Revise.jl` before your `Ecosystem.jl` will automatically\n",
    "recompile (and invalidate old methods!) while you develop.  You can install it\n",
    "in your global environment and and create a `$HOME/.config/startup.jl` which always loads\n",
    "`Revise`. It can look like this:\n",
    "```julia\n",
    "# try/catch block to make sure you can start julia if Revise should not be installed\n",
    "try\n",
    "    using Revise\n",
    "catch e\n",
    "    @warn(e.msg)\n",
    "end\n",
    "```\n",
    "\n",
    "</div>"
   ]
  },
  {
   "cell_type": "markdown",
   "metadata": {},
   "source": [
    "!!! WARNING\n",
    "\n",
    "At some point along the way you should run into problems with the `sample`\n",
    "functions or when trying `using StatsBase`. This is normal, because you have\n",
    "not added the package to the `Ecosystem` environment yet. Adding it is as easy\n",
    "as `]add StatsBase`. Your `Ecosystem` environment should now look like this:\n",
    "\n",
    "```julia\n",
    "(Ecosystem) pkg> status\n",
    "Project Ecosystem v0.1.0\n",
    "Status `~/repos/Ecosystem/Project.toml`\n",
    "  [2913bbd2] StatsBase v0.33.21\n",
    "```"
   ]
  },
  {
   "cell_type": "markdown",
   "metadata": {},
   "source": [
    "<div class=\"alert alert-block alert-success\">\n",
    "<b>Exercise:</b> \n",
    "\n",
    "In order to use your new types/functions like below\n",
    "```julia\n",
    "using Ecosystem\n",
    "\n",
    "Sheep(2)\n",
    "```\n",
    "you have to `export` them from your module. Add exports for all important types\n",
    "and functions.\n",
    "\n",
    "</div>"
   ]
  },
  {
   "cell_type": "markdown",
   "metadata": {},
   "source": [
    "<div class=\"alert alert-block alert-info\">\n",
    "<b>Solution</b>: </div>\n",
    "\n",
    "####"
   ]
  },
  {
   "cell_type": "markdown",
   "metadata": {},
   "source": []
  },
  {
   "cell_type": "markdown",
   "metadata": {},
   "source": [
    "####"
   ]
  },
  {
   "cell_type": "markdown",
   "metadata": {},
   "source": [
    "### Unit tests\n",
    "\n",
    "Every package should have tests which verify the correctness of your\n",
    "implementation, such that you can make changes to your codebase and remain\n",
    "confident that you did not break anything.\n",
    "\n",
    "Julia's `Test` package provides you functionality to easily write [unit\n",
    "tests](https://docs.julialang.org/en/v1/stdlib/Test/)."
   ]
  },
  {
   "cell_type": "markdown",
   "metadata": {},
   "source": [
    "<div class=\"alert alert-block alert-success\">\n",
    "<b>Exercise:</b> \n",
    "\n",
    "In the file `test/runtests.jl`, create a new `@testset` and write three `@test`s\n",
    "which check that the `show` methods we defined for `Grass`, `Sheep`, and `Wolf` work as expected.\n",
    "\n",
    "The function `repr(x) == \"some string\"` to check if the string representation we\n",
    "defined in the `Base.show` overload returns what you expect.\n",
    "\n",
    "</div>"
   ]
  },
  {
   "cell_type": "markdown",
   "metadata": {},
   "source": [
    "<div class=\"alert alert-block alert-info\">\n",
    "<b>Solution</b>: </div>\n",
    "\n",
    "####"
   ]
  },
  {
   "cell_type": "code",
   "execution_count": null,
   "metadata": {},
   "outputs": [],
   "source": []
  },
  {
   "cell_type": "markdown",
   "metadata": {},
   "source": [
    "####"
   ]
  }
 ],
 "metadata": {
  "kernelspec": {
   "display_name": "Julia 1.10.0",
   "language": "julia",
   "name": "julia-1.10"
  },
  "language_info": {
   "file_extension": ".jl",
   "mimetype": "application/julia",
   "name": "julia",
   "version": "1.10.0"
  }
 },
 "nbformat": 4,
 "nbformat_minor": 2
}
